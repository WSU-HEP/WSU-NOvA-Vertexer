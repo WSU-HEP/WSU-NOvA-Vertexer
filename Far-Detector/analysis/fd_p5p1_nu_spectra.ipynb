{
 "cells": [
  {
   "cell_type": "markdown",
   "id": "f7346147",
   "metadata": {},
   "source": [
    "# `fd_p5p1_nu_spectra.ipynb`\n",
    "M. Dolce. \n",
    "Feb. 2024\n",
    "### notebook to plot the Enu spectrum from the h5 files used in CVN training.\n",
    "### Used mostly for validation purposes, and gain a sense of the composition of interaction types.\n",
    "\n",
    "This validation is using `file_27_of_28.h5` as Ashley indicated, which is what we use here. \n",
    "\n",
    "Requires the following input:\n",
    "-- `HORN: 'FHC' or 'RHC'`\n",
    "-- `FLUX: 'Fluxswap' or 'Nonswap'`\n"
   ]
  },
  {
   "cell_type": "code",
   "execution_count": 17,
   "id": "74435e10",
   "metadata": {
    "ExecuteTime": {
     "end_time": "2024-02-01T21:57:22.969888Z",
     "start_time": "2024-02-01T21:57:22.963055Z"
    }
   },
   "outputs": [],
   "source": [
    "#TODO: try running it....\n"
   ]
  },
  {
   "cell_type": "code",
   "execution_count": 18,
   "id": "f9176c2b",
   "metadata": {
    "ExecuteTime": {
     "end_time": "2024-02-01T21:57:23.439167Z",
     "start_time": "2024-02-01T21:57:23.423261Z"
    }
   },
   "outputs": [],
   "source": [
    "import os.path\n",
    "import h5py\n",
    "import matplotlib.pyplot as plt\n",
    "import pandas as pd\n",
    "import numpy as np\n",
    "# import seaborn as sns"
   ]
  },
  {
   "cell_type": "markdown",
   "id": "d4d2b8d8",
   "metadata": {},
   "source": [
    "## Read in the input."
   ]
  },
  {
   "cell_type": "code",
   "execution_count": 19,
   "id": "8371d274",
   "metadata": {
    "ExecuteTime": {
     "end_time": "2024-02-01T21:57:26.477599Z",
     "start_time": "2024-02-01T21:57:25.035664Z"
    }
   },
   "outputs": [
    {
     "name": "stdout",
     "output_type": "stream",
     "text": [
      "FHC\n"
     ]
    }
   ],
   "source": [
    "# collect the horn current: 'FHC' or 'RHC'\n",
    "HORN = input(\"Enter 'FHC' or 'RHC':\")\n",
    "print(HORN)"
   ]
  },
  {
   "cell_type": "code",
   "outputs": [
    {
     "name": "stdout",
     "output_type": "stream",
     "text": [
      "Nonswap\n"
     ]
    }
   ],
   "source": [
    "# collect the swap: 'Fluxswap' or 'Nonswap'\n",
    "FLUX = input(\"Enter 'Fluxswap' or 'Nonswap':\")\n",
    "print(FLUX)"
   ],
   "metadata": {
    "collapsed": false,
    "ExecuteTime": {
     "end_time": "2024-02-01T21:58:36.637563Z",
     "start_time": "2024-02-01T21:58:31.446546Z"
    }
   },
   "id": "c344bbc2d83acab1",
   "execution_count": 30
  },
  {
   "cell_type": "code",
   "execution_count": 31,
   "id": "570182d3",
   "metadata": {
    "collapsed": false,
    "ExecuteTime": {
     "end_time": "2024-02-01T21:58:37.979979Z",
     "start_time": "2024-02-01T21:58:37.841477Z"
    }
   },
   "outputs": [
    {
     "name": "stdout",
     "output_type": "stream",
     "text": [
      "total 1002032\r\n",
      "-rw-r--r--  1 michaeldolce  staff   479M Oct 23 13:13 trimmed_h5_R20-11-25-prod5.1reco.j_FD-Nominal-FHC-Fluxswap_27_of_28.h5\r\n",
      "-rw-r--r--  1 michaeldolce  staff   4.5M Feb  1 15:28 trimmed_10k_events_trimmed_h5_R20-11-25-prod5.1reco.j_FD-Nominal-FHC-Nonswap_27_of_28.h5\r\n",
      "-rw-r--r--  1 michaeldolce  staff   4.4M Feb  1 16:22 trimmed_10k_events_trimmed_h5_R20-11-25-prod5.1reco.j_FD-Nominal-FHC-Fluxswap_27_of_28.h5\r\n"
     ]
    }
   ],
   "source": [
    "# define the path to the validation files\n",
    "validation_path = '/Users/michaeldolce/Development/files/h5-files/validation/'\n",
    "    \n",
    "! ls -rtlh $validation_path"
   ]
  },
  {
   "cell_type": "code",
   "execution_count": 32,
   "id": "e35f6e4c",
   "metadata": {
    "ExecuteTime": {
     "end_time": "2024-02-01T21:58:39.029276Z",
     "start_time": "2024-02-01T21:58:39.009268Z"
    }
   },
   "outputs": [
    {
     "name": "stdout",
     "output_type": "stream",
     "text": [
      "<KeysViewHDF5 ['E', 'cosmicid', 'cvnmap', 'cycle', 'event', 'finalstate', 'firstcellx', 'firstcelly', 'firstplane', 'interaction', 'iscc', 'mode', 'ncid', 'nueid', 'numuid', 'p.px', 'p.py', 'p.pz', 'partptp', 'pdg', 'run', 'slice', 'subrun', 'vtx.x', 'vtx.y', 'vtx.z', 'vtxEA.x', 'vtxEA.y', 'vtxEA.z']>\n",
      "Number of events:  10000\n"
     ]
    }
   ],
   "source": [
    "# Open the designated validation file\n",
    "validation_file = ('trimmed_10k_events_trimmed_h5_R20-11-25-prod5.1reco.j_FD-Nominal-{}-{}_27_of_28.h5'.format(HORN, FLUX))\n",
    "\n",
    "\n",
    "file_h5 = h5py.File(validation_path + validation_file, 'r') # open the file:\n",
    "print(file_h5.keys()) # see what is in the file\n",
    "print (\"Number of events: \", len(file_h5['E']))  # count the number of events in the file"
   ]
  },
  {
   "cell_type": "code",
   "outputs": [
    {
     "name": "stdout",
     "output_type": "stream",
     "text": [
      "dir already exists: /Users/michaeldolce/Desktop/ml-vertexing-plots/analysis/fd-p5p1-nu-spectra/\n"
     ]
    }
   ],
   "source": [
    "# define path to save some plots (the local dir).\n",
    "PLOT_DIR = '/Users/michaeldolce/Desktop/ml-vertexing-plots/analysis/fd-p5p1-nu-spectra/'\n",
    "\n",
    "if not os.path.exists(PLOT_DIR):\n",
    "    os.makedirs(PLOT_DIR)\n",
    "    print('created dir: {}'.format(PLOT_DIR))\n",
    "else:\n",
    "    print('dir already exists: {}'.format(PLOT_DIR))"
   ],
   "metadata": {
    "collapsed": false,
    "ExecuteTime": {
     "end_time": "2024-02-01T21:58:40.183992Z",
     "start_time": "2024-02-01T21:58:40.172044Z"
    }
   },
   "id": "be5192397c296d55",
   "execution_count": 33
  },
  {
   "cell_type": "code",
   "execution_count": 34,
   "id": "9014ace2998b510a",
   "metadata": {
    "ExecuteTime": {
     "end_time": "2024-02-01T21:58:44.792590Z",
     "start_time": "2024-02-01T21:58:44.775404Z"
    }
   },
   "outputs": [],
   "source": [
    "# create dataframe from the h5 validation file\n",
    "\n",
    "# Create the DataFrame directly from the h5 file\n",
    "df = pd.DataFrame({'E': file_h5['E'][:],\n",
    "                   'PDG': file_h5['pdg'][:],\n",
    "                   'Interaction': file_h5['interaction'][:],\n",
    "                   'isCC': file_h5['iscc'][:],\n",
    "                   'Mode': file_h5['mode'][:],\n",
    "                   }\n",
    "                  )\n"
   ]
  },
  {
   "cell_type": "code",
   "outputs": [],
   "source": [
    "# create the color scheme for the interaction types\n",
    "\n",
    "# assert are no kUnknownMode events...\n",
    "assert(len(df[df['Mode'] == -1]) == 0)  # 'there are Unknown events. Stopping'\n",
    "\n",
    "\n",
    "mode_names = ['QE', 'Res', 'DIS', 'Coh', 'CohElastic', 'ElectronScattering', 'IMDAnnihilation', 'InverseBetaDecay', 'GlashowResonance', 'AMNuGamma', 'MEC', 'Diffractive', 'EM', 'WeakMix']\n",
    "\n",
    "# define the colors for each mode (as close as possible to what they are in NOvA Style)\n",
    "\n",
    "# colors for the Elastic Arms Reco.\n",
    "mode_colors = {'QE' : 'royalblue',\n",
    "               'MEC' : 'gold',\n",
    "               'DIS' : 'silver',\n",
    "               'CohElastic' : 'green',\n",
    "               'Res' : 'limegreen',\n",
    "               'Coh' : 'lightcoral',\n",
    "               'ElectronScattering' : 'purple',\n",
    "               'IMDAnnihilation' : 'pink',\n",
    "               'InverseBetaDecay' : 'chocolate',\n",
    "               'GlashowResonance' : 'cyan',\n",
    "               'AMNuGamma' : 'magenta',\n",
    "               'Diffractive' : 'dimgray',\n",
    "               'EM' : 'khaki',\n",
    "               'WeakMix' : 'teal'\n",
    "               }"
   ],
   "metadata": {
    "collapsed": false,
    "ExecuteTime": {
     "end_time": "2024-02-01T21:58:46.533207Z",
     "start_time": "2024-02-01T21:58:46.514351Z"
    }
   },
   "id": "448fe537f6cc34b5",
   "execution_count": 35
  },
  {
   "cell_type": "code",
   "execution_count": 36,
   "id": "28e6d94b",
   "metadata": {
    "collapsed": false,
    "ExecuteTime": {
     "end_time": "2024-02-01T21:58:47.232673Z",
     "start_time": "2024-02-01T21:58:47.163744Z"
    }
   },
   "outputs": [
    {
     "name": "stdout",
     "output_type": "stream",
     "text": [
      "           E  PDG  Interaction  isCC  Mode    E NOvA\n",
      "0   1.712558   14           13     0     1  1.712558\n",
      "1  15.502646   14            2     1     2       NaN\n",
      "2   1.492612   14            1     1     1  1.492612\n",
      "3   1.688688   14            1     1     1  1.688688\n",
      "4   2.552405   12            6     1     2  2.552405\n",
      "Index(['E', 'PDG', 'Interaction', 'isCC', 'Mode', 'E NOvA'], dtype='object')\n"
     ]
    }
   ],
   "source": [
    "# create a column right at the beginning of the Energy within NOvA's range/relevance.\n",
    "E_nova = df[df['E'] < 5]\n",
    "df['E NOvA'] = E_nova['E']\n",
    "df.describe()\n",
    "\n",
    "print(df.head()) # check the head of the dataframe\n",
    "df.describe() # describe the dataframe\n",
    "print(df.columns) # print the columns of the dataframe\n",
    "# df.info() # get info on the dataframe\n"
   ]
  },
  {
   "cell_type": "code",
   "execution_count": 37,
   "id": "40c4752e",
   "metadata": {
    "ExecuteTime": {
     "end_time": "2024-02-01T21:58:50.301377Z",
     "start_time": "2024-02-01T21:58:50.287634Z"
    }
   },
   "outputs": [],
   "source": [
    "# Create Numu and Nue dataframes\n",
    "df_Numu = df[df['PDG'] == 14]\n",
    "df_Nue = df[df['PDG'] == 12]"
   ]
  },
  {
   "cell_type": "markdown",
   "id": "1990a6b8",
   "metadata": {},
   "source": [
    "# Flux vs Energy (with Interaction types) plots"
   ]
  },
  {
   "cell_type": "code",
   "execution_count": 38,
   "id": "dd0cc846",
   "metadata": {
    "ExecuteTime": {
     "end_time": "2024-02-01T21:58:53.277241Z",
     "start_time": "2024-02-01T21:58:51.774458Z"
    }
   },
   "outputs": [
    {
     "name": "stdout",
     "output_type": "stream",
     "text": [
      "the most frequent bin:  (2.5,3.0) GeV. 5 bin\n",
      "with bin content: 15.0 events\n"
     ]
    },
    {
     "data": {
      "text/plain": "<Figure size 500x500 with 1 Axes>",
      "image/png": "[encoded data removed]"
     },
     "metadata": {},
     "output_type": "display_data"
    }
   ],
   "source": [
    "# Plot the Energy of the nue and numu events\n",
    "fig_Enu = plt.figure(figsize=(5, 5))\n",
    "\n",
    "binning_flux = np.arange(0, 20, 0.5)\n",
    "\n",
    "# create the histogram, patches does nothing, but you need it...\n",
    "hist_nue, bins, patches = plt.hist(df_Nue['E'], bins=binning_flux, range=(0, 20), color='red', alpha=0.5, label=r'$\\nu_e$')\n",
    "hist_numu = plt.hist(df_Numu['E'], bins=binning_flux, range=(0, 20), color='blue', alpha=0.5, label=r'$\\nu_\\mu$')\n",
    "plt.xlabel('Energy [GeV]')\n",
    "plt.ylabel('Number of Events')\n",
    "plt.legend([r'$\\nu_e$', r'$\\nu_\\mu$'])\n",
    "\n",
    "\n",
    "\n",
    "# do this only for the nue events...\n",
    "#NOTE: we could do this for the Numu here too. But there are basically no numu events.\n",
    "mode_index = hist_nue.argmax() # the bin with the most events\n",
    "max_nue = hist_nue.max() # the max number of events in this bin\n",
    "\n",
    "# the most frequent bin\n",
    "print('the most frequent bin:  (' + str(bins[mode_index]) + ',' + str(bins[mode_index+1]) + ') GeV. ' + str(mode_index) +' bin')\n",
    "# the mode         \n",
    "mode_nue = (bins[mode_index] + bins[mode_index+1])/2\n",
    "print('with bin content: '+ str(max_nue) + ' events')\n",
    "\n",
    "# Obtain the x-value of the maximum from a histogram. Similar to ROOT's GetBinCenter(TH1 h->GetMaximum())\n",
    "u, indices = np.unique(df_Nue['E'].to_numpy(), return_inverse=True) # Main functionality to return energy from most frequent bin\n",
    "print('Energy at the peak of the distribution: ', u[np.argmax(np.bincount(indices))]) # Energy of most events\n",
    "\n",
    "plt.text(7.5, max_nue, 'FD {} {}'.format(HORN, FLUX), fontsize=12)\n",
    "plt.show()\n",
    "\n",
    "# save the plot\n",
    "for ext in ['pdf', 'png']:\n",
    "    fig_Enu.savefig(PLOT_DIR + '/FD_{}_{}_Enu.'.format(HORN, FLUX) + ext, dpi=300)\n",
    "    \n"
   ]
  },
  {
   "cell_type": "code",
   "execution_count": 39,
   "id": "571f9c9a",
   "metadata": {
    "ExecuteTime": {
     "end_time": "2024-02-01T21:58:58.803466Z",
     "start_time": "2024-02-01T21:58:56.391723Z"
    }
   },
   "outputs": [
    {
     "data": {
      "text/plain": "<Figure size 500x500 with 1 Axes>",
      "image/png": "[encoded data removed]"
     },
     "metadata": {},
     "output_type": "display_data"
    }
   ],
   "source": [
    "# Plot the interaction types vs. energy\n",
    "fig_Modes = plt.figure(figsize=(5, 5))\n",
    "\n",
    "binning_flux = np.arange(0, 20, 0.2)\n",
    "hist_QE, bins, patches = plt.hist(df_Nue[df_Nue['Mode'] == 0]['E'], bins=binning_flux, range=(0, 20), color=mode_colors['QE'], alpha=0.5, label='QE')\n",
    "hist_Res, binsRES, patchesRES = plt.hist(df_Nue[df_Nue['Mode'] == 1]['E'], bins=binning_flux, range=(0, 20), color=mode_colors['Res'], alpha=0.5, label='RES')\n",
    "hist_DIS, binsDIS, patchesDIS = plt.hist(df_Nue[df_Nue['Mode'] == 2]['E'], bins=binning_flux, range=(0, 20), color=mode_colors['DIS'], alpha=0.5, label='DIS')\n",
    "hist_MEC, binsMEC, patchesMEC = plt.hist(df_Nue[df_Nue['Mode'] == 10]['E'], bins=binning_flux, range=(0, 20), color=mode_colors['MEC'], alpha=0.5, label='MEC')\n",
    "\n",
    "\n",
    "plt.xlabel('Energy [GeV]')\n",
    "plt.ylabel('Number of Events')\n",
    "plt.legend(loc='upper right')\n",
    "plt.text(7.5, hist_Res.max() * 0.95, 'FD {} {}'.format(HORN, FLUX), fontsize=12)\n",
    "plt.title(r'$\\nu_e$' if FLUX == 'Fluxswap' else r'$\\nu_\\mu$', loc='center', fontsize=12)\n",
    "\n",
    "plt.show()\n",
    "for ext in ['pdf', 'png']:\n",
    "    fig_Modes.savefig(PLOT_DIR + '/FD_{}_{}_Enu_modes.'.format(HORN, FLUX) + ext, dpi=300)\n",
    "\n"
   ]
  },
  {
   "cell_type": "code",
   "outputs": [],
   "source": [],
   "metadata": {
    "collapsed": false
   },
   "id": "d698d347e30a15ea"
  }
 ],
 "metadata": {
  "kernelspec": {
   "display_name": "Python 3 (ipykernel)",
   "language": "python",
   "name": "python3"
  },
  "language_info": {
   "codemirror_mode": {
    "name": "ipython",
    "version": 3
   },
   "file_extension": ".py",
   "mimetype": "text/x-python",
   "name": "python",
   "nbconvert_exporter": "python",
   "pygments_lexer": "ipython3",
   "version": "3.9.15"
  }
 },
 "nbformat": 4,
 "nbformat_minor": 5
}
