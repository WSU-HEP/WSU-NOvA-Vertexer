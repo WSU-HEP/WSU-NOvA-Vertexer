{
 "cells": [
  {
   "cell_type": "markdown",
   "source": [
    "# validate_preprocessed_h5.ipynb\n",
    "M. Dolce.\n",
    "Oct. 2023\n",
    "### Simple notebook to open and examine pre-processed file(s) and make sure they look OK. \n",
    "\n",
    "## NOTE: pre-processed files should ONLY have the vtx.{x,y,z} and cvnmap !"
   ],
   "metadata": {
    "collapsed": false
   },
   "id": "5814acb0e198be3a"
  },
  {
   "cell_type": "code",
   "execution_count": 1,
   "outputs": [],
   "source": [
    "import os.path\n",
    "import h5py\n",
    "import matplotlib.pyplot as plt\n",
    "import pandas as pd\n",
    "import numpy as np"
   ],
   "metadata": {
    "collapsed": false,
    "ExecuteTime": {
     "end_time": "2023-11-28T23:12:19.629906Z",
     "start_time": "2023-11-28T23:12:19.549805Z"
    }
   },
   "id": "e321534ff6ae9f85"
  },
  {
   "cell_type": "code",
   "execution_count": 2,
   "id": "25ea8b7117831215",
   "metadata": {
    "collapsed": true,
    "ExecuteTime": {
     "end_time": "2023-11-28T23:12:21.032754Z",
     "start_time": "2023-11-28T23:12:21.020182Z"
    }
   },
   "outputs": [
    {
     "name": "stdout",
     "output_type": "stream",
     "text": [
      "Number of events:  507939\n"
     ]
    }
   ],
   "source": [
    "# define the path to the files\n",
    "preprocess_path = '/Users/michaeldolce/Development/files/h5-files/preprocessed/'\n",
    "\n",
    "# TODO: add argparse (?) to read in flux, and swap\n",
    "# TODO: even later in future, add detector option...\n",
    "# processed_file = 'preprocessed_trimmed_h5_R20-11-25-prod5.1reco.j_FD-Nominal-FHC-Fluxswap_3_of_28.h5' # use the one file for now # a corrupted file (Oct. 16)\n",
    "processed_file = 'preprocessed_trimmed_h5_R20-11-25-prod5.1reco.j_FD-Nominal-FHC-Fluxswap_15_of_28.h5' # use the one file for now # \n",
    "\n",
    "file_h5 = h5py.File(preprocess_path + processed_file, 'r', ) # open the file:\n",
    "file_h5.keys() # see what is in the file\n",
    "print (\"Number of events: \", len(file_h5['vtx.x']))  # count the number of events in the file"
   ]
  },
  {
   "cell_type": "code",
   "execution_count": 3,
   "outputs": [
    {
     "name": "stdout",
     "output_type": "stream",
     "text": [
      "Index(['vtx.x', 'vtx.y', 'vtx.z'], dtype='object')\n"
     ]
    }
   ],
   "source": [
    "# create dataframe from the h5 file\n",
    "# Retrieve the vertex information\n",
    "\n",
    "# Create the DataFrame directly from the h5 file\n",
    "df = pd.DataFrame({'vtx.x': file_h5['vtx.x'][:],\n",
    "                   'vtx.y': file_h5['vtx.y'][:],\n",
    "                   'vtx.z': file_h5['vtx.z'][:],\n",
    "                   # 'cvnmap': file_h5['cvnmap'][:],\n",
    "                   })\n",
    "\n",
    "# df.head() # check the head of the dataframe\n",
    "# df.describe() # describe the dataframe\n",
    "print(df.columns) # print the columns of the dataframe\n",
    "# df.info() # get info on the dataframe\n"
   ],
   "metadata": {
    "collapsed": false,
    "ExecuteTime": {
     "end_time": "2023-11-28T23:12:23.054371Z",
     "start_time": "2023-11-28T23:12:22.908099Z"
    }
   },
   "id": "44bbfb57aab40361"
  },
  {
   "cell_type": "code",
   "execution_count": 8,
   "outputs": [
    {
     "name": "stdout",
     "output_type": "stream",
     "text": [
      "events,  507939\n",
      "shape of cvnmap,  (507939, 16000)\n",
      "type of cvnmap_array,  <class 'numpy.ndarray'>\n",
      "[[[0 0 0 ... 0 0 0]\n",
      "  [0 0 0 ... 0 0 0]\n",
      "  [0 0 0 ... 0 0 0]\n",
      "  ...\n",
      "  [0 0 0 ... 0 0 0]\n",
      "  [0 0 0 ... 0 0 0]\n",
      "  [0 0 0 ... 0 0 0]]\n",
      "\n",
      " [[0 0 0 ... 0 0 0]\n",
      "  [0 0 0 ... 0 0 0]\n",
      "  [0 0 0 ... 0 0 0]\n",
      "  ...\n",
      "  [0 0 0 ... 0 0 0]\n",
      "  [0 0 0 ... 0 0 0]\n",
      "  [0 0 0 ... 0 0 0]]]\n"
     ]
    }
   ],
   "source": [
    "# Retrieve the CVN information\n",
    "# needs to be placed into an array, cannot go into DataFrame() bc not 1-dimensional\n",
    "\n",
    "print('events, ', file_h5['cvnmap'].shape[0])\n",
    "print('shape of cvnmap, ', file_h5['cvnmap'].shape)\n",
    "\n",
    "# create cvnmap array of last 10k events. \n",
    "cvnmap = file_h5['cvnmap'][:10000]\n",
    "print('type of cvnmap_array, ', type(cvnmap))\n",
    "\n",
    "# make a re-shaped array from the 0th event, only:\n",
    "cvnmap_array_resh = cvnmap[1].reshape(2, 100, 80)\n",
    "# attempting to do line above over the 0th event gives this error:\n",
    "#ValueError: cannot reshape array of size 8127024000 into shape (2,100,80)\n",
    "# TODO: check this with line 26 of x model training. Does it give same error?\n",
    "\n"
   ],
   "metadata": {
    "collapsed": false,
    "ExecuteTime": {
     "end_time": "2023-11-28T23:16:41.263090Z",
     "start_time": "2023-11-28T23:16:39.323255Z"
    }
   },
   "id": "2557897dba3d6aa"
  },
  {
   "cell_type": "code",
   "execution_count": 10,
   "outputs": [
    {
     "data": {
      "text/plain": "<Figure size 500x500 with 1 Axes>",
      "image/png": "[encoded data removed]"
     },
     "metadata": {},
     "output_type": "display_data"
    }
   ],
   "source": [
    "# Plot the Energy of the nue and numu events\n",
    "fig = plt.figure(figsize=(5,5))\n",
    "\n",
    "plt.scatter(np.arange(0,20, 1), df['vtx.x'].tail(20))\n",
    "\n",
    "plt.xlabel('Event number')\n",
    "plt.ylabel('Vertex location in X (cm)')\n",
    "plt.text(7.5, 1.5, 'FD FHC Fluxswap', fontsize=12)\n",
    "plt.show()\n",
    "# for ext in ['pdf', 'png']:\n",
    "#     fig.savefig('vtx.' + ext, dpi=300)\n",
    "    \n"
   ],
   "metadata": {
    "collapsed": false,
    "ExecuteTime": {
     "end_time": "2023-11-28T23:18:00.905306Z",
     "start_time": "2023-11-28T23:18:00.613818Z"
    }
   },
   "id": "initial_id"
  },
  {
   "cell_type": "code",
   "execution_count": null,
   "outputs": [],
   "source": [],
   "metadata": {
    "collapsed": false
   },
   "id": "fdab29c05a892f17"
  }
 ],
 "metadata": {
  "kernelspec": {
   "display_name": "Python 3",
   "language": "python",
   "name": "python3"
  },
  "language_info": {
   "codemirror_mode": {
    "name": "ipython",
    "version": 2
   },
   "file_extension": ".py",
   "mimetype": "text/x-python",
   "name": "python",
   "nbconvert_exporter": "python",
   "pygments_lexer": "ipython2",
   "version": "2.7.6"
  }
 },
 "nbformat": 4,
 "nbformat_minor": 5
}
