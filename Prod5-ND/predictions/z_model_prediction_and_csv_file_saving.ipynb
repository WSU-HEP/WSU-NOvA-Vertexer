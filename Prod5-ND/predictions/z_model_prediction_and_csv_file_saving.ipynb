{
 "cells": [
  {
   "cell_type": "code",
   "execution_count": 1,
   "id": "f7d35a0a",
   "metadata": {},
   "outputs": [
    {
     "name": "stderr",
     "output_type": "stream",
     "text": [
      "--------------------------------------------------------------------------\n",
      "[[30000,1],0]: A high-performance Open MPI point-to-point messaging module\n",
      "was unable to find any relevant network interfaces:\n",
      "\n",
      "Module: OpenFabrics (openib)\n",
      "  Host: compute201902\n",
      "\n",
      "Another transport will be used instead, although this may result in\n",
      "lower performance.\n",
      "\n",
      "NOTE: You can disable this warning by setting the MCA parameter\n",
      "btl_base_warn_component_unused to 0.\n",
      "--------------------------------------------------------------------------\n",
      "2023-08-18 13:15:18.185355: I tensorflow/stream_executor/platform/default/dso_loader.cc:48] Successfully opened dynamic library libcudart.so.10.1\n"
     ]
    }
   ],
   "source": [
    "import os\n",
    "import h5py\n",
    "import psutil\n",
    "import sys\n",
    "import time\n",
    "import math\n",
    "import warnings\n",
    "import struct\n",
    "import binascii\n",
    "import pandas as pd\n",
    "import numpy as np\n",
    "import tensorflow as tf\n",
    "import scipy.stats as stats\n",
    "import matplotlib.pyplot as plt\n",
    "import seaborn as sns\n",
    "import networkx as nx\n",
    "%matplotlib inline"
   ]
  },
  {
   "cell_type": "code",
   "execution_count": 2,
   "id": "1cf475ff",
   "metadata": {},
   "outputs": [],
   "source": [
    "from datetime import datetime\n",
    "from sklearn import preprocessing\n",
    "from tqdm import tqdm,tqdm_notebook\n",
    "from IPython.display import display, clear_output\n",
    "from matplotlib.image import imread # read images\n",
    "from sklearn.model_selection import train_test_split\n",
    "from sklearn.neighbors import KernelDensity\n",
    "from scipy.signal import find_peaks\n",
    "from numpy.polynomial.polynomial import polyfit\n",
    "from tensorflow.keras.preprocessing.image import ImageDataGenerator\n",
    "from tensorflow.keras import layers\n",
    "from tensorflow.keras.models import load_model,Sequential\n",
    "from tensorflow.keras.layers import Dense,Conv2D,MaxPool2D,Flatten,Activation,concatenate\n",
    "from tensorflow.keras.optimizers import Adam #optimizer\n",
    "from tensorflow.keras.callbacks import EarlyStopping,TensorBoard\n",
    "from tensorflow.python.client import device_lib\n",
    "from numpy.polynomial.polynomial import polyfit\n",
    "from sklearn.preprocessing import MinMaxScaler # normalize and scale data\n",
    "from sklearn.metrics import mean_squared_error,mean_absolute_error,explained_variance_score,r2_score"
   ]
  },
  {
   "cell_type": "code",
   "execution_count": 3,
   "id": "71dd5729",
   "metadata": {},
   "outputs": [
    {
     "name": "stderr",
     "output_type": "stream",
     "text": [
      "2023-08-18 13:19:31.449064: I tensorflow/stream_executor/platform/default/dso_loader.cc:48] Successfully opened dynamic library libcuda.so.1\n",
      "2023-08-18 13:19:31.676429: E tensorflow/stream_executor/cuda/cuda_driver.cc:314] failed call to cuInit: CUDA_ERROR_NO_DEVICE: no CUDA-capable device is detected\n",
      "2023-08-18 13:19:31.676471: I tensorflow/stream_executor/cuda/cuda_diagnostics.cc:156] kernel driver does not appear to be running on this host (compute201902): /proc/driver/nvidia/version does not exist\n",
      "2023-08-18 13:19:31.693130: I tensorflow/core/common_runtime/process_util.cc:146] Creating new thread pool with default inter op setting: 2. Tune using inter_op_parallelism_threads for best performance.\n"
     ]
    }
   ],
   "source": [
    "# Load the SavedModel\n",
    "saved_model_dir = '/home/m962g264/wsu_Nova_Vertexer/output/h5_models/model_082023/Z_RHC_Model.h5'\n",
    "model = load_model(saved_model_dir)"
   ]
  },
  {
   "cell_type": "code",
   "execution_count": 4,
   "id": "a50dff06",
   "metadata": {},
   "outputs": [
    {
     "name": "stdout",
     "output_type": "stream",
     "text": [
      "Test files validation path: \t/home/m962g264/research_repo/data-preprocess/ND_MC_Nominal_RHC_testdata/\n",
      "Number of validation files: 2000\n",
      "Number of validation events: 72710\n"
     ]
    }
   ],
   "source": [
    "# creating directory paths for the test data sets\n",
    "data_dir='/home/m962g264/research_repo/data-preprocess'\n",
    "test_path=data_dir+'/ND_MC_Nominal_RHC_testdata/'\n",
    "print('Test files validation path: \\t{}'.format(test_path))\n",
    "    \n",
    "#must import ospath for our adjustment for the fhc set\n",
    "import os.path\n",
    "      \n",
    "test_files = [n for n in os.listdir(test_path) if n.endswith(\".h5\")]\n",
    "#Checking the size of the test file\n",
    "test_idx=0\n",
    "for h5_filename in os.listdir(test_path):\n",
    "    test_idx=test_idx+len((h5py.File(test_path+h5_filename,'r')['run'][:]))\n",
    "    \n",
    "print('Number of validation files:',len(os.listdir(test_path)))\n",
    "print('Number of validation events:',(test_idx))"
   ]
  },
  {
   "cell_type": "code",
   "execution_count": 5,
   "id": "c44db816",
   "metadata": {},
   "outputs": [
    {
     "name": "stdout",
     "output_type": "stream",
     "text": [
      "['E', 'Mode', 'PDG', 'TrueRecoVtxX', 'TrueRecoVtxY', 'TrueRecoVtxZ', 'cvnmap', 'cycle', 'event', 'firstplane', 'isCC', 'lastcellx', 'lastcelly', 'run', 'slice', 'subrun']\n",
      "Test files read successfully\n"
     ]
    }
   ],
   "source": [
    "f=h5py.File(test_path+os.listdir(test_path)[0],'r')\n",
    "print(list(f.keys()))\n",
    "\n",
    "#for reading all test files\n",
    "idx = 0\n",
    "test_cvnmap, test_mode, test_iscc, truerecovtxx, truerecovtxy, truerecovtxz = ([] for i in range(6))\n",
    "\n",
    "for h5_filename in os.listdir(test_path):\n",
    "    if os.path.isdir(h5_filename): #skipping directories in the files\n",
    "        continue\n",
    "    \n",
    "    print('Processing... {} of {}'.format(idx, len(os.listdir(test_path))), end=\"\\r\", flush=True)\n",
    "    \n",
    "    with h5py.File(test_path + h5_filename, 'r') as file:\n",
    "        test_cvnmap.append(file['cvnmap'][:])\n",
    "        test_mode = np.append(test_mode, file['Mode'][:], axis=0)\n",
    "        test_iscc = np.append(test_iscc, file['isCC'][:], axis=0)\n",
    "        truerecovtxz.append(file['TrueRecoVtxZ'][:])\n",
    "    \n",
    "    idx += 1\n",
    "\n",
    "# Convert to NumPy arrays\n",
    "truerecovtxz = np.array(truerecovtxz)\n",
    "\n",
    "print('Test files read successfully')"
   ]
  },
  {
   "cell_type": "code",
   "execution_count": 6,
   "id": "78175b14",
   "metadata": {},
   "outputs": [
    {
     "name": "stdout",
     "output_type": "stream",
     "text": [
      "Testing preprocessing complete\n",
      "\r"
     ]
    }
   ],
   "source": [
    "#Normalizing CNN processing\n",
    "idx=file=0\n",
    "test_cvnmap_norm=[]\n",
    "while file < (len(os.listdir(test_path))):\n",
    "    test_cvnmap_norm.append(preprocessing.normalize(test_cvnmap[file],axis=1))\n",
    "    file+=1\n",
    "# convert to np array\n",
    "test_cvnmap_norm=np.array(test_cvnmap_norm)\n",
    "\n",
    "#True vertex extraction for analysis\n",
    "truevtxz,recovtxz = ([] for i in range(2))\n",
    "idx = 0\n",
    "\n",
    "while idx < len(os.listdir(test_path)):\n",
    "    print('Processing...', end=\"\\r\", flush=True)\n",
    "    event = 0\n",
    "    \n",
    "    while event < truerecovtxz[idx].shape[0]:\n",
    "        truevtxz = np.append(truevtxz, truerecovtxz[idx][event][0])\n",
    "        recovtxz = np.append(recovtxz, truerecovtxz[idx][event][1])\n",
    "        event += 1\n",
    "    \n",
    "    idx += 1\n",
    "\n",
    "print('Testing preprocessing complete\\n', end=\"\\r\", flush=True)\n",
    "\n",
    "# convert to np arrays\n",
    "truevtxz=np.array(truevtxz)\n",
    "recovtxz=np.array(recovtxz)\n"
   ]
  },
  {
   "cell_type": "code",
   "execution_count": 7,
   "id": "f2c2e8fe",
   "metadata": {},
   "outputs": [
    {
     "name": "stdout",
     "output_type": "stream",
     "text": [
      "Processing tests cvnmap file 2000 of 2000\n",
      "cvnmap processing complete\n"
     ]
    }
   ],
   "source": [
    "# split normalized cvnmap into reshaped events with multi-views\n",
    "c, d, test_cvnmap_norm_resh, test_cvnmap_norm_resh_xz, test_cvnmap_norm_resh_yz = ([] for i in range(5))\n",
    "file, event = 0, 0\n",
    "\n",
    "while file < len(os.listdir(test_path)):\n",
    "    print('Processing tests cvnmap file {} of {}'.format(file + 1, len(os.listdir(test_path))), end=\"\\r\", flush=True)\n",
    "    c = test_cvnmap_norm[file]\n",
    "    event = 0\n",
    "    \n",
    "    while event < c.shape[0]:\n",
    "        d = c[event].reshape(2, 100, 80)\n",
    "        test_cvnmap_norm_resh.append(d)\n",
    "        test_cvnmap_norm_resh_xz.append(d[0])\n",
    "        test_cvnmap_norm_resh_yz.append(d[1])\n",
    "        event += 1\n",
    "    \n",
    "    file += 1\n",
    "\n",
    "print('\\ncvnmap processing complete')"
   ]
  },
  {
   "cell_type": "markdown",
   "id": "1b695c58",
   "metadata": {},
   "source": [
    "**np array conversion for test preparation**"
   ]
  },
  {
   "cell_type": "code",
   "execution_count": 8,
   "id": "b1980855",
   "metadata": {},
   "outputs": [],
   "source": [
    "test_cvnmap_norm_resh_xz=np.array(test_cvnmap_norm_resh_xz) # xz views only"
   ]
  },
  {
   "cell_type": "code",
   "execution_count": 9,
   "id": "7e4653e9",
   "metadata": {},
   "outputs": [],
   "source": [
    "test_cvnmap_norm_resh_yz=np.array(test_cvnmap_norm_resh_yz) # yz views only"
   ]
  },
  {
   "cell_type": "code",
   "execution_count": 10,
   "id": "d4da951f",
   "metadata": {},
   "outputs": [],
   "source": [
    "# add one more dimension to let the CNN know we are dealing with one color dimension\n",
    "test_cvnmap_norm_resh_xz=test_cvnmap_norm_resh_xz.reshape(test_cvnmap_norm_resh_xz.shape[0],100,80,1)\n",
    "test_cvnmap_norm_resh_yz=test_cvnmap_norm_resh_yz.reshape(test_cvnmap_norm_resh_yz.shape[0],100,80,1)\n",
    "#batch_size,width,heigh,color_channels"
   ]
  },
  {
   "cell_type": "code",
   "execution_count": 11,
   "id": "efdbe576",
   "metadata": {},
   "outputs": [],
   "source": [
    "full_predictions=model.predict([test_cvnmap_norm_resh_xz,test_cvnmap_norm_resh_yz])"
   ]
  },
  {
   "cell_type": "code",
   "execution_count": 12,
   "id": "70c064ca",
   "metadata": {},
   "outputs": [],
   "source": [
    "#Saving full Prediction CSV file\n",
    "full_true_df=pd.DataFrame(truevtxz,columns=['True Z'])\n",
    "full_reco_df=pd.DataFrame(recovtxz,columns=['Reco Z'])\n",
    "full_predictions=pd.Series(full_predictions.reshape(len(truevtxz),))\n",
    "full_true_df=pd.concat([full_true_df,full_predictions],axis=1)\n",
    "full_true_df=pd.concat([full_true_df,full_reco_df],axis=1)\n",
    "full_true_df.columns=['True Z','Model Predictions','Reco Z']\n",
    "np.savetxt(\"/home/m962g264/wsu_Nova_Vertexer/output/csv_files/z_modelPred_RHC_abdul.csv\", full_true_df, delimiter=\",\")"
   ]
  },
  {
   "cell_type": "code",
   "execution_count": null,
   "id": "d8374adf",
   "metadata": {},
   "outputs": [],
   "source": []
  },
  {
   "cell_type": "code",
   "execution_count": null,
   "id": "d9c32f43",
   "metadata": {},
   "outputs": [],
   "source": []
  }
 ],
 "metadata": {
  "kernelspec": {
   "display_name": "Python 3 (ipykernel)",
   "language": "python",
   "name": "python3"
  },
  "language_info": {
   "codemirror_mode": {
    "name": "ipython",
    "version": 3
   },
   "file_extension": ".py",
   "mimetype": "text/x-python",
   "name": "python",
   "nbconvert_exporter": "python",
   "pygments_lexer": "ipython3",
   "version": "3.7.4"
  }
 },
 "nbformat": 4,
 "nbformat_minor": 5
}
