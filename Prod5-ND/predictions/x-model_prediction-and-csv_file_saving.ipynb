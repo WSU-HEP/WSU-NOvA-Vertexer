{
 "cells": [
  {
   "cell_type": "code",
   "execution_count": 1,
   "id": "485638a9",
   "metadata": {},
   "outputs": [
    {
     "name": "stderr",
     "output_type": "stream",
     "text": [
      "--------------------------------------------------------------------------\n",
      "[[43122,1],0]: A high-performance Open MPI point-to-point messaging module\n",
      "was unable to find any relevant network interfaces:\n",
      "\n",
      "Module: OpenFabrics (openib)\n",
      "  Host: compute201902\n",
      "\n",
      "Another transport will be used instead, although this may result in\n",
      "lower performance.\n",
      "\n",
      "NOTE: You can disable this warning by setting the MCA parameter\n",
      "btl_base_warn_component_unused to 0.\n",
      "--------------------------------------------------------------------------\n",
      "2023-08-18 15:29:22.642226: I tensorflow/stream_executor/platform/default/dso_loader.cc:48] Successfully opened dynamic library libcudart.so.10.1\n"
     ]
    }
   ],
   "source": [
    "import os\n",
    "import h5py\n",
    "import psutil\n",
    "import sys\n",
    "import time\n",
    "import math\n",
    "import warnings\n",
    "import struct\n",
    "import binascii\n",
    "import pandas as pd\n",
    "import numpy as np\n",
    "import tensorflow as tf\n",
    "import scipy.stats as stats\n",
    "import matplotlib.pyplot as plt\n",
    "import seaborn as sns\n",
    "import networkx as nx\n",
    "%matplotlib inline"
   ]
  },
  {
   "cell_type": "code",
   "execution_count": 2,
   "id": "9b281ea9",
   "metadata": {},
   "outputs": [],
   "source": [
    "from datetime import datetime\n",
    "from sklearn import preprocessing\n",
    "from tqdm import tqdm,tqdm_notebook\n",
    "from IPython.display import display, clear_output\n",
    "from matplotlib.image import imread # read images\n",
    "from sklearn.model_selection import train_test_split\n",
    "from sklearn.neighbors import KernelDensity\n",
    "from scipy.signal import find_peaks\n",
    "from numpy.polynomial.polynomial import polyfit\n",
    "from tensorflow.keras.preprocessing.image import ImageDataGenerator\n",
    "from tensorflow.keras import layers\n",
    "from tensorflow.keras.models import load_model,Sequential\n",
    "from tensorflow.keras.layers import Dense,Conv2D,MaxPool2D,Flatten,Activation,concatenate\n",
    "from tensorflow.keras.optimizers import Adam #optimizer\n",
    "from tensorflow.keras.callbacks import EarlyStopping,TensorBoard\n",
    "from tensorflow.python.client import device_lib\n",
    "from numpy.polynomial.polynomial import polyfit\n",
    "from sklearn.preprocessing import MinMaxScaler # normalize and scale data\n",
    "from sklearn.metrics import mean_squared_error,mean_absolute_error,explained_variance_score,r2_score"
   ]
  },
  {
   "cell_type": "code",
   "execution_count": 3,
   "id": "a8d2b6eb",
   "metadata": {},
   "outputs": [
    {
     "name": "stderr",
     "output_type": "stream",
     "text": [
      "2023-08-18 15:29:26.276052: I tensorflow/stream_executor/platform/default/dso_loader.cc:48] Successfully opened dynamic library libcuda.so.1\n",
      "2023-08-18 15:29:26.584537: E tensorflow/stream_executor/cuda/cuda_driver.cc:314] failed call to cuInit: CUDA_ERROR_NO_DEVICE: no CUDA-capable device is detected\n",
      "2023-08-18 15:29:26.584576: I tensorflow/stream_executor/cuda/cuda_diagnostics.cc:156] kernel driver does not appear to be running on this host (compute201902): /proc/driver/nvidia/version does not exist\n",
      "2023-08-18 15:29:26.587178: I tensorflow/core/common_runtime/process_util.cc:146] Creating new thread pool with default inter op setting: 2. Tune using inter_op_parallelism_threads for best performance.\n"
     ]
    }
   ],
   "source": [
    "# Load the SavedModel\n",
    "saved_model_dir = '/home/m962g264/wsu_Nova_Vertexer/output/h5_models/model_082023/X_FHC_Model.h5'\n",
    "#saved_model_dir = '/home/m962g264/wsu_Nova_Vertexer/output/h5_models/model_082023/X_RHC_Model.h5'\n",
    "model = load_model(saved_model_dir)"
   ]
  },
  {
   "cell_type": "code",
   "execution_count": 4,
   "id": "a5a3e896",
   "metadata": {},
   "outputs": [
    {
     "name": "stdout",
     "output_type": "stream",
     "text": [
      "Test files validation path: \t/home/m962g264/research_repo/data-preprocess/FHC_wenjie/\n",
      "Number of validation files: 1\n",
      "Number of validation events: 78\n"
     ]
    }
   ],
   "source": [
    "# creating directory paths for the test data sets\n",
    "data_dir='/home/m962g264/research_repo/data-preprocess'\n",
    "#test_path=data_dir+'/ND_MC_Nominal_FHC_testdata/'\n",
    "#test_path=data_dir+'/ND_MC_Nominal_RHC_testdata/'\n",
    "test_path=data_dir+'/FHC_wenjie/'\n",
    "print('Test files validation path: \\t{}'.format(test_path))\n",
    "    \n",
    "#must import ospath for our adjustment for the fhc set\n",
    "import os.path\n",
    "      \n",
    "test_files = [n for n in os.listdir(test_path) if n.endswith(\".h5\")]\n",
    "#Checking the size of the test file\n",
    "test_idx=0\n",
    "for h5_filename in os.listdir(test_path):\n",
    "    test_idx=test_idx+len((h5py.File(test_path+h5_filename,'r')['run'][:]))\n",
    "    \n",
    "print('Number of validation files:',len(os.listdir(test_path)))\n",
    "print('Number of validation events:',(test_idx))"
   ]
  },
  {
   "cell_type": "code",
   "execution_count": 5,
   "id": "301efe80",
   "metadata": {},
   "outputs": [
    {
     "name": "stdout",
     "output_type": "stream",
     "text": [
      "['E', 'Mode', 'PDG', 'TrueRecoVtxX', 'TrueRecoVtxY', 'TrueRecoVtxZ', 'cvnmap', 'cycle', 'event', 'firstplane', 'isCC', 'lastcellx', 'lastcelly', 'run', 'slice', 'subrun']\n",
      "Test files read successfully\n"
     ]
    }
   ],
   "source": [
    "f=h5py.File(test_path+os.listdir(test_path)[0],'r')\n",
    "print(list(f.keys()))\n",
    "\n",
    "#for reading all test files\n",
    "idx = 0\n",
    "test_cvnmap, test_mode, test_iscc, truerecovtxx, truerecovtxy, truerecovtxz = ([] for i in range(6))\n",
    "\n",
    "for h5_filename in os.listdir(test_path):\n",
    "    if os.path.isdir(h5_filename): #skipping directories in the files\n",
    "        continue\n",
    "    \n",
    "    print('Processing... {} of {}'.format(idx, len(os.listdir(test_path))), end=\"\\r\", flush=True)\n",
    "    \n",
    "    with h5py.File(test_path + h5_filename, 'r') as file:\n",
    "        test_cvnmap.append(file['cvnmap'][:])\n",
    "        test_mode = np.append(test_mode, file['Mode'][:], axis=0)\n",
    "        test_iscc = np.append(test_iscc, file['isCC'][:], axis=0)\n",
    "        truerecovtxx.append(file['TrueRecoVtxX'][:])\n",
    "    \n",
    "    idx += 1\n",
    "\n",
    "# Convert to NumPy arrays\n",
    "truerecovtxx = np.array(truerecovtxx)\n",
    "\n",
    "print('Test files read successfully')"
   ]
  },
  {
   "cell_type": "code",
   "execution_count": 6,
   "id": "b5480d0f",
   "metadata": {},
   "outputs": [
    {
     "name": "stdout",
     "output_type": "stream",
     "text": [
      "Testing preprocessing complete\n",
      "\r"
     ]
    }
   ],
   "source": [
    "#Normalizing CNN processing\n",
    "idx=file=0\n",
    "test_cvnmap_norm=[]\n",
    "while file < (len(os.listdir(test_path))):\n",
    "    test_cvnmap_norm.append(preprocessing.normalize(test_cvnmap[file],axis=1))\n",
    "    file+=1\n",
    "# convert to np array\n",
    "test_cvnmap_norm=np.array(test_cvnmap_norm)\n",
    "\n",
    "#True vertex extraction for analysis\n",
    "truevtxx,recovtxx = ([] for i in range(2))\n",
    "idx = 0\n",
    "\n",
    "while idx < len(os.listdir(test_path)):\n",
    "    print('Processing...', end=\"\\r\", flush=True)\n",
    "    event = 0\n",
    "    \n",
    "    while event < truerecovtxx[idx].shape[0]:\n",
    "        truevtxx = np.append(truevtxx, truerecovtxx[idx][event][0])\n",
    "        recovtxx = np.append(recovtxx, truerecovtxx[idx][event][1])\n",
    "        event += 1\n",
    "    \n",
    "    idx += 1\n",
    "\n",
    "print('Testing preprocessing complete\\n', end=\"\\r\", flush=True)\n",
    "\n",
    "# convert to np arrays\n",
    "truevtxx=np.array(truevtxx)\n",
    "recovtxx=np.array(recovtxx)\n"
   ]
  },
  {
   "cell_type": "code",
   "execution_count": 7,
   "id": "5e9ec967",
   "metadata": {},
   "outputs": [
    {
     "name": "stdout",
     "output_type": "stream",
     "text": [
      "Processing tests cvnmap file 1 of 1\n",
      "cvnmap processing complete\n"
     ]
    }
   ],
   "source": [
    "# split normalized cvnmap into reshaped events with multi-views\n",
    "c, d, test_cvnmap_norm_resh, test_cvnmap_norm_resh_xz, test_cvnmap_norm_resh_yz = ([] for i in range(5))\n",
    "file, event = 0, 0\n",
    "\n",
    "while file < len(os.listdir(test_path)):\n",
    "    print('Processing tests cvnmap file {} of {}'.format(file + 1, len(os.listdir(test_path))), end=\"\\r\", flush=True)\n",
    "    c = test_cvnmap_norm[file]\n",
    "    event = 0\n",
    "    \n",
    "    while event < c.shape[0]:\n",
    "        d = c[event].reshape(2, 100, 80)\n",
    "        test_cvnmap_norm_resh.append(d)\n",
    "        test_cvnmap_norm_resh_xz.append(d[0])\n",
    "        test_cvnmap_norm_resh_yz.append(d[1])\n",
    "        event += 1\n",
    "    \n",
    "    file += 1\n",
    "\n",
    "print('\\ncvnmap processing complete')\n"
   ]
  },
  {
   "cell_type": "markdown",
   "id": "1ff5ef08",
   "metadata": {},
   "source": [
    "**np array conversion for test preparation**"
   ]
  },
  {
   "cell_type": "code",
   "execution_count": 8,
   "id": "f51579e8",
   "metadata": {},
   "outputs": [],
   "source": [
    "test_cvnmap_norm_resh_xz=np.array(test_cvnmap_norm_resh_xz) # xz views only"
   ]
  },
  {
   "cell_type": "code",
   "execution_count": 9,
   "id": "b298de33",
   "metadata": {},
   "outputs": [],
   "source": [
    "test_cvnmap_norm_resh_yz=np.array(test_cvnmap_norm_resh_yz) # yz views only"
   ]
  },
  {
   "cell_type": "code",
   "execution_count": 10,
   "id": "62c9cbc1",
   "metadata": {},
   "outputs": [],
   "source": [
    "# add one more dimension to let the CNN know we are dealing with one color dimension\n",
    "test_cvnmap_norm_resh_xz=test_cvnmap_norm_resh_xz.reshape(test_cvnmap_norm_resh_xz.shape[0],100,80,1)\n",
    "test_cvnmap_norm_resh_yz=test_cvnmap_norm_resh_yz.reshape(test_cvnmap_norm_resh_yz.shape[0],100,80,1)\n",
    "#batch_size,width,heigh,color_channels"
   ]
  },
  {
   "cell_type": "code",
   "execution_count": 11,
   "id": "57e9fffa",
   "metadata": {},
   "outputs": [],
   "source": [
    "full_predictions=model.predict([test_cvnmap_norm_resh_xz,test_cvnmap_norm_resh_yz])"
   ]
  },
  {
   "cell_type": "code",
   "execution_count": 12,
   "id": "db676811",
   "metadata": {},
   "outputs": [
    {
     "name": "stdout",
     "output_type": "stream",
     "text": [
      "The first 10 rows and first 10 columns of truevtxx are:        True X\n",
      "0   -5.490415\n",
      "1   95.721954\n",
      "2  148.567261\n",
      "3 -116.638466\n",
      "4  -28.045332\n",
      "5 -111.904732\n",
      "6   40.339329\n",
      "7   98.614212\n",
      "8   52.842033\n",
      "9  -81.733894\n",
      "The first 10 rows and first 10 columns of recovtxx are:        Reco X\n",
      "0   -3.578348\n",
      "1   94.725662\n",
      "2  148.680298\n",
      "3 -109.047287\n",
      "4  -26.292982\n",
      "5 -106.038498\n",
      "6   39.880569\n",
      "7  100.148972\n",
      "8   52.432850\n",
      "9  -81.575562\n",
      "The first 10 rows and first 10 columns of concat truevtxx and prediction are:        True X           0\n",
      "0   -5.490415   20.660101\n",
      "1   95.721954   10.405977\n",
      "2  148.567261  -81.231537\n",
      "3 -116.638466 -171.789230\n",
      "4  -28.045332   -0.271762\n",
      "5 -111.904732 -112.699951\n",
      "6   40.339329  108.240891\n",
      "7   98.614212   -7.735828\n",
      "8   52.842033   73.354858\n",
      "9  -81.733894  -65.653572\n",
      "The first 10 rows and first 10 columns of concat truevtxx, prediction and recovtxx are:        True X           0      Reco X\n",
      "0   -5.490415   20.660101   -3.578348\n",
      "1   95.721954   10.405977   94.725662\n",
      "2  148.567261  -81.231537  148.680298\n",
      "3 -116.638466 -171.789230 -109.047287\n",
      "4  -28.045332   -0.271762  -26.292982\n",
      "5 -111.904732 -112.699951 -106.038498\n",
      "6   40.339329  108.240891   39.880569\n",
      "7   98.614212   -7.735828  100.148972\n",
      "8   52.842033   73.354858   52.432850\n",
      "9  -81.733894  -65.653572  -81.575562\n"
     ]
    }
   ],
   "source": [
    "#Saving full Prediction CSV file\n",
    "full_true_df=pd.DataFrame(truevtxx,columns=['True X'])\n",
    "subset_df = full_true_df.iloc[:10, :10]  # Select the first 10 rows and first 10 columns\n",
    "full_reco_df=pd.DataFrame(recovtxx,columns=['Reco X'])\n",
    "sub_df=full_reco_df.iloc[:10, :10]\n",
    "full_predictions=pd.Series(full_predictions.reshape(len(truevtxx),))\n",
    "full_true_df=pd.concat([full_true_df,full_predictions],axis=1)\n",
    "subset_concat_df = full_true_df.iloc[:10, :10]\n",
    "full_true_df=pd.concat([full_true_df,full_reco_df],axis=1)\n",
    "subset_concate_df = full_true_df.iloc[:10, :10]\n",
    "full_true_df.columns=['True X','Model Predictions','Reco X']\n",
    "print('The first 10 rows and first 10 columns of truevtxx are:', subset_df)\n",
    "print('The first 10 rows and first 10 columns of recovtxx are:', sub_df)\n",
    "print('The first 10 rows and first 10 columns of concat truevtxx and prediction are:', subset_concat_df)\n",
    "print('The first 10 rows and first 10 columns of concat truevtxx, prediction and recovtxx are:', subset_concate_df)\n",
    "np.savetxt(\"/home/m962g264/wsu_Nova_Vertexer/output/csv_files/trial_x_modelPred_FHC_abdul.csv\", full_true_df, delimiter=\",\")"
   ]
  },
  {
   "cell_type": "code",
   "execution_count": null,
   "id": "bc219fa2",
   "metadata": {},
   "outputs": [],
   "source": []
  }
 ],
 "metadata": {
  "kernelspec": {
   "display_name": "Python 3 (ipykernel)",
   "language": "python",
   "name": "python3"
  },
  "language_info": {
   "codemirror_mode": {
    "name": "ipython",
    "version": 3
   },
   "file_extension": ".py",
   "mimetype": "text/x-python",
   "name": "python",
   "nbconvert_exporter": "python",
   "pygments_lexer": "ipython3",
   "version": "3.7.4"
  }
 },
 "nbformat": 4,
 "nbformat_minor": 5
}
