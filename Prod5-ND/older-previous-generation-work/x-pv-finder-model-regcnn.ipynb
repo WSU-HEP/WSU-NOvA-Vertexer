{
 "cells": [
  {
   "cell_type": "markdown",
   "metadata": {},
   "source": [
    "# KDE & ML Based NuMu Event Reconstruction"
   ]
  },
  {
   "cell_type": "markdown",
   "metadata": {},
   "source": [
    "### Import Classes & Modules"
   ]
  },
  {
   "cell_type": "markdown",
   "metadata": {},
   "source": [
    "    Ensure all required python classes are installed prior to progress."
   ]
  },
  {
   "cell_type": "code",
   "execution_count": 1,
   "metadata": {},
   "outputs": [
    {
     "name": "stderr",
     "output_type": "stream",
     "text": [
      "--------------------------------------------------------------------------\n",
      "[[10938,1],0]: A high-performance Open MPI point-to-point messaging module\n",
      "was unable to find any relevant network interfaces:\n",
      "\n",
      "Module: OpenFabrics (openib)\n",
      "  Host: gpu201901\n",
      "\n",
      "Another transport will be used instead, although this may result in\n",
      "lower performance.\n",
      "\n",
      "NOTE: You can disable this warning by setting the MCA parameter\n",
      "btl_base_warn_component_unused to 0.\n",
      "--------------------------------------------------------------------------\n",
      "2023-02-17 13:38:51.597741: I tensorflow/stream_executor/platform/default/dso_loader.cc:48] Successfully opened dynamic library libcudart.so.10.1\n"
     ]
    }
   ],
   "source": [
    "import os\n",
    "import sys\n",
    "import time\n",
    "import math\n",
    "import warnings\n",
    "import struct\n",
    "import binascii\n",
    "import pandas as pd\n",
    "import numpy as np\n",
    "import pickle\n",
    "import h5py\n",
    "import tensorflow as tf\n",
    "import scipy.stats as stats\n",
    "import matplotlib.pyplot as plt\n",
    "import seaborn as sns\n",
    "import networkx as nx\n",
    "%matplotlib inline"
   ]
  },
  {
   "cell_type": "code",
   "execution_count": 2,
   "metadata": {},
   "outputs": [],
   "source": [
    "from datetime import datetime\n",
    "from sklearn import preprocessing\n",
    "from tqdm import tqdm,tqdm_notebook\n",
    "from IPython.display import display, clear_output\n",
    "from matplotlib.image import imread # read images\n",
    "from sklearn.model_selection import train_test_split\n",
    "from sklearn.neighbors import KernelDensity\n",
    "from scipy.signal import find_peaks\n",
    "from numpy.polynomial.polynomial import polyfit\n",
    "from tensorflow.keras.preprocessing.image import ImageDataGenerator\n",
    "from tensorflow.keras.models import Model,Sequential\n",
    "from tensorflow.keras.layers import Dense,Conv2D,MaxPool2D,Flatten,Activation,concatenate\n",
    "from tensorflow.keras.optimizers import Adam #optimizer\n",
    "from tensorflow.keras.callbacks import EarlyStopping,TensorBoard\n",
    "from tensorflow.python.client import device_lib\n",
    "from sklearn.preprocessing import MinMaxScaler # normalize and scale data\n",
    "from sklearn.metrics import mean_squared_error,mean_absolute_error,explained_variance_score,r2_score"
   ]
  },
  {
   "cell_type": "markdown",
   "metadata": {},
   "source": [
    "### Data Handling"
   ]
  },
  {
   "cell_type": "code",
   "execution_count": 5,
   "metadata": {},
   "outputs": [
    {
     "name": "stdout",
     "output_type": "stream",
     "text": [
      "Training files path: \t/home/m962g264/research_repo/data-preprocess/ND_MC_Nominal_RHC_traindata/\n",
      "Validation files path: \t/home/m962g264/research_repo/data-preprocess/ND_MC_Nominal_RHC_testdata/\n"
     ]
    }
   ],
   "source": [
    "# create directory paths for train & test data sets\n",
    "data_dir='/home/m962g264/research_repo/data-preprocess'\n",
    "train_path=data_dir+'/ND_MC_Nominal_RHC_traindata/'\n",
    "test_path=data_dir+'/ND_MC_Nominal_RHC_testdata/'\n",
    "print('Training files path: \\t{}'.format(train_path))\n",
    "print('Validation files path: \\t{}'.format(test_path))"
   ]
  },
  {
   "cell_type": "code",
   "execution_count": 6,
   "metadata": {},
   "outputs": [
    {
     "name": "stdout",
     "output_type": "stream",
     "text": [
      "Number of training files:\t2000\n",
      "Number of validation files:\t2000\n",
      "Number of training events:\t32000\n",
      "Number of validation events:\t32000\n"
     ]
    }
   ],
   "source": [
    "train_files = list(set(n for n in os.listdir(train_path) if n.endswith(\".h5\")))\n",
    "test_files = list(set(n for n in os.listdir(test_path) if n.endswith(\".h5\")))\n",
    "# train & test size\n",
    "train_idx=0\n",
    "test_idx=0\n",
    "for h5_filename in os.listdir(train_path):\n",
    "        #Adding these two lines to avoid errors because there are extra directories in the FHC set for some reason\n",
    "    if os.path.isdir(h5_filename)==True:\n",
    "        continue\n",
    "    train_idx=train_idx+len((h5py.File(train_path+h5_filename,'r')))\n",
    "for h5_filename in os.listdir(test_path):\n",
    "    test_idx=test_idx+len((h5py.File(test_path+h5_filename,'r')))\n",
    "\n",
    "# training events are broad scoped while validation events are quality cut ND contained. further train/test splitting is done later.\n",
    "print('Number of training files:\\t{}\\nNumber of validation files:\\t{}'.format(len(os.listdir(train_path)), len(os.listdir(test_path))))\n",
    "print('Number of training events:\\t{}\\nNumber of validation events:\\t{}'.format((train_idx), (test_idx)))"
   ]
  },
  {
   "cell_type": "code",
   "execution_count": 7,
   "metadata": {},
   "outputs": [
    {
     "name": "stdout",
     "output_type": "stream",
     "text": [
      "['E', 'Mode', 'PDG', 'TrueRecoVtxX', 'TrueRecoVtxY', 'TrueRecoVtxZ', 'cvnmap', 'cycle', 'event', 'firstplane', 'isCC', 'lastcellx', 'lastcelly', 'run', 'slice', 'subrun']\n"
     ]
    }
   ],
   "source": [
    "# test interaction is canoncial for training files\n",
    "df=h5py.File(train_path+os.listdir(train_path)[0],'r')\n",
    "print(list(df.keys()))"
   ]
  },
  {
   "cell_type": "code",
   "execution_count": 8,
   "metadata": {},
   "outputs": [
    {
     "name": "stdout",
     "output_type": "stream",
     "text": [
      "Test & Validation files read successful\n"
     ]
    }
   ],
   "source": [
    "# read all the h5 files\n",
    "idx=0\n",
    "energy,pdg,cvnmap,test_cvnmap,truerecovtxx,truerecovtxy,truerecovtxz,test_mode,test_iscc,testtruerecovtxx,testtruerecovtxy,testtruerecovtxz=([] for i in range(12))\n",
    "for h5_filename in os.listdir(train_path):\n",
    "    print('Processing... {} of {}'.format(idx,len(os.listdir(train_path))), end=\"\\r\", flush=True)\n",
    "    energy=np.append(energy, h5py.File(train_path+h5_filename,'r')['E'][:],axis=0)\n",
    "    pdg=np.append(pdg,h5py.File(train_path+h5_filename,'r')['PDG'][:],axis=0)\n",
    "    cvnmap.append(h5py.File(train_path+h5_filename,'r')['cvnmap'][:])\n",
    "    truerecovtxx.append(h5py.File(train_path+h5_filename,'r')['TrueRecoVtxX'][:])\n",
    "    test_cvnmap.append(h5py.File(test_path+h5_filename,'r')['cvnmap'][:])\n",
    "    train_mode=np.append(test_mode,h5py.File(train_path+h5_filename,'r')['Mode'][:],axis=0)\n",
    "    train_iscc=np.append(test_iscc,h5py.File(train_path+h5_filename,'r')['isCC'][:],axis=0)\n",
    "    test_mode=np.append(test_mode,h5py.File(test_path+h5_filename,'r')['Mode'][:],axis=0)\n",
    "    test_iscc=np.append(test_iscc,h5py.File(test_path+h5_filename,'r')['isCC'][:],axis=0)\n",
    "    testtruerecovtxx.append(h5py.File(test_path+h5_filename,'r')['TrueRecoVtxX'][:])\n",
    "    idx+=1\n",
    "\n",
    "# convert to np array\n",
    "truerecovtxx=np.array(truerecovtxx)\n",
    "testtruerecovtxx=np.array(testtruerecovtxx)\n",
    "print('Test & Validation files read successful') "
   ]
  },
  {
   "cell_type": "code",
   "execution_count": 9,
   "metadata": {},
   "outputs": [],
   "source": [
    "# normalize cvnmap for CNN processing\n",
    "# training data\n",
    "idx=file=0\n",
    "cvnmap_norm,test_cvnmap_norm=([] for i in range(2))\n",
    "while idx < (len(os.listdir(train_path))):\n",
    "        #seeing if we can fix the index problem\n",
    "    if idx==2001:\n",
    "        break\n",
    "    cvnmap_norm.append(preprocessing.normalize(cvnmap[idx],axis=1))\n",
    "    idx+=1\n",
    "# testing data\n",
    "while file < (len(os.listdir(test_path))):\n",
    "    test_cvnmap_norm.append(preprocessing.normalize(test_cvnmap[file],axis=1))\n",
    "    file+=1\n",
    "# convert to np array\n",
    "cvnmap_norm=np.array(cvnmap_norm)\n",
    "test_cvnmap_norm=np.array(test_cvnmap_norm)"
   ]
  },
  {
   "cell_type": "code",
   "execution_count": 10,
   "metadata": {},
   "outputs": [
    {
     "name": "stdout",
     "output_type": "stream",
     "text": [
      "Training preprocessing complete\n",
      "Testing preprocessing complete\n",
      "\r"
     ]
    }
   ],
   "source": [
    "# extract true vertices for model training processing and model validation\n",
    "truevtxx,recovtxx,testtruevtxx,testrecovtxx=([] for i in range(4))\n",
    "idx=0\n",
    "while idx < (len(os.listdir(train_path))):\n",
    "        print('Processing...', end=\"\\r\", flush=True)\n",
    "        event=0\n",
    "            #seeing if we can fix the index problem\n",
    "        if idx==2001:\n",
    "            break\n",
    "        while event < (truerecovtxx[idx].shape[0]):\n",
    "            truevtxx=np.append(truevtxx,truerecovtxx[idx][event][0])\n",
    "            recovtxx=np.append(recovtxx,truerecovtxx[idx][event][1])\n",
    "            event+=1\n",
    "        idx+=1\n",
    "print('Training preprocessing complete\\n', end=\"\\r\", flush=True)\n",
    "idx=0\n",
    "while idx < (len(os.listdir(test_path))):\n",
    "        print('Processing...', end=\"\\r\", flush=True)\n",
    "        event=0\n",
    "        while event < (testtruerecovtxx[idx].shape[0]):\n",
    "            testtruevtxx=np.append(testtruevtxx,testtruerecovtxx[idx][event][0])\n",
    "            testrecovtxx=np.append(testrecovtxx,testtruerecovtxx[idx][event][1])\n",
    "            event+=1\n",
    "        idx+=1\n",
    "print('Testing preprocessing complete\\n', end=\"\\r\", flush=True)\n",
    "# convert to np arrays\n",
    "testtruevtxx=np.array(testtruevtxx)\n",
    "testrecovtxx=np.array(testrecovtxx)"
   ]
  },
  {
   "cell_type": "code",
   "execution_count": 11,
   "metadata": {},
   "outputs": [
    {
     "name": "stdout",
     "output_type": "stream",
     "text": [
      "Processing tests cvnmap file 2000 of 2000\n",
      "cvnmap processing complete\n"
     ]
    }
   ],
   "source": [
    "# split normalized cvnmap into reshaped events with multi-views\n",
    "a,b,c,d,cvnmap_norm_resh,cvnmap_norm_resh_xz,cvnmap_norm_resh_yz,test_cvnmap_norm_resh,test_cvnmap_norm_resh_xz,test_cvnmap_norm_resh_yz=([] for i in range(10))\n",
    "file=event=0\n",
    "## training CVN map view split ##\n",
    "while file < (len(os.listdir(train_path))):\n",
    "        #seeing if we can fix the index problem\n",
    "    if idx==2001:\n",
    "        break\n",
    "    a=cvnmap_norm[file]\n",
    "    print('Processing train cvnmap file {} of {}'.format(file+1, (len(os.listdir(train_path)))), end=\"\\r\", flush=True)\n",
    "    event=0\n",
    "    while event < (a.shape[0]):\n",
    "        b=a[event].reshape(2,100,80)\n",
    "        cvnmap_norm_resh.append(b)\n",
    "        cvnmap_norm_resh_xz.append(b[0])\n",
    "        cvnmap_norm_resh_yz.append(b[1])\n",
    "        event+=1\n",
    "    file+=1\n",
    "file=event=0\n",
    "while file < (len(os.listdir(test_path))):\n",
    "    c=test_cvnmap_norm[file]\n",
    "    print('Processing tests cvnmap file {} of {}'.format(file+1, (len(os.listdir(test_path)))), end=\"\\r\", flush=True)\n",
    "    event=0\n",
    "    while event < (c.shape[0]):\n",
    "        d=c[event].reshape(2,100,80)\n",
    "        test_cvnmap_norm_resh.append(d)\n",
    "        test_cvnmap_norm_resh_xz.append(d[0])\n",
    "        test_cvnmap_norm_resh_yz.append(d[1])\n",
    "        event+=1\n",
    "    file+=1\n",
    "print('\\ncvnmap processing complete')"
   ]
  },
  {
   "cell_type": "code",
   "execution_count": 13,
   "metadata": {},
   "outputs": [
    {
     "name": "stdout",
     "output_type": "stream",
     "text": [
      "Test & Validation files read successful\n"
     ]
    }
   ],
   "source": [
    "#Defines the finalstate array! Need to make a numpy array from the extracted final state pdg information\n",
    "pdgpath='/home/m962g264/research_repo/data-preprocess/ND_MC_Nominal_Files_RHC_mominkhan/'\n",
    "idx=0\n",
    "for h5_filename in os.listdir(pdgpath):\n",
    "    print('Processing... {} of {}'.format(idx,len(os.listdir(train_path))), end=\"\\r\", flush=True)\n",
    "   \n",
    "    g=h5py.File(pdgpath+h5_filename,'r')\n",
    "    finalstate=g['rec.mc.nu.prim']['pdg'][:]\n",
    "  \n",
    "    #if 111 in finalstate:\n",
    "        #print(finalstate)\n",
    "        #print(len(finalstate))\n",
    "    #else:\n",
    "        #continue\n",
    "    idx+=1\n",
    "    \n",
    "# convert to np array\n",
    "print('Test & Validation files read successful') "
   ]
  },
  {
   "cell_type": "markdown",
   "metadata": {},
   "source": [
    "##### Split Datasets by Interaction Types"
   ]
  },
  {
   "cell_type": "code",
   "execution_count": 14,
   "metadata": {},
   "outputs": [
    {
     "name": "stdout",
     "output_type": "stream",
     "text": [
      "Processing 72710 test files. Splitting events by interaction mode.\n",
      "MODE RUN: Processing train file 72709\n",
      "Job complete.\n"
     ]
    }
   ],
   "source": [
    "test_cvnmap_qe_xz,test_cvnmap_qe_yz,test_cvnmap_res_xz,test_cvnmap_res_yz,test_cvnmap_dis_xz,test_cvnmap_dis_yz=([] for i in range(6))\n",
    "qe_true_vtxx,res_true_vtxx,dis_true_vtxx,qe_reco_vtxx,res_reco_vtxx,dis_reco_vtxx=([] for i in range(6))\n",
    "x=idx=0\n",
    "print('Processing {} test files. Splitting events by interaction mode.'.format((len(test_mode))))\n",
    "#############MODE####################################################\n",
    "while idx < (len(test_mode)):\n",
    "    time.sleep(0.001) # hesitates for 0.001 seconds to prevent server comm errors\n",
    "    print('MODE RUN: Processing train file {}'.format(idx), end=\"\\r\", flush=True)\n",
    "    if test_mode[idx] == 0.0: # quasi-elastic\n",
    "        test_cvnmap_qe_xz.append(test_cvnmap_norm_resh_xz[idx])\n",
    "        test_cvnmap_qe_yz.append(test_cvnmap_norm_resh_yz[idx])\n",
    "        qe_true_vtxx.append(testtruevtxx[idx])\n",
    "        qe_reco_vtxx.append(testrecovtxx[idx])\n",
    "    elif test_mode[idx] == 1.0: # resonance state\n",
    "        test_cvnmap_res_xz.append(test_cvnmap_norm_resh_xz[idx])\n",
    "        test_cvnmap_res_yz.append(test_cvnmap_norm_resh_yz[idx])\n",
    "        res_true_vtxx.append(testtruevtxx[idx])\n",
    "        res_reco_vtxx.append(testrecovtxx[idx])\n",
    "    elif test_mode[idx] == 2.0: # deep inelastic\n",
    "        test_cvnmap_dis_xz.append(test_cvnmap_norm_resh_xz[idx])\n",
    "        test_cvnmap_dis_yz.append(test_cvnmap_norm_resh_yz[idx])\n",
    "        dis_true_vtxx.append(testtruevtxx[idx])\n",
    "        dis_reco_vtxx.append(testrecovtxx[idx])\n",
    "    idx+=1\n",
    "print('\\nJob complete.')"
   ]
  },
  {
   "cell_type": "code",
   "execution_count": 15,
   "metadata": {},
   "outputs": [
    {
     "name": "stdout",
     "output_type": "stream",
     "text": [
      "Processing 72710 test files. Splitting events by interactions current charge.\n",
      "CC/NC RUN: Processing train file 72709\n",
      "Job complete.\n"
     ]
    }
   ],
   "source": [
    "#############CC/NC###################################################\n",
    "test_cvnmap_cc_xz,test_cvnmap_cc_yz,test_cvnmap_nc_xz,test_cvnmap_nc_yz=([] for i in range(4))\n",
    "cc_true_vtxx,nc_true_vtxx,cc_reco_vtxx,nc_reco_vtxx=([] for i in range(4))\n",
    "x=idx=0\n",
    "print('Processing {} test files. Splitting events by interactions current charge.'.format((len(test_mode))))\n",
    "while idx < (len(test_mode)):\n",
    "    time.sleep(0.001) # hesitates for 0.001 seconds to prevent server comm errors\n",
    "    print('CC/NC RUN: Processing train file {}'.format(idx), end=\"\\r\", flush=True)\n",
    "    if test_iscc[idx] == 1.0: # cc\n",
    "        test_cvnmap_cc_xz.append(test_cvnmap_norm_resh_xz[idx])\n",
    "        test_cvnmap_cc_yz.append(test_cvnmap_norm_resh_yz[idx])\n",
    "        cc_true_vtxx.append(testtruevtxx[idx])\n",
    "        cc_reco_vtxx.append(testrecovtxx[idx])\n",
    "    elif test_iscc[idx] == 0.0: # nc\n",
    "        test_cvnmap_nc_xz.append(test_cvnmap_norm_resh_xz[idx])\n",
    "        test_cvnmap_nc_yz.append(test_cvnmap_norm_resh_yz[idx])\n",
    "        nc_true_vtxx.append(testtruevtxx[idx])\n",
    "        nc_reco_vtxx.append(testrecovtxx[idx])\n",
    "    idx+=1\n",
    "print('\\nJob complete.')"
   ]
  },
  {
   "cell_type": "code",
   "execution_count": 16,
   "metadata": {},
   "outputs": [
    {
     "name": "stdout",
     "output_type": "stream",
     "text": [
      "Processing 72721 train files. Splitting events by interaction mode.\n",
      "MODE RUN: Processing train file 72720\n",
      "Job complete.\n"
     ]
    }
   ],
   "source": [
    "# extract reco data sets from training\n",
    "qe_reco_vtxx,res_reco_vtxx,dis_reco_vtxx=([] for i in range(3))\n",
    "qe_reco_true_vtxx,res_reco_true_vtxx,dis_reco_true_vtxx=([] for i in range(3))\n",
    "x=idx=0\n",
    "print('Processing {} train files. Splitting events by interaction mode.'.format((len(train_mode))))\n",
    "#############MODE####################################################\n",
    "while idx < (len(train_mode)):\n",
    "    time.sleep(0.001) # hesitates for 0.001 seconds to prevent server comm errors\n",
    "    print('MODE RUN: Processing train file {}'.format(idx), end=\"\\r\", flush=True)\n",
    "    if train_mode[idx] == 0.0: # quasi-elastic\n",
    "        qe_reco_vtxx.append(recovtxx[idx])\n",
    "        qe_reco_true_vtxx.append(truevtxx[idx])\n",
    "    elif train_mode[idx] == 1.0: # resonance state\n",
    "        res_reco_vtxx.append(recovtxx[idx])\n",
    "        res_reco_true_vtxx.append(truevtxx[idx])\n",
    "    elif train_mode[idx] == 2.0: # deep inelastic\n",
    "        dis_reco_vtxx.append(recovtxx[idx])\n",
    "        dis_reco_true_vtxx.append(truevtxx[idx])\n",
    "    idx+=1\n",
    "print('\\nJob complete.')"
   ]
  },
  {
   "cell_type": "code",
   "execution_count": 17,
   "metadata": {},
   "outputs": [
    {
     "name": "stdout",
     "output_type": "stream",
     "text": [
      "Processing 72721 test files. Splitting events by interactions current charge.\n",
      "CC/NC RUN: Processing train file 72720\n",
      "Job complete.\n"
     ]
    }
   ],
   "source": [
    "#############CC/NC###################################################\n",
    "cc_reco_vtxx,nc_reco_vtxx,cc_reco_true_vtxx,nc_reco_true_vtxx=([] for i in range(4))\n",
    "x=idx=0\n",
    "print('Processing {} test files. Splitting events by interactions current charge.'.format((len(train_mode))))\n",
    "while idx < (len(train_mode)):\n",
    "    time.sleep(0.001) # hesitates for 0.001 seconds to prevent server comm errors\n",
    "    print('CC/NC RUN: Processing train file {}'.format(idx), end=\"\\r\", flush=True)\n",
    "    if train_iscc[idx] == 1.0: # cc\n",
    "        cc_reco_vtxx.append(recovtxx[idx])\n",
    "        cc_reco_true_vtxx.append(truevtxx[idx])\n",
    "    elif train_iscc[idx] == 0.0: # nc\n",
    "        nc_reco_vtxx.append(recovtxx[idx])\n",
    "        nc_reco_true_vtxx.append(truevtxx[idx])\n",
    "    idx+=1\n",
    "print('\\nJob complete.')"
   ]
  },
  {
   "cell_type": "markdown",
   "metadata": {},
   "source": [
    "###### Statistics of Interactions"
   ]
  },
  {
   "cell_type": "code",
   "execution_count": 18,
   "metadata": {},
   "outputs": [
    {
     "name": "stdout",
     "output_type": "stream",
     "text": [
      "Ratio: QES = 0.17861367074680237, RES = 0.44809517260349335, DIS = 0.28531151148397743\n",
      "Ratio: CC = 0.5218814468436254, NC = 0.47811855315637464\n"
     ]
    }
   ],
   "source": [
    "print('Ratio: QES = {}, RES = {}, DIS = {}'.format((sum(test_mode==0.0)/len(test_mode)),(sum(test_mode==1.0)/len(test_mode)),(sum(test_mode==2.0)/len(test_mode))))\n",
    "print('Ratio: CC = {}, NC = {}'.format((sum(test_iscc==1.0)/len(test_iscc)),((len(test_iscc)-sum(test_iscc==1.0))/len(test_iscc))))"
   ]
  },
  {
   "cell_type": "markdown",
   "metadata": {},
   "source": [
    "    The np array conversions below must be done independently to bypass kernel crash."
   ]
  },
  {
   "cell_type": "code",
   "execution_count": 19,
   "metadata": {},
   "outputs": [
    {
     "data": {
      "text/plain": [
       "['cmex10',\n",
       " 'STIXSizeFourSym',\n",
       " 'DejaVu Sans Mono',\n",
       " 'cmb10',\n",
       " 'STIXGeneral',\n",
       " 'DejaVu Sans Mono',\n",
       " 'cmsy10',\n",
       " 'STIXGeneral',\n",
       " 'DejaVu Serif',\n",
       " 'STIXSizeOneSym',\n",
       " 'STIXNonUnicode',\n",
       " 'DejaVu Sans Display',\n",
       " 'DejaVu Sans',\n",
       " 'STIXSizeTwoSym',\n",
       " 'STIXGeneral',\n",
       " 'DejaVu Sans',\n",
       " 'STIXSizeThreeSym',\n",
       " 'STIXNonUnicode',\n",
       " 'STIXSizeTwoSym',\n",
       " 'DejaVu Sans Mono',\n",
       " 'DejaVu Serif',\n",
       " 'cmtt10',\n",
       " 'STIXSizeFourSym',\n",
       " 'DejaVu Serif',\n",
       " 'STIXGeneral',\n",
       " 'STIXSizeOneSym',\n",
       " 'cmr10',\n",
       " 'STIXSizeFiveSym',\n",
       " 'DejaVu Sans Mono',\n",
       " 'STIXSizeThreeSym',\n",
       " 'DejaVu Sans',\n",
       " 'DejaVu Serif Display',\n",
       " 'cmss10',\n",
       " 'DejaVu Serif',\n",
       " 'DejaVu Sans',\n",
       " 'STIXNonUnicode',\n",
       " 'STIXNonUnicode',\n",
       " 'cmmi10',\n",
       " 'WenQuanYi Micro Hei',\n",
       " 'Liberation Mono',\n",
       " 'STIX MathJax Normal',\n",
       " 'MathJax_Size3',\n",
       " 'STIX MathJax Main',\n",
       " 'STIX MathJax Variants',\n",
       " 'Lohit Bengali',\n",
       " 'MathJax_Size2',\n",
       " 'Waree',\n",
       " 'Liberation Sans',\n",
       " 'Open Sans',\n",
       " 'Waree',\n",
       " 'DejaVu Sans',\n",
       " 'MathJax_Vector',\n",
       " 'PakType Naskh Basic',\n",
       " 'STIX MathJax Marks',\n",
       " 'STIX MathJax DoubleStruck',\n",
       " 'STIX MathJax Arrows',\n",
       " 'URW Gothic',\n",
       " 'URW Bookman',\n",
       " 'Khmer OS System',\n",
       " 'C059',\n",
       " 'DejaVu Serif',\n",
       " 'PT Sans Narrow',\n",
       " 'Lohit Marathi',\n",
       " 'DejaVu Serif',\n",
       " 'STIX MathJax Size4',\n",
       " 'STIX MathJax Latin',\n",
       " 'STIX MathJax SansSerif',\n",
       " 'Open Sans',\n",
       " 'Nuosu SIL',\n",
       " 'Overpass',\n",
       " 'MathJax_SansSerif',\n",
       " 'STIX MathJax Variants',\n",
       " 'STIX MathJax Misc',\n",
       " 'STIX MathJax Alphabets',\n",
       " 'STIX MathJax Operators',\n",
       " 'STIX MathJax SansSerif',\n",
       " 'Khmer OS',\n",
       " 'Liberation Mono',\n",
       " 'PT Sans',\n",
       " 'DejaVu Sans',\n",
       " 'STIX',\n",
       " 'Carlito',\n",
       " 'STIX MathJax Script',\n",
       " 'Nimbus Mono PS',\n",
       " 'URW Bookman',\n",
       " 'DejaVu Serif',\n",
       " 'Madan2',\n",
       " 'STIX MathJax Shapes',\n",
       " 'Lohit Assamese',\n",
       " 'Lohit Gujarati',\n",
       " 'PT Sans Narrow',\n",
       " 'STIX MathJax Main',\n",
       " 'STIX MathJax DoubleStruck',\n",
       " 'Carlito',\n",
       " 'Lohit Devanagari',\n",
       " 'STIX MathJax Script',\n",
       " 'PT Sans',\n",
       " 'STIX MathJax Marks',\n",
       " 'Nimbus Roman',\n",
       " 'WenQuanYi Zen Hei',\n",
       " 'VL Gothic',\n",
       " 'DejaVu Serif',\n",
       " 'Nimbus Sans',\n",
       " 'Open Sans',\n",
       " 'Overpass',\n",
       " 'STIX MathJax Alphabets',\n",
       " 'FreeSans',\n",
       " 'Lohit Kannada',\n",
       " 'Nimbus Roman',\n",
       " 'FreeSerif',\n",
       " 'Liberation Serif',\n",
       " 'MathJax_Main',\n",
       " 'Nimbus Mono PS',\n",
       " 'Lohit Telugu',\n",
       " 'STIX MathJax Alphabets',\n",
       " 'STIX MathJax Misc',\n",
       " 'MathJax_Main',\n",
       " 'DejaVu Sans Mono',\n",
       " 'Nimbus Mono PS',\n",
       " 'MathJax_AMS',\n",
       " 'Liberation Sans',\n",
       " 'STIX MathJax Latin',\n",
       " 'D050000L',\n",
       " 'STIX',\n",
       " 'STIX MathJax Script',\n",
       " 'STIX MathJax Shapes',\n",
       " 'Liberation Serif',\n",
       " 'Nimbus Sans Narrow',\n",
       " 'Meera',\n",
       " 'Padauk',\n",
       " 'DejaVu Serif',\n",
       " 'DejaVu Sans',\n",
       " 'NanumGothic',\n",
       " 'Noto Emoji',\n",
       " 'DejaVu Sans',\n",
       " 'Lohit Tamil',\n",
       " 'Overpass',\n",
       " 'MathJax_Size4',\n",
       " 'STIX MathJax Fraktur',\n",
       " 'Lohit Punjabi',\n",
       " 'Nimbus Sans Narrow',\n",
       " 'Liberation Sans',\n",
       " 'DejaVu Sans Mono',\n",
       " 'NanumGothic',\n",
       " 'Cantarell',\n",
       " 'Waree',\n",
       " 'P052',\n",
       " 'STIX MathJax Monospace',\n",
       " 'STIX MathJax Operators',\n",
       " 'STIX MathJax DoubleStruck',\n",
       " 'Cantarell',\n",
       " 'Caladea',\n",
       " 'MathJax_Vector-Bold',\n",
       " 'STIX MathJax Marks',\n",
       " 'Overpass',\n",
       " 'Caladea',\n",
       " 'MathJax_Fraktur',\n",
       " 'Nimbus Roman',\n",
       " 'P052',\n",
       " 'STIX MathJax Normal',\n",
       " 'Liberation Serif',\n",
       " 'STIX MathJax SansSerif',\n",
       " 'STIX MathJax Size2',\n",
       " 'P052',\n",
       " 'Lohit Oriya',\n",
       " 'Overpass',\n",
       " 'URW Bookman',\n",
       " 'STIX MathJax Alphabets',\n",
       " 'Open Sans',\n",
       " 'URW Gothic',\n",
       " 'MathJax_SansSerif',\n",
       " 'Nimbus Sans Narrow',\n",
       " 'FreeSerif',\n",
       " 'STIX MathJax Fraktur',\n",
       " 'STIX MathJax Main',\n",
       " 'URW Bookman',\n",
       " 'C059',\n",
       " 'MathJax_WinIE6',\n",
       " 'STIX MathJax Variants',\n",
       " 'STIX MathJax Shapes',\n",
       " 'Carlito',\n",
       " 'STIX MathJax DoubleStruck',\n",
       " 'Open Sans',\n",
       " 'Overpass',\n",
       " 'Caladea',\n",
       " 'Nimbus Mono PS',\n",
       " 'MathJax_Main',\n",
       " 'MathJax_SansSerif',\n",
       " 'Padauk',\n",
       " 'DejaVu Sans',\n",
       " 'PT Sans',\n",
       " 'Nimbus Sans',\n",
       " 'STIX MathJax Marks',\n",
       " 'Khmer OS Content',\n",
       " 'MathJax_Caligraphic',\n",
       " 'Open Sans',\n",
       " 'URW Gothic',\n",
       " 'FreeSans',\n",
       " 'Nimbus Sans',\n",
       " 'FreeSans',\n",
       " 'STIX MathJax Size3',\n",
       " 'Caladea',\n",
       " 'STIX MathJax Latin',\n",
       " 'PT Sans',\n",
       " 'Abyssinica SIL',\n",
       " 'Liberation Sans',\n",
       " 'STIX MathJax Variants',\n",
       " 'STIX MathJax SansSerif',\n",
       " 'MathJax_Fraktur',\n",
       " 'DejaVu Serif',\n",
       " 'AR PL UMing CN',\n",
       " 'Nimbus Sans',\n",
       " 'DejaVu Sans',\n",
       " 'MathJax_Math',\n",
       " 'Open Sans',\n",
       " 'FreeMono',\n",
       " 'Liberation Mono',\n",
       " 'STIX MathJax Main',\n",
       " 'C059',\n",
       " 'FreeMono',\n",
       " 'Overpass',\n",
       " 'Z003',\n",
       " 'Nimbus Roman',\n",
       " 'MathJax_Script',\n",
       " 'NanumGothic',\n",
       " 'DejaVu Sans Mono',\n",
       " 'Cantarell',\n",
       " 'STIX MathJax Symbols',\n",
       " 'STIX MathJax Size1',\n",
       " 'DejaVu Sans',\n",
       " 'Open Sans',\n",
       " 'STIX MathJax Size5',\n",
       " 'MathJax_Caligraphic',\n",
       " 'STIX',\n",
       " 'Jomolhari',\n",
       " 'STIX MathJax Arrows',\n",
       " 'MathJax_Math',\n",
       " 'LKLUG',\n",
       " 'STIX MathJax Misc',\n",
       " 'STIX MathJax Misc',\n",
       " 'C059',\n",
       " 'DejaVu Sans Mono',\n",
       " 'Liberation Serif',\n",
       " 'Liberation Mono',\n",
       " 'Lohit Malayalam',\n",
       " 'FreeSerif',\n",
       " 'Lohit Nepali',\n",
       " 'DejaVu Sans',\n",
       " 'FreeMono',\n",
       " 'FreeSerif',\n",
       " 'FreeMono',\n",
       " 'STIX MathJax Symbols',\n",
       " 'STIX',\n",
       " 'P052',\n",
       " 'Waree',\n",
       " 'STIX MathJax Latin',\n",
       " 'MathJax_Typewriter',\n",
       " 'FreeSans',\n",
       " 'Carlito',\n",
       " 'DejaVu Sans',\n",
       " 'URW Gothic',\n",
       " 'DejaVu Serif',\n",
       " 'MathJax_Size1',\n",
       " 'MathJax_WinChrome',\n",
       " 'Open Sans',\n",
       " 'Nimbus Sans Narrow',\n",
       " 'Cantarell',\n",
       " 'Overpass',\n",
       " 'Open Sans',\n",
       " 'DejaVu Serif',\n",
       " 'MathJax_Math',\n",
       " 'STIX MathJax Normal']"
      ]
     },
     "execution_count": 19,
     "metadata": {},
     "output_type": "execute_result"
    }
   ],
   "source": [
    "# plot aesthetics\n",
    "cmap_reversed = plt.cm.get_cmap('gist_heat_r')\n",
    "plt.rcParams[\"font.family\"] = \"Times New Roman\"\n",
    "font = {'family': 'Times New Roman',\n",
    "        'color':  'black',\n",
    "        'weight': 'normal',\n",
    "        'size': 20,\n",
    "        }\n",
    "import matplotlib.font_manager\n",
    "[f.name for f in matplotlib.font_manager.fontManager.ttflist]\n",
    "#[f.name for f in matplotlib.font_manager.fontManager.afmlist]"
   ]
  },
  {
   "cell_type": "code",
   "execution_count": 20,
   "metadata": {},
   "outputs": [],
   "source": [
    "def plot_event_with_vtx(event1,event2,idx=0):\n",
    "    pixelmap1=event1[idx]\n",
    "    pixelmap2=event2[idx]\n",
    "    fig, axes = plt.subplots(nrows=1, ncols=2, figsize=(21, 7))\n",
    "    # added [:-20] to end of pixelmap[X] to preview square images for CNN\n",
    "    sns.heatmap(pixelmap1[:-20],cmap=cmap_reversed,cbar=False,square=True,xticklabels=10,yticklabels=10,ax=axes[0])\n",
    "    sns.heatmap(pixelmap2[:-20],cmap=cmap_reversed,cbar=False,square=True,xticklabels=10,yticklabels=10,ax=axes[1])\n",
    "#    plt.imshow(pixelmap[1][:-20], cmap=cmap_reversed, interpolation='nearest')\n",
    "#    axes[0].scatter(x=vtxx,y=vtxz,c='yellow',marker='x',s=50)\n",
    "#    axes[1].scatter(x=vtxy,y=vtxz,c='yellow',marker='x',s=50)\n",
    "#    plt.suptitle(\"XZ & YZ Plot\", fontsize=30)\n",
    "#    print('UX Specified Fields\\nEvent Number:\\t{}'.format(idx))\n",
    "#    print('CVN Vertex Position (x,y,z) = ({},{},{})'.format(f'{vtxx:.3}',f'{vtxy:.3}',f'{vtxz:.3}'))\n",
    "    axes[0].set_xlabel(\"Cell\",fontdict=font)\n",
    "    axes[0].set_ylabel(\"Plane\", fontdict=font)\n",
    "    axes[0].set_title('XZ-View',fontdict=font)\n",
    "    axes[0].set_xlim(10,70)\n",
    "    axes[0].set_ylim(40,0)\n",
    "    axes[1].set_xlabel(\"Cell\",fontdict=font)\n",
    "    axes[1].set_ylabel(\"Plane\",fontdict=font)\n",
    "    axes[1].set_title('YZ-View',fontdict=font)\n",
    "    axes[1].set_xlim(10,70)\n",
    "    axes[1].set_ylim(40,0)\n",
    "    sns.despine(bottom = False, top=False, right=False, left = False)\n",
    "    plt.savefig('cvnpixelmapqe.pdf')\n",
    "    plt.tight_layout()\n",
    "    plt.show()"
   ]
  },
  {
   "cell_type": "code",
   "execution_count": 21,
   "metadata": {},
   "outputs": [
    {
     "name": "stderr",
     "output_type": "stream",
     "text": [
      "findfont: Font family ['Times New Roman'] not found. Falling back to DejaVu Sans.\n",
      "findfont: Font family ['Times New Roman'] not found. Falling back to DejaVu Sans.\n"
     ]
    },
    {
     "data": {
      "image/png": "[encoded data removed]",
      "text/plain": [
       "<Figure size 1512x504 with 2 Axes>"
      ]
     },
     "metadata": {
      "needs_background": "light"
     },
     "output_type": "display_data"
    }
   ],
   "source": [
    "plot_event_with_vtx(test_cvnmap_qe_xz,test_cvnmap_qe_yz,idx=5889)"
   ]
  },
  {
   "cell_type": "code",
   "execution_count": 22,
   "metadata": {},
   "outputs": [
    {
     "data": {
      "image/png": "[encoded data removed]",
      "text/plain": [
       "<Figure size 1512x504 with 2 Axes>"
      ]
     },
     "metadata": {
      "needs_background": "light"
     },
     "output_type": "display_data"
    }
   ],
   "source": [
    "plot_event_with_vtx(test_cvnmap_dis_xz,test_cvnmap_dis_yz,idx=1395)"
   ]
  },
  {
   "cell_type": "code",
   "execution_count": 23,
   "metadata": {},
   "outputs": [
    {
     "data": {
      "image/png": "[encoded data removed]",
      "text/plain": [
       "<Figure size 1512x504 with 2 Axes>"
      ]
     },
     "metadata": {
      "needs_background": "light"
     },
     "output_type": "display_data"
    }
   ],
   "source": [
    "plot_event_with_vtx(test_cvnmap_res_xz,test_cvnmap_res_yz,idx=1395)"
   ]
  },
  {
   "cell_type": "code",
   "execution_count": 24,
   "metadata": {},
   "outputs": [
    {
     "data": {
      "image/png": "[encoded data removed]",
      "text/plain": [
       "<Figure size 1512x504 with 2 Axes>"
      ]
     },
     "metadata": {
      "needs_background": "light"
     },
     "output_type": "display_data"
    },
    {
     "data": {
      "text/plain": [
       "<Figure size 432x288 with 0 Axes>"
      ]
     },
     "metadata": {},
     "output_type": "display_data"
    }
   ],
   "source": [
    "# verify events plot normally with callable function\n",
    "#plot_event_with_vtx(cvnmap_norm_resh,idx=2)\n",
    "plot_event_with_vtx(cvnmap_norm_resh_xz,cvnmap_norm_resh_yz,idx=2)\n",
    "plt.tight_layout()"
   ]
  },
  {
   "cell_type": "code",
   "execution_count": 25,
   "metadata": {},
   "outputs": [],
   "source": [
    "# mutli dimensional xz & yz views for each event. this is used for plotting events only\n",
    "cvnmap_norm_resh=np.array(cvnmap_norm_resh) "
   ]
  },
  {
   "cell_type": "code",
   "execution_count": 26,
   "metadata": {},
   "outputs": [],
   "source": [
    "cvnmap_norm_resh_xz=np.array(cvnmap_norm_resh_xz) # xz views only"
   ]
  },
  {
   "cell_type": "code",
   "execution_count": 27,
   "metadata": {},
   "outputs": [],
   "source": [
    "cvnmap_norm_resh_yz=np.array(cvnmap_norm_resh_yz) # yz views only"
   ]
  },
  {
   "cell_type": "code",
   "execution_count": 28,
   "metadata": {},
   "outputs": [],
   "source": [
    "test_cvnmap_qe_xz=np.array(test_cvnmap_qe_xz)\n",
    "test_cvnmap_qe_yz=np.array(test_cvnmap_qe_yz)"
   ]
  },
  {
   "cell_type": "code",
   "execution_count": 29,
   "metadata": {},
   "outputs": [],
   "source": [
    "test_cvnmap_res_xz=np.array(test_cvnmap_res_xz)\n",
    "test_cvnmap_res_yz=np.array(test_cvnmap_res_yz)"
   ]
  },
  {
   "cell_type": "code",
   "execution_count": 30,
   "metadata": {},
   "outputs": [],
   "source": [
    "test_cvnmap_dis_xz=np.array(test_cvnmap_dis_xz)\n",
    "test_cvnmap_dis_yz=np.array(test_cvnmap_dis_yz)"
   ]
  },
  {
   "cell_type": "code",
   "execution_count": 31,
   "metadata": {},
   "outputs": [],
   "source": [
    "test_cvnmap_cc_xz=np.array(test_cvnmap_cc_xz)\n",
    "test_cvnmap_cc_yz=np.array(test_cvnmap_cc_yz)"
   ]
  },
  {
   "cell_type": "code",
   "execution_count": 32,
   "metadata": {},
   "outputs": [],
   "source": [
    "test_cvnmap_nc_xz=np.array(test_cvnmap_nc_xz)\n",
    "test_cvnmap_nc_yz=np.array(test_cvnmap_nc_yz)"
   ]
  },
  {
   "cell_type": "code",
   "execution_count": 33,
   "metadata": {},
   "outputs": [],
   "source": [
    "test_cvnmap_norm_resh_xz=np.array(test_cvnmap_norm_resh_xz) # xz views only"
   ]
  },
  {
   "cell_type": "code",
   "execution_count": 34,
   "metadata": {},
   "outputs": [],
   "source": [
    "test_cvnmap_norm_resh_yz=np.array(test_cvnmap_norm_resh_yz) # yz views only"
   ]
  },
  {
   "cell_type": "code",
   "execution_count": 35,
   "metadata": {},
   "outputs": [],
   "source": [
    "def plot_event_with_vtx(event,idx=0):\n",
    "    pixelmap=event[idx]\n",
    "    fig, axes = plt.subplots(nrows=1, ncols=2, figsize=(21, 7))\n",
    "    # added [:-20] to end of pixelmap[X] to preview square images for CNN\n",
    "    sns.heatmap(pixelmap[0][:-20],cmap='coolwarm',cbar=False,square=True,xticklabels=10,yticklabels=10,ax=axes[0])\n",
    "    sns.heatmap(pixelmap[1][:-20],cmap='coolwarm',cbar=False,square=True,xticklabels=10,yticklabels=10,ax=axes[1])\n",
    "#    axes[0].scatter(x=vtxx,y=vtxz,c='yellow',marker='x',s=50)       # comment/uncomment to plot/unplot vertex point\n",
    "#    axes[1].scatter(x=vtxy,y=vtxz,c='yellow',marker='x',s=50)       # comment/uncomment to plot/unplot vertex point\n",
    "    plt.suptitle(\"XZ & YZ Plot\", fontsize=30)\n",
    "    print('UX Specified Fields\\nEvent Number:\\t{}'.format(idx))\n",
    "#    print('CVN Vertex Position (x,y,z) = ({},{},{})'.format(f'{vtxx:.3}',f'{vtxy:.3}',f'{vtxz:.3}'))\n",
    "    axes[0].set_xlabel(\"Cell\", fontsize=25)\n",
    "    axes[0].set_ylabel(\"Plane\", fontsize=25)\n",
    "    axes[1].set_xlabel(\"Cell\", fontsize=25)\n",
    "    axes[1].set_ylabel(\"Plane\", fontsize=25)\n",
    "#    plt.savefig('event.pdf')"
   ]
  },
  {
   "cell_type": "code",
   "execution_count": 36,
   "metadata": {
    "scrolled": false
   },
   "outputs": [
    {
     "name": "stderr",
     "output_type": "stream",
     "text": [
      "findfont: Font family ['Times New Roman'] not found. Falling back to DejaVu Sans.\n"
     ]
    },
    {
     "name": "stdout",
     "output_type": "stream",
     "text": [
      "UX Specified Fields\n",
      "Event Number:\t5\n"
     ]
    },
    {
     "name": "stderr",
     "output_type": "stream",
     "text": [
      "findfont: Font family ['Times New Roman'] not found. Falling back to DejaVu Sans.\n"
     ]
    },
    {
     "data": {
      "image/png": "[encoded data removed]",
      "text/plain": [
       "<Figure size 1512x504 with 2 Axes>"
      ]
     },
     "metadata": {
      "needs_background": "light"
     },
     "output_type": "display_data"
    }
   ],
   "source": [
    "# verify events plot normally with callable function\n",
    "plot_event_with_vtx(cvnmap_norm_resh,idx=5)"
   ]
  },
  {
   "cell_type": "markdown",
   "metadata": {},
   "source": [
    "### GPU Test"
   ]
  },
  {
   "cell_type": "code",
   "execution_count": null,
   "metadata": {},
   "outputs": [],
   "source": [
    "# see if GPU is recognized\n",
    "sess = tf.compat.v1.Session(config=tf.compat.v1.ConfigProto(log_device_placement=True))\n",
    "print(\"Num GPUs Available: \", len(tf.config.experimental.list_physical_devices('GPU')))\n",
    "print(tf.test.is_built_with_cuda())\n",
    "print(tf.test.is_gpu_available(cuda_only=False, min_cuda_compute_capability=None))\n",
    "print(sess)\n",
    "print(device_lib.list_local_devices())"
   ]
  },
  {
   "cell_type": "markdown",
   "metadata": {},
   "source": [
    "    +-----------------------------------------------------------------------------+\n",
    "    | NVIDIA-SMI 440.64.00    Driver Version: 440.64.00    CUDA Version: 10.2     |\n",
    "    |-------------------------------+----------------------+----------------------+\n",
    "    | GPU  Name        Persistence-M| Bus-Id        Disp.A | Volatile Uncorr. ECC |\n",
    "    | Fan  Temp  Perf  Pwr:Usage/Cap|         Memory-Usage | GPU-Util  Compute M. |\n",
    "    |===============================+======================+======================|\n",
    "    |   0  Tesla V100-PCIE...  Off  | 00000000:3B:00.0 Off |                    0 |\n",
    "    | N/A   33C    P0    34W / 250W |  15431MiB / 16160MiB |      0%      Default |\n",
    "    +-------------------------------+----------------------+----------------------+\n",
    "    |   1  Tesla V100-PCIE...  Off  | 00000000:D8:00.0 Off |                    0 |\n",
    "    | N/A   34C    P0    34W / 250W |      0MiB / 16160MiB |      5%      Default |\n",
    "    +-------------------------------+----------------------+----------------------+\n",
    "                                                                                   \n",
    "    +-----------------------------------------------------------------------------+\n",
    "    | Processes:                                                       GPU Memory |\n",
    "    |  GPU       PID   Type   Process name                             Usage      |\n",
    "    |=============================================================================|\n",
    "    |    0    152871      C   python3                                    15419MiB |\n",
    "    +-----------------------------------------------------------------------------+"
   ]
  },
  {
   "cell_type": "markdown",
   "metadata": {},
   "source": [
    "#### Prepare the Training & Test Sets"
   ]
  },
  {
   "cell_type": "code",
   "execution_count": null,
   "metadata": {},
   "outputs": [],
   "source": [
    "# XZ view. Trains on the x-coordinate\n",
    "X1_train, X1_test, y1_train, y1_test = train_test_split(cvnmap_norm_resh_xz, truevtxx, test_size=0.25, random_state=101)"
   ]
  },
  {
   "cell_type": "code",
   "execution_count": null,
   "metadata": {},
   "outputs": [],
   "source": [
    "# YZ view. Trains on the y-cooridnate\n",
    "X2_train, X2_test, y2_train, y2_test = train_test_split(cvnmap_norm_resh_yz, truevtxx, test_size=0.25, random_state=101)"
   ]
  },
  {
   "cell_type": "code",
   "execution_count": null,
   "metadata": {},
   "outputs": [],
   "source": [
    "# add one more dimension to let the CNN know we are dealing with one color dimension\n",
    "x1_train=X1_train.reshape(X1_train.shape[0],100,80,1)\n",
    "x1_test=X1_test.reshape(X1_test.shape[0],100,80,1)\n",
    "x2_train=X2_train.reshape(X2_train.shape[0],100,80,1)\n",
    "x2_test=X2_test.reshape(X2_test.shape[0],100,80,1)\n",
    "#batch_size,width,heigh,color_channels"
   ]
  },
  {
   "cell_type": "code",
   "execution_count": null,
   "metadata": {},
   "outputs": [],
   "source": [
    "# add one more dimension to let the CNN know we are dealing with one color dimension\n",
    "test_cvnmap_qe_xz=test_cvnmap_qe_xz.reshape(test_cvnmap_qe_xz.shape[0],100,80,1)\n",
    "test_cvnmap_qe_yz=test_cvnmap_qe_yz.reshape(test_cvnmap_qe_yz.shape[0],100,80,1)\n",
    "test_cvnmap_res_xz=test_cvnmap_res_xz.reshape(test_cvnmap_res_xz.shape[0],100,80,1)\n",
    "test_cvnmap_res_yz=test_cvnmap_res_yz.reshape(test_cvnmap_res_yz.shape[0],100,80,1)\n",
    "test_cvnmap_dis_xz=test_cvnmap_dis_xz.reshape(test_cvnmap_dis_xz.shape[0],100,80,1)\n",
    "test_cvnmap_dis_yz=test_cvnmap_dis_yz.reshape(test_cvnmap_dis_yz.shape[0],100,80,1)\n",
    "#batch_size,width,heigh,color_channels"
   ]
  },
  {
   "cell_type": "code",
   "execution_count": null,
   "metadata": {},
   "outputs": [],
   "source": [
    "# add one more dimension to let the CNN know we are dealing with one color dimension\n",
    "test_cvnmap_cc_xz=test_cvnmap_cc_xz.reshape(test_cvnmap_cc_xz.shape[0],100,80,1)\n",
    "test_cvnmap_cc_yz=test_cvnmap_cc_yz.reshape(test_cvnmap_cc_yz.shape[0],100,80,1)\n",
    "test_cvnmap_nc_xz=test_cvnmap_nc_xz.reshape(test_cvnmap_nc_xz.shape[0],100,80,1)\n",
    "test_cvnmap_nc_yz=test_cvnmap_nc_yz.reshape(test_cvnmap_nc_yz.shape[0],100,80,1)\n",
    "#batch_size,width,heigh,color_channels"
   ]
  },
  {
   "cell_type": "code",
   "execution_count": null,
   "metadata": {},
   "outputs": [],
   "source": [
    "# custom regression loss functions\n",
    "# huber loss\n",
    "def huber(true, pred, delta):\n",
    "    loss = np.where(np.abs(true-pred) < delta , 0.5*((true-pred)**2), delta*np.abs(true - pred) - 0.5*(delta**2))\n",
    "    return np.sum(loss)\n",
    "\n",
    "# log cosh loss\n",
    "def logcosh(true, pred):\n",
    "    loss = np.log(np.cosh(pred - true))\n",
    "    return np.sum(loss)"
   ]
  },
  {
   "cell_type": "markdown",
   "metadata": {},
   "source": [
    "### MultiView Fully Connected Layer Regression CNN Model"
   ]
  },
  {
   "cell_type": "code",
   "execution_count": null,
   "metadata": {
    "scrolled": true
   },
   "outputs": [],
   "source": [
    "# instantiate the models\n",
    "model_regCNN_xz = Sequential()\n",
    "model_regCNN_yz = Sequential()\n",
    "# add two fully connected 2-dimensional convolutional layers for the XZ and YZ views\n",
    "model_regCNN_xz.add(Conv2D(filters=32,kernel_size=(2,2),strides=(1,1),\n",
    "                  input_shape=(100,80,1),activation='relu'))\n",
    "model_regCNN_yz.add(Conv2D(filters=32,kernel_size=(2,2),strides=(1,1),\n",
    "                 input_shape=(100,80,1),activation='relu'))\n",
    "# specify 2-dimensional pooling\n",
    "model_regCNN_xz.add(MaxPool2D(pool_size=(2,2)))\n",
    "model_regCNN_yz.add(MaxPool2D(pool_size=(2,2)))\n",
    "# flatten the datasets\n",
    "model_regCNN_xz.add(Flatten())\n",
    "model_regCNN_yz.add(Flatten())\n",
    "# add dense layers for each view. 256 neurons per layer\n",
    "model_regCNN_xz.add(Dense(256,activation='relu'))\n",
    "model_regCNN_yz.add(Dense(256,activation='relu'))\n",
    "model_regCNN_xz.add(Dense(256,activation='relu'))\n",
    "model_regCNN_yz.add(Dense(256,activation='relu'))\n",
    "model_regCNN_xz.add(Dense(256,activation='relu'))\n",
    "model_regCNN_yz.add(Dense(256,activation='relu'))\n",
    "model_regCNN_xz.add(Dense(256,activation='relu'))\n",
    "model_regCNN_yz.add(Dense(256,activation='relu'))\n",
    "model_regCNN_xz.add(Dense(256,activation='relu'))\n",
    "model_regCNN_yz.add(Dense(256,activation='relu'))\n",
    "model_regCNN_xz.add(Dense(256,activation='relu'))\n",
    "model_regCNN_yz.add(Dense(256,activation='relu'))\n",
    "# no. of classes (output)\n",
    "n_classes=1\n",
    "# tf concatenate the models\n",
    "model_regCNN_concat = concatenate([model_regCNN_xz.output, model_regCNN_yz.output],axis=-1)\n",
    "model_regCNN_concat = Dense(n_classes)(model_regCNN_concat)\n",
    "model_regCNN = Model(inputs=[model_regCNN_xz.input, model_regCNN_yz.input], outputs=model_regCNN_concat)\n",
    "# compile the concatenated model\n",
    "model_regCNN.compile(loss='logcosh', optimizer='adam') # loss was 'mse' then 'mae'\n",
    "# print a summary of the model\n",
    "print(model_regCNN.summary())"
   ]
  },
  {
   "cell_type": "code",
   "execution_count": null,
   "metadata": {
    "scrolled": true
   },
   "outputs": [],
   "source": [
    "# x-coordinate system\n",
    "model_regCNN.fit(x=[x1_train,x2_train],y=y1_train,epochs=30)"
   ]
  },
  {
   "cell_type": "markdown",
   "metadata": {},
   "source": [
    "### Model Evaluation"
   ]
  },
  {
   "cell_type": "markdown",
   "metadata": {},
   "source": [
    "    Mean Square Error (MSE) is the most commonly used regression loss function. MSE is the sum of squared distances between our target variable and predicted values.\n",
    "    Mean Absolute Error (MAE) is the sum of absolute differences between our target and predicted variables.MAE loss is useful if the training data is corrupted with outliers (i.e. we erroneously receive unrealistically huge negative/positive values in our training environment, but not our testing environment). One big problem in using MAE loss (for neural nets especially) is that its gradient is the same throughout, which means the gradient will be large even for small loss values. This isn’t good for learning. To fix this, we can use dynamic learning rate which decreases as we move closer to the minima.\n",
    "    Huber loss is less sensitive to outliers in data than the squared error loss. It’s also differentiable at 0. It’s basically absolute error, which becomes quadratic when error is small. How small that error has to be to make it quadratic depends on a hyperparameter, 𝛿 (delta), which can be tuned. Huber loss approaches MSE when 𝛿 ~ 0 and MAE when 𝛿 ~ ∞ (large numbers.)\n",
    "    Log-cosh is the logarithm of the hyperbolic cosine of the prediction error. log(cosh(x)) is approximately equal to (x ** 2) / 2 for small x and to abs(x) - log(2) for large x. This means that 'logcosh' works mostly like the mean squared error, but will not be so strongly affected by the occasional wildly incorrect prediction. It has all the advantages of Huber loss, and it’s twice differentiable everywhere, unlike Huber loss."
   ]
  },
  {
   "cell_type": "code",
   "execution_count": null,
   "metadata": {},
   "outputs": [],
   "source": [
    "# model evaluation with logcosh 200 epoch\n",
    "metrics = pd.DataFrame(model_regCNN.history.history)\n",
    "plt.figure(figsize=(12,8))\n",
    "plt.plot(metrics[['loss']])\n",
    "plt.xlabel('Epoch')\n",
    "plt.ylabel('Loss')\n",
    "#plt.savefig('x-train-loss.pdf')\n",
    "plt.savefig('x-train-loss_2.png',dpi=600)\n",
    "plt.tight_layout()\n",
    "plt.show()"
   ]
  },
  {
   "cell_type": "markdown",
   "metadata": {},
   "source": [
    "#### Run Model Predictions"
   ]
  },
  {
   "cell_type": "code",
   "execution_count": null,
   "metadata": {},
   "outputs": [],
   "source": [
    "qe_predictions=model_regCNN.predict([test_cvnmap_qe_xz,test_cvnmap_qe_yz])\n",
    "res_predictions=model_regCNN.predict([test_cvnmap_res_xz,test_cvnmap_res_yz])\n",
    "dis_predictions=model_regCNN.predict([test_cvnmap_dis_xz,test_cvnmap_dis_yz])"
   ]
  },
  {
   "cell_type": "code",
   "execution_count": null,
   "metadata": {},
   "outputs": [],
   "source": [
    "cc_predictions=model_regCNN.predict([test_cvnmap_cc_xz,test_cvnmap_cc_yz])"
   ]
  },
  {
   "cell_type": "code",
   "execution_count": null,
   "metadata": {},
   "outputs": [],
   "source": [
    "nc_predictions=model_regCNN.predict([test_cvnmap_nc_xz,test_cvnmap_nc_yz])"
   ]
  },
  {
   "cell_type": "code",
   "execution_count": null,
   "metadata": {},
   "outputs": [],
   "source": [
    "##overall\n",
    "#full_pred_df=pd.DataFrame(testtruevtxx,columns=['Test True X']) \n",
    "#full_test_predictions=pd.Series(full_predictions.reshape(testtruevtxx.shape[0],))\n",
    "#full_test_predictions=pd.Series(testtruevtxx.shape[0],)\n",
    "#full_pred_df=pd.concat([full_pred_df,full_predictions,axis=1)\n",
    "#full_pred_df=pd.concat([full_pred_df,axis==1])\n",
    "#full_pred_df.columns=['Test True X','Model Predictions']"
   ]
  },
  {
   "cell_type": "code",
   "execution_count": null,
   "metadata": {},
   "outputs": [],
   "source": [
    "# test before sending to csv\n",
    "plt.figure(figsize=(8,8))\n",
    "plt.xlabel('True X Vertex (cm)')\n",
    "plt.ylabel('Model X Vertex (cm)')\n",
    "#sns.kdeplot(data=cc_pred_df,x='Test True X',y='Test Reco X',fill=True)\n",
    "sns.kdeplot(data=res_predictions,fill=True)\n",
    "plt.ylim(-300, 300)\n",
    "plt.xlim(-300, 300)\n",
    "plt.plot(y1_test,y1_test,'r',lw=0.5,ls='--')\n",
    "#plt.legend(handles=[blue_line])"
   ]
  },
  {
   "cell_type": "code",
   "execution_count": null,
   "metadata": {},
   "outputs": [],
   "source": [
    "# test before sending to csv\n",
    "x_diff=full_test_predictions-testtruevtxx\n",
    "plt.figure(figsize=(12,8))\n",
    "sns.displot(x_diff,color='k')\n",
    "plt.ylim(0, 3500)\n",
    "plt.xlim(-300, 300)\n",
    "plt.xlabel('Model Prediction - True (cm)')\n",
    "plt.ylabel('Count')"
   ]
  },
  {
   "cell_type": "code",
   "execution_count": null,
   "metadata": {},
   "outputs": [],
   "source": [
    "# test before sending to csv\n",
    "diff_reco=truevtxx-recovtxx\n",
    "plt.figure(figsize=(12,8))\n",
    "sns.displot(diff_reco,color='k')\n",
    "plt.ylim(0, 3500)\n",
    "plt.xlim(-300, 300)\n",
    "#plt.ylim(0, 250)\n",
    "#plt.xlim(-100, 100)\n",
    "plt.xlabel('Reco - True (cm)')\n",
    "plt.ylabel('Count')\n",
    "\n",
    "#calculating mean and stuff\n",
    "\n",
    "for n,i in enumerate(diff_reco):\n",
    "    if i < -50:\n",
    "        diff_reco[n]=0\n",
    "   \n",
    "\n",
    "averagex=np.mean(diff_reco)\n",
    "print(\"The mean is\" , averagex)\n",
    "\n",
    "\n",
    "#Calculating RMS\n",
    "rmsx=np.sqrt(np.mean(diff_reco**2))\n",
    "print(\"The RMS is \" , rmsx)\n",
    "areaofinterestx=3*rmsx-averagex\n",
    "print(\"The range of 3 sigma we are counting inside of is \", areaofinterestx)\n",
    "\n",
    "#total number of events\n",
    "totalevents=len(diff_reco)\n",
    "print(\"The total number of events is \" , totalevents)\n",
    "#Counting events within 3 sigma\n",
    "y=0\n",
    "for x in diff_reco:\n",
    "    if x < abs(areaofinterestx):\n",
    "        y=y+1\n",
    "    else:\n",
    "        continue\n",
    "print(\"The number of events inside this range is \", y)\n",
    "print(\"The number of events outside this range is\", totalevents-y)\n",
    "\n"
   ]
  },
  {
   "cell_type": "code",
   "execution_count": null,
   "metadata": {},
   "outputs": [],
   "source": [
    "import numpy as np\n",
    "from scipy.stats import norm\n",
    "import matplotlib.pyplot as plt\n",
    "\n",
    "#data = np.random.normal(loc=5.0, scale=2.0, size=1000)\n",
    "mean,std=norm.fit(diff_reco)\n",
    "\n",
    "plt.hist(diff_reco, bins=150, normed=True)\n",
    "xmin, xmax = plt.xlim()\n",
    "x = np.linspace(xmin, xmax, 100)\n",
    "y = norm.pdf(x, mean, std)\n",
    "plt.xlabel('Reco - True (cm)')\n",
    "plt.ylabel('Count')\n",
    "plt.plot(x, y)\n",
    "plt.show()\n",
    "\n",
    "#gauss_fit,cov = curve_fit( Gauss, x, y )\n",
    "print(\"gaussian fit params: The Mean is \", mean)\n",
    "print(\"The STD is \", std)\n"
   ]
  },
  {
   "cell_type": "code",
   "execution_count": null,
   "metadata": {},
   "outputs": [],
   "source": [
    "# True-Reco for the new reconstruction method (model predictions)\n",
    "\n",
    "\n",
    "# test before sending to csv\n",
    "diff_reco_new=testtruevtxx-testrecovtxx\n",
    "plt.figure(figsize=(12,8))\n",
    "sns.displot(diff_reco_new,color='k')\n",
    "#sns.displot(diff_reco)\n",
    "#plt.plot(x_values, y_values.pdf(x_values))\n",
    "plt.ylim(0, 3500)\n",
    "plt.xlim(-300, 300)\n",
    "#plt.ylim(0, 250)\n",
    "#plt.xlim(-100, 100)\n",
    "plt.xlabel('Reco - True (cm)')\n",
    "plt.ylabel('Count')\n",
    "\n",
    "\n",
    "\n",
    "\n",
    "\n",
    "#calculating mean and stuff\n",
    "averagex=np.mean(diff_reco_new)\n",
    "print(\"The mean is\" , averagex)\n",
    "\n",
    "#Calculating RMS\n",
    "rmsx=np.sqrt(np.mean(diff_reco_new**2))\n",
    "print(\"The RMS is \" , rmsx)\n",
    "areaofinterestx=3*rmsx-averagex\n",
    "print(\"The range of 3 sigma we are counting inside of is \", areaofinterestx)\n",
    "\n",
    "#total number of events\n",
    "totalevents=len(diff_reco_new)\n",
    "print(\"The total number of events is \" , totalevents)\n",
    "#Counting events within 3 sigma\n",
    "y=0\n",
    "for x in diff_reco_new:\n",
    "    if x < abs(areaofinterestx):\n",
    "        y=y+1\n",
    "    else:\n",
    "        continue\n",
    "print(\"The number events inside this range is \", y)\n",
    "print(\"The number of events outside this range is\", totalevents-y)\n",
    "\n",
    "\n"
   ]
  },
  {
   "cell_type": "code",
   "execution_count": null,
   "metadata": {},
   "outputs": [],
   "source": [
    "import numpy as np\n",
    "from scipy.stats import norm\n",
    "import matplotlib.pyplot as plt\n",
    "\n",
    "#data = np.random.normal(loc=5.0, scale=2.0, size=1000)\n",
    "mean,std=norm.fit(diff_reco_new)\n",
    "\n",
    "plt.hist(diff_reco_new, bins=150, normed=True)\n",
    "xmin, xmax = plt.xlim()\n",
    "x = np.linspace(xmin, xmax, 100)\n",
    "y = norm.pdf(x, mean, std)\n",
    "plt.xlabel('Reco - True (cm)')\n",
    "plt.ylabel('Count')\n",
    "plt.plot(x, y)\n",
    "plt.show()\n",
    "\n",
    "#gauss_fit,cov = curve_fit( Gauss, x, y )\n",
    "print(\"gaussian fit params: The Mean is \", mean)\n",
    "print(\"The STD is \", std)"
   ]
  },
  {
   "cell_type": "code",
   "execution_count": null,
   "metadata": {},
   "outputs": [],
   "source": [
    "import numpy\n",
    "h = numpy.histogram(diff_reco)\n",
    "sns.displot(diff_reco)\n",
    "sns.displot(h)"
   ]
  },
  {
   "cell_type": "code",
   "execution_count": null,
   "metadata": {},
   "outputs": [],
   "source": [
    "energyspread = numpy.histogram(energy)\n",
    "sns.displot(energy)\n",
    "sns.displot(energyspread)"
   ]
  },
  {
   "cell_type": "markdown",
   "metadata": {},
   "source": [
    "#### Save Model Predictions, True Data, and Reco Data for Plotting"
   ]
  },
  {
   "cell_type": "code",
   "execution_count": null,
   "metadata": {},
   "outputs": [],
   "source": [
    "# qe interactions\n",
    "qe_pred_df=pd.DataFrame(qe_true_vtxx,columns=['Test True X'])\n",
    "qe_reco_df=pd.DataFrame(qe_reco_vtxx,columns=['Test Reco X'])\n",
    "qe_predictions=pd.Series(qe_predictions.reshape(len(qe_true_vtxx),))\n",
    "qe_pred_df=pd.concat([qe_pred_df,qe_predictions],axis=1)\n",
    "qe_pred_df=pd.concat([qe_pred_df,qe_reco_df],axis=1)\n",
    "qe_pred_df.columns=['Test True X','Model Predictions','Test Reco X']\n",
    "np.savetxt(\"x_model_predictions_qe.csv\", qe_pred_df, delimiter=\",\")"
   ]
  },
  {
   "cell_type": "code",
   "execution_count": null,
   "metadata": {},
   "outputs": [],
   "source": [
    "# res interactions\n",
    "res_pred_df=pd.DataFrame(res_true_vtxx,columns=['Test True X'])\n",
    "res_reco_df=pd.DataFrame(res_reco_vtxx,columns=['Test Reco X'])\n",
    "res_predictions=pd.Series(res_predictions.reshape(len(res_true_vtxx),))\n",
    "res_pred_df=pd.concat([res_pred_df,res_predictions],axis=1)\n",
    "res_pred_df=pd.concat([res_pred_df,res_reco_df],axis=1)\n",
    "res_pred_df.columns=['Test True X','Model Predictions','Test Reco X']\n",
    "np.savetxt(\"x_model_predictions_res.csv\", res_pred_df, delimiter=\",\")"
   ]
  },
  {
   "cell_type": "code",
   "execution_count": null,
   "metadata": {},
   "outputs": [],
   "source": [
    "# dis interactions\n",
    "dis_pred_df=pd.DataFrame(dis_true_vtxx,columns=['Test True X'])\n",
    "dis_reco_df=pd.DataFrame(dis_reco_vtxx,columns=['Test Reco X'])\n",
    "dis_predictions=pd.Series(dis_predictions.reshape(len(dis_true_vtxx),))\n",
    "dis_pred_df=pd.concat([dis_pred_df,dis_predictions],axis=1)\n",
    "dis_pred_df=pd.concat([dis_pred_df,dis_reco_df],axis=1)\n",
    "dis_pred_df.columns=['Test True X','Model Predictions','Test Reco X']\n",
    "np.savetxt(\"x_model_predictions_dis.csv\", dis_pred_df, delimiter=\",\")"
   ]
  },
  {
   "cell_type": "code",
   "execution_count": null,
   "metadata": {},
   "outputs": [],
   "source": [
    "# cc interactions\n",
    "cc_pred_df=pd.DataFrame(cc_true_vtxx,columns=['Test True X'])\n",
    "cc_reco_df=pd.DataFrame(cc_reco_vtxx,columns=['Test Reco X'])\n",
    "cc_predictions=pd.Series(cc_predictions.reshape(len(cc_true_vtxx),))\n",
    "cc_pred_df=pd.concat([cc_pred_df,cc_predictions],axis=1)\n",
    "cc_pred_df=pd.concat([cc_pred_df,cc_reco_df],axis=1)\n",
    "cc_pred_df.columns=['Test True X','Model Predictions','Test Reco X']\n",
    "np.savetxt(\"x_model_predictions_cc.csv\", cc_pred_df, delimiter=\",\")"
   ]
  },
  {
   "cell_type": "code",
   "execution_count": null,
   "metadata": {},
   "outputs": [],
   "source": [
    "# nc interactions\n",
    "nc_pred_df=pd.DataFrame(nc_true_vtxx,columns=['Test True X'])\n",
    "nc_reco_df=pd.DataFrame(nc_reco_vtxx,columns=['Test Reco X'])\n",
    "nc_predictions=pd.Series(nc_predictions.reshape(len(nc_true_vtxx),))\n",
    "nc_pred_df=pd.concat([nc_pred_df,nc_predictions],axis=1)\n",
    "nc_pred_df=pd.concat([nc_pred_df,nc_reco_df],axis=1)\n",
    "nc_pred_df.columns=['Test True X','Model Predictions','Test Reco X']\n",
    "np.savetxt(\"x_model_predictions_nc.csv\", nc_pred_df, delimiter=\",\")"
   ]
  },
  {
   "cell_type": "code",
   "execution_count": null,
   "metadata": {},
   "outputs": [],
   "source": [
    "qe_reco_true_vtxx=pd.DataFrame(qe_reco_true_vtxx)\n",
    "qe_reco_vtxx=pd.DataFrame(qe_reco_vtxx)\n",
    "res_reco_true_vtxx=pd.DataFrame(res_reco_true_vtxx)\n",
    "res_reco_vtxx=pd.DataFrame(res_reco_vtxx)\n",
    "dis_reco_true_vtxx=pd.DataFrame(dis_reco_true_vtxx)\n",
    "dis_reco_vtxx=pd.DataFrame(dis_reco_vtxx)\n",
    "cc_reco_true_vtxx=pd.DataFrame(cc_reco_true_vtxx)\n",
    "cc_reco_vtxx=pd.DataFrame(cc_reco_vtxx)\n",
    "nc_reco_true_vtxx=pd.DataFrame(nc_reco_true_vtxx)\n",
    "nc_reco_vtxx=pd.DataFrame(nc_reco_vtxx)"
   ]
  },
  {
   "cell_type": "code",
   "execution_count": null,
   "metadata": {},
   "outputs": [],
   "source": [
    "#qe_reco_vtxx=[]\n",
    "#dis_reco_vtxx=[]\n",
    "#res_reco_vtxx=[]\n",
    "#cc_reco_vtxx=[]\n",
    "#nc_reco_vtxx=[]"
   ]
  },
  {
   "cell_type": "code",
   "execution_count": null,
   "metadata": {},
   "outputs": [],
   "source": [
    "qe_reco_vtxx=pd.concat([qe_reco_vtxx,qe_reco_true_vtxx],axis=1)\n",
    "dis_reco_vtxx=pd.concat([dis_reco_vtxx,dis_reco_true_vtxx],axis=1)\n",
    "res_reco_vtxx=pd.concat([res_reco_vtxx,res_reco_true_vtxx],axis=1)\n",
    "cc_reco_vtxx=pd.concat([cc_reco_vtxx,cc_reco_true_vtxx],axis=1)\n",
    "nc_reco_vtxx=pd.concat([nc_reco_vtxx,nc_reco_true_vtxx],axis=1)"
   ]
  },
  {
   "cell_type": "code",
   "execution_count": null,
   "metadata": {},
   "outputs": [],
   "source": [
    "cc_pred_df.head()"
   ]
  },
  {
   "cell_type": "code",
   "execution_count": null,
   "metadata": {},
   "outputs": [],
   "source": [
    "np.savetxt(\"x_reco_qe.csv\", qe_reco_vtxx, delimiter=\",\")\n",
    "np.savetxt(\"x_reco_res.csv\", dis_reco_vtxx, delimiter=\",\")\n",
    "np.savetxt(\"x_reco_dis.csv\", res_reco_vtxx, delimiter=\",\")\n",
    "np.savetxt(\"x_reco_cc.csv\", cc_reco_vtxx, delimiter=\",\")\n",
    "np.savetxt(\"x_reco_nc.csv\", nc_reco_vtxx, delimiter=\",\")"
   ]
  },
  {
   "cell_type": "code",
   "execution_count": null,
   "metadata": {},
   "outputs": [],
   "source": [
    "qe_pred_df.head()"
   ]
  },
  {
   "cell_type": "code",
   "execution_count": null,
   "metadata": {},
   "outputs": [],
   "source": [
    "dis_pred_df.head()"
   ]
  },
  {
   "cell_type": "code",
   "execution_count": null,
   "metadata": {},
   "outputs": [],
   "source": [
    "res_pred_df.head()"
   ]
  },
  {
   "cell_type": "code",
   "execution_count": null,
   "metadata": {},
   "outputs": [],
   "source": [
    "full_pred_df.head()"
   ]
  },
  {
   "cell_type": "code",
   "execution_count": null,
   "metadata": {},
   "outputs": [],
   "source": []
  }
 ],
 "metadata": {
  "kernelspec": {
   "display_name": "Python 3 (ipykernel)",
   "language": "python",
   "name": "python3"
  },
  "language_info": {
   "codemirror_mode": {
    "name": "ipython",
    "version": 3
   },
   "file_extension": ".py",
   "mimetype": "text/x-python",
   "name": "python",
   "nbconvert_exporter": "python",
   "pygments_lexer": "ipython3",
   "version": "3.7.4"
  }
 },
 "nbformat": 4,
 "nbformat_minor": 4
}
