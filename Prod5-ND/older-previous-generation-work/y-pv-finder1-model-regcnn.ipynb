{
 "cells": [
  {
   "cell_type": "markdown",
   "metadata": {},
   "source": [
    "# KDE & ML Based NuMu Event Reconstruction"
   ]  {
   "cell_type": "markdown",
   "metadata": {},
   "source": [
    "### Import Classes & Modules"
   ]
  },
  {
   "cell_type": "markdown",
   "metadata": {},
   "source": [
    "    Ensure all required python classes are installed prior to progress."
   ]
  },
  {
   "cell_type": "code",
   "execution_count": 1,
   "metadata": {},
   "outputs": [
    {
     "name": "stderr",
     "output_type": "stream",
     "text": [
      "--------------------------------------------------------------------------\n",
      "WARNING: There is at least non-excluded one OpenFabrics device found,\n",
      "but there are no active ports detected (or Open MPI was unable to use\n",
      "them).  This is most certainly not what you wanted.  Check your\n",
      "cables, subnet manager configuration, etc.  The openib BTL will be\n",
      "ignored for this job.\n",
      "\n",
      "  Local host: compute201901\n",
      "--------------------------------------------------------------------------\n",
      "2022-08-04 11:33:40.925580: I tensorflow/stream_executor/platform/default/dso_loader.cc:48] Successfully opened dynamic library libcudart.so.10.1\n"
     ]
    }
   ],
   "source": [
    "import os\n",
    "import sys\n",
    "import time\n",
    "import math\n",
    "import warnings\n",
    "import struct\n",
    "import binascii\n",
    "import pandas as pd\n",
    "import numpy as np\n",
    "import pickle\n",
    "import h5py\n",
    "import tensorflow as tf\n",
    "import scipy.stats as stats\n",
    "import matplotlib.pyplot as plt\n",
    "import seaborn as sns\n",
    "import networkx as nx\n",
    "%matplotlib inline"
   ]
  },
  {
   "cell_type": "code",
   "execution_count": 2,
   "metadata": {},
   "outputs": [],
   "source": [
    "from datetime import datetime\n",
    "from sklearn import preprocessing\n",
    "from tqdm import tqdm,tqdm_notebook\n",
    "from IPython.display import display, clear_output\n",
    "from matplotlib.image import imread # read images\n",
    "from sklearn.model_selection import train_test_split\n",
    "from sklearn.neighbors import KernelDensity\n",
    "from scipy.signal import find_peaks\n",
    "from numpy.polynomial.polynomial import polyfit\n",
    "from tensorflow.keras.preprocessing.image import ImageDataGenerator\n",
    "from tensorflow.keras.models import Model,Sequential\n",
    "from tensorflow.keras.layers import Dense,Conv2D,MaxPool2D,Flatten,Activation,concatenate\n",
    "from tensorflow.keras.optimizers import Adam #optimizer\n",
    "from tensorflow.keras.callbacks import EarlyStopping,TensorBoard\n",
    "from tensorflow.python.client import device_lib\n",
    "from sklearn.preprocessing import MinMaxScaler # normalize and scale data\n",
    "from sklearn.metrics import mean_squared_error,mean_absolute_error,explained_variance_score,r2_score"
   ]
  },
  {
   "cell_type": "markdown",
   "metadata": {},
   "source": [
    "### Data Handling"
   ]
  },
  {
   "cell_type": "code",
   "execution_count": 3,
   "metadata": {},
   "outputs": [
    {
     "name": "stdout",
     "output_type": "stream",
     "text": [
      "Training files path: \t/home/m962g264/research_repo/data-preprocess/MC_Nominal_FHC_train_abdul/\n",
      "Validation files path: \t/home/m962g264/research_repo/data-preprocess/MC_Nominal_FHC_testdata_abdul/\n"
     ]
    }
   ],
   "source": [
    "# create directory paths for train & test data sets\n",
    "data_dir='/home/m962g264/research_repo/data-preprocess'\n",
    "train_path=data_dir+'/MC_Nominal_FHC_train_abdul/'\n",
    "test_path=data_dir+'/MC_Nominal_FHC_testdata_abdul/'\n",
    "print('Training files path: \\t{}'.format(train_path))\n",
    "print('Validation files path: \\t{}'.format(test_path))"
   ]
  },
  {
   "cell_type": "code",
   "execution_count": 4,
   "metadata": {},
   "outputs": [
    {
     "name": "stdout",
     "output_type": "stream",
     "text": [
      "Number of training files:\t2001\n",
      "Number of validation files:\t2001\n",
      "Number of training events:\t227658\n",
      "Number of validation events:\t180252\n"
     ]
    }
   ],
   "source": [
    "#must import ospath for our adjustment for the fhc set\n",
    "import os.path\n",
    "train_files = list(set(n for n in os.listdir(train_path) if n.endswith(\".h5\")))\n",
    "test_files = list(set(n for n in os.listdir(test_path) if n.endswith(\".h5\")))\n",
    "# train & test size\n",
    "train_idx=0\n",
    "test_idx=0\n",
    "for h5_filename in os.listdir(train_path):\n",
    "    #Adding these two lines to avoid errors because there are extra directories in the FHC set for some reason\n",
    "    if os.path.isdir(h5_filename)==True:\n",
    "        continue\n",
    "    \n",
    "    train_idx=train_idx+len((h5py.File(train_path+h5_filename,'r')['run'][:]))\n",
    "for h5_filename in os.listdir(test_path):\n",
    "    test_idx=test_idx+len((h5py.File(test_path+h5_filename,'r')['run'][:]))\n",
    "\n",
    "# training events are broad scoped while validation events are quality cut ND contained. further train/test splitting is done later.\n",
    "print('Number of training files:\\t{}\\nNumber of validation files:\\t{}'.format(len(os.listdir(train_path)), len(os.listdir(test_path))))\n",
    "print('Number of training events:\\t{}\\nNumber of validation events:\\t{}'.format((train_idx), (test_idx)))"
   ]
  },
  {
   "cell_type": "code",
   "execution_count": 5,
   "metadata": {},
   "outputs": [
    {
     "name": "stdout",
     "output_type": "stream",
     "text": [
      "['E', 'Mode', 'PDG', 'TrueRecoVtxX', 'TrueRecoVtxY', 'TrueRecoVtxZ', 'cvnmap', 'cycle', 'event', 'firstplane', 'isCC', 'lastcellx', 'lastcelly', 'run', 'slice', 'subrun']\n",
      "['E', 'Mode', 'PDG', 'TrueRecoVtxX', 'TrueRecoVtxY', 'TrueRecoVtxZ', 'cvnmap', 'cycle', 'event', 'firstplane', 'isCC', 'lastcellx', 'lastcelly', 'run', 'slice', 'subrun']\n"
     ]
    }
   ],
   "source": [
    "# test interaction is canoncial for training files\n",
    "df=h5py.File(train_path+os.listdir(train_path)[0],'r')\n",
    "print(list(df.keys()))\n",
    "\n",
    "f=h5py.File(test_path+os.listdir(test_path)[0],'r')\n",
    "print(list(f.keys()))"
   ]
  },
  {
   "cell_type": "code",
   "execution_count": 3,
   "metadata": {},
   "outputs": [
    {
     "ename": "NameError",
     "evalue": "name 'os' is not defined",
     "output_type": "error",
     "traceback": [
      "\u001b[0;31m---------------------------------------------------------------------------\u001b[0m",
      "\u001b[0;31mNameError\u001b[0m                                 Traceback (most recent call last)",
      "\u001b[0;32m/tmp/ipykernel_32044/3446504300.py\u001b[0m in \u001b[0;36m<module>\u001b[0;34m\u001b[0m\n\u001b[1;32m      2\u001b[0m \u001b[0midx\u001b[0m\u001b[0;34m=\u001b[0m\u001b[0;36m0\u001b[0m\u001b[0;34m\u001b[0m\u001b[0;34m\u001b[0m\u001b[0m\n\u001b[1;32m      3\u001b[0m \u001b[0menergy\u001b[0m\u001b[0;34m,\u001b[0m\u001b[0mpdg\u001b[0m\u001b[0;34m,\u001b[0m\u001b[0mcvnmap\u001b[0m\u001b[0;34m,\u001b[0m\u001b[0mtest_cvnmap\u001b[0m\u001b[0;34m,\u001b[0m\u001b[0mtruerecovtxx\u001b[0m\u001b[0;34m,\u001b[0m\u001b[0mtruerecovtxy\u001b[0m\u001b[0;34m,\u001b[0m\u001b[0mtruerecovtxz\u001b[0m\u001b[0;34m,\u001b[0m\u001b[0mtest_mode\u001b[0m\u001b[0;34m,\u001b[0m\u001b[0mtest_iscc\u001b[0m\u001b[0;34m,\u001b[0m\u001b[0mtesttruerecovtxx\u001b[0m\u001b[0;34m,\u001b[0m\u001b[0mtesttruerecovtxy\u001b[0m\u001b[0;34m,\u001b[0m\u001b[0mtesttruerecovtxz\u001b[0m\u001b[0;34m=\u001b[0m\u001b[0;34m(\u001b[0m\u001b[0;34m[\u001b[0m\u001b[0;34m]\u001b[0m \u001b[0;32mfor\u001b[0m \u001b[0mi\u001b[0m \u001b[0;32min\u001b[0m \u001b[0mrange\u001b[0m\u001b[0;34m(\u001b[0m\u001b[0;36m12\u001b[0m\u001b[0;34m)\u001b[0m\u001b[0;34m)\u001b[0m\u001b[0;34m\u001b[0m\u001b[0;34m\u001b[0m\u001b[0m\n\u001b[0;32m----> 4\u001b[0;31m \u001b[0;32mfor\u001b[0m \u001b[0mh5_filename\u001b[0m \u001b[0;32min\u001b[0m \u001b[0mos\u001b[0m\u001b[0;34m.\u001b[0m\u001b[0mlistdir\u001b[0m\u001b[0;34m(\u001b[0m\u001b[0mtrain_path\u001b[0m\u001b[0;34m)\u001b[0m\u001b[0;34m:\u001b[0m\u001b[0;34m\u001b[0m\u001b[0;34m\u001b[0m\u001b[0m\n\u001b[0m\u001b[1;32m      5\u001b[0m     \u001b[0;31m#Adding an adjustment for the extra directories\u001b[0m\u001b[0;34m\u001b[0m\u001b[0;34m\u001b[0m\u001b[0;34m\u001b[0m\u001b[0m\n\u001b[1;32m      6\u001b[0m     \u001b[0;32mif\u001b[0m \u001b[0mos\u001b[0m\u001b[0;34m.\u001b[0m\u001b[0mpath\u001b[0m\u001b[0;34m.\u001b[0m\u001b[0misdir\u001b[0m\u001b[0;34m(\u001b[0m\u001b[0mh5_filename\u001b[0m\u001b[0;34m)\u001b[0m\u001b[0;34m==\u001b[0m\u001b[0;32mTrue\u001b[0m\u001b[0;34m:\u001b[0m\u001b[0;34m\u001b[0m\u001b[0;34m\u001b[0m\u001b[0m\n",
      "\u001b[0;31mNameError\u001b[0m: name 'os' is not defined"
     ]
    }
   ],
   "source": [
    "# read all the h5 files\n",
    "idx=0\n",
    "energy,pdg,cvnmap,test_cvnmap,truerecovtxx,truerecovtxy,truerecovtxz,test_mode,test_iscc,testtruerecovtxx,testtruerecovtxy,testtruerecovtxz=([] for i in range(12))\n",
    "for h5_filename in os.listdir(train_path):\n",
    "    #Adding an adjustment for the extra directories\n",
    "    if os.path.isdir(h5_filename)==True:\n",
    "        continue\n",
    "    print('Processing... {} of {}'.format(idx,len(os.listdir(train_path))), end=\"\\r\", flush=True)\n",
    "    energy=np.append(energy, h5py.File(train_path+h5_filename,'r')['E'][:],axis=0)\n",
    "    pdg=np.append(pdg,h5py.File(train_path+h5_filename,'r')['PDG'][:],axis=0)\n",
    "    cvnmap.append(h5py.File(train_path+h5_filename,'r')['cvnmap'][:])\n",
    "    truerecovtxy.append(h5py.File(train_path+h5_filename,'r')['TrueRecoVtxY'][:])\n",
    "    test_cvnmap.append(h5py.File(test_path+h5_filename,'r')['cvnmap'][:])\n",
    "    train_mode=np.append(test_mode,h5py.File(train_path+h5_filename,'r')['Mode'][:],axis=0)\n",
    "    train_iscc=np.append(test_iscc,h5py.File(train_path+h5_filename,'r')['isCC'][:],axis=0)\n",
    "    test_mode=np.append(test_mode,h5py.File(test_path+h5_filename,'r')['Mode'][:],axis=0)\n",
    "    test_iscc=np.append(test_iscc,h5py.File(test_path+h5_filename,'r')['isCC'][:],axis=0)\n",
    "    testtruerecovtxy.append(h5py.File(test_path+h5_filename,'r')['TrueRecoVtxY'][:])\n",
    "    idx+=1\n",
    "\n",
    "# convert to np array\n",
    "truerecovtxx=np.array(truerecovtxy)\n",
    "testtruerecovtxx=np.array(testtruerecovtxy)\n",
    "print('Test & Validation files read successful') "
   ]
  },
  {
   "cell_type": "code",
   "execution_count": 2,
   "metadata": {},
   "outputs": [
    {
     "ename": "NameError",
     "evalue": "name 'os' is not defined",
     "output_type": "error",
     "traceback": [
      "\u001b[0;31m---------------------------------------------------------------------------\u001b[0m",
      "\u001b[0;31mNameError\u001b[0m                                 Traceback (most recent call last)",
      "\u001b[0;32m/tmp/ipykernel_32044/1669223836.py\u001b[0m in \u001b[0;36m<module>\u001b[0;34m\u001b[0m\n\u001b[1;32m      3\u001b[0m \u001b[0midx\u001b[0m\u001b[0;34m=\u001b[0m\u001b[0mfile\u001b[0m\u001b[0;34m=\u001b[0m\u001b[0;36m0\u001b[0m\u001b[0;34m\u001b[0m\u001b[0;34m\u001b[0m\u001b[0m\n\u001b[1;32m      4\u001b[0m \u001b[0mcvnmap_norm\u001b[0m\u001b[0;34m,\u001b[0m\u001b[0mtest_cvnmap_norm\u001b[0m\u001b[0;34m=\u001b[0m\u001b[0;34m(\u001b[0m\u001b[0;34m[\u001b[0m\u001b[0;34m]\u001b[0m \u001b[0;32mfor\u001b[0m \u001b[0mi\u001b[0m \u001b[0;32min\u001b[0m \u001b[0mrange\u001b[0m\u001b[0;34m(\u001b[0m\u001b[0;36m2\u001b[0m\u001b[0;34m)\u001b[0m\u001b[0;34m)\u001b[0m\u001b[0;34m\u001b[0m\u001b[0;34m\u001b[0m\u001b[0m\n\u001b[0;32m----> 5\u001b[0;31m \u001b[0;32mwhile\u001b[0m \u001b[0midx\u001b[0m \u001b[0;34m<\u001b[0m \u001b[0;34m(\u001b[0m\u001b[0mlen\u001b[0m\u001b[0;34m(\u001b[0m\u001b[0mos\u001b[0m\u001b[0;34m.\u001b[0m\u001b[0mlistdir\u001b[0m\u001b[0;34m(\u001b[0m\u001b[0mtrain_path\u001b[0m\u001b[0;34m)\u001b[0m\u001b[0;34m)\u001b[0m\u001b[0;34m)\u001b[0m\u001b[0;34m:\u001b[0m\u001b[0;34m\u001b[0m\u001b[0;34m\u001b[0m\u001b[0m\n\u001b[0m\u001b[1;32m      6\u001b[0m         \u001b[0;31m#seeing if we can fix the index problem\u001b[0m\u001b[0;34m\u001b[0m\u001b[0;34m\u001b[0m\u001b[0;34m\u001b[0m\u001b[0m\n\u001b[1;32m      7\u001b[0m     \u001b[0;31m#if idx==2001:\u001b[0m\u001b[0;34m\u001b[0m\u001b[0;34m\u001b[0m\u001b[0;34m\u001b[0m\u001b[0m\n",
      "\u001b[0;31mNameError\u001b[0m: name 'os' is not defined"
     ]
    }
   ],
   "source": [
    "# normalize cvnmap for CNN processing\n",
    "# training data\n",
    "idx=file=0\n",
    "cvnmap_norm,test_cvnmap_norm=([] for i in range(2))\n",
    "while idx < (len(os.listdir(train_path))):\n",
    "        #seeing if we can fix the index problem\n",
    "    #if idx==2001:\n",
    "        #break\n",
    "    \n",
    "    cvnmap_norm.append(preprocessing.normalize(cvnmap[idx],axis=1))\n",
    "    idx+=1\n",
    "# testing data\n",
    "while file < (len(os.listdir(test_path))):\n",
    "    test_cvnmap_norm.append(preprocessing.normalize(test_cvnmap[file],axis=1))\n",
    "    file+=1\n",
    "# convert to np array\n",
    "cvnmap_norm=np.array(cvnmap_norm)\n",
    "test_cvnmap_norm=np.array(test_cvnmap_norm)"
   ]
  },
  {
   "cell_type": "code",
   "execution_count": null,
   "metadata": {},
   "outputs": [],
   "source": [
    "# extract true vertices for model training processing and model validation\n",
    "Ctruevtxy,recovtxy,testtruevtxy,testrecovtxy=([] for i in range(4))\n",
    "idx=0\n",
    "while idx < (len(os.listdir(train_path))):\n",
    "        print('Processing...', end=\"\\r\", flush=True)\n",
    "        event=0\n",
    "            #seeing if we can fix the index problem\n",
    "        #if idx==2001:\n",
    "            #break\n",
    "        \n",
    "        while event < (truerecovtxy[idx].shape[0]):\n",
    "            truevtxy=np.append(truevtxy,truerecovtxy[idx][event][0])\n",
    "            recovtxy=np.append(recovtxy,truerecovtxy[idx][event][1])\n",
    "            event+=1\n",
    "        idx+=1\n",
    "print('Training preprocessing complete\\n', end=\"\\r\", flush=True)\n",
    "idx=0\n",
    "while idx < (len(os.listdir(test_path))):\n",
    "        print('Processing...', end=\"\\r\", flush=True)\n",
    "        event=0\n",
    "        while event < (testtruerecovtxy[idx].shape[0]):\n",
    "            testtruevtxy=np.append(testtruevtxy,testtruerecovtxy[idx][event][0])\n",
    "            testrecovtxy=np.append(testrecovtxy,testtruerecovtxy[idx][event][1])\n",
    "            event+=1\n",
    "        idx+=1\n",
    "print('Testing preprocessing complete\\n', end=\"\\r\", flush=True)\n",
    "# convert to np arrays\n",
    "testtruevtxy=np.array(testtruevtxy)\n",
    "testrecovtxy=np.array(testrecovtxy)"
   ]
  },
  {
   "cell_type": "code",
   "execution_count": 12,
   "metadata": {},
   "outputs": [
    {
     "ename": "NameError",
     "evalue": "name 'train_path' is not defined",
     "output_type": "error",
     "traceback": [
      "\u001b[0;31m---------------------------------------------------------------------------\u001b[0m",
      "\u001b[0;31mNameError\u001b[0m                                 Traceback (most recent call last)",
      "\u001b[0;32m/tmp/ipykernel_33425/2501604685.py\u001b[0m in \u001b[0;36m<module>\u001b[0;34m\u001b[0m\n\u001b[1;32m      3\u001b[0m \u001b[0mfile\u001b[0m\u001b[0;34m=\u001b[0m\u001b[0mevent\u001b[0m\u001b[0;34m=\u001b[0m\u001b[0;36m0\u001b[0m\u001b[0;34m\u001b[0m\u001b[0;34m\u001b[0m\u001b[0m\n\u001b[1;32m      4\u001b[0m \u001b[0;31m## training CVN map view split ##\u001b[0m\u001b[0;34m\u001b[0m\u001b[0;34m\u001b[0m\u001b[0;34m\u001b[0m\u001b[0m\n\u001b[0;32m----> 5\u001b[0;31m \u001b[0;32mwhile\u001b[0m \u001b[0mfile\u001b[0m \u001b[0;34m<\u001b[0m \u001b[0;34m(\u001b[0m\u001b[0mlen\u001b[0m\u001b[0;34m(\u001b[0m\u001b[0mos\u001b[0m\u001b[0;34m.\u001b[0m\u001b[0mlistdir\u001b[0m\u001b[0;34m(\u001b[0m\u001b[0mtrain_path\u001b[0m\u001b[0;34m)\u001b[0m\u001b[0;34m)\u001b[0m\u001b[0;34m)\u001b[0m\u001b[0;34m:\u001b[0m\u001b[0;34m\u001b[0m\u001b[0;34m\u001b[0m\u001b[0m\n\u001b[0m\u001b[1;32m      6\u001b[0m         \u001b[0;31m#seeing if we can fix the index problem\u001b[0m\u001b[0;34m\u001b[0m\u001b[0;34m\u001b[0m\u001b[0;34m\u001b[0m\u001b[0m\n\u001b[1;32m      7\u001b[0m     \u001b[0;31m#if idx==2001:\u001b[0m\u001b[0;34m\u001b[0m\u001b[0;34m\u001b[0m\u001b[0;34m\u001b[0m\u001b[0m\n",
      "\u001b[0;31mNameError\u001b[0m: name 'train_path' is not defined"
     ]
    }
   ],
   "source": [
    "# split normalized cvnmap into reshaped events with multi-views\n",
    "a,b,c,d,cvnmap_norm_resh,cvnmap_norm_resh_xz,cvnmap_norm_resh_yz,test_cvnmap_norm_resh,test_cvnmap_norm_resh_xz,test_cvnmap_norm_resh_yz=([] for i in range(10))\n",
    "file=event=0\n",
    "## training CVN map view split ##\n",
    "while file < (len(os.listdir(train_path))):\n",
    "        #seeing if we can fix the index problem\n",
    "    #if idx==2001:\n",
    "        #break\n",
    "    \n",
    "    a=cvnmap_norm[file]\n",
    "    print('Processing train cvnmap file {} of {}'.format(file+1, (len(os.listdir(train_path)))), end=\"\\r\", flush=True)\n",
    "    event=0\n",
    "    while event < (a.shape[0]):\n",
    "        b=a[event].reshape(2,100,80)\n",
    "        cvnmap_norm_resh.append(b)\n",
    "        cvnmap_norm_resh_xz.append(b[0])\n",
    "        cvnmap_norm_resh_yz.append(b[1])\n",
    "        event+=1\n",
    "    file+=1\n",
    "file=event=0\n",
    "while file < (len(os.listdir(test_path))):\n",
    "    c=test_cvnmap_norm[file]\n",
    "    print('Processing tests cvnmap file {} of {}'.format(file+1, (len(os.listdir(test_path)))), end=\"\\r\", flush=True)\n",
    "    event=0\n",
    "    while event < (c.shape[0]):\n",
    "        d=c[event].reshape(2,100,80)\n",
    "        test_cvnmap_norm_resh.append(d)\n",
    "        test_cvnmap_norm_resh_xz.append(d[0])\n",
    "        test_cvnmap_norm_resh_yz.append(d[1])\n",
    "        event+=1\n",
    "    file+=1\n",
    "print('\\ncvnmap processing complete')"
   ]
  },
  {
   "cell_type": "code",
   "execution_count": 13,
   "metadata": {},
   "outputs": [
    {
     "ename": "NameError",
     "evalue": "name 'train_path' is not defined",
     "output_type": "error",
     "traceback": [
      "\u001b[0;31m---------------------------------------------------------------------------\u001b[0m",
      "\u001b[0;31mNameError\u001b[0m                                 Traceback (most recent call last)",
      "\u001b[0;32m/tmp/ipykernel_33425/1085113811.py\u001b[0m in \u001b[0;36m<module>\u001b[0;34m\u001b[0m\n\u001b[1;32m      5\u001b[0m     \u001b[0;32mif\u001b[0m \u001b[0mos\u001b[0m\u001b[0;34m.\u001b[0m\u001b[0mpath\u001b[0m\u001b[0;34m.\u001b[0m\u001b[0misdir\u001b[0m\u001b[0;34m(\u001b[0m\u001b[0mh5_filename\u001b[0m\u001b[0;34m)\u001b[0m\u001b[0;34m==\u001b[0m\u001b[0;32mTrue\u001b[0m\u001b[0;34m:\u001b[0m\u001b[0;34m\u001b[0m\u001b[0;34m\u001b[0m\u001b[0m\n\u001b[1;32m      6\u001b[0m         \u001b[0;32mcontinue\u001b[0m\u001b[0;34m\u001b[0m\u001b[0;34m\u001b[0m\u001b[0m\n\u001b[0;32m----> 7\u001b[0;31m     \u001b[0mprint\u001b[0m\u001b[0;34m(\u001b[0m\u001b[0;34m'Processing... {} of {}'\u001b[0m\u001b[0;34m.\u001b[0m\u001b[0mformat\u001b[0m\u001b[0;34m(\u001b[0m\u001b[0midx\u001b[0m\u001b[0;34m,\u001b[0m\u001b[0mlen\u001b[0m\u001b[0;34m(\u001b[0m\u001b[0mos\u001b[0m\u001b[0;34m.\u001b[0m\u001b[0mlistdir\u001b[0m\u001b[0;34m(\u001b[0m\u001b[0mtrain_path\u001b[0m\u001b[0;34m)\u001b[0m\u001b[0;34m)\u001b[0m\u001b[0;34m)\u001b[0m\u001b[0;34m,\u001b[0m \u001b[0mend\u001b[0m\u001b[0;34m=\u001b[0m\u001b[0;34m\"\\r\"\u001b[0m\u001b[0;34m,\u001b[0m \u001b[0mflush\u001b[0m\u001b[0;34m=\u001b[0m\u001b[0;32mTrue\u001b[0m\u001b[0;34m)\u001b[0m\u001b[0;34m\u001b[0m\u001b[0;34m\u001b[0m\u001b[0m\n\u001b[0m\u001b[1;32m      8\u001b[0m \u001b[0;34m\u001b[0m\u001b[0m\n\u001b[1;32m      9\u001b[0m     \u001b[0mg\u001b[0m\u001b[0;34m=\u001b[0m\u001b[0mh5py\u001b[0m\u001b[0;34m.\u001b[0m\u001b[0mFile\u001b[0m\u001b[0;34m(\u001b[0m\u001b[0mpdgpath\u001b[0m\u001b[0;34m+\u001b[0m\u001b[0mh5_filename\u001b[0m\u001b[0;34m,\u001b[0m\u001b[0;34m'r'\u001b[0m\u001b[0;34m)\u001b[0m\u001b[0;34m\u001b[0m\u001b[0;34m\u001b[0m\u001b[0m\n",
      "\u001b[0;31mNameError\u001b[0m: name 'train_path' is not defined"
     ]
    }
   ],
   "source": [
    "#Defines the finalstate array! Need to make a numpy array from the extracted final state pdg information\n",
    "pdgpath='/home/c479r989/research_repo/data-preprocess/ND_MC_Nominal_Files_FHC_mominkhan/'\n",
    "idx=0\n",
    "for h5_filename in os.listdir(pdgpath):\n",
    "    if os.path.isdir(h5_filename)==True:\n",
    "        continue\n",
    "    print('Processing... {} of {}'.format(idx,len(os.listdir(train_path))), end=\"\\r\", flush=True)\n",
    "    \n",
    "    g=h5py.File(pdgpath+h5_filename,'r')\n",
    "    finalstate=g['rec.mc.nu.prim']['pdg'][:]\n",
    "  \n",
    "    #if 111 in finalstate:\n",
    "        #print(finalstate)\n",
    "        #print(len(finalstate))\n",
    "    #else:\n",
    "        #continue\n",
    "    idx+=1\n",
    "    \n",
    "# convert to np array\n",
    "print('Test & Validation files read successful') "
   ]
  },
  {
   "cell_type": "markdown",
   "metadata": {},
   "source": [
    "##### Split Datasets by Interaction Types"
   ]
  },
  {
   "cell_type": "code",
   "execution_count": 14,
   "metadata": {},
   "outputs": [
    {
     "ename": "NameError",
     "evalue": "name 'test_mode' is not defined",
     "output_type": "error",
     "traceback": [
      "\u001b[0;31m---------------------------------------------------------------------------\u001b[0m",
      "\u001b[0;31mNameError\u001b[0m                                 Traceback (most recent call last)",
      "\u001b[0;32m/tmp/ipykernel_33425/3242618467.py\u001b[0m in \u001b[0;36m<module>\u001b[0;34m\u001b[0m\n\u001b[1;32m      2\u001b[0m \u001b[0mqe_true_vtxy\u001b[0m\u001b[0;34m,\u001b[0m\u001b[0mres_true_vtxy\u001b[0m\u001b[0;34m,\u001b[0m\u001b[0mdis_true_vtxy\u001b[0m\u001b[0;34m,\u001b[0m\u001b[0mqe_reco_vtxy\u001b[0m\u001b[0;34m,\u001b[0m\u001b[0mres_reco_vtxy\u001b[0m\u001b[0;34m,\u001b[0m\u001b[0mdis_reco_vtxy\u001b[0m\u001b[0;34m=\u001b[0m\u001b[0;34m(\u001b[0m\u001b[0;34m[\u001b[0m\u001b[0;34m]\u001b[0m \u001b[0;32mfor\u001b[0m \u001b[0mi\u001b[0m \u001b[0;32min\u001b[0m \u001b[0mrange\u001b[0m\u001b[0;34m(\u001b[0m\u001b[0;36m6\u001b[0m\u001b[0;34m)\u001b[0m\u001b[0;34m)\u001b[0m\u001b[0;34m\u001b[0m\u001b[0;34m\u001b[0m\u001b[0m\n\u001b[1;32m      3\u001b[0m \u001b[0mx\u001b[0m\u001b[0;34m=\u001b[0m\u001b[0midx\u001b[0m\u001b[0;34m=\u001b[0m\u001b[0;36m0\u001b[0m\u001b[0;34m\u001b[0m\u001b[0;34m\u001b[0m\u001b[0m\n\u001b[0;32m----> 4\u001b[0;31m \u001b[0mprint\u001b[0m\u001b[0;34m(\u001b[0m\u001b[0;34m'Processing {} test files. Splitting events by interaction mode.'\u001b[0m\u001b[0;34m.\u001b[0m\u001b[0mformat\u001b[0m\u001b[0;34m(\u001b[0m\u001b[0;34m(\u001b[0m\u001b[0mlen\u001b[0m\u001b[0;34m(\u001b[0m\u001b[0mtest_mode\u001b[0m\u001b[0;34m)\u001b[0m\u001b[0;34m)\u001b[0m\u001b[0;34m)\u001b[0m\u001b[0;34m)\u001b[0m\u001b[0;34m\u001b[0m\u001b[0;34m\u001b[0m\u001b[0m\n\u001b[0m\u001b[1;32m      5\u001b[0m \u001b[0;31m#############MODE####################################################\u001b[0m\u001b[0;34m\u001b[0m\u001b[0;34m\u001b[0m\u001b[0;34m\u001b[0m\u001b[0m\n\u001b[1;32m      6\u001b[0m \u001b[0;32mwhile\u001b[0m \u001b[0midx\u001b[0m \u001b[0;34m<\u001b[0m \u001b[0;34m(\u001b[0m\u001b[0mlen\u001b[0m\u001b[0;34m(\u001b[0m\u001b[0mtest_mode\u001b[0m\u001b[0;34m)\u001b[0m\u001b[0;34m)\u001b[0m\u001b[0;34m:\u001b[0m\u001b[0;34m\u001b[0m\u001b[0;34m\u001b[0m\u001b[0m\n",
      "\u001b[0;31mNameError\u001b[0m: name 'test_mode' is not defined"
     ]
    }
   ],
   "source": [
    "test_cvnmap_qe_xz,test_cvnmap_qe_yz,test_cvnmap_res_xz,test_cvnmap_res_yz,test_cvnmap_dis_xz,test_cvnmap_dis_yz=([] for i in range(6))\n",
    "qe_true_vtxy,res_true_vtxy,dis_true_vtxy,qe_reco_vtxy,res_reco_vtxy,dis_reco_vtxy=([] for i in range(6))\n",
    "x=idx=0\n",
    "print('Processing {} test files. Splitting events by interaction mode.'.format((len(test_mode))))\n",
    "#############MODE####################################################\n",
    "while idx < (len(test_mode)):\n",
    "    time.sleep(0.001) # hesitates for 0.001 seconds to prevent server comm errors\n",
    "    print('MODE RUN: Processing train file {}'.format(idx), end=\"\\r\", flush=True)\n",
    "    if test_mode[idx] == 0.0: # quasi-elastic\n",
    "        test_cvnmap_qe_xz.append(test_cvnmap_norm_resh_xz[idx])\n",
    "        test_cvnmap_qe_yz.append(test_cvnmap_norm_resh_yz[idx])\n",
    "        qe_true_vtxy.append(testtruevtxy[idx])\n",
    "        qe_reco_vtxy.append(testrecovtxy[idx])\n",
    "    elif test_mode[idx] == 1.0: # resonance state\n",
    "        test_cvnmap_res_xz.append(test_cvnmap_norm_resh_xz[idx])\n",
    "        test_cvnmap_res_yz.append(test_cvnmap_norm_resh_yz[idx])\n",
    "        res_true_vtxy.append(testtruevtxy[idx])\n",
    "        res_reco_vtxy.append(testrecovtxy[idx])\n",
    "    elif test_mode[idx] == 2.0: # deep inelastic\n",
    "        test_cvnmap_dis_xz.append(test_cvnmap_norm_resh_xz[idx])\n",
    "        test_cvnmap_dis_yz.append(test_cvnmap_norm_resh_yz[idx])\n",
    "        dis_true_vtxy.append(testtruevtxy[idx])\n",
    "        dis_reco_vtxy.append(testrecovtxy[idx])\n",
    "    idx+=1\n",
    "print('\\nJob complete.')"
   ]
  },
  {
   "cell_type": "code",
   "execution_count": 11,
   "metadata": {},
   "outputs": [
    {
     "ename": "NameError",
     "evalue": "name 'test_mode' is not defined",
     "output_type": "error",
     "traceback": [
      "\u001b[0;31m---------------------------------------------------------------------------\u001b[0m",
      "\u001b[0;31mNameError\u001b[0m                                 Traceback (most recent call last)",
      "\u001b[0;32m/tmp/ipykernel_33425/2044055269.py\u001b[0m in \u001b[0;36m<module>\u001b[0;34m\u001b[0m\n\u001b[1;32m      3\u001b[0m \u001b[0mcc_true_vtxy\u001b[0m\u001b[0;34m,\u001b[0m\u001b[0mnc_true_vtxy\u001b[0m\u001b[0;34m,\u001b[0m\u001b[0mcc_reco_vtxy\u001b[0m\u001b[0;34m,\u001b[0m\u001b[0mnc_reco_vtxy\u001b[0m\u001b[0;34m=\u001b[0m\u001b[0;34m(\u001b[0m\u001b[0;34m[\u001b[0m\u001b[0;34m]\u001b[0m \u001b[0;32mfor\u001b[0m \u001b[0mi\u001b[0m \u001b[0;32min\u001b[0m \u001b[0mrange\u001b[0m\u001b[0;34m(\u001b[0m\u001b[0;36m4\u001b[0m\u001b[0;34m)\u001b[0m\u001b[0;34m)\u001b[0m\u001b[0;34m\u001b[0m\u001b[0;34m\u001b[0m\u001b[0m\n\u001b[1;32m      4\u001b[0m \u001b[0mx\u001b[0m\u001b[0;34m=\u001b[0m\u001b[0midx\u001b[0m\u001b[0;34m=\u001b[0m\u001b[0;36m0\u001b[0m\u001b[0;34m\u001b[0m\u001b[0;34m\u001b[0m\u001b[0m\n\u001b[0;32m----> 5\u001b[0;31m \u001b[0mprint\u001b[0m\u001b[0;34m(\u001b[0m\u001b[0;34m'Processing {} test files. Splitting events by interactions current charge.'\u001b[0m\u001b[0;34m.\u001b[0m\u001b[0mformat\u001b[0m\u001b[0;34m(\u001b[0m\u001b[0;34m(\u001b[0m\u001b[0mlen\u001b[0m\u001b[0;34m(\u001b[0m\u001b[0mtest_mode\u001b[0m\u001b[0;34m)\u001b[0m\u001b[0;34m)\u001b[0m\u001b[0;34m)\u001b[0m\u001b[0;34m)\u001b[0m\u001b[0;34m\u001b[0m\u001b[0;34m\u001b[0m\u001b[0m\n\u001b[0m\u001b[1;32m      6\u001b[0m \u001b[0;32mwhile\u001b[0m \u001b[0midx\u001b[0m \u001b[0;34m<\u001b[0m \u001b[0;34m(\u001b[0m\u001b[0mlen\u001b[0m\u001b[0;34m(\u001b[0m\u001b[0mtest_mode\u001b[0m\u001b[0;34m)\u001b[0m\u001b[0;34m)\u001b[0m\u001b[0;34m:\u001b[0m\u001b[0;34m\u001b[0m\u001b[0;34m\u001b[0m\u001b[0m\n\u001b[1;32m      7\u001b[0m     \u001b[0mtime\u001b[0m\u001b[0;34m.\u001b[0m\u001b[0msleep\u001b[0m\u001b[0;34m(\u001b[0m\u001b[0;36m0.001\u001b[0m\u001b[0;34m)\u001b[0m \u001b[0;31m# hesitates for 0.001 seconds to prevent server comm errors\u001b[0m\u001b[0;34m\u001b[0m\u001b[0;34m\u001b[0m\u001b[0m\n",
      "\u001b[0;31mNameError\u001b[0m: name 'test_mode' is not defined"
     ]
    }
   ],
   "source": [
    "#############CC/NC###################################################\n",
    "test_cvnmap_cc_xz,test_cvnmap_cc_yz,test_cvnmap_nc_xz,test_cvnmap_nc_yz=([] for i in range(4))\n",
    "cc_true_vtxy,nc_true_vtxy,cc_reco_vtxy,nc_reco_vtxy=([] for i in range(4))\n",
    "x=idx=0\n",
    "print('Processing {} test files. Splitting events by interactions current charge.'.format((len(test_mode))))\n",
    "while idx < (len(test_mode)):\n",
    "    time.sleep(0.001) # hesitates for 0.001 seconds to prevent server comm errors\n",
    "    print('CC/NC RUN: Processing train file {}'.format(idx), end=\"\\r\", flush=True)\n",
    "    if test_iscc[idx] == 1.0: # cc\n",
    "        test_cvnmap_cc_xz.append(test_cvnmap_norm_resh_xz[idx])\n",
    "        test_cvnmap_cc_yz.append(test_cvnmap_norm_resh_yz[idx])\n",
    "        cc_true_vtxy.append(testtruevtxy[idx])\n",
    "        cc_reco_vtxy.append(testrecovtxy[idx])\n",
    "    elif test_iscc[idx] == 0.0: # nc\n",
    "        test_cvnmap_nc_xz.append(test_cvnmap_norm_resh_xz[idx])\n",
    "        test_cvnmap_nc_yz.append(test_cvnmap_norm_resh_yz[idx])\n",
    "        nc_true_vtxy.append(testtruevtxy[idx])\n",
    "        nc_reco_vtxy.append(testrecovtxy[idx])\n",
    "    idx+=1\n",
    "print('\\nJob complete.')"
   ]
  },
  {
   "cell_type": "code",
   "execution_count": 13,
   "metadata": {},
   "outputs": [
    {
     "name": "stdout",
     "output_type": "stream",
     "text": [
      "Processing 72721 train files. Splitting events by interaction mode.\n",
      "MODE RUN: Processing train file 72720\n",
      "Job complete.\n"
     ]
    }
   ],
   "source": [
    "# extract reco data sets from training\n",
    "qe_reco_vtxy,res_reco_vtxy,dis_reco_vtxy=([] for i in range(3))\n",
    "qe_reco_true_vtxy,res_reco_true_vtxy,dis_reco_true_vtxy=([] for i in range(3))\n",
    "x=idx=0\n",
    "print('Processing {} train files. Splitting events by interaction mode.'.format((len(train_mode))))\n",
    "#############MODE####################################################\n",
    "while idx < (len(train_mode)):\n",
    "    time.sleep(0.001) # hesitates for 0.001 seconds to prevent server comm errors\n",
    "    print('MODE RUN: Processing train file {}'.format(idx), end=\"\\r\", flush=True)\n",
    "    if train_mode[idx] == 0.0: # quasi-elastic\n",
    "        qe_reco_vtxy.append(recovtxy[idx])\n",
    "        qe_reco_true_vtxy.append(truevtxy[idx])\n",
    "    elif train_mode[idx] == 1.0: # resonance state\n",
    "        res_reco_vtxy.append(recovtxy[idx])\n",
    "        res_reco_true_vtxy.append(truevtxy[idx])\n",
    "    elif train_mode[idx] == 2.0: # deep inelastic\n",
    "        dis_reco_vtxy.append(recovtxy[idx])\n",
    "        dis_reco_true_vtxy.append(truevtxy[idx])\n",
    "    idx+=1\n",
    "print('\\nJob complete.')"
   ]
  },
  {
   "cell_type": "code",
   "execution_count": 14,
   "metadata": {},
   "outputs": [
    {
     "name": "stdout",
     "output_type": "stream",
     "text": [
      "Processing 72721 test files. Splitting events by interactions current charge.\n",
      "CC/NC RUN: Processing train file 72720\n",
      "Job complete.\n"
     ]
    }
   ],
   "source": [
    "#############CC/NC###################################################\n",
    "cc_reco_vtxy,nc_reco_vtxy,cc_reco_true_vtxy,nc_reco_true_vtxy=([] for i in range(4))\n",
    "x=idx=0\n",
    "print('Processing {} test files. Splitting events by interactions current charge.'.format((len(train_mode))))\n",
    "while idx < (len(train_mode)):\n",
    "    time.sleep(0.001) # hesitates for 0.001 seconds to prevent server comm errors\n",
    "    print('CC/NC RUN: Processing train file {}'.format(idx), end=\"\\r\", flush=True)\n",
    "    if train_iscc[idx] == 1.0: # cc\n",
    "        cc_reco_vtxy.append(recovtxy[idx])\n",
    "        cc_reco_true_vtxy.append(truevtxy[idx])\n",
    "    elif train_iscc[idx] == 0.0: # nc\n",
    "        nc_reco_vtxy.append(recovtxy[idx])\n",
    "        nc_reco_true_vtxy.append(truevtxy[idx])\n",
    "    idx+=1\n",
    "print('\\nJob complete.')"
   ]
  },
  {
   "cell_type": "code",
   "execution_count": 60,
   "metadata": {},
   "outputs": [
    {
     "name": "stdout",
     "output_type": "stream",
     "text": [
      "Processing 35842 test files. Splitting events by final state pdg code.\n",
      "PI 0 RUN: Processing train file 35841\n",
      "Job complete.\n"
     ]
    }
   ],
   "source": [
    "##### Split by pdg number for pions #######\n",
    "finalstatepizero,finalstatepiplus,pizerorecovtxy,pizerotruevtxy,pizerotestrecovtxy,pizerotesttruevtxy,piplusrecovtxy,piplustruevtxy,piplustestrecovtxy,piplustesttruevtxy=([] for i in range(10))\n",
    "x=idx=0\n",
    "print('Processing {} test files. Splitting events by final state pdg code.'.format((len(finalstate))))\n",
    "while idx < (len(finalstate)):\n",
    "    time.sleep(0.001) # hesitates for 0.001 seconds to prevent server comm errors\n",
    "    print('PI 0 RUN: Processing train file {}'.format(idx), end=\"\\r\", flush=True)\n",
    "    if finalstate[idx] == 111: # pdg code for Pi 0 particle\n",
    "        \n",
    "        pizerorecovtxy.append(recovtxy[idx])\n",
    "        pizerotruevtxy.append(truevtxy[idx])\n",
    "    \n",
    "        \n",
    "        pizerotestrecovtxy.append(testrecovtxy[idx])\n",
    "        pizerotesttruevtxy.append(testtruevtxy[idx])\n",
    "    \n",
    "        \n",
    "        \n",
    "    elif finalstate[idx] == 211: #pd code for a pi +\n",
    "        finalstatepiplus.append(finalstate[idx])\n",
    "        \n",
    "        piplusrecovtxy.append(recovtxy[idx])\n",
    "        piplustruevtxy.append(truevtxy[idx])\n",
    "        \n",
    "        piplustestrecovtxy.append(testrecovtxy[idx])\n",
    "        piplustesttruevtxy.append(testtruevtxy[idx])\n",
    "       \n",
    "\n",
    "    idx+=1\n",
    "print('\\nJob complete.')"
   ]
  },
  {
   "cell_type": "code",
   "execution_count": 12,
   "metadata": {},
   "outputs": [
    {
     "name": "stdout",
     "output_type": "stream",
     "text": [
      "The mean is -33.48092445909078\n",
      "The RMS is  127.66080239089108\n",
      "The total number of events is  3324\n",
      "The number events within plus minus 200 is  3288 This is 98.91696750902527 % of all events\n",
      "The number of events outside this range is 36\n"
     ]
    },
    {
     "data": {
      "text/plain": [
       "<Figure size 864x576 with 0 Axes>"
      ]
     },
     "metadata": {},
     "output_type": "display_data"
    },
    {
     "data": {
      "image/png": "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\n",
      "text/plain": [
       "<Figure size 360x360 with 1 Axes>"
      ]
     },
     "metadata": {
      "needs_background": "light"
     },
     "output_type": "display_data"
    }
   ],
   "source": [
    "#Determining spread for pi0 old algorithm\n",
    "pizerorecovtxy=np.array(pizerorecovtxy)\n",
    "pizerotruevtxy=np.array(pizerotruevtxy)\n",
    "diff_reco_pi_zero=pizerorecovtxy-pizerotruevtxy\n",
    "plt.figure(figsize=(12,8))\n",
    "sns.displot(diff_reco_pi_zero,color='k')\n",
    "plt.ylim(0, 1000)\n",
    "plt.xlim(-300, 300)\n",
    "plt.xlabel('Reco - True (cm)')\n",
    "plt.ylabel('Count')\n",
    "\n",
    "#calculating mean and stuff\n",
    "averagex=np.mean(diff_reco_pi_zero)\n",
    "print(\"The mean is\" , averagex)\n",
    "\n",
    "#Calculating RMS\n",
    "rmsx=np.sqrt(np.mean(diff_reco_pi_zero**2)) #testing rms function to see if it is correct and it is giving the right values\n",
    "print(\"The RMS is \" , rmsx)\n",
    "\n",
    "#areaofinterestx=3*rmsx-averagex\n",
    "#print(\"The range of 3 sigma we are counting inside of is \", areaofinterestx)\n",
    "areaofinterestx=200\n",
    "\n",
    "#total number of events\n",
    "totalevents=len(diff_reco_pi_zero)\n",
    "print(\"The total number of events is \" , totalevents)\n",
    "#Counting events within 3 sigma\n",
    "y=0\n",
    "for x in diff_reco_pi_zero:\n",
    "    if x < abs(areaofinterestx):\n",
    "        y=y+1\n",
    "    else:\n",
    "        continue\n",
    "\n",
    "percentcount=y/totalevents\n",
    "print(\"The number events within plus minus 200 is \", y,\"This is\", 100*percentcount, \"% of all events\")\n",
    "print(\"The number of events outside this range is\", totalevents-y)"
   ]
  },
  {
   "cell_type": "code",
   "execution_count": 13,
   "metadata": {},
   "outputs": [
    {
     "name": "stderr",
     "output_type": "stream",
     "text": [
      "/opt/software/software/IPython/7.9.0-foss-2019b-Python-3.7.4/lib/python3.7/site-packages/ipykernel_launcher.py:8: MatplotlibDeprecationWarning: \n",
      "The 'normed' kwarg was deprecated in Matplotlib 2.1 and will be removed in 3.1. Use 'density' instead.\n",
      "  \n"
     ]
    },
    {
     "data": {
      "image/png": "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\n",
      "text/plain": [
       "<Figure size 432x288 with 1 Axes>"
      ]
     },
     "metadata": {
      "needs_background": "light"
     },
     "output_type": "display_data"
    },
    {
     "name": "stdout",
     "output_type": "stream",
     "text": [
      "gaussian fit params: The Mean is  -33.48092445909078\n",
      "The STD is  123.19215950883725\n"
     ]
    }
   ],
   "source": [
    "import numpy as np\n",
    "from scipy.stats import norm\n",
    "import matplotlib.pyplot as plt\n",
    "\n",
    "#data = np.random.normal(loc=5.0, scale=2.0, size=1000)\n",
    "mean,std=norm.fit(diff_reco_pi_zero)\n",
    "\n",
    "plt.hist(diff_reco_pi_zero, bins=1000, normed=True)\n",
    "xmin, xmax = plt.xlim(-200,200)\n",
    "x = np.linspace(xmin, xmax, 100)\n",
    "y = norm.pdf(x, mean, std)\n",
    "plt.xlabel('Reco - True (cm)')\n",
    "plt.ylabel('Count')\n",
    "plt.plot(x, y)\n",
    "plt.show()\n",
    "\n",
    "#gauss_fit,cov = curve_fit( Gauss, x, y )\n",
    "print(\"gaussian fit params: The Mean is \", mean)\n",
    "print(\"The STD is \", std)"
   ]
  },
  {
   "cell_type": "code",
   "execution_count": 14,
   "metadata": {},
   "outputs": [
    {
     "name": "stdout",
     "output_type": "stream",
     "text": [
      "The mean is -1.016301605423462\n",
      "The RMS is  22.53393273904636\n",
      "The total number of events is  3324\n",
      "The number events within plus minus 200 is  3323 This is 99.9699157641396 % of all events\n",
      "The number of events outside this range is 1\n"
     ]
    },
    {
     "data": {
      "text/plain": [
       "<Figure size 864x576 with 0 Axes>"
      ]
     },
     "metadata": {},
     "output_type": "display_data"
    },
    {
     "data": {
      "image/png": "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\n",
      "text/plain": [
       "<Figure size 360x360 with 1 Axes>"
      ]
     },
     "metadata": {
      "needs_background": "light"
     },
     "output_type": "display_data"
    }
   ],
   "source": [
    "# our model results for pi zero\n",
    "pizerotestrecovtxy=np.array(pizerotestrecovtxy)\n",
    "pizerotesttruevtxy=np.array(pizerotesttruevtxy)\n",
    "diff_reco_pi_zero_test=pizerotestrecovtxy-pizerotesttruevtxy\n",
    "plt.figure(figsize=(12,8))\n",
    "sns.displot(diff_reco_pi_zero_test,color='k')\n",
    "plt.ylim(0, 1000)\n",
    "plt.xlim(-300, 300)\n",
    "plt.xlabel('Reco - True (cm)')\n",
    "plt.ylabel('Count')\n",
    "\n",
    "#calculating mean and stuff\n",
    "averagex=np.mean(diff_reco_pi_zero_test)\n",
    "print(\"The mean is\" , averagex)\n",
    "\n",
    "#Calculating RMS\n",
    "rmsx=np.sqrt(np.mean(diff_reco_pi_zero_test**2))\n",
    "print(\"The RMS is \" , rmsx)\n",
    "#areaofinterestx=3*rmsx-averagex\n",
    "#print(\"The range of 3 sigma we are counting inside of is \", areaofinterestx)\n",
    "areaofinterest=200\n",
    "\n",
    "#total number of events\n",
    "totalevents=len(diff_reco_pi_zero_test)\n",
    "print(\"The total number of events is \" , totalevents)\n",
    "#Counting events within 3 sigma\n",
    "y=0\n",
    "for x in diff_reco_pi_zero_test:\n",
    "    if x < abs(areaofinterestx):\n",
    "        y=y+1\n",
    "    else:\n",
    "        continue\n",
    "percentcount=y/totalevents\n",
    "print(\"The number events within plus minus 200 is \", y,\"This is\", 100*percentcount, \"% of all events\")\n",
    "print(\"The number of events outside this range is\", totalevents-y)"
   ]
  },
  {
   "cell_type": "code",
   "execution_count": 15,
   "metadata": {},
   "outputs": [
    {
     "name": "stderr",
     "output_type": "stream",
     "text": [
      "/opt/software/software/IPython/7.9.0-foss-2019b-Python-3.7.4/lib/python3.7/site-packages/ipykernel_launcher.py:8: MatplotlibDeprecationWarning: \n",
      "The 'normed' kwarg was deprecated in Matplotlib 2.1 and will be removed in 3.1. Use 'density' instead.\n",
      "  \n"
     ]
    },
    {
     "data": {
      "image/png": "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\n",
      "text/plain": [
       "<Figure size 432x288 with 1 Axes>"
      ]
     },
     "metadata": {
      "needs_background": "light"
     },
     "output_type": "display_data"
    },
    {
     "name": "stdout",
     "output_type": "stream",
     "text": [
      "gaussian fit params: The Mean is  -1.016301605423462\n",
      "The STD is  22.511002992640712\n"
     ]
    }
   ],
   "source": [
    "import numpy as np\n",
    "from scipy.stats import norm\n",
    "import matplotlib.pyplot as plt\n",
    "\n",
    "#data = np.random.normal(loc=5.0, scale=2.0, size=1000)\n",
    "mean,std=norm.fit(diff_reco_pi_zero_test)\n",
    "\n",
    "plt.hist(diff_reco_pi_zero_test, bins=1000, normed=True)\n",
    "xmin, xmax = plt.xlim(-200,200)\n",
    "x = np.linspace(xmin, xmax, 100)\n",
    "y = norm.pdf(x, mean, std)\n",
    "plt.xlabel('Reco - True (cm)')\n",
    "plt.ylabel('Count')\n",
    "plt.plot(x, y)\n",
    "plt.show()\n",
    "\n",
    "#gauss_fit,cov = curve_fit( Gauss, x, y )\n",
    "print(\"gaussian fit params: The Mean is \", mean)\n",
    "print(\"The STD is \", std)"
   ]
  },
  {
   "cell_type": "code",
   "execution_count": 16,
   "metadata": {},
   "outputs": [
    {
     "name": "stdout",
     "output_type": "stream",
     "text": [
      "The mean is -33.464649181985884\n",
      "The RMS is  128.23241386471244\n",
      "The total number of events is  4175\n",
      "The number events within plus minus 200 is  4131 This is 98.94610778443113 % of all events\n",
      "The number of events outside this range is 44\n"
     ]
    },
    {
     "data": {
      "text/plain": [
       "<Figure size 864x576 with 0 Axes>"
      ]
     },
     "metadata": {},
     "output_type": "display_data"
    },
    {
     "data": {
      "image/png": "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\n",
      "text/plain": [
       "<Figure size 360x360 with 1 Axes>"
      ]
     },
     "metadata": {
      "needs_background": "light"
     },
     "output_type": "display_data"
    }
   ],
   "source": [
    "#Determining spread for pi plus old algorithm\n",
    "piplusrecovtxy=np.array(piplusrecovtxy)\n",
    "piplustruevtxy=np.array(piplustruevtxy)\n",
    "diff_reco_pi_plus=piplusrecovtxy-piplustruevtxy\n",
    "plt.figure(figsize=(12,8))\n",
    "sns.displot(diff_reco_pi_plus,color='k')\n",
    "plt.ylim(0, 1000)\n",
    "plt.xlim(-300, 300)\n",
    "plt.xlabel('Reco - True (cm)')\n",
    "plt.ylabel('Count')\n",
    "\n",
    "#calculating mean and stuff\n",
    "averagex=np.mean(diff_reco_pi_plus)\n",
    "print(\"The mean is\" , averagex)\n",
    "\n",
    "#Calculating RMS\n",
    "rmsx=np.sqrt(np.mean(diff_reco_pi_plus**2))\n",
    "print(\"The RMS is \" , rmsx)\n",
    "#areaofinterestx=3*rmsx-averagex\n",
    "#print(\"The range of 3 sigma we are counting inside of is \", areaofinterestx)\n",
    "areaofinterest=200\n",
    "\n",
    "#total number of events\n",
    "totalevents=len(diff_reco_pi_plus)\n",
    "print(\"The total number of events is \" , totalevents)\n",
    "#Counting events within 3 sigma\n",
    "y=0\n",
    "for x in diff_reco_pi_plus:\n",
    "    if x < abs(areaofinterestx):\n",
    "        y=y+1\n",
    "    else:\n",
    "        continue\n",
    "percentcount=y/totalevents\n",
    "print(\"The number events within plus minus 200 is \", y,\"This is\", 100*percentcount, \"% of all events\")\n",
    "print(\"The number of events outside this range is\", totalevents-y)"
   ]
  },
  {
   "cell_type": "code",
   "execution_count": 17,
   "metadata": {},
   "outputs": [
    {
     "name": "stderr",
     "output_type": "stream",
     "text": [
      "/opt/software/software/IPython/7.9.0-foss-2019b-Python-3.7.4/lib/python3.7/site-packages/ipykernel_launcher.py:8: MatplotlibDeprecationWarning: \n",
      "The 'normed' kwarg was deprecated in Matplotlib 2.1 and will be removed in 3.1. Use 'density' instead.\n",
      "  \n"
     ]
    },
    {
     "data": {
      "image/png": "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\n",
      "text/plain": [
       "<Figure size 432x288 with 1 Axes>"
      ]
     },
     "metadata": {
      "needs_background": "light"
     },
     "output_type": "display_data"
    },
    {
     "name": "stdout",
     "output_type": "stream",
     "text": [
      "gaussian fit params: The Mean is  -33.464649181985884\n",
      "The STD is  123.78880894772963\n"
     ]
    }
   ],
   "source": [
    "import numpy as np\n",
    "from scipy.stats import norm\n",
    "import matplotlib.pyplot as plt\n",
    "\n",
    "#data = np.random.normal(loc=5.0, scale=2.0, size=1000)\n",
    "mean,std=norm.fit(diff_reco_pi_plus)\n",
    "\n",
    "plt.hist(diff_reco_pi_plus, bins=1000, normed=True)\n",
    "xmin, xmax = plt.xlim(-200,200)\n",
    "x = np.linspace(xmin, xmax, 100)\n",
    "y = norm.pdf(x, mean, std)\n",
    "plt.xlabel('Reco - True (cm)')\n",
    "plt.ylabel('Count')\n",
    "plt.plot(x, y)\n",
    "plt.show()\n",
    "\n",
    "#gauss_fit,cov = curve_fit( Gauss, x, y )\n",
    "print(\"gaussian fit params: The Mean is \", mean)\n",
    "print(\"The STD is \", std)"
   ]
  },
  {
   "cell_type": "code",
   "execution_count": 18,
   "metadata": {},
   "outputs": [
    {
     "name": "stdout",
     "output_type": "stream",
     "text": [
      "The mean is -0.2048004878455115\n",
      "The RMS is  22.642770126322933\n",
      "The total number of events is  4175\n",
      "The number events within plus minus 200 is  4174 This is 99.97604790419162 % of all events\n",
      "The number of events outside this range is 1\n"
     ]
    },
    {
     "data": {
      "text/plain": [
       "<Figure size 864x576 with 0 Axes>"
      ]
     },
     "metadata": {},
     "output_type": "display_data"
    },
    {
     "data": {
      "image/png": "iVBORw0KGgoAAAANSUhEUgAAAXAAAAFyCAYAAADs0YE0AAAABHNCSVQICAgIfAhkiAAAAAlwSFlzAAALEgAACxIB0t1+/AAAADh0RVh0U29mdHdhcmUAbWF0cGxvdGxpYiB2ZXJzaW9uMy4xLjEsIGh0dHA6Ly9tYXRwbG90bGliLm9yZy8QZhcZAAAaaklEQVR4nO3dfZBldX3n8fen5wFRNIE4UARIIJXZRLQ2D3aIDykr6ji0SM0MKjJljJOELFW75HnXXVirkk3tWjHZVMpkE5Ol1DCiC4toYCQkQiZGy4oRO6LIgIQxbGSWWRjFJAympnumv/vHPT3cGe703GG6+97fzPtVdeue+zvn3P7+um9/+vTvPKWqkCS1Z2LUBUiSnh0DXJIaZYBLUqMMcElqlAEuSY0ywCWpUUsW4Ek+kOTxJPf1tZ2R5K4kD3XPp/fNuzbJziQPJrm4r/2lSb7czfu9JFmqmiWpJUu5BX49MHVY2zXA9qpaC2zvXpPkQmAz8OJunfcmWdGt84fAVcDa7nH4e0rSSWnJAryqPg08cVjzRmBrN70V2NTXflNV7auqh4GdwEVJzgZeUFWfrd4ZRx/sW0eSTmorl/nrnVVVuwGqaneSM7v2c4C/6VtuV9c2200f3j5Qkqvoba1z4YUXvnTHjh2LWLokLbrjGhIel52YgzpRC7QPVFXXVdVkVU2eeuqpi1acJI2j5Q7wx7phEbrnx7v2XcB5fcudCzzatZ87oF2STnrLHeDbgC3d9Bbgtr72zUlOSXIBvZ2Vd3fDLU8meVl39Mnb+9aRpJPako2BJ7kR+HHghUl2Ab8GvBu4OcmVwNeAywGqakeSm4H7gf3A1VV1oHurf0vviJZTgT/rHpJ00suJejnZycnJmp6eHnUZkrSQE2InpiTpGBngktQoA1ySGmWAS1KjDHBJapQBLkmNMsAlqVEGuCQ1ygCXpEYZ4JLUKANckhplgEtSowxwSWqUAS5JjTLAJalRBrgkNcoAl6RGGeCS1CgDXJIaZYBLUqMMcElqlAEuSY0ywCWpUQa4JDXKAJekRhngktQoA1ySGmWAS1KjDHBJapQBLkmNMsAlqVEGuCQ1ygCXpEYZ4JLUKANckhplgEtSowxwSWqUAS5JjTLAJalRBrgkNcoAl6RGGeCS1CgDXJIaZYBLUqMMcElqlAEuSY0ywCWpUQa4JDXKAJekRhngktQoA1ySGmWAS1KjDHBJapQBLkmNMsAlqVEjCfAkv5xkR5L7ktyY5DlJzkhyV5KHuufT+5a/NsnOJA8muXgUNUvSuFn2AE9yDvALwGRVvQRYAWwGrgG2V9VaYHv3miQXdvNfDEwB702yYrnrlqRxM6ohlJXAqUlWAs8FHgU2Alu7+VuBTd30RuCmqtpXVQ8DO4GLlrleSRo7yx7gVfV/gd8GvgbsBv6pqu4Ezqqq3d0yu4Ezu1XOAR7pe4tdXZskndRGMYRyOr2t6guA7wSel+RtC60yoK2O8N5XJZlOMr1nz57jL1aSxtgohlDWAQ9X1Z6qmgU+BrwCeCzJ2QDd8+Pd8ruA8/rWP5fekMszVNV1VTVZVZNr1qxZsg5I0jgYRYB/DXhZkucmCfBa4AFgG7ClW2YLcFs3vQ3YnOSUJBcAa4G7l7lmSRo7K5f7C1bV55LcAnwB2A/cA1wHnAbcnORKeiF/ebf8jiQ3A/d3y19dVQeWu25JGjepGjic3LzJycmanp4edRmStJBB+/iG5pmYktQoA1ySGmWAS1KjDHBJapQBLkmNMsAlqVEGuCQ1ygCXpEYZ4JLUKANckhplgEtSowxwSWqUAS5JjTLAJalRBrgkNcoAl6RGGeCS1CgDXJIaZYBLUqMMcElqlAEuSY0ywCWpUQa4JDXKAJekRhngktQoA1ySGmWAS1KjDHBJapQBLkmNMsAlqVEGuCQ1ygCXpEYZ4JLUKANckhplgEtSowxwSWqUAS5JjTLAJalRBrgkNcoAl6RGGeCS1CgDXJIaZYBLUqMMcElqlAEuSY0ywCWpUQa4JDXKAJekRhngktQoA1ySGmWAS1KjDHBJapQBLkmNMsAlqVEGuCQ1ygCXpEaNJMCTfHuSW5J8JckDSV6e5IwkdyV5qHs+vW/5a5PsTPJgkotHUbMkjZtRbYH/LvDnVfX9wA8ADwDXANurai2wvXtNkguBzcCLgSngvUlWjKRqSRojyx7gSV4AvAp4P0BVzVTVPwIbga3dYluBTd30RuCmqtpXVQ8DO4GLlrdqSRo/o9gC/x5gD/DHSe5J8r4kzwPOqqrdAN3zmd3y5wCP9K2/q2t7hiRXJZlOMr1nz56l64EkjYFRBPhK4IeBP6yqHwKeohsuOYIMaKtBC1bVdVU1WVWTa9asOf5KJWmMjSLAdwG7qupz3etb6AX6Y0nOBuieH+9b/ry+9c8FHl2mWiVpbC17gFfV/wMeSfJ9XdNrgfuBbcCWrm0LcFs3vQ3YnOSUJBcAa4G7l7FkSRpLK0f0dX8e+HCS1cDfAz9N74/JzUmuBL4GXA5QVTuS3Ewv5PcDV1fVgdGULUnjI1UDh5ObNzk5WdPT06MuQ5IWMmgf39A8E1OSGmWAS1KjDHBJapQBLkmNMsAlqVEGuCQ1ygCXpEYZ4JLUKANckhplgEtSowxwSWqUAS5JjTLAJalRBrgkNWqoAE/yymHaJEnLZ9gt8P8xZJskaZkseEeeJC8HXgGsSfIrfbNeAKxYysIkSQs72i3VVgOndcs9v6/9n4E3L1VRkqSjWzDAq+pTwKeSXF9V/7BMNUmShjDsTY1PSXIdcH7/OlX1mqUoSpJ0dMMG+EeAPwLeB3hHeEkaA8MG+P6q+sMlrUSSdEyGPYzw40n+XZKzk5wx/1jSyiRJCxp2C3xL9/yOvrYCvmdxy5EkDWuoAK+qC5a6EEnSsRkqwJO8fVB7VX1wccuRJA1r2CGUH+mbfg7wWuALgAEuSSMy7BDKz/e/TvJtwA1LUpEkaSjP9nKy3wLWLmYhkqRjM+wY+MfpHXUCvYtYvQi4eamKkiQd3bBj4L/dN70f+Ieq2rUE9UiShjTUEEp3Uauv0Lsi4enAzFIWJUk6umHvyPMW4G7gcuAtwOeSeDlZSRqhYYdQ3gn8SFU9DpBkDfAXwC1LVZgkaWHDHoUyMR/enW8cw7qSpCUw7Bb4nyf5BHBj9/oK4I6lKUmSNIyj3RPze4GzquodSd4I/BgQ4LPAh5ehPknSERxtGOQ9wJMAVfWxqvqVqvplelvf71nq4iRJR3a0AD+/qu49vLGqpundXk2SNCJHC/DnLDDv1MUsRJJ0bI4W4J9P8m8Ob0xyJfC3S1OSJGkYRzsK5ZeAP0nyEzwd2JPAauCypSxMkrSwBQO8qh4DXpHk1cBLuuY/raq/XPLKJEkLGvZ64J8EPrnEtUiSjoFnU0pSowxwSWqUAS5JjTLAJalRBrgkNcoAl6RGGeCS1CgDXJIaZYBLUqMMcElqlAEuSY0aWYAnWZHkniS3d6/PSHJXkoe659P7lr02yc4kDya5eFQ1S9I4GeUW+C8CD/S9vgbYXlVrge3da5JcCGwGXgxMAe9NsmKZa5WksTOSAE9yLvAG4H19zRuBrd30VmBTX/tNVbWvqh4GdgIXLVetkjSuRrUF/h7gPwJzfW1nVdVugO75zK79HOCRvuV2dW3PkOSqJNNJpvfs2bP4VUvSGFn2AE9yKfB4VQ17S7YMaKtBC1bVdVU1WVWTa9asedY1SlILhrqhwyJ7JbAhySX0bpr8giQfAh5LcnZV7U5yNvB4t/wu4Ly+9c8FHl3WiiVpDC37FnhVXVtV51bV+fR2Tv5lVb0N2AZs6RbbAtzWTW8DNic5JckFwFrg7mUuW5LGzii2wI/k3cDN3R3vvwZcDlBVO5LcDNwP7AeurqoDoytTksZDqgYOJzdvcnKypqenR12GJC1k0D6+oXkmpiQ1ygCXpEYZ4JLUKANckhplgEtSowxwSWqUAS5JjTLAJalRBrgkNcoAl6RGGeCS1CgDXJIaZYBLUqMMcElqlAEuSY0ywCWpUQa4JDXKAJekRhngktQoA1wawszMDDMzM6MuQzqEAS5JjTLApaOoKmZmZqiqUZciHcIAl45idnaW9evXMzs7O+pSpEMY4NIQkoy6BOkZDHBpCHNzc+7E1NgxwCWpUQa4JDXKAJekRhngktQoA1ySGmWAS1KjDHBJapQBLh2Fx39rXBngktQoA1ySGmWAS1KjDHBJapQBLkmNMsAlqVEGuCQ1ygCXpEYZ4NIQvC+mxpEBLg2hqti0aZP3xdRYMcClIU1M+Oui8eInUpIaZYBLUqMMcElqlAEuSY0ywCWpUQa4JDXKAJekRhngktQoA1ySGmWAS0cxMzPD3NzcqMuQnsEAl6RGLXuAJzkvySeTPJBkR5Jf7NrPSHJXkoe659P71rk2yc4kDya5eLlrlqRxNIot8P3Av6+qFwEvA65OciFwDbC9qtYC27vXdPM2Ay8GpoD3Jlkxgrolaawse4BX1e6q+kI3/STwAHAOsBHY2i22FdjUTW8EbqqqfVX1MLATuGh5q5ak8TPSMfAk5wM/BHwOOKuqdkMv5IEzu8XOAR7pW21X1yYtq7m5OWZmZkZdhnTQyAI8yWnAR4Ffqqp/XmjRAW0Db4uS5Kok00mm9+zZsxhlStLYGkmAJ1lFL7w/XFUf65ofS3J2N/9s4PGufRdwXt/q5wKPDnrfqrquqiaranLNmjVLU7wkjYlRHIUS4P3AA1X1O32ztgFbuuktwG197ZuTnJLkAmAtcPdy1StJ42rlCL7mK4GfBL6c5Itd238G3g3cnORK4GvA5QBVtSPJzcD99I5gubqqDix/2ZI0XpY9wKvqMwwe1wZ47RHWeRfwriUrSpIa5JmY0gKqyiNPNLYMcGkBs7OzbNiwgaqBBz5JI2WAS0fR2+8ujR8DXJIaZYBLUqMMcElqlAEuSY0ywCWpUQa4JDXKAJekRhngktQoA1ySGmWAS1KjDHBpSN5STePGAJekRhngktQoA1ySGmWAS1KjDHBJapQBLkmNMsAlqVEGuCQ1ygCXFuCJOxpnBri0gJmZGebm5kZdhjSQAS5JjTLAJalRBrg0pKpiZmaGqhp1KRJggEtDqyo2bdrE7OzsqEuRAANcOqL5Le5+ExP+ymh8+GmUjmB2dpYNGzY4ZKKxZYBLC0gy6hKkIzLAJalRBrgkNcoAl46B98XUODHAJalRBrgkNcoAl6RGGeCS1CgDXDoG7sTUODHAJalRBrh0BIO2tL0iocaJAS4dA69IqHFigEvHyCsSalz4SZSkRhng0jHySBSNCwNcGqCq2Lt3r3ek11gzwKUBvJmDWmCASwPMzMwc8WYOHkqocWGAS8eoqnjDG97goYQaOQNcOszevXt54oknjjj+PTc3563WNBYMcKnPsQyPzMzMeDSKRsoAl/rMzs7y+te/nqeeemrB5Q4cOMDevXsdB9dIGeBSZ37rG+Btb3vbguFcVWzcuNFxcI2UAS51ZmdnWb9+PTDc6fJVxRNPPMG+ffuWujRpIANcJ72qYt++fezbt2/onZNzc3PMzc1x2WWX8dhjjx0S4h5mqOVigOukNL8Dct++fXzzm9/k1a9+NevWrWP//v3HdPZlEt70pjexd+9evvGNb/Dkk08yOzvLa17zGmZnZ93RqSW1ctQFDCvJFPC7wArgfVX17hGXpDFXVczOzrJy5Ur2799/8Hlubo5vfvObrFq1itnZWS699FJWrVoF9HZOPpuv87rXvY4k3HTTTaxevfpg+3x4r1q1iiQHa5p/LR2PJgI8yQrgD4DXAbuAzyfZVlX3j7ayE9+gwOlvA444//DgnF++P9Tm58/vDFy9evXAYBs0LJHkYAgPGq6YnZ1lamqKj370o2zcuJHbbruNyy67jBtuuIErrrji4DoTExPs37//uL5P82PmV1xxBRMTE6xevZqnnnqKqakpkrB9+3ae+9zn8q1vfYuLL76Ybdu2sWrVKk455ZRD+nB4n+Zfz3//5v8I9H8v+peZ/172z5v/ni70x6P/j83hP4Nj/Qz4R2r5pIVxuiQvB/5LVV3cvb4WoKp+40jrTE5O1vT09DJVuHTm/wWf36obNB84ZP5CbfMGvd+R1lu/fj133nnnwfaZmRnWrVvHHXfcwerVq1m3bh233nrrIe99ySWXcOutt7Jp0yZuvfVW3vjGN3L77bczMzPDhg0bmJiYOGT+hg0bmJubO2QLdvXq1QcfMzMzTE1NHRzemD+Z5oYbbhh4xMjExMTBtvkgPHDgAEkOPpba/NcFDql1/vX8/P4+rFy5khtvvJG3vOUtVBWrV6/mIx/5CG9+85u55ZZbgN73f/PmzQf/aExMTHDHHXcwNTXF9ddfz1vf+laSsGLFCiYmJti2bdvB7+mll17KnXfeefB94Omf97p16wC49dZbn/H5mJqaOvg+85/H/vdav349t99++8H1+l8f6bM77/A6Bn1W+38PjvZ+w1rs93uWjuuD2EqAvxmYqqqf7V7/JPCjVfVzhy13FXBV9/IlwH3LWujieyHw9VEXsQjsx3g5EfpxIvQB4DlV9ZJnu3ITQygM/iv1jL88VXUdcB1AkumqmlzqwpbSidAHsB/j5kTox4nQB+j143jWb+UolF3AeX2vzwUeHVEtkjQWWgnwzwNrk1yQZDWwGdg24pokaaSaGEKpqv1Jfg74BL3DCD9QVTuOstp1S1/ZkjsR+gD2Y9ycCP04EfoAx9mPJnZiSpKeqZUhFEnSYQxwSWpU8wGe5L8muTfJF5PcmeQ7++Zdm2RnkgeTXNzX/tIkX+7m/V7G4HSxJP89yVe6vvxJkm/vm9dEP5JcnmRHkrkkk4fNa6IPgySZ6uremeSaUdezkCQfSPJ4kvv62s5IcleSh7rn0/vmDfy5jFKS85J8MskD3efpF7v21vrxnCR3J/lS149f79oXrx9V1fQDeEHf9C8Af9RNXwh8CTgFuAD4KrCim3c38HJ6x5f/GfD6MejHemBlN/2bwG+21g/gRcD3AX8FTPa1N9OHAX1a0dX7PcDqrh8XjrquBep9FfDDwH19bb8FXNNNXzPMZ2vEfTgb+OFu+vnA33W1ttaPAKd106uAzwEvW8x+NL8FXlX/3PfyeTx9gs9G4Kaq2ldVDwM7gYuSnE0v9D9bve/aB4FNy1r0AFV1Z1XNX5Djb+gd6w4N9aOqHqiqBwfMaqYPA1wE7Kyqv6+qGeAmev0ZS1X1aeCJw5o3Alu76a08/T0e+HNZlkIXUFW7q+oL3fSTwAPAObTXj6qqvd3LVd2jWMR+NB/gAEneleQR4CeAX+2azwEe6VtsV9d2Tjd9ePs4+Rl6W6PQdj/mtdyHI9XekrOqajf0whE4s2sf+74lOR/4IXpbr831I8mKJF8EHgfuqqpF7UcTAZ7kL5LcN+CxEaCq3llV5wEfBuavj3Kk0++HOi1/KRytH90y7wT20+sLC9Q7kn4M04dBqw1oG+nP4hi0UOOzNdZ9S3Ia8FHglw77T/sZiw5oG4t+VNWBqvpBev9RX5RkoeueHHM/WjmRZ92Qi/4v4E+BX+PIp9/v4unhif72JXe0fiTZAlwKvLYbUoAx68cx/Cz6jVUfjtGJcBmHx5KcXVW7u2Grx7v2se1bklX0wvvDVfWxrrm5fsyrqn9M8lfAFIvYjya2wBeSZG3fyw3AV7rpbcDmJKckuQBYC9zd/cvyZJKXdUc8vB24bVmLHiC9G1b8J2BDVX2rb1ZT/TiClvtwIlzGYRuwpZvewtPf44E/lxHUd4jus/B+4IGq+p2+Wa31Y026o8mSnAqso5dPi9ePUe+pXYQ9vR+ld9nYe4GPA+f0zXsnvT25D9J3dAMw2a3zVeD36c5IHXE/dtIb//pi9/ij1voBXEZvK2If8Bjwidb6cIR+XULvSIivAu8cdT1HqfVGYDcw2/0srgS+A9gOPNQ9n3G0n8uI+/Bj9IYO7u37fbikwX78a+Cerh/3Ab/atS9aPzyVXpIa1fwQiiSdrAxwSWqUAS5JjTLAJalRBrgkNcoA11hIciC9K0rel+Tj6bsa4zLW8AddDfcn+Zdu+otJ3rwEX2uiu+LeaYvwXtuTfNti1KW2eBihxkKSvVV1Wje9Ffi7qnrXiGo5H7i9qgae9pxkZT194bFn+zU2Aj9WVe84nvfp3utK4IVV9ZvH+15qi1vgGkefpe8iPknekeTz6V0r/df72t/etX0pyQ1d23d3W6T3ds/ftRgFJflMd9G0TwM/l+RDSTb1zd/bN31Ndx3oe5P86sA37F147ba+dX66ry9/3LV9qPuv4JNJvprkVUm2pnfd+Pf3vddtwFsXo59qSxPXQtHJI8kK4LX0TqUmyXp6pxRfRO9iP9uSvAr4Br2z1l5ZVV9Pckb3Fr8PfLCqtib5GeD3WLxL1L6gql7V1fWhI9R/CfBdwI929d6R5BVV9deHLfpK4Ke6dX6A3mUUXlFVT/T1BeDbqurVSd5E70zjl9M7HfsLSV5SVfd1/X9+km+vqn9cpL6qAW6Ba1ycmt5lN78BnAHc1bWv7x73AF8Avp9eoL8GuKWqvg5QVfPXwH45vYuaAdxA77TsxXLTEMusB17fV+/3Av9qwHLPr6evefMa4H/P96GvL9ALbYAvA49W1f1VNQfcD5zft9weejdC0EnEANe4+JfqXXbzu+nd+ebqrj3Ab1TVD3aP762q93ftw+zAecYyST7R7Zx83zHW+FTf9H6635/uv4b5/2YD/LfD6r1+wHvN9Zc0qM7Ovr7l9/W1z3Hof9DPAf5lmE7oxGGAa6xU1T/RuzXef+guKfoJ4Gfmj9ZIck6SM+ldBOgtSb6ja58fdvhrelcMhN4482cGfI2Lu3D92eMo9f8AL+2mL6N36zW6eq9M8ryurnOTvHDA+ju7naUAf0HvKnRnHNaXoSSZAF7IoTcD0EnAMXCNnaq6J8mXgM1VdUOSFwGf7V1llL3A26pqR5J3AZ9KcoDekMVP0Qv/DyR5B71hhZ9eojL/J3BbktcBd9JtHVfVHUm+H/ibrt4n6e1g/Pph6/8p8OPA9VV1b5LfAj6dZD/wt/SuIjisi4DPVNWB4+iPGuRhhNIIJDkXeF9VTS3Ce/0BcHNVfer4K1NLHEKRRqCqdgHXL8aJPMA9hvfJyS1wSWqUW+CS1CgDXJIaZYBLUqMMcElqlAEuSY36/6tuZl2iZ2TcAAAAAElFTkSuQmCC\n",
      "text/plain": [
       "<Figure size 360x360 with 1 Axes>"
      ]
     },
     "metadata": {
      "needs_background": "light"
     },
     "output_type": "display_data"
    }
   ],
   "source": [
    "# our model results for pi plus\n",
    "piplustestrecovtxy=np.array(piplustestrecovtxy)\n",
    "piplustesttruevtxy=np.array(piplustesttruevtxy)\n",
    "diff_reco_pi_plus_test=piplustestrecovtxy-piplustesttruevtxy\n",
    "plt.figure(figsize=(12,8))\n",
    "sns.displot(diff_reco_pi_plus_test,color='k')\n",
    "plt.ylim(0, 1000)\n",
    "plt.xlim(-300, 300)\n",
    "plt.xlabel('Reco - True (cm)')\n",
    "plt.ylabel('Count')\n",
    "\n",
    "#calculating mean and stuff\n",
    "averagex=np.mean(diff_reco_pi_plus_test)\n",
    "print(\"The mean is\" , averagex)\n",
    "\n",
    "#Calculating RMS\n",
    "rmsx=np.sqrt(np.mean(diff_reco_pi_plus_test**2))\n",
    "print(\"The RMS is \" , rmsx)\n",
    "#areaofinterestx=3*rmsx-averagex\n",
    "#print(\"The range of 3 sigma we are counting inside of is \", areaofinterestx)\n",
    "areaofinterestx=200\n",
    "\n",
    "#total number of events\n",
    "totalevents=len(diff_reco_pi_plus_test)\n",
    "print(\"The total number of events is \" , totalevents)\n",
    "#Counting events within 3 sigma\n",
    "y=0\n",
    "for x in diff_reco_pi_plus_test:\n",
    "    if x < abs(areaofinterestx):\n",
    "        y=y+1\n",
    "    else:\n",
    "        continue\n",
    "percentcount=y/totalevents\n",
    "print(\"The number events within plus minus 200 is \", y,\"This is\", 100*percentcount, \"% of all events\")\n",
    "print(\"The number of events outside this range is\", totalevents-y)"
   ]
  },
  {
   "cell_type": "code",
   "execution_count": 19,
   "metadata": {},
   "outputs": [
    {
     "name": "stderr",
     "output_type": "stream",
     "text": [
      "/opt/software/software/IPython/7.9.0-foss-2019b-Python-3.7.4/lib/python3.7/site-packages/ipykernel_launcher.py:8: MatplotlibDeprecationWarning: \n",
      "The 'normed' kwarg was deprecated in Matplotlib 2.1 and will be removed in 3.1. Use 'density' instead.\n",
      "  \n"
     ]
    },
    {
     "data": {
      "image/png": "iVBORw0KGgoAAAANSUhEUgAAAZIAAAEGCAYAAABPdROvAAAABHNCSVQICAgIfAhkiAAAAAlwSFlzAAALEgAACxIB0t1+/AAAADh0RVh0U29mdHdhcmUAbWF0cGxvdGxpYiB2ZXJzaW9uMy4xLjEsIGh0dHA6Ly9tYXRwbG90bGliLm9yZy8QZhcZAAAdtUlEQVR4nO3de3hcdb3v8fcn6QUKlGuEnl5M0YqtbESMLRVkKwi0iFbkYvHCVbt7NgiocKxy3LqP20dku1UQNrWWylWrB1EKVAoiFLk3pVBoSzVUlNBqixxboNqS5nv+WKt2GCbJJGtWZpJ8Xs8zT9b81u07k8l8sm6/pYjAzMysp+qqXYCZmfVtDhIzM8vEQWJmZpk4SMzMLBMHiZmZZTKo2gVU0j777BONjY3VLsPMrM9YunTpCxHRkGUZ/SpIGhsbaW5urnYZZmZ9hqQ/ZF2Gd22ZmVkmDhIzM8vEQWJmZpk4SMzMLBMHiZmZZeIgMTOzTBwkZmaWiYPEzMwycZCYmVkmDhIzM8vEQWJmZpk4SMzMLBMHiZmZZeIgMTOzTHINEklTJK2W1CJpVonxb5X0kKQtki4saB8t6R5JqyStkHR+nnWamVnP5XY/Ekn1wJXA0UArsETSgohYWTDZi8B5wIeLZm8DPh8Rj0naDVgq6a6iec3MrAbkuUUyEWiJiDURsRWYD0wrnCAi1kfEEuDVovZ1EfFYOvwSsAoYmWOtZmbWQ3kGyUjguYLnrfQgDCQ1Au8AHulg/AxJzZKaN2zY0IMyzcwsizyDRCXaolsLkHYFfgZcEBGbSk0TEXMioikimhoaMt122MzMeiDPIGkFRhc8HwWsLXdmSYNJQuTGiLi5wrWZmVmF5BkkS4BxksZKGgJMBxaUM6MkAVcDqyLi2znWaGZmGeV21lZEtEk6F1gE1APzImKFpJnp+NmS9gOageFAu6QLgAnAQcAngSclPZ4u8ksRsTCves3MrGdyCxKA9It/YVHb7ILhP5Hs8ip2P6WPsZj1SY2zbufZSz5Q7TLMcuEr283MLBMHiZmZZeIgMTOzTBwkZmaWiYPEzMwycZCYmVkmDhIzM8vEQWJmZpk4SMzMLBMHiZmZZeIgMTOzTBwkZmaWiYPEzMwycZCYmVkmDhKznDXOur3aJZjlykFiZmaZOEjMzCwTB4mZmWXiIDEzs0wcJGZmlomDxMzMMnGQmJlZJg4SMzPLxEFiZmaZ5BokkqZIWi2pRdKsEuPfKukhSVskXdidec3MrDbkFiSS6oErganABOBUSROKJnsROA/4Vg/mNTOzGpDnFslEoCUi1kTEVmA+MK1wgohYHxFLgFe7O6+ZmdWGPINkJPBcwfPWtK2i80qaIalZUvOGDRt6VKiZmfVcnkGiEm1R6XkjYk5ENEVEU0NDQ9nFmZlZZeQZJK3A6ILno4C1vTCvmZn1ojyDZAkwTtJYSUOA6cCCXpjXzMx60aC8FhwRbZLOBRYB9cC8iFghaWY6frak/YBmYDjQLukCYEJEbCo1b161mplZz+UWJAARsRBYWNQ2u2D4TyS7rcqa18zMao+vbDczs0wcJGZmlomDxMzMMnGQmJlZJg4SMzPLxEFiZmaZOEjMzCwTB4mZmWXiIDEzs0wcJGZmlomDxMzMMnGQmJlZJg4SMzPLxEFiZmaZOEjMzCwTB4mZmWXiIDEzs0wcJGZmlomDxMzMMnGQmJlZJg4SMzPLxEFiZmaZOEjMeknjrNurXYJZLhwkZmaWSa5BImmKpNWSWiTNKjFeki5Pxy+XdEjBuM9KWiHpKUk/lrRTnrWamVnP5BYkkuqBK4GpwATgVEkTiiabCoxLHzOAq9J5RwLnAU0RcSBQD0zPq1YzM+u5PLdIJgItEbEmIrYC84FpRdNMA66LxMPAHpJGpOMGATtLGgQMA9bmWKuZmfVQnkEyEniu4Hlr2tblNBHxPPAt4I/AOmBjRNxZaiWSZkhqltS8YcOGihVvZmblyTNIVKItyplG0p4kWytjgf8B7CLpE6VWEhFzIqIpIpoaGhoyFWxmZt2XZ5C0AqMLno/i9bunOprm/cDvI2JDRLwK3Ay8O8dazcysh/IMkiXAOEljJQ0hOVi+oGiaBcBp6dlbh5LswlpHskvrUEnDJAk4CliVY61mZtZDg/JacES0SToXWERy1tW8iFghaWY6fjawEDgOaAE2A2em4x6RdBPwGNAGLAPm5FWrmZn1XG5BAhARC0nCorBtdsFwAOd0MO9XgK/kWZ+ZmWXnK9vNzCwTB4mZmWXiIDHLkTtqtIHAQWJmZpk4SMzMLBMHiZmZZVJWkEg6rJw2MzMbeMrdIvlemW1mZjbAdHpBoqTJJH1cNUj6XMGo4SRXq5uZ2QDX1ZXtQ4Bd0+l2K2jfBJyUV1FmZtZ3dBokEbEYWCzpmoj4Qy/VZGZmfUi5fW0NlTQHaCycJyKOzKMoMzPrO8oNkv8LzAbmAtvyK8fMzPqacoOkLSKuyrUSMzPrk8o9/fdWSf8qaYSkvbY/cq3MzMz6hHK3SE5Pf15U0BbA/pUtx8zM+pqygiQixuZdiJmZ9U1lBYmk00q1R8R1lS3HzMz6mnJ3bb2rYHgn4CiS+6k7SMzMBrhyd219pvC5pN2B63OpyMzM+pSediO/GRhXyULMzKxvKvcYya0kZ2lB0lnjeOCneRVlZmZ9R7nHSL5VMNwG/CEiWnOox8zM+piydm2lnTc+TdID8J7A1jyLMjOzvqPcOySeAjwKnAycAjwiqctu5CVNkbRaUoukWSXGS9Ll6fjlkg4pGLeHpJskPS1pVXpvFDMzqzHl7tq6GHhXRKwHkNQA/Aq4qaMZJNUDVwJHA63AEkkLImJlwWRTSQ7ajwMmAVelPwEuA+6IiJMkDQGGlf2qzMys15R71lbd9hBJ/aWMeScCLRGxJiK2AvOBaUXTTAOui8TDwB5pf17DgSOAqwEiYmtE/LXMWs3MrBeVu0Vyh6RFwI/T5x8FFnYxz0jguYLnrezY2uhsmpEkB/Q3AD+U9HZgKXB+RLxSvBJJM4AZAGPGjCnrxZiZWeV0ulUh6c2SDouIi4DvAwcBbwceAuZ0sWyVaIsypxkEHAJcFRHvAF4BXneMBSAi5kREU0Q0NTQ0dFGSmZlVWle7p74LvAQQETdHxOci4rMkWyPf7WLeVmB0wfNRwNoyp2kFWiPikbT9JpJgMTOzGtNVkDRGxPLixohoJrntbmeWAOMkjU0Plk8HFhRNswA4LT1761BgY0Ssi4g/Ac9JOiCd7ihgJWZmVnO6OkayUyfjdu5sxohok3QusIjkavh5EbFC0sx0/GySLZvjgBaSblfOLFjEZ4Ab0xBaUzTOzMxqRFdBskTSpyPiB4WNks4mOQDeqYhYSNFB+TRAtg8HcE4H8z4ONHW1DjMzq66uguQC4OeSPs6O4GgChgAn5FmYmZn1DZ0GSUT8GXi3pPcBB6bNt0fEr3OvzMzM+oRy70dyD3BPzrWY9SuNs26vdglmvaKn9yMxMzMDHCRmZpaRg8TMzDJxkJiZWSYOEjMzy8RBYmZmmThIzMwsEweJmZll4iAxM7NMHCRmZpaJg8TMzDJxkJiZWSYOErNe5I4crT9ykJiZWSYOEjMzy8RBYmZmmThIzMwsEweJmZll4iAxM7NMHCRmZpaJg8TMzDLJNUgkTZG0WlKLpFklxkvS5en45ZIOKRpfL2mZpNvyrNPMzHoutyCRVA9cCUwFJgCnSppQNNlUYFz6mAFcVTT+fGBVXjWamVl2eW6RTARaImJNRGwF5gPTiqaZBlwXiYeBPSSNAJA0CvgAMDfHGs3MLKM8g2Qk8FzB89a0rdxpvgv8L6A9rwLNzCy7PINEJdqinGkkHQ+sj4ilXa5EmiGpWVLzhg0belKnmZllkGeQtAKjC56PAtaWOc1hwIckPUuyS+xISTeUWklEzImIpohoamhoqFTtZmZWpjyDZAkwTtJYSUOA6cCComkWAKelZ28dCmyMiHUR8cWIGBURjel8v46IT+RYq5mZ9dCgvBYcEW2SzgUWAfXAvIhYIWlmOn42sBA4DmgBNgNn5lWPmZnlI7cgAYiIhSRhUdg2u2A4gHO6WMa9wL05lGdmZhXgK9vNcuA7IdpA4iAxM7NMHCRmZpaJg8TMzDJxkJiZWSYOEjMzy8RBYmZmmThIzMwsEweJmZll4iAx62W+WNH6GweJmZll4iAxM7NMHCRmZpaJg8TMzDJxkJiZWSYOEjMzy8RBYmZmmThIzMwsEweJmZll4iAxM7NMHCRmZpaJg8TMzDJxkJiZWSYOEjMzy8RBYmZmmeQaJJKmSFotqUXSrBLjJenydPxySYek7aMl3SNplaQVks7Ps06zSvL9RmygyS1IJNUDVwJTgQnAqZImFE02FRiXPmYAV6XtbcDnI2I8cChwTol5zcysBuS5RTIRaImINRGxFZgPTCuaZhpwXSQeBvaQNCIi1kXEYwAR8RKwChiZY61mZtZDeQbJSOC5guetvD4MupxGUiPwDuCRUiuRNENSs6TmDRs2ZCzZzMy6K88gUYm26M40knYFfgZcEBGbSq0kIuZERFNENDU0NPS4WDMz65k8g6QVGF3wfBSwttxpJA0mCZEbI+LmHOs0y0092xDtr2v3AXnrTwbluOwlwDhJY4HngenAx4qmWQCcK2k+MAnYGBHrJAm4GlgVEd/OsUazytr8Ih+oe5jJdSuYXLeSN9WtA6A9xKsM4skYy+JtB7G4/e3Q3g51PgPf+j5FFO9tquDCpeOA7wL1wLyI+LqkmQARMTsNjCuAKcBm4MyIaJZ0OPAb4En4x79zX4qIhZ2tr6mpKZqbm3N6NWadeHkDPHgZLLkaXt3MS7Ezj7a/ladiLO0h6tTOMLbwrrqnOUi/p04Be46F930JDjwR6uqr/QpsgJK0NCKaMi0jzyDpbQ4S63VbXoLFl8KSudD2d/inUzhhyXiWx/5so3Q47MUmjqhbznfH/Ab+9CS8YQIc+WU4YCqo1GFDs/xUIki8XW3WU889CrMPhwe/B+M/COc8Ch/5PstiXIchAvAiw/lF++Ew4z44aR60bYH5p8LPPgV/39iLL8CsMvI8RmLWP217Fe77z+Sx+yg485fwxsndX05dXbJba/w0eOA7cM83oPVR+MhcGDOp8nWb5cRbJGbd8cpf4LppsPibcNB0mPlAz0KkUP0gOOIiOGsRIPjhVHjgMuhHu52tf3OQmJVrw29h7lHQ2gwf+QGccBXsNLxyyx/9Lph5P4w/Hu76N7j1vGTrx6zGOUjMyvHMPTD3/bD1ZTjjdjjolHzWs9NwOOkaeM+F8Nh1cMOJ8Le/5rMuswpxkJh1ZflP4caTYPeR8OlfJ1sOHajIhYZ1dXDUl+HDV8EfHoSrj4GNz2dfrllOHCRmnXn4Krj50zBmcnIMY48xvbfugz8Gn/w5vLQO5h0LL/yu99Zt1g0OErNSIuDur8Eds5JTez9+U2WPh5Rr7HvgjNuSa1TmHQtrl/V+DWZdcJCYFWvfBrd/Dn7zLTjkNDj5Whi8U5ez5dZ/1oi3J1tDQ3aBa46H39+Xz3rMeshBYlaobWtyYWDzPDjsAvjg5bl1X9I46/byw2fvN8FZd8Luo+GGk2DVbbnUZNYTDhKz7ba+klxhvuJmOPr/wNH/XnaXJVm3Rsqaf/gIOHMhjDgIfvpJWHZjpnWaVYqDxAx2XGj4zK+TrZDDzq92RaUN2ws++QsY+89wy7/CA5f7wkWrOgeJ2Yu/h6uPTjpQPPlaeOfp1a6oc0N3hY/9BN52Atz1ZfjlF5LjOmZV4r62bGB7fin86KPQ3gan3QJjDu32Inplt1axQUPhxHkwfCQ8dAVsbIUT58KQYZlqMesJb5HYwPXUzclZUIN3hrPv6lGIVFVdHRz7dZh6KaxeCNceD5vWVbsqG4AcJDbwtG9L+rK66UzY75/g7F/BPuOqXRXQw62TSf8CH70B1j8N3z8Cnn2g8oWZdcJBYgPL5heT/qseuAyazobTb4Pd9q12VUDGXWTjj4dP3w1Dd4NrP5hcke+D8NZLHCQ2cPz2TvjvQ+EPD8CHvgfHfxsGDenx4nK7ALGn3jAeZtwDb5mSXJE//+Pw8vpqV2UDgIPE+r8tL8GC8+BHJ8OwveFTdydXrPdAzYVHsZ12T3ZzHfMf0PIruHJScizILEcOEuu/IuCpn8F/T066ZD/sfJhxb3JBXwbduiI9wzqKh8teZ10dvPszMPM3sGdjcizoJ5+AF9fkUKmZg8T6q9bmpPv1m86CnfaAs+5IrlYfNLSs2Ut9aVdza6TbYQLQcEByNtpRX4GWu+GKiXDHF5PjRGYV5CCx/iMi+cK8/iPJnQz/37PJsZB/WZzp+pDOtkDyDJeKLLt+ELznc3DeMjj4VHhkNlx2cHLW2l+fy758M3xBovUHL6+HlbckHS2uXwm77gtH/m+YNDM5i6lM27+4n73kA3lV2q06iocz2W2/JFQn/U9YfAk8+D148Iqki/x3ng6N74H6wZVZlw043iKxviciucnTkrnJqa7/dQAsvBBUz+e3zuQtL1wKR1xE41fK62695g+gF8m0223fCXDKdXD+EzD5HFhzD1x/AnzrLXDLObD6Dvj7xgpXbP1drlskkqYAlwH1wNyIuKRovNLxxwGbgTMi4rFy5rUBIgI2rU22NNavhLWPJ6fvvvznZPzeb07ub/62E2j8zhqgdG+9jbNuL3tLI5ctghx1VmPxVtb296Hxkid59pKvwfu+lOwOXHkLrLgFlt0ACPY9kGueH8EZH/kgNIxPjrdU48Ze1ifkFiSS6oErgaOBVmCJpAURsbJgsqnAuPQxCbgKmFTmvDWnO19W/VoERPCmL93GM187JunHqv1V2NYG27bw3kvu4N4LJsPWzbD15aT79i2bYPNfkgPBm19g8ZLH+ed9tyR9SL36yo5lDx8JY4+AxsPhjYcn9+mQ0i/MHSFSeHyj8HdS+MXaF0Kiuwpfb1mvb/DOycWM44+Hti3wx4f5ztXX8tlhL3BK/WJYcOeOaXd5Q3Lf+uHpY9jesPOeSY/EQ4cn/XwN2QUGD4P6IUy89AEe/bfjkvu51A2CusHJsOr+8Tsr/t3476dvUuR09aukycBXI+LY9PkXASLiGwXTfB+4NyJ+nD5fDbwXaOxq3lKaRg6J5nMaeHlLG7sOrWxGlrPMLOutVM2lllPY1ul60s/CK1vb2GXIoNcMb97axrAh9fxtaxsimU7A0EF1QEC0pwHSnjzvqbpBMGxvHt+0Cwe/7UDmPvkqn/rQUZz88038NkaxkV0Buvdl2Q+VCsKuwrGc8bDjC33/WbcyWutZfPp+sH4V8+/8DdMPqINNa9m0/o8M1+ZMr2FbiHbqGFxfx5ZtAYihg+v5xz8EEpu3bmPYkKSt8HP5GkX3jCn+jG9/3tXfRjntXcnju6fc5fd03bp47dKIaMpSV55BchIwJSI+lT7/JDApIs4tmOY24JKIuD99fjfwBZIg6XTegmXMAGakTw8EnsrlBVXOPsAL1S6iDK6zslxnZbnOyjkgIso/K6WEPI+RlNpZXZxaHU1TzrxJY8QcYA6ApOasyZq3vlAjuM5Kc52V5TorR1Jz1mXkGSStwOiC56OAtWVOM6SMec3MrAbkefrvEmCcpLGShgDTgQVF0ywATlPiUGBjRKwrc14zM6sBuW2RRESbpHOBRSSn8M6LiBWSZqbjZwMLSU79bSE5/ffMzuYtY7VzKv9KKq4v1Aius9JcZ2W5zsrJXGNuB9vNzGxg8JXtZmaWiYPEzMwy6ZNBIuk/JT0tabmkn0vao2DcFyW1SFot6diC9ndKejIdd3naPUvedZ4saYWkdklNBe2Nkv4m6fH0MbsW60zH1cz7WVTXVyU9X/AeHtdVzdUgaUpaR4ukWdWspZikZ9Pf4ePbTwGVtJekuyT9Lv25ZxXqmidpvaSnCto6rKtav+8O6qy5z6Wk0ZLukbQq/Ts/P22v3HsaEX3uARwDDEqHvwl8Mx2eADwBDAXGAs8A9em4R4HJJNeo/BKY2gt1jgcOAO4FmgraG4GnOpinluqsqfezqOavAheWaO+w5ip8TuvT9e9Pckr7E8CEatTSQX3PAvsUtV0KzEqHZ23/2+rluo4ADin8G+mormr+vjuos+Y+l8AI4JB0eDfgt2k9FXtP++QWSUTcGRFt6dOHSa4zAZgGzI+ILRHxe5KzwSZKGgEMj4iHInmnrgM+3At1roqI1eVOX4N11tT7WaaSNVeplolAS0SsiYitwPy0vlo2Dbg2Hb6WKvxeI+I+oPjuWx3VVbXfdwd1dqSada6LtDPciHgJWAWMpILvaZ8MkiJnkfxHDMmbU3i3nta0bWQ6XNxeTWMlLZO0WNJ70rZaq7PW389z092b8wo2yzuquRpqqZZSArhT0lIlXQ0B7BvJtVykP99Qtepeq6O6avE9rtnPpaRG4B3AI1TwPa3ZG1tJ+hWwX4lRF0fELek0FwNtwI3bZysxfbe6XMmjzhLWAWMi4i+S3gn8QtLbarDOXn8/X7PyTmom6Sn6a+l6vwb8F8k/Fb1SW5lqqZZSDouItZLeANwl6elqF9QDtfYe1+znUtKuwM+ACyJiUyeHNbtda80GSUS8v7Pxkk4HjgeOSnevQMddrrSyY/dXYXvudXYwzxZgSzq8VNIzwFtqrU6q8H4WKrdmST8AbkufltM1T2+ppVpeJyLWpj/XS/o5ye6LP0saERHr0l2Y66ta5A4d1VVT73FE/Hn7cC19LiUNJgmRGyPi5rS5Yu9pn9y1peSmV18APhQRhX1ZLwCmSxoqaSzJfU4eTTfbXpJ0aHp20WlAR/+F505Sg5J7riBp/7TONbVWJzX8fqYf/O1OYEevzyVr7s3aCtRsVz+SdpG02/ZhkhNYniKp7/R0stOp7uevUEd11dLvuyY/l+nf6NXAqoj4dsGoyr2nvXHWQA5nIbSQ7MN7PH3MLhh3MclZBqspOJMIaCL5pT4DXEF6VX/OdZ5Aku5bgD8Di9L2E4EVJGdGPAZ8sBbrrLX3s6jm64EngeXpB39EVzVX6bN6HMlZMs+Q7EasWi1Fde2ffv6eSD+LF6ftewN3A79Lf+5Vhdp+TLL799X0c3l2Z3VV6/fdQZ0197kEDifZNbW84DvzuEq+p+4ixczMMumTu7bMzKx2OEjMzCwTB4mZmWXiIDEzs0wcJGZmlomDxPo8SdvSnlafknSrCnqD7sUarkxrWKnX9ux8Ug7rqkt7c921Asu6W9LulajLBi6f/mt9nqSXI2LXdPha4LcR8fUq1dII3BYRB3YwflDs6HC0p+uYBhweERdlWU66rLNJegD+ZtZl2cDlLRLrbx6ioIM5SRdJWpJ2ovfvBe2npW1PSLo+bXtj+h/68vTnmEoUJOl+SV+XdB9Jh343SPpwwfiXC4ZnSXo0reHfOljkxym44lzSmQWv5Ydp2w3pVtI9kp6RdISka5Xcx+fqgmXdAnysEq/TBq6a7WvLrLvSbmeOIukOAknHkHTvMJGkI7oFko4A/kJy5e5hEfGCpL3SRVwBXBcR10o6C7icynWjPjwijkjruqGD+o8DxgCT0noXSnp3RDxYNOlhwBnpPG8n6S7o3RHxYsFrAdg9It4n6UTgVpL7xzwNPCbpwIh4Kn39u0naIyL+WqHXagOMt0isP9hZ0uMkAbEXcFfafkz6WEbSFc1bSYLlSOCmiHgBICK231NiMvCjdPh6kq4lKmV+GdMcA0wtqPfNJJ15FtstdvQxdyTwk+2voeC1QBIekHTZsTYiVkZEO7CS5OZq220gufmRWY84SKw/+FtEHAy8keROhOek7QK+EREHp483R8TVaXs5BwdfN42kRelB9LndrPGVguE20r+9dCtq+54BAf9RVO81JZbVXlhSqTpTWwqm31LQ3s5r90bsBPytnBdhVoqDxPqNiNgInAdcmHabvQg4a/vZTZJGKrn3xt3AKZL2Ttu37w56kKSHXkiOQ9xfYh3Hpl/yn8pQ6rPAO9PhE0huyUta79lpb7xIGiVpnxLzt6QH9QF+RdJT615Fr6UskuqAfXjtjYzMusXHSKxfiYhlkp4ApkfE9ZLGAw8lPWnzMvCJiFgh6evAYknbSHYlnUESQvMkXUSyu+fMnMr8PnCLpKOBO9lxb5qFkt4KPJzW+xLJgfAXiua/HXgvcE1ELJd0KXCfpDZgKUkvtOWaCNwfEdsyvB4b4Hz6r1kfI2kUMDciplRgWVcCP42Ixdkrs4HKu7bM+piIaAWuqcQFicAyh4hl5S0SMzPLxFskZmaWiYPEzMwycZCYmVkmDhIzM8vEQWJmZpn8fziAQjjzt+qtAAAAAElFTkSuQmCC\n",
      "text/plain": [
       "<Figure size 432x288 with 1 Axes>"
      ]
     },
     "metadata": {
      "needs_background": "light"
     },
     "output_type": "display_data"
    },
    {
     "name": "stdout",
     "output_type": "stream",
     "text": [
      "gaussian fit params: The Mean is  -0.2048004878455115\n",
      "The STD is  22.641843912404322\n"
     ]
    }
   ],
   "source": [
    "import numpy as np\n",
    "from scipy.stats import norm\n",
    "import matplotlib.pyplot as plt\n",
    "\n",
    "#data = np.random.normal(loc=5.0, scale=2.0, size=1000)\n",
    "mean,std=norm.fit(diff_reco_pi_plus_test)\n",
    "\n",
    "plt.hist(diff_reco_pi_plus_test, bins=1000, normed=True)\n",
    "xmin, xmax = plt.xlim(-200,200)\n",
    "x = np.linspace(xmin, xmax, 100)\n",
    "y = norm.pdf(x, mean, std)\n",
    "plt.xlabel('Reco - True (cm)')\n",
    "plt.ylabel('Count')\n",
    "plt.plot(x, y)\n",
    "plt.show()\n",
    "\n",
    "#gauss_fit,cov = curve_fit( Gauss, x, y )\n",
    "print(\"gaussian fit params: The Mean is \", mean)\n",
    "print(\"The STD is \", std)"
   ]
  },
  {
   "cell_type": "code",
   "execution_count": 20,
   "metadata": {},
   "outputs": [
    {
     "name": "stdout",
     "output_type": "stream",
     "text": [
      "Processing 93131 test files. Splitting events by final state pdg code.\n",
      "MUON RUN: Processing train file 35841\n",
      "Job complete.\n"
     ]
    }
   ],
   "source": [
    "##### Split by pdg number for muon #######\n",
    "finalstatemuon,finalstateantimuon,muonrecovtxy,muontruevtxy,muontestrecovtxy,muontesttruevtxy,antimuonrecovtxy,antimuontruevtxy,antimuontestrecovtxy,antimuontesttruevtxy=([] for i in range(10))\n",
    "x=idx=0\n",
    "print('Processing {} test files. Splitting events by final state pdg code.'.format((len(pdg))))\n",
    "while idx < (len(finalstate)):\n",
    "    time.sleep(0.001) # hesitates for 0.001 seconds to prevent server comm errors\n",
    "    print('MUON RUN: Processing train file {}'.format(idx), end=\"\\r\", flush=True)\n",
    "    if finalstate[idx] == 13: # pdg code for normal muon particle\n",
    "       \n",
    "        \n",
    "        finalstatemuon.append(finalstate[idx])\n",
    "        \n",
    "        muonrecovtxy.append(recovtxy[idx])\n",
    "        muontruevtxy.append(truevtxy[idx])\n",
    "        \n",
    "        muontestrecovtxy.append(testrecovtxy[idx])\n",
    "        muontesttruevtxy.append(testtruevtxy[idx])\n",
    "        \n",
    "        \n",
    "    elif finalstate[idx] == -13: #pd code for an anti muon\n",
    "        finalstateantimuon.append(finalstate[idx])\n",
    "        \n",
    "        antimuonrecovtxy.append(recovtxy[idx])\n",
    "        antimuontruevtxy.append(truevtxy[idx])\n",
    "        \n",
    "        antimuontestrecovtxy.append(testrecovtxy[idx])\n",
    "        antimuontesttruevtxy.append(testtruevtxy[idx])\n",
    "       \n",
    "\n",
    "    idx+=1\n",
    "print('\\nJob complete.')"
   ]
  },
  {
   "cell_type": "code",
   "execution_count": 21,
   "metadata": {},
   "outputs": [
    {
     "name": "stdout",
     "output_type": "stream",
     "text": [
      "The mean is -30.324240446639067\n",
      "The RMS is  125.75405730712573\n",
      "The total number of events is  3699\n",
      "The number events within plus minus 200 is  3648 This is 98.62124898621249 % of all events\n",
      "The number of events outside this range is 51\n"
     ]
    },
    {
     "data": {
      "text/plain": [
       "<Figure size 864x576 with 0 Axes>"
      ]
     },
     "metadata": {},
     "output_type": "display_data"
    },
    {
     "data": {
      "image/png": "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\n",
      "text/plain": [
       "<Figure size 360x360 with 1 Axes>"
      ]
     },
     "metadata": {
      "needs_background": "light"
     },
     "output_type": "display_data"
    }
   ],
   "source": [
    "#Determining spread for muon old algorithm\n",
    "muonrecovtxy=np.array(muonrecovtxy)\n",
    "muontruevtxy=np.array(muontruevtxy)\n",
    "diff_reco_muon=muonrecovtxy-muontruevtxy\n",
    "plt.figure(figsize=(12,8))\n",
    "sns.displot(diff_reco_muon,color='k')\n",
    "plt.ylim(0, 1000)\n",
    "plt.xlim(-300, 300)\n",
    "plt.xlabel('Reco - True (cm)')\n",
    "plt.ylabel('Count')\n",
    "\n",
    "#calculating mean and stuff\n",
    "averagex=np.mean(diff_reco_muon)\n",
    "print(\"The mean is\" , averagex)\n",
    "\n",
    "#Calculating RMS\n",
    "rmsx=np.sqrt(np.mean(diff_reco_muon**2))\n",
    "print(\"The RMS is \" , rmsx)\n",
    "#areaofinterestx=3*rmsx-averagex\n",
    "#print(\"The range of 3 sigma we are counting inside of is \", areaofinterestx)\n",
    "areaofinterestx=200\n",
    "\n",
    "#total number of events\n",
    "totalevents=len(diff_reco_muon)\n",
    "print(\"The total number of events is \" , totalevents)\n",
    "#Counting events within 3 sigma\n",
    "y=0\n",
    "for x in diff_reco_muon:\n",
    "    if x < abs(areaofinterestx):\n",
    "        y=y+1\n",
    "    else:\n",
    "        continue\n",
    "percentcount=y/totalevents\n",
    "print(\"The number events within plus minus 200 is \", y,\"This is\", 100*percentcount, \"% of all events\")\n",
    "print(\"The number of events outside this range is\", totalevents-y)"
   ]
  },
  {
   "cell_type": "code",
   "execution_count": 22,
   "metadata": {},
   "outputs": [
    {
     "name": "stderr",
     "output_type": "stream",
     "text": [
      "/opt/software/software/IPython/7.9.0-foss-2019b-Python-3.7.4/lib/python3.7/site-packages/ipykernel_launcher.py:8: MatplotlibDeprecationWarning: \n",
      "The 'normed' kwarg was deprecated in Matplotlib 2.1 and will be removed in 3.1. Use 'density' instead.\n",
      "  \n"
     ]
    },
    {
     "data": {
      "image/png": "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\n",
      "text/plain": [
       "<Figure size 432x288 with 1 Axes>"
      ]
     },
     "metadata": {
      "needs_background": "light"
     },
     "output_type": "display_data"
    },
    {
     "name": "stdout",
     "output_type": "stream",
     "text": [
      "gaussian fit params: The Mean is  -30.324240446639067\n",
      "The STD is  122.0431209472221\n"
     ]
    }
   ],
   "source": [
    "import numpy as np\n",
    "from scipy.stats import norm\n",
    "import matplotlib.pyplot as plt\n",
    "\n",
    "#data = np.random.normal(loc=5.0, scale=2.0, size=1000)\n",
    "mean,std=norm.fit(diff_reco_muon)\n",
    "\n",
    "plt.hist(diff_reco_muon, bins=1000, normed=True)\n",
    "xmin, xmax = plt.xlim(-200,200)\n",
    "x = np.linspace(xmin, xmax, 100)\n",
    "y = norm.pdf(x, mean, std)\n",
    "plt.xlabel('Reco - True (cm)')\n",
    "plt.ylabel('Count')\n",
    "plt.plot(x, y)\n",
    "plt.show()\n",
    "\n",
    "#gauss_fit,cov = curve_fit( Gauss, x, y )\n",
    "print(\"gaussian fit params: The Mean is \", mean)\n",
    "print(\"The STD is \", std)"
   ]
  },
  {
   "cell_type": "code",
   "execution_count": 23,
   "metadata": {},
   "outputs": [
    {
     "name": "stdout",
     "output_type": "stream",
     "text": [
      "The RMS is  22.580038876472365\n",
      "The total number of events is  3699\n",
      "The number events within plus minus 200 is  3699 This is 100.0 % of all events\n",
      "The number of events outside this range is 0\n"
     ]
    },
    {
     "data": {
      "text/plain": [
       "<Figure size 864x576 with 0 Axes>"
      ]
     },
     "metadata": {},
     "output_type": "display_data"
    },
    {
     "data": {
      "image/png": "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\n",
      "text/plain": [
       "<Figure size 360x360 with 1 Axes>"
      ]
     },
     "metadata": {
      "needs_background": "light"
     },
     "output_type": "display_data"
    }
   ],
   "source": [
    "# our model results for muon in final state\n",
    "muontestrecovtxy=np.array(muontestrecovtxy)\n",
    "muontesttruevtxy=np.array(muontesttruevtxy)\n",
    "diff_reco_muon_test=muontestrecovtxy-muontesttruevtxy\n",
    "plt.figure(figsize=(12,8))\n",
    "sns.displot(diff_reco_muon_test,color='k')\n",
    "plt.ylim(0, 1000)\n",
    "plt.xlim(-300, 300)\n",
    "plt.xlabel('Reco - True (cm)')\n",
    "plt.ylabel('Count')\n",
    "\n",
    "#calculating mean and stuff\n",
    "averagex=np.mean(diff_reco_muon_test)\n",
    "print(\"The mean is\" , averagex)\n",
    "\n",
    "\n",
    "#Calculating RMS\n",
    "rmsx=np.sqrt(np.mean(diff_reco_muon_test**2))\n",
    "print(\"The RMS is \" , rmsx)\n",
    "#areaofinterestx=3*rmsx-averagex\n",
    "#print(\"The range of 3 sigma we are counting inside of is \", areaofinterestx)\n",
    "areaofinterestx=200\n",
    "\n",
    "#total number of events\n",
    "totalevents=len(diff_reco_muon_test)\n",
    "print(\"The total number of events is \" , totalevents)\n",
    "#Counting events within 3 sigma\n",
    "y=0\n",
    "for x in diff_reco_muon_test:\n",
    "    if x < abs(areaofinterestx):\n",
    "        y=y+1\n",
    "    else:\n",
    "        continue\n",
    "percentcount=y/totalevents\n",
    "print(\"The number events within plus minus 200 is \", y,\"This is\", 100*percentcount, \"% of all events\")\n",
    "print(\"The number of events outside this range is\", totalevents-y)"
   ]
  },
  {
   "cell_type": "code",
   "execution_count": 24,
   "metadata": {},
   "outputs": [
    {
     "name": "stderr",
     "output_type": "stream",
     "text": [
      "/opt/software/software/IPython/7.9.0-foss-2019b-Python-3.7.4/lib/python3.7/site-packages/ipykernel_launcher.py:8: MatplotlibDeprecationWarning: \n",
      "The 'normed' kwarg was deprecated in Matplotlib 2.1 and will be removed in 3.1. Use 'density' instead.\n",
      "  \n"
     ]
    },
    {
     "data": {
      "image/png": "iVBORw0KGgoAAAANSUhEUgAAAZIAAAEGCAYAAABPdROvAAAABHNCSVQICAgIfAhkiAAAAAlwSFlzAAALEgAACxIB0t1+/AAAADh0RVh0U29mdHdhcmUAbWF0cGxvdGxpYiB2ZXJzaW9uMy4xLjEsIGh0dHA6Ly9tYXRwbG90bGliLm9yZy8QZhcZAAAdeUlEQVR4nO3de5zVdb3v8deb4aaIoTKWATmYlHJslzjhBfK0vRS4LbLcbUzzkm1yK5WV7ti5z869O912l4fbIpGQ8pacMktUCi+Zbo+gDKIoIDYqxgjqqOUNBYb5nD9+vzksF2tm1sxv/Watgffz8ViP+a3v7/ZZa9as9/xu358iAjMzs94aUO0CzMysf3OQmJlZJg4SMzPLxEFiZmaZOEjMzCyTgdUuoJJGjhwZDQ0N1S7DzKzfWL58+fMRUZ9lGTtVkDQ0NNDU1FTtMszM+g1JT2VdhndtmZlZJg4SMzPLxEFiZmaZOEjMzCwTB4mZmWXiIDEzs0wcJGZmlomDxMzMMnGQmJlZJg4SMzPLxEFiZmaZOEjMzCwTB4mZmWXiIDEzs0wcJGZmlomDxMzMMnGQmJlZJg4SMzPLxEFiZmaZOEjMzCyTXINE0hRJayU1S5pVYvxBkpZI2izpgoL2MZLulLRG0ipJX8yzTjMz672BeS1YUh0wGzgeaAGWSVoYEasLJnsR+ALwsaLZ24CvRMQDkoYDyyXdVjSvmZnVgDy3SCYCzRHxRERsARYA0woniIjnImIZsLWofWNEPJAOvwKsAUblWKuZmfVSnkEyClhf8LyFXoSBpAbgUOC+TsbPkNQkqam1tbUXZZqZWRZ5BolKtEWPFiDtAfwaOD8iXi41TUTMjYjGiGisr6/vRZlmZpZFnkHSAowpeD4a2FDuzJIGkYTItRFxQ4VrMzOzCskzSJYB4ySNlTQYmA4sLGdGSQKuANZExA9zrNHMzDLK7aytiGiTNBNYDNQB8yNilaRz0vFzJL0NaAL2BNolnQ+MB/4G+DTwsKQH00V+LSIW5VWvmZn1Tm5BApB+8S8qaptTMPwMyS6vYvdQ+hiLmZnVGF/ZbmZmmThIzMwsEweJmZll4iAxM7NMHCRmZpaJg8TMzDJxkJiZWSYOEjMzy8RBYmZmmThIzMwsEweJmZll4iAxM7NMHCRmOWuYdUu1SzDLlYPEzMwycZCYmVkmDhIzM8vEQWJmZpk4SMzMLBMHiZmZZeIgMTOzTBwkZmaWiYPErA/4okTbmTlIzMwsk1yDRNIUSWslNUuaVWL8QZKWSNos6YKezGtmZrUhtyCRVAfMBqYC44FTJI0vmuxF4AvA93sxr5mZ1YA8t0gmAs0R8UREbAEWANMKJ4iI5yJiGbC1p/OamVltyDNIRgHrC563pG0VnVfSDElNkppaW1t7VaiZmfVenkGiEm1R6XkjYm5ENEZEY319fdnFmZlZZeQZJC3AmILno4ENfTCvmZn1oTyDZBkwTtJYSYOB6cDCPpjXrCb5WhLbWQ3Ma8ER0SZpJrAYqAPmR8QqSeek4+dIehvQBOwJtEs6HxgfES+XmjevWs3MrPdyCxKAiFgELCpqm1Mw/AzJbquy5jUzs9rjK9vNzCwTB4mZmWXiIDEzs0wcJGZmlomDxMzMMnGQmJlZJg4SMzPLxEFiZmaZOEjMzCwTB4mZmWXiIDEzs0wcJGZmlomDxMzMMnGQmJlZJg4SMzPLxEFiZmaZOEjMzCwTB4mZmWXiIDEzs0wcJGZmlomDxMzMMnGQmJlZJg4SMzPLJNcgkTRF0lpJzZJmlRgvSZem41dKmlAw7kuSVkl6RNJ1kobmWauZmfVObkEiqQ6YDUwFxgOnSBpfNNlUYFz6mAFcls47CvgC0BgRhwB1wPS8ajUzs97Lc4tkItAcEU9ExBZgATCtaJppwFWRWAqMkLRfOm4gsJukgcDuwIYcazUzs17KM0hGAesLnrekbd1OExFPA98H/gxsBF6KiFtLrUTSDElNkppaW1srVryZmZUnzyBRibYoZxpJe5FsrYwF3g4Mk3RaqZVExNyIaIyIxvr6+kwFm5lZz+UZJC3AmILno9lx91Rn0xwHPBkRrRGxFbgBOCrHWs3MrJfyDJJlwDhJYyUNJjlYvrBomoXA6enZW0eQ7MLaSLJL6whJu0sScCywJsdazcyslwbmteCIaJM0E1hMctbV/IhYJemcdPwcYBFwAtAMbALOSsfdJ+l64AGgDVgBzM2rVjMz673cggQgIhaRhEVh25yC4QDO62TerwNfz7M+s7w1zLql2iWY5c5XtpuZWSYOEjMzy6SsIJE0qZw2MzPb9ZS7RfKjMtvMzGwX0+XBdklHkly/US/pywWj9iQ5E8vMzHZx3Z21NRjYI51ueEH7y8DJeRVlZmb9R5dBEhF3AXdJ+nlEPNVHNZmZWT9S7nUkQyTNBRoK54mIY/IoyszM+o9yg+RXwBxgHrAtv3LMzKy/KTdI2iLislwrMTOzfqnc039vknSupP0k7d3xyLUyMzPrF8rdIjkj/XlhQVsAB1S2HDMz62/KCpKIGJt3IWZm1j+VFSSSTi/VHhFXVbYcMzPrb8rdtfX+guGhJDeaegBwkJiZ7eLK3bX1+cLnkt4CXJ1LRWZm1q/0thv5TcC4ShZiZmb9U7nHSG4iOUsLks4aDwZ+mVdRZmbWf5R7jOT7BcNtwFMR0ZJDPWZm1s+UtWsr7bzxUZIegPcCtuRZlJmZ9R/l3iHxk8D9wN8DnwTuk+Ru5M3MrOxdWxcB74+I5wAk1QO3A9fnVZiZmfUP5Z61NaAjRFIv9GBeMzPbiZUbBr+XtFjSmZLOBG4BFnU3k6QpktZKapY0q8R4Sbo0Hb9S0oSCcSMkXS/pUUlr0tv+mplZjenunu0HAm+NiAslfRyYDAhYAlzbzbx1wGzgeKAFWCZpYUSsLphsKsn1KOOAw4HL0p8A/wX8PiJOljQY2L2nL87MzPLX3RbJJcArABFxQ0R8OSK+RLI1ckk3804EmiPiiYjYAiwAphVNMw24KhJLgRFpV/V7AkcDV6Tr3hIRf+3RKzMzsz7RXZA0RMTK4saIaCK57W5XRgHrC563pG3lTHMA0Ar8TNIKSfMkDSu1EkkzJDVJamptbe2mJDMzq7TugmRoF+N262ZelWiLMqcZCEwALouIQ4HXgB2OsQBExNyIaIyIxvr6+m5KMjOzSusuSJZJ+sfiRklnA8u7mbcFGFPwfDSwocxpWoCWiLgvbb+eJFjMzKzGdHcdyfnAbySdyvbgaAQGAyd1M+8yYJykscDTwHTgU0XTLARmSlpAcpD9pYjYCCBpvaR3R8Rakm7rV2NmZjWnyyCJiGeBoyT9LXBI2nxLRPyhuwVHRJukmcBiko4e50fEKknnpOPnkBy0PwFoJulR+KyCRXweuDY9Y+uJonFmZlYjyr0fyZ3AnT1deEQsouh6kzRAOoYDOK+TeR8k2foxM7Ma5qvTzcwsEweJmZll4iAxM7NMHCRmZpaJg8TMzDJxkJiZWSYOEjMzy8RBYmZmmThIzMwsEweJmZll4iAxM7NMHCRmZpaJg8TMzDJxkJiZWSYOEjMzy8RBYmZmmThIzMwsEweJWU4aZt1S7RLM+oSDxKwPOVxsZ+QgMTOzTBwkZmaWiYPEzMwycZCYmVkmuQaJpCmS1kpqljSrxHhJujQdv1LShKLxdZJWSLo5zzrNzKz3cgsSSXXAbGAqMB44RdL4osmmAuPSxwzgsqLxXwTW5FWjmZlll+cWyUSgOSKeiIgtwAJgWtE004CrIrEUGCFpPwBJo4G/A+blWKOZmWWUZ5CMAtYXPG9J28qd5hLgn4H2rlYiaYakJklNra2t2So2M7MeyzNIVKItyplG0onAcxGxvLuVRMTciGiMiMb6+vre1GlmZhnkGSQtwJiC56OBDWVOMwn4qKR1JLvEjpF0TX6lmplZb+UZJMuAcZLGShoMTAcWFk2zEDg9PXvrCOCliNgYEf8SEaMjoiGd7w8RcVqOtZqZWS8NzGvBEdEmaSawGKgD5kfEKknnpOPnAIuAE4BmYBNwVl71mJlZPnILEoCIWEQSFoVtcwqGAzivm2X8EfhjDuWZmVkF+Mp2MzPLxEFiZmaZOEjMzCwTB4mZmWXiIDEzs0wcJGZmlomDxMzMMnGQmJlZJg4SMzPLxEFiZmaZOEjMzCwTB4mZmWXiIDEzs0wcJGZmlomDxMzMMnGQmJlZJg4SMzPLxEFi1scaZt1S7RLMKspBYmZmmThIzMwsEweJmZll4iAxy4GPg9iuxEFiZmaZ5BokkqZIWiupWdKsEuMl6dJ0/EpJE9L2MZLulLRG0ipJX8yzTjMz673cgkRSHTAbmAqMB06RNL5osqnAuPQxA7gsbW8DvhIRBwNHAOeVmNfMzGpAnlskE4HmiHgiIrYAC4BpRdNMA66KxFJghKT9ImJjRDwAEBGvAGuAUTnWamZmvZRnkIwC1hc8b2HHMOh2GkkNwKHAfRWv0MzMMsszSFSiLXoyjaQ9gF8D50fEyyVXIs2Q1CSpqbW1tdfFmplZ7+QZJC3AmILno4EN5U4jaRBJiFwbETd0tpKImBsRjRHRWF9fX5HCzcysfANzXPYyYJykscDTwHTgU0XTLARmSloAHA68FBEbJQm4AlgTET/MsUazXIh2xulpxuoZNjOI12MImxjCYzGazQyudnlmFZVbkEREm6SZwGKgDpgfEasknZOOnwMsAk4AmoFNwFnp7JOATwMPS3owbftaRCzKq16zzDa/AiuugebbeWjIveypTTtMsimGcE/7IfDAC/DuE2DYyCoUalZZiig+bNF/NTY2RlNTU7XLsF3Nay/A/ZfDfZfDG3+F+oP5xcb9WN7+LtbGaAaxjaHawp68xlEDVnFs3QpG63kYtDsceR4c9XkY+pZqvwrbRUlaHhGNmZbhIDHrpfZ2uH8u3PEfsPU1OOhEmPwlGN3YTRcpwXg9xaLDlsMjv4bd9oajL4CJn4O6PPc2m+2oEkHiLlLMeuPFJ+HKE+H3X4X9j4Jz74Pp18Locv4exepogJPnw4y74O2HwuKvwc+mwl/W5Vy4WeU5SMx6asW1cNkkeOZhmDYbTv0V7HtQ75b19vfBp2+AT1wBrY/CnA/Aw9dXtl6znDlIzMq1rQ1+91W48VwYNQH+6V449DRQqcuheug9J8M598C+B8Ovz4abzodtW7Mv16wPOEjMyrHpRbjmJLhvDhxxLnz6tzBiTPfz9cRe+8OZi5LjLMt/Btd8HF7/S2XXYZYDB4lZd154HH56DPx5KUz7CUz5dqcHxTPfh6RuIBx3MXxsDjy1BOYdl6zfrIY5SMy60rIcrjgeNr8MZ94Ch57aN+t93ylwxsJkS2jecdDisxGtdjlIzDrz2K3JmVmD94DP3ApjJpY1W8Xujrj/UfDZ25NrTK78CPzptsos16zCHCRmpay4Fq6bDvscCGffBiMPrE4d+7wTzr4VRo6DX/wDPHhddeow64KDxKxQBNxzSXJm1tgPwFmLYPhbq1vTHvsmu9UaJsNvz0nq24kuJLb+z0Fi1qG9HW79V7j963DIJ+BTv4Ihw7udrWK7sroyZDicen1S1+1fTy5gbG/Pf71mZXB/DGYAbZvhxvPg4V8lXZVM+Q4MqLH/swYOho/Pg2H7wtKfwKvPwccuS9rNqshBYvb6X2DBafDUPXDsv8HkL/f4IsM+2SqBJNymfDvZ3Xb7xfDac/DJq2C3vfpm/WYl1Ni/XGZ97MUnYd7x0HJ/0k3JB77SoxDpswApJCUXLZ50eXqtyfHw4hN9X4dZykFiu6519yTXaLzWmlyp/p6Ty5qtUuGReTnvnZ5ea/IC/PRYeOreitRl1lMOEtv1RMCS2XDlR2G3EcnpvQ2Tql1V74Kl41qT3fdOXs99l/uMLutzDhLbtWx+Fa7/THLW07unwj/eCfXvqnZV2bZO9nlnEiYHHgu/+2f41RnwxkuVK86sGw4S23X8eSnMmQyrf5scVP/k1TB0z2pXVRm77QXTr4Pj/wPW3AxzPwhPL692VbaLcJDYzm/rG8n1IfOnQGyDM25KDqr34PTe4i2GmjlOUmjAAJj0xeTixa1vJMd/Fl8EW3a8d7xZJTlIbOcVAWt/B3Mmwb0/gsPOTO4h0jC5V4vL6wytcpbbo3XvfySctxQmnAFLfgyXHQnNd2So0KxrDhLbOW18KOno8LrpyfPTboCPXFLWlepd6YvTfbtbR1k1DH1L8nrPvAU0ILm3yVXTkt6MzSrMQWI7jwh48r/hulPg8v8Jz66Cqd+Dc5cmB6J7qSrXipRYbzm713Zoa5gM/7QEPvyt5NbA846BBacm15/47C6rEF/Zbv3fay/AmoXQNB+eWQm77wNHXwhHnpec3rurGzQ0eS8mnA5LfpKc+vzozbDveHj/2XDIyX6fLBMHifU/EcmV3E/ezd03XsHRA1cnB9HrD4KP/Bf8zT/AoN1yL6OvtlS62vLo+LnuO39Xcpo3tQ8ZDh/8Khw1Ex6+HpbNg1u+ktyHvmEyHHQivOvDMOId+bwQ22nlumtL0hRJayU1S5pVYrwkXZqOXylpQrnz2i4iAl7eAM23JwfMrz8bfngw/GgC3Hw+79BzyZlKn/tvGtb/r+SAehoivfmiz+vsrJ6uv/hnResZPAwOOwM+dzcf3fyNZGvlpadh0QVwyXvgBwfDL0+He38Mj/8B/rq+ZE/D1drlZ7Unty0SSXXAbOB4oAVYJmlhRKwumGwqMC59HA5cBhxe5rxWRTv8t1soIn20Q3tb+tgK29pg2+akp922zbB1E2x5NblIcPPLSVcfm16ETc8nX2wvtfBa6zqGafP2ZQ9/e3I19/6ToGEyH/zBn1h33Inpl9r2PrJK/cdeXHPH81KvpcvXV6MKv9iLhztey5tel8TKeCcc/4Xk+pPn/5QEx/r7k77HVt+4feGDdocR+3P3MwM5+rD38qOmVzm7bhis+AsMHQFD9oBBw2Dw7jBwKEd+7/+y5F+nQN1gGDCw4FEHUr98f61zee7amgg0R8QTAJIWANOAwjCYBlwVEQEslTRC0n5AQxnz7mjjSvjWKABe3dzGHkMq+/KyLrOz+fNabo+XMbgOgNe2tAEwbHDhMpMDs69vaUMEjw4BvjFg+7hop21bOwMIBijDQdwBA2ndNoz6UQfwu2f3ZEMcw7p4K2vbx/BYjObBi6cnX0Ind3wJNffoP+PO/sMv/rItNW0t6yxEuppmh3AZOY6G7z/Guu98Lpno1eeY/q0reac28M62DYx643neqhfh8Ts4t+4Z6hRw47Ul17VkKPD9zut9fIjg3wewpR0GD6xjc1swZFAdb2zdxtBBA3l96zZ2e9Pnr4uONKU3/Q109feQx99gHt81/Y0ipzM3JJ0MTImIz6bPPw0cHhEzC6a5GfhORNyTPr8D+CpJkHQ5b8EyZgAz0qeHAI/k8oIqZyTwfLWLKIPrrCzXWVmus3LeHRGZzovPM0ZL/QtRnFqdTVPOvEljxFxgLoCkpoho7EmRfa0/1Aius9JcZ2W5zsqR1JR1GXkGSQswpuD5aGBDmdMMLmNeMzOrAXmetbUMGCdprKTBwHRgYdE0C4HT07O3jgBeioiNZc5rZmY1ILctkohokzQTWAzUAfMjYpWkc9Lxc4BFwAlAM7AJOKurectY7dzKv5KK6w81guusNNdZWa6zcjLXmNvBdjMz2zW4ry0zM8vEQWJmZpn0yyCR9D1Jj6bdqvxG0oiCcf+SdquyVtKHC9oPk/RwOu5SSV1c4VSxOv9e0ipJ7ZIaC9obJL0u6cH0MacW60zH1cz7WVTXxZKeLngPT+iu5mqo5a5+JK1Lf4cPdpwCKmlvSbdJ+lP6c68q1DVf0nOSHilo67Suav2+O6mz5j6XksZIulPSmvTv/Itpe+Xe04jodw/gQ8DAdPi7wHfT4fHAQ8AQYCzwOFCXjrsfOJLkGpXfAVP7oM6DgXcDfwQaC9obgEc6maeW6qyp97Oo5ouBC0q0d1pzFT6nden6DyA5pf0hYHw1aumkvnXAyKK2/wRmpcOzOv62+riuo4EJhX8jndVVzd93J3XW3OcS2A+YkA4PBx5L66nYe9ovt0gi4taIaEufLiW5zgSSblQWRMTmiHiS5GywiUq6XdkzIpZE8k5dBXysD+pcExFry52+BuusqfezTCVrrlIt/7+boIjYAnR09VPLpgFXpsNXUoXfa0TcDbxY1NxZXVX7fXdSZ2eqWefGiHggHX4FWAOMooLvab8MkiKfIfmPGJI3Z33BuJa0bVQ6XNxeTWMlrZB0l6QPpG21Vmetv58z092b8ws2yzuruRpqqZZSArhV0nIlXQ0BvDWSa7lIf+5btererLO6avE9rtnPpaQG4FDgPir4ntZsT2OSbgfeVmLURRFxYzrNRUAb0NFzXOYuV/Kos4SNwDsi4gVJhwG/lfQ/arDOPn8/37TyLmom6Sn6G+l6vwH8gOSfij6prUy1VEspkyJig6R9gdskPVrtgnqh1t7jmv1cStoD+DVwfkS83MVhzR7XWrNBEhHHdTVe0hnAicCx6e4V6LzLlRa27/4qbM+9zk7m2QxsToeXS3oceFet1UkV3s9C5dYs6afAzenTcrrm6Su1VMsOImJD+vM5Sb8h2X3xrKT9ImJjugvzuaoWuV1nddXUexwRz3YM19LnUtIgkhC5NiJuSJsr9p72y11bkqaQ9BL80YjYVDBqITBd0hBJY0nuc3J/utn2iqQj0rOLTgc6+y88d5LqldxzBUkHpHU+UWt1UsPvZ/rB73AS23t9LllzX9ZWoGa7+pE0TNLwjmGSE1geIanvjHSyM6ju569QZ3XV0u+7Jj+X6d/oFcCaiPhhwajKvad9cdZADmchNJPsw3swfcwpGHcRyVkGayk4kwhoJPmlPg78mPSq/pzrPIkk3TcDzwKL0/ZPAKtIzox4APhILdZZa+9nUc1XAw8DK9MP/n7d1Vylz+oJJGfJPE6yG7FqtRTVdUD6+Xso/SxelLbvA9wB/Cn9uXcVaruOZPfv1vRzeXZXdVXr991JnTX3uQQmk+yaWlnwnXlCJd9Td5FiZmaZ9MtdW2ZmVjscJGZmlomDxMzMMnGQmJlZJg4SMzPLxEFi/Z6kbWlPq49IukkFvUH3YQ2z0xpW6809O5+cw7oGpL257lGBZd0h6S2VqMt2XT791/o9Sa9GxB7p8JXAYxHxzSrV0gDcHBGHdDJ+YGzvcLS365gGTI6IC7MsJ13W2SQ9AH8367Js1+UtEtvZLKGggzlJF0palnai9+8F7aenbQ9Jujpt2z/9D31l+vMdlShI0j2SvinpbpIO/a6R9LGC8a8WDM+SdH9aw791sshTKbjiXNJZBa/lZ2nbNelW0p2SHpd0tKQrldzH54qCZd0IfKoSr9N2XTXb15ZZT6XdzhxL0h0Ekj5E0r3DRJKO6BZKOhp4geTK3UkR8bykvdNF/Bi4KiKulPQZ4FIq1436nhFxdFrXNZ3UfwLwDuDwtN5Fko6KiHuLJp0EnJnO816S7oKOiogXC14LwFsi4m8lfQK4ieT+MY8CD0g6JCIeSV//cEkjIuKvFXqttovxFontDHaT9CBJQOwN3Ja2fyh9rCDpiuYgkmA5Brg+Ip4HiIiOe0ocCfwiHb6apGuJSllQxjQfAqYW1HsgSWeexYbH9j7mjgH+T8drKHgtkIQHJF12bIiI1RHRDqwmublah1aSmx+Z9YqDxHYGr0fE+4D9Se5EeF7aLuDbEfG+9HFgRFyRtpdzcHCHaSQtTg+iz+thja8VDLeR/u2lW1EdewYE/O+ien9eYlnthSWVqjO1uWD6zQXt7bx5b8RQ4PVyXoRZKQ4S22lExEvAF4AL0m6zFwOf6Ti7SdIoJffeuAP4pKR90vaO3UH3kvTQC8lxiHtKrOPD6Zf8ZzOUug44LB0+ieSWvKT1np32xouk0ZJGlpi/OT2oD3A7SU+texe9lrJIGgCM5M03MjLrER8jsZ1KRKyQ9BAwPSKulnQwsCTpSZtXgdMiYpWkbwJ3SdpGsivpTJIQmi/pQpLdPWflVOblwI2SjgduZfu9aRZJOghYmtb7CsmB8OeL5r8F+CDw84hYKek/gbsltQHLSXqhLddE4J6I2Jbh9dguzqf/mvUzkkYD8yJiSgWWNRv4ZUTclb0y21V515ZZPxMRLcDPK3FBIrDCIWJZeYvEzMwy8RaJmZll4iAxM7NMHCRmZpaJg8TMzDJxkJiZWSb/DxpAKxlX/7hpAAAAAElFTkSuQmCC\n",
      "text/plain": [
       "<Figure size 432x288 with 1 Axes>"
      ]
     },
     "metadata": {
      "needs_background": "light"
     },
     "output_type": "display_data"
    },
    {
     "name": "stdout",
     "output_type": "stream",
     "text": [
      "gaussian fit params: The Mean is  -0.5651554215279471\n",
      "The STD is  22.5729651355891\n"
     ]
    }
   ],
   "source": [
    "import numpy as np\n",
    "from scipy.stats import norm\n",
    "import matplotlib.pyplot as plt\n",
    "\n",
    "#data = np.random.normal(loc=5.0, scale=2.0, size=1000)\n",
    "mean,std=norm.fit(diff_reco_muon_test)\n",
    "\n",
    "plt.hist(diff_reco_muon_test, bins=1000, normed=True)\n",
    "xmin, xmax = plt.xlim(-200,200)\n",
    "x = np.linspace(xmin, xmax, 100)\n",
    "y = norm.pdf(x, mean, std)\n",
    "plt.xlabel('Reco - True (cm)')\n",
    "plt.ylabel('Count')\n",
    "plt.plot(x, y)\n",
    "plt.show()\n",
    "\n",
    "#gauss_fit,cov = curve_fit( Gauss, x, y )\n",
    "print(\"gaussian fit params: The Mean is \", mean)\n",
    "print(\"The STD is \", std)"
   ]
  },
  {
   "cell_type": "code",
   "execution_count": 27,
   "metadata": {},
   "outputs": [
    {
     "name": "stdout",
     "output_type": "stream",
     "text": [
      "The mean is -27.230722849071025\n",
      "The RMS is  116.89475912415271\n",
      "The total number of events is  160\n",
      "The number events within plus minus 200 is  159 This is 99.375 % of all events\n",
      "The number of events outside this range is 1\n"
     ]
    },
    {
     "data": {
      "text/plain": [
       "<Figure size 864x576 with 0 Axes>"
      ]
     },
     "metadata": {},
     "output_type": "display_data"
    },
    {
     "data": {
      "image/png": "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\n",
      "text/plain": [
       "<Figure size 360x360 with 1 Axes>"
      ]
     },
     "metadata": {
      "needs_background": "light"
     },
     "output_type": "display_data"
    }
   ],
   "source": [
    "#Determining spread for anti muon old algorithm\n",
    "antimuonrecovtxy=np.array(antimuonrecovtxy)\n",
    "antimuontruevtxy=np.array(antimuontruevtxy)\n",
    "diff_reco_anti_muon=antimuonrecovtxy-antimuontruevtxy\n",
    "plt.figure(figsize=(12,8))\n",
    "sns.displot(diff_reco_anti_muon,color='k')\n",
    "plt.ylim(0, 100)\n",
    "plt.xlim(-200, 200)\n",
    "plt.xlabel('Reco - True (cm)')\n",
    "plt.ylabel('Count')\n",
    "\n",
    "#calculating mean and stuff\n",
    "averagex=np.mean(diff_reco_anti_muon)\n",
    "print(\"The mean is\" , averagex)\n",
    "\n",
    "#Calculating RMS\n",
    "rmsx=np.sqrt(np.mean(diff_reco_anti_muon**2))\n",
    "print(\"The RMS is \" , rmsx)\n",
    "#areaofinterestx=3*rmsx-averagex\n",
    "#print(\"The range of 3 sigma we are counting inside of is \", areaofinterestx)\n",
    "areaofinterestx=200\n",
    "\n",
    "#total number of events\n",
    "totalevents=len(diff_reco_anti_muon)\n",
    "print(\"The total number of events is \" , totalevents)\n",
    "#Counting events within 3 sigma\n",
    "y=0\n",
    "for x in diff_reco_anti_muon:\n",
    "    if x < abs(areaofinterestx):\n",
    "        y=y+1\n",
    "    else:\n",
    "        continue\n",
    "percentcount=y/totalevents\n",
    "print(\"The number events within plus minus 200 is \", y,\"This is\", 100*percentcount, \"% of all events\")\n",
    "print(\"The number of events outside this range is\", totalevents-y)"
   ]
  },
  {
   "cell_type": "code",
   "execution_count": 28,
   "metadata": {},
   "outputs": [
    {
     "name": "stderr",
     "output_type": "stream",
     "text": [
      "/opt/software/software/IPython/7.9.0-foss-2019b-Python-3.7.4/lib/python3.7/site-packages/ipykernel_launcher.py:8: MatplotlibDeprecationWarning: \n",
      "The 'normed' kwarg was deprecated in Matplotlib 2.1 and will be removed in 3.1. Use 'density' instead.\n",
      "  \n"
     ]
    },
    {
     "data": {
      "image/png": "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\n",
      "text/plain": [
       "<Figure size 432x288 with 1 Axes>"
      ]
     },
     "metadata": {
      "needs_background": "light"
     },
     "output_type": "display_data"
    },
    {
     "name": "stdout",
     "output_type": "stream",
     "text": [
      "gaussian fit params: The Mean is  -27.230722849071025\n",
      "The STD is  113.67881264250946\n"
     ]
    }
   ],
   "source": [
    "import numpy as np\n",
    "from scipy.stats import norm\n",
    "import matplotlib.pyplot as plt\n",
    "\n",
    "#data = np.random.normal(loc=5.0, scale=2.0, size=1000)\n",
    "mean,std=norm.fit(diff_reco_anti_muon)\n",
    "\n",
    "plt.hist(diff_reco_anti_muon, bins=1000, normed=True)\n",
    "xmin, xmax = plt.xlim(-200,200)\n",
    "x = np.linspace(xmin, xmax, 100)\n",
    "y = norm.pdf(x, mean, std)\n",
    "plt.xlabel('Reco - True (cm)')\n",
    "plt.ylabel('Count')\n",
    "plt.plot(x, y)\n",
    "plt.show()\n",
    "\n",
    "#gauss_fit,cov = curve_fit( Gauss, x, y )\n",
    "print(\"gaussian fit params: The Mean is \", mean)\n",
    "print(\"The STD is \", std)"
   ]
  },
  {
   "cell_type": "code",
   "execution_count": 30,
   "metadata": {},
   "outputs": [
    {
     "name": "stdout",
     "output_type": "stream",
     "text": [
      "The mean is -1.564001370407641\n",
      "The RMS is  19.859409400939455\n",
      "The total number of events is  160\n",
      "The number events within plus minus 200 is  160 This is 100.0 % of all events\n",
      "The number of events outside this range is 0\n"
     ]
    },
    {
     "data": {
      "text/plain": [
       "<Figure size 864x576 with 0 Axes>"
      ]
     },
     "metadata": {},
     "output_type": "display_data"
    },
    {
     "data": {
      "image/png": "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\n",
      "text/plain": [
       "<Figure size 360x360 with 1 Axes>"
      ]
     },
     "metadata": {
      "needs_background": "light"
     },
     "output_type": "display_data"
    }
   ],
   "source": [
    "# our model results for anti muon in final state\n",
    "antimuontestrecovtxy=np.array(antimuontestrecovtxy)\n",
    "antimuontesttruevtxy=np.array(antimuontesttruevtxy)\n",
    "diff_reco_anti_muon_test=antimuontestrecovtxy-antimuontesttruevtxy\n",
    "plt.figure(figsize=(12,8))\n",
    "sns.displot(diff_reco_anti_muon_test,color='k')\n",
    "plt.ylim(0, 100)\n",
    "plt.xlim(-200, 200)\n",
    "plt.xlabel('Reco - True (cm)')\n",
    "plt.ylabel('Count')\n",
    "\n",
    "#calculating mean and stuff\n",
    "averagex=np.mean(diff_reco_anti_muon_test)\n",
    "print(\"The mean is\" , averagex)\n",
    "\n",
    "#Calculating RMS\n",
    "rmsx=np.sqrt(np.mean(diff_reco_anti_muon_test**2))\n",
    "print(\"The RMS is \" , rmsx)\n",
    "#areaofinterestx=3*rmsx-averagex\n",
    "#print(\"The range of 3 sigma we are counting inside of is \", areaofinterestx)\n",
    "areaofinterestx=200\n",
    "\n",
    "#total number of events\n",
    "totalevents=len(diff_reco_anti_muon_test)\n",
    "print(\"The total number of events is \" , totalevents)\n",
    "#Counting events within 3 sigma\n",
    "y=0\n",
    "for x in diff_reco_anti_muon_test:\n",
    "    if x < abs(areaofinterestx):\n",
    "        y=y+1\n",
    "    else:\n",
    "        continue\n",
    "percentcount=y/totalevents\n",
    "print(\"The number events within plus minus 200 is \", y,\"This is\", 100*percentcount, \"% of all events\")\n",
    "print(\"The number of events outside this range is\", totalevents-y)"
   ]
  },
  {
   "cell_type": "code",
   "execution_count": 31,
   "metadata": {},
   "outputs": [
    {
     "name": "stderr",
     "output_type": "stream",
     "text": [
      "/opt/software/software/IPython/7.9.0-foss-2019b-Python-3.7.4/lib/python3.7/site-packages/ipykernel_launcher.py:8: MatplotlibDeprecationWarning: \n",
      "The 'normed' kwarg was deprecated in Matplotlib 2.1 and will be removed in 3.1. Use 'density' instead.\n",
      "  \n"
     ]
    },
    {
     "data": {
      "image/png": "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\n",
      "text/plain": [
       "<Figure size 432x288 with 1 Axes>"
      ]
     },
     "metadata": {
      "needs_background": "light"
     },
     "output_type": "display_data"
    },
    {
     "name": "stdout",
     "output_type": "stream",
     "text": [
      "gaussian fit params: The Mean is  -1.564001370407641\n",
      "The STD is  19.797728189554615\n"
     ]
    }
   ],
   "source": [
    "import numpy as np\n",
    "from scipy.stats import norm\n",
    "import matplotlib.pyplot as plt\n",
    "\n",
    "#data = np.random.normal(loc=5.0, scale=2.0, size=1000)\n",
    "mean,std=norm.fit(diff_reco_anti_muon_test)\n",
    "\n",
    "plt.hist(diff_reco_muon_test, bins=1000, normed=True)\n",
    "xmin, xmax = plt.xlim(-200,200)\n",
    "x = np.linspace(xmin, xmax, 100)\n",
    "y = norm.pdf(x, mean, std)\n",
    "plt.xlabel('Reco - True (cm)')\n",
    "plt.ylabel('Count')\n",
    "plt.plot(x, y)\n",
    "plt.show()\n",
    "\n",
    "#gauss_fit,cov = curve_fit( Gauss, x, y )\n",
    "print(\"gaussian fit params: The Mean is \", mean)\n",
    "print(\"The STD is \", std)"
   ]
  },
  {
   "cell_type": "code",
   "execution_count": 32,
   "metadata": {},
   "outputs": [
    {
     "name": "stdout",
     "output_type": "stream",
     "text": [
      "Processing 93131 test files. Splitting events by final state pdg code.\n",
      "ELECTRON RUN: Processing train file 35841\n",
      "Job complete.\n"
     ]
    }
   ],
   "source": [
    "##### Split by pdg number for electron #######\n",
    "finalstateelectron,finalstatepositron,electronrecovtxy,electrontruevtxy,electrontestrecovtxy,electrontesttruevtxy,positronrecovtxy,positrontruevtxy,positrontestrecovtxy,positrontesttruevtxy=([] for i in range(10))\n",
    "x=idx=0\n",
    "print('Processing {} test files. Splitting events by final state pdg code.'.format((len(pdg))))\n",
    "while idx < (len(finalstate)):\n",
    "    time.sleep(0.001) # hesitates for 0.001 seconds to prevent server comm errors\n",
    "    print('ELECTRON RUN: Processing train file {}'.format(idx), end=\"\\r\", flush=True)\n",
    "    if finalstate[idx] == 11: # pdg code for electron\n",
    "       \n",
    "        \n",
    "        finalstateelectron.append(finalstate[idx])\n",
    "        \n",
    "        electronrecovtxy.append(recovtxy[idx])\n",
    "        electrontruevtxy.append(truevtxy[idx])\n",
    "        \n",
    "        electrontestrecovtxy.append(testrecovtxy[idx])\n",
    "        electrontesttruevtxy.append(testtruevtxy[idx])\n",
    "        \n",
    "        \n",
    "    elif finalstate[idx] == -11: #pd code for an anti muon\n",
    "        finalstatepositron.append(finalstate[idx])\n",
    "        \n",
    "        positronrecovtxy.append(recovtxy[idx])\n",
    "        positrontruevtxy.append(truevtxy[idx])\n",
    "        \n",
    "        positrontestrecovtxy.append(testrecovtxy[idx])\n",
    "        positrontesttruevtxy.append(testtruevtxy[idx])\n",
    "       \n",
    "\n",
    "    idx+=1\n",
    "print('\\nJob complete.')"
   ]
  },
  {
   "cell_type": "code",
   "execution_count": 34,
   "metadata": {},
   "outputs": [
    {
     "name": "stdout",
     "output_type": "stream",
     "text": [
      "The mean is -24.937468125269962\n",
      "The RMS is  135.86989233399538\n",
      "The total number of events is  52\n",
      "The number events within plus minus 100 is  49 This is 94.23076923076923 % of all events\n",
      "The number of events outside this range is 3\n"
     ]
    },
    {
     "data": {
      "text/plain": [
       "<Figure size 864x576 with 0 Axes>"
      ]
     },
     "metadata": {},
     "output_type": "display_data"
    },
    {
     "data": {
      "image/png": "iVBORw0KGgoAAAANSUhEUgAAAWcAAAFyCAYAAAApoxulAAAABHNCSVQICAgIfAhkiAAAAAlwSFlzAAALEgAACxIB0t1+/AAAADh0RVh0U29mdHdhcmUAbWF0cGxvdGxpYiB2ZXJzaW9uMy4xLjEsIGh0dHA6Ly9tYXRwbG90bGliLm9yZy8QZhcZAAAWiklEQVR4nO3df7DddX3n8edLkkgqoKQJbBa0wMhWKTOteksVXKaVqhTagluxzGJNlZY/qq22W3bjMrPbna6z2u12bLeubhYoEakuS7WguEVMEcepghEQCcECajElmx86rVgcSOC9f5zvJYfLvckJOed8P8l9PmbunHM+59frnHvyyvd+zvd8TqoKSVJbntN3AEnSM1nOktQgy1mSGmQ5S1KDLGdJapDlLEkNmlg5J7kyyfYk9wyNrUhyc5L7u8Ojh857d5IHknw9yesnlUuSDgaT3HK+Cjh7zthaYENVnQxs6E6T5BTgQuDHuuv8jySHTTCbJDVtYuVcVZ8Hvjtn+DxgfXd8PXD+0PjHquqxqvom8ABw2qSySVLrlkz5/o6tqq0AVbU1yTHd+HHAl4Yut6Ube4YklwCXAJxyyimv2LRp0wTjStKzkgO9gVbeEJzvgcz7ufKqWldVM1U1s3z58gnHkqR+TLuctyVZDdAdbu/GtwAvHLrc8cDDU84mSc2YdjnfAKzpjq8Brh8avzDJc5OcCJwM3D7lbJLUjInNOSf5KPDTwMokW4D/CLwXuDbJxcBDwAUAVbUpybXAvcBu4O1V9cSksklS63IwLxk6MzNTGzdu7DuGJM11yLwhKEkaYjlLUoMsZ0lqkOUsSQ2ynCWpQZazJDXIcpakBlnOktQgy1mSGmQ5S1KDLGdJapDlLEkNspwlqUGWsyQ1yHKWpAZZzpLUIMtZkhpkOUtSgyxnSWqQ5SxJDbKcJalBlrMkNchylqQGWc6S1CDLWZIaZDlLUoMsZ0lqkOUsSQ2ynCWpQZazJDXIcpakBlnOktQgy1mSGmQ5S1KDLGdJapDlLEkNspwlqUGWsyQ1yHKWpAZZzpLUIMtZkhpkOUtSgyxnSWqQ5SxJDbKcJalBlrMkNchylqQGWc6S1CDLWZIaZDlLUoMsZ0lqkOUsSQ2ynCWpQZazJDXIcpakBvVSzkl+O8mmJPck+WiSw5OsSHJzkvu7w6P7yCZJLZh6OSc5DvgtYKaqTgUOAy4E1gIbqupkYEN3WpIWpb6mNZYAy5MsAX4IeBg4D1jfnb8eOL+nbJLUu6mXc1X9PfCHwEPAVuAfq+ozwLFVtbW7zFbgmGlnk6RW9DGtcTSDreQTgX8OPC/Jm/fj+pck2Zhk444dOyYVU5J61ce0xs8C36yqHVW1C/g4cDqwLclqgO5w+3xXrqp1VTVTVTOrVq2aWmhJmqY+yvkh4JVJfihJgLOAzcANwJruMmuA63vIJklNWDLtO6yq25JcB9wB7AbuBNYBRwDXJrmYQYFfMO1sktSKVFXfGZ61mZmZ2rhxY98xJGmuHOgN+AlBSWqQ5SxJDbKcJalBlrMkNchylqQGWc6S1CDLWZIaZDlLUoMsZ0lqkOUsSQ2ynCWpQZazJDXIcpakBlnOktQgy1mSGmQ5S1KDLGdJapDlLEkNspwlqUGWsyQ1yHKWpAZZzpLUIMtZkhpkOUtSgyxnSWqQ5SxJDbKcJalBlrMkNchylqQGWc6S1CDLWZIaZDlLUoMsZ0lqkOUsSQ2ynCWpQZazJDXIcpakBlnOktQgy1mSGmQ5S1KDLGdJapDlLEkNspwlqUGWsyQ1yHKWpAZZzpLUIMtZkhpkOUtSgyxnSWqQ5SxJDbKcJalBlrMkNchylqQGWc6S1CDLWZIaZDlLUoN6KeckL0hyXZL7kmxO8qokK5LcnOT+7vDoPrJJUgv62nL+Y+CvquolwI8Dm4G1wIaqOhnY0J2WpEVp6uWc5CjgTOAKgKp6vKr+ATgPWN9dbD1w/rSzSVIr+thyPgnYAfxZkjuTXJ7kecCxVbUVoDs8Zr4rJ7kkycYkG3fs2DG91JI0RX2U8xLg5cAHq+plwD+xH1MYVbWuqmaqambVqlWTyihJveqjnLcAW6rqtu70dQzKeluS1QDd4fYesklSE6ZezlX1/4BvJ/nRbugs4F7gBmBNN7YGuH7a2SSpFUt6ut/fBK5Jsgz4BvBWBv9RXJvkYuAh4IKesklS73op56q6C5iZ56yzpp1FklrkJwQlqUGWsyQ1yHKWpAZZzpLUIMtZkhpkOUtSgyxnSWqQ5SxJDbKcJalBlrMkNchylqQGWc6S1CDLWZIaZDlLUoNGKuckZ4wyJkkaj1G3nP/7iGOSpDHY62L7SV4FnA6sSvI7Q2cdBRw2yWCStJjt65tQlgFHdJc7cmj8e8AbJxVKkha7vZZzVd0K3Jrkqqr6uyllkqRFb9TvEHxuknXACcPXqarXTCKUJC12o5bz/wE+BFwOPDG5OJIkGL2cd1fVByeaRJL0lFF3pftkkt9IsjrJitmfiSaTpEVs1C3nNd3hpUNjBZw03jiSJBixnKvqxEkHkSTtMVI5J3nLfONV9eHxxpEkwejTGj85dPxw4CzgDsBylqQJGHVa4zeHTyd5PnD1RBJJkp71kqGPAiePM4gkaY9R55w/yWDvDBgsePRS4NpJhZKkxW7UOec/HDq+G/i7qtoygTySJEac1ugWQLqPwcp0RwOPTzKUJC12o34TypuA24ELgDcBtyVxyVBJmpBRpzUuA36yqrYDJFkFfBa4blLBJGkxG3VvjefMFnPnO/txXUnSfhp1y/mvktwEfLQ7/cvApycTSZK0r+8QfDFwbFVdmuRfAa8GAnwRuGYK+SRpUdrX1MT7gUcAqurjVfU7VfXbDLaa3z/pcJK0WO2rnE+oqrvnDlbVRgZfWSVJmoB9lfPhezlv+TiDSJL22Fc5fznJr88dTHIx8JXJRJIk7WtvjXcBn0hyEXvKeAZYBrxhksEkaTHbazlX1Tbg9CQ/A5zaDd9YVX898WSStIiNup7zLcAtE84iSer4KT9JapDlLEkNspwlqUGWsyQ1yHKWpAZZzpLUIMtZkhpkOUtSgyxnSWqQ5SxJDbKcJalBvZVzksOS3JnkU93pFUluTnJ/d3h0X9kkqW99bjm/E9g8dHotsKGqTgY2dKclaVHqpZyTHA+cC1w+NHwesL47vh44f9q5JKkVfW05vx/4t8CTQ2PHVtVWgO7wmPmumOSSJBuTbNyxY8fkk0pSD6Zezkl+HtheVc/qa66qal1VzVTVzKpVq8acTpLaMNJi+2N2BvCLSc5h8AWyRyX5CLAtyeqq2ppkNbC9h2yS1ISpbzlX1bur6viqOgG4EPjrqnozcAOwprvYGuD6aWeTpFa0tJ/ze4HXJrkfeG13WpIWpT6mNZ5SVZ8DPtcd/w5wVp95JKkVLW05S5I6lrMkNchylqQGWc6S1CDLWZIaZDlLUoMsZ0lqkOUsSQ2ynCWpQZazJDXIcpakBlnOktQgy1mSGmQ5S1KDLGdJapDlLEkNspwlqUGWsyQ1yHKWpAZZzpLUIMtZkhpkOUtSgyxnSWqQ5SxJDbKcJalBlrMkNchylqQGWc6S1CDLWZIaZDlLUoMsZ0lqkOUsSQ2ynCWpQZazJDXIcpakBlnOktQgy1mSGmQ5S1KDLGdJapDlLEkNspwlqUGWsyQ1yHKWpAZZzpLUIMtZkhpkOUtSgyxnSWqQ5SxJDbKcJalBlrMkNchylqQGWc6S1CDLWZIaZDlLUoMsZ0lq0NTLOckLk9ySZHOSTUne2Y2vSHJzkvu7w6OnnU2SWtHHlvNu4N9U1UuBVwJvT3IKsBbYUFUnAxu605K0KE29nKtqa1Xd0R1/BNgMHAecB6zvLrYeOH/a2SSpFb3OOSc5AXgZcBtwbFVthUGBA8f0l0yS+tVbOSc5AvgL4F1V9b39uN4lSTYm2bhjx47JBZSkHvVSzkmWMijma6rq493wtiSru/NXA9vnu25VrauqmaqaWbVq1XQCS9KU9bG3RoArgM1V9UdDZ90ArOmOrwGun3Y2SWrFkh7u8wzgV4CvJbmrG/v3wHuBa5NcDDwEXNBDNklqwtTLuaq+AGSBs8+aZhZJalUfW85SU6qKnTt3Pm1s5cqVDGbgpH5Yzlr0du7cybnnnsvSpUsB2LVrFzfeeCO+4aw+Wc4SsHTpUpYtW9Z3DOkpLnwkSQ2ynCWpQZazJDXIcpakBlnOktQgy1mSGmQ5S1KDLGdJapDlLEkNspwlqUGWsyQ1yHKWpAZZzpLUIMtZkhpkOUtSgyxnSWqQ5SxJDbKcJalBlrMkNchylqQGWc6S1CDLWZIaZDlLUoMsZ0lqkOUsSQ2ynCWpQZazJDXIcpakBlnOktQgy1mSGmQ5S1KDLGdJapDlLEkNspwlqUGWsyQ1yHKWpAYt6TuA1IeqYufOnQBPHUotsZy1KO3cuZNzzz2XpUuX8uijj7Js2TKWLVvWdyzpKU5raNFaunQpy5YtY+nSpX1HkZ7BLWdpjuEpD4CVK1eSpMdEWowsZ2mO3bt3c9FFF7F8+XJ27drFjTfeyKpVq/qOpUXGcpbmMTvlIfXFOWdJapDlLEkNspwlqUHOOWtRmLsHxqgfPJl7PXDvDU2H5axFYfhDJ8DIHzwZ3nMDcO8NTY3lrEVjeA+MXbt2PavrSdNiOeuQ0feHR5wC0ThZzjpkDE9d9DH9MHfqxCkQHQjLWYeUvqcg+r5/HTrclU6SGuSW8yLQwlzocIaqAnja/S+2udn9mR/vey69by28fkc1m3UcU1nNlXOSs4E/Bg4DLq+q9/Yc6aDXwlzo3PWTkyzq3dP2Z36877n0vrXw+h3VbNbbb7/9gG+rqXJOchjwAeC1wBbgy0luqKp7+0128GthLnQ2w65du0jSe56+7c/vpIXfX58Opsc/rvXBmypn4DTggar6BkCSjwHnAfOW8+7du9mxY8cU4x2cdu7c+bT9enft2jX1r2YazjBbzo8//vhY88y9j7mfCJz7HMxmmC/P3s5bKOv+PM97y3oglz0UtfD6HdXcrAcis/N/LUjyRuDsqvq17vSvAD9VVe8YuswlwCXdyVOBe6YedO9WAq29csw0GjONprVMreUBOLyqTj2QG2hty3m+Gf6n/e9RVeuAdQBJNlbVzDSCjcpMozHTaMy0b63lgUGmA72N1nal2wK8cOj08cDDPWWRpN60Vs5fBk5OcmKSZcCFwA09Z5KkqWtqWqOqdid5B3ATg13prqyqTXu5yrrpJNsvZhqNmUZjpn1rLQ+MIVNTbwhKkgZam9aQJGE5S1KTDppyTvJfk9yX5O4kn0jygqHz3p3kgSRfT/L6ofFXJPlad96fZMwfxk9yQZJNSZ5MMjM0fkKSHyS5q/v50DQyLZSnO6+X52iejL+X5O+Hnptz9pVx0pKc3d3nA0nWTut+58nxre53cdfsrlhJViS5Ocn93eHRE85wZZLtSe4ZGlswwzR+Zwtk6vV1lOSFSW5Jsrn7N/fObnx8z1VVHRQ/wOuAJd3x9wHv646fAnwVeC5wIvAgcFh33u3AqxjsP/1/gZ8bc6aXAj8KfA6YGRo/AbhngetMLNNe8vT2HM2T8feA351nfMGME85zWHdfJwHLugynTPO1PZTlW8DKOWN/AKztjq+dfd1PMMOZwMuHX78LZZjW72yBTL2+joDVwMu740cCf9vd99ieq4Nmy7mqPlNVu7uTX2KwDzQMPt79sap6rKq+CTwAnJZkNXBUVX2xBs/Oh4Hzx5xpc1V9fdTLTzrTXvL09hzth3kzTuF+n1oyoKoeB2aXDGjFecD67vh6Jvz7qarPA98dMcNUfmcLZFrItDJtrao7uuOPAJuB4xjjc3XQlPMcb2OwlQeDJ+TbQ+dt6caO647PHZ+WE5PcmeTWJP+yG+srU2vP0Tu66akrh/7sWyjjpPV1v/Mp4DNJvpLBMgUAx1bVVhgUAnBMD7kWytD3c9fE6yjJCcDLgNsY43PV1H7OST4L/LN5zrqsqq7vLnMZsBu4ZvZq81y+9jI+9kzz2Aq8qKq+k+QVwF8m+bFxZHqWeSb6HD3jzvaSEfgg8Pvd/fw+8N8Y/Gc7kSwj6Ot+53NGVT2c5Bjg5iT39ZRjVH0+d028jpIcAfwF8K6q+t5e3rLZ71xNlXNV/ezezk+yBvh54Kzuz3BY+CPfW9gz9TE8PtZMC1znMeCx7vhXkjwI/ItxZHo2eZjwczTXqBmT/C/gU/vIOGnNLBlQVQ93h9uTfILBn73bkqyuqq3dNNT2HqItlKG3566qts0e7+t1lGQpg2K+pqo+3g2P7bk6aKY1MliE/98Bv1hVjw6ddQNwYZLnJjkROBm4vfuT4pEkr+z2QHgLsNCW5bizrspgbWqSnNRl+kaPmZp5jroX7Kw3sGdVwXkzTjJLp4klA5I8L8mRs8cZvAF+T5dlTXexNUzpNTzHQhn6+p31/jrq/r1cAWyuqj8aOmt8z9W438Wc1A+DCfRvA3d1Px8aOu8yBu9+fp2hvQ2AGQa/tAeBP6X7ROQYM72Bwf+IjwHbgJu68V8CNjF4d/YO4BemkWmhPH0+R/NkvBr4GnB394Jdva+MU3htncPg3fYHGUwP9fH6Pql7vXy1e+1c1o3/MLABuL87XDHhHB9lMC23q3stXby3DNP4nS2QqdfXEfBqBtMSdw910jnjfK78+LYkNeigmdaQpMXEcpakBlnOktQgy1mSGmQ5S1KDLGdNRZInutXD7knyyQytKjjFDB/oMtybp68a+MYJ3NdzulXLjhjDbW1I8vxx5NLBw13pNBVJvl9VR3TH1wN/W1Xv6SnLCcCnaoGvrk+ypPYssvVs7+M84NVVdemB3E53WxczWK3ufQd6Wzp4uOWsPnyRoUVfklya5MvdIjb/aWj8Ld3YV5Nc3Y39SLcleXd3+KJxBEryhSTvSfJ5BgvqfCTJ+UPnf3/o+Nokt3cZ/sMCN3kRQ5/mS/LWocfyZ93YR7qt+VuSPJjkzCTrM1i3/Iqh27oe+NfjeJw6eDS1toYOfd3H2s9i8NFXkryOwUdZT2OwOMwNSc4EvsPgE1VnVNXOJCu6m/hT4MNVtT7J24A/YXzLaB5VVWd2uT6yQP5zgBcBP9Xl/XSS06vqb+Zc9AzgV7vr/DiDpQdOr6rvDj0WgOdX1c8k+SXgkwzW1r4PuCPJqVV1T/f4j0zygqr6hzE9VjXOLWdNy/IkdzEo3RXAzd3467qfOxl81P0lDMr6NcB1VbUToKpm1/N9FfDn3fGrGXyMdlw+NsJlXgf83FDeFzNY1GquI2vPGjCvAf737GMYeiwwKGQYfBT54aq6t6qeBO5l8KUNs3YwWOBdi4TlrGn5QVX9BPAjDL5x5O3deID/UlU/0f28uKqu6MZHeUPkGZdJclP3Rt/l+5nxn4aO76b799Ft7c/+lRngP8/Je9U8t/XkcKT5cnYeG7r8Y0PjT/L0v2wPB34wyoPQocFy1lRV1T8CvwX8brfk4k3A22b3akhyXAbrGW8A3pTkh7vx2amAv2GwchwM5nW/MM99vL4rzl87gKjfAl7RHX8Dg6+zost7cbdyHEmOT7Jynus/0L3xCPBZBiuSrZjzWEaS5DnASp6+WLsOcc45a+qq6s4kXwUurKqrk7wU+OJgFUa+D7y5qjYleQ9wa5InGEwj/CqDYr8yyaUM/tR/64Ri/k/g+iSvBT7DnvW5P53kJcCXuryPMHizbuec698I/DRwVVXdneQPgM8n2Q18hcHKaqM6DfhCVT1xAI9HBxl3pZMmIMnxwOVVdfYYbusDwLVVdeuBJ9PBwmkNaQKqagtw1Tg+hALcaTEvPm45S1KD3HKWpAZZzpLUIMtZkhpkOUtSgyxnSWrQ/wdDICk8IJpE6AAAAABJRU5ErkJggg==\n",
      "text/plain": [
       "<Figure size 360x360 with 1 Axes>"
      ]
     },
     "metadata": {
      "needs_background": "light"
     },
     "output_type": "display_data"
    }
   ],
   "source": [
    "#Determining spread for electron old algorithm\n",
    "electronrecovtxy=np.array(electronrecovtxy)\n",
    "electrontruevtxy=np.array(electrontruevtxy)\n",
    "diff_reco_electron=electronrecovtxy-electrontruevtxy\n",
    "plt.figure(figsize=(12,8))\n",
    "sns.displot(diff_reco_electron,color='k')\n",
    "plt.ylim(0, 100)\n",
    "plt.xlim(-200, 200)\n",
    "plt.xlabel('Reco - True (cm)')\n",
    "plt.ylabel('Count')\n",
    "\n",
    "#calculating mean and stuff\n",
    "averagex=np.mean(diff_reco_electron)\n",
    "print(\"The mean is\" , averagex)\n",
    "\n",
    "#Calculating RMS\n",
    "rmsx=np.sqrt(np.mean(diff_reco_electron**2))\n",
    "print(\"The RMS is \" , rmsx)\n",
    "#areaofinterestx=3*rmsx-averagex\n",
    "#print(\"The range of 3 sigma we are counting inside of is \", areaofinterestx)\n",
    "areaofinterestx=100\n",
    "\n",
    "#total number of events\n",
    "totalevents=len(diff_reco_electron)\n",
    "print(\"The total number of events is \" , totalevents)\n",
    "#Counting events within 3 sigma\n",
    "y=0\n",
    "for x in diff_reco_electron:\n",
    "    if x < abs(areaofinterestx):\n",
    "        y=y+1\n",
    "    else:\n",
    "        continue\n",
    "percentcount=y/totalevents\n",
    "print(\"The number events within plus minus 100 is \", y,\"This is\", 100*percentcount, \"% of all events\")\n",
    "print(\"The number of events outside this range is\", totalevents-y)"
   ]
  },
  {
   "cell_type": "code",
   "execution_count": 35,
   "metadata": {},
   "outputs": [
    {
     "name": "stderr",
     "output_type": "stream",
     "text": [
      "/opt/software/software/IPython/7.9.0-foss-2019b-Python-3.7.4/lib/python3.7/site-packages/ipykernel_launcher.py:8: MatplotlibDeprecationWarning: \n",
      "The 'normed' kwarg was deprecated in Matplotlib 2.1 and will be removed in 3.1. Use 'density' instead.\n",
      "  \n"
     ]
    },
    {
     "data": {
      "image/png": "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\n",
      "text/plain": [
       "<Figure size 432x288 with 1 Axes>"
      ]
     },
     "metadata": {
      "needs_background": "light"
     },
     "output_type": "display_data"
    },
    {
     "name": "stdout",
     "output_type": "stream",
     "text": [
      "gaussian fit params: The Mean is  -24.937468125269962\n",
      "The STD is  133.56178467792589\n"
     ]
    }
   ],
   "source": [
    "import numpy as np\n",
    "from scipy.stats import norm\n",
    "import matplotlib.pyplot as plt\n",
    "\n",
    "#data = np.random.normal(loc=5.0, scale=2.0, size=1000)\n",
    "mean,std=norm.fit(diff_reco_electron)\n",
    "\n",
    "plt.hist(diff_reco_electron, bins=1000, normed=True)\n",
    "xmin, xmax = plt.xlim(-200,200)\n",
    "x = np.linspace(xmin, xmax, 100)\n",
    "y = norm.pdf(x, mean, std)\n",
    "plt.xlabel('Reco - True (cm)')\n",
    "plt.ylabel('Count')\n",
    "plt.plot(x, y)\n",
    "plt.show()\n",
    "\n",
    "#gauss_fit,cov = curve_fit( Gauss, x, y )\n",
    "print(\"gaussian fit params: The Mean is \", mean)\n",
    "print(\"The STD is \", std)"
   ]
  },
  {
   "cell_type": "code",
   "execution_count": 36,
   "metadata": {},
   "outputs": [
    {
     "name": "stdout",
     "output_type": "stream",
     "text": [
      "The mean is 1.9589692262502818\n",
      "The RMS is  19.40358089549376\n",
      "The total number of events is  52\n",
      "The number events within plus minus 100 is  51 This is 98.07692307692307 % of all events\n",
      "The number of events outside this range is 1\n"
     ]
    },
    {
     "data": {
      "text/plain": [
       "<Figure size 864x576 with 0 Axes>"
      ]
     },
     "metadata": {},
     "output_type": "display_data"
    },
    {
     "data": {
      "image/png": "iVBORw0KGgoAAAANSUhEUgAAAXAAAAFyCAYAAADs0YE0AAAABHNCSVQICAgIfAhkiAAAAAlwSFlzAAALEgAACxIB0t1+/AAAADh0RVh0U29mdHdhcmUAbWF0cGxvdGxpYiB2ZXJzaW9uMy4xLjEsIGh0dHA6Ly9tYXRwbG90bGliLm9yZy8QZhcZAAAWu0lEQVR4nO3df7TcdX3n8edLUgjlh5Ia2CxogSNbpXha4y0VcDmtVKVst+BWXM7Wmihd/lhttd2yi4tnt3u6nNVut8d262op0ERkddHqgtYtYop6PI1gDEgIwQJqbUqWRD2tSkMo8N4/5nthcr03mZvcme98yPNxzj3znc/8es3cySvf+53v9zOpKiRJ7XlW3wEkSQfGApekRlngktQoC1ySGmWBS1KjLHBJatTYCjzJdUl2JrlnaGxFkluT3N+dHjd02duTPJDkK0lePa5ckvRMMc418HXA+XPGrgA2VNVpwIbuPElOBy4BfrS7zf9MctgYs0lS88ZW4FX1OeDbc4YvBNZ3y+uBi4bGP1RVe6rqa8ADwJnjyiZJzwTLJvx4J1TVDoCq2pHk+G78ROALQ9fb3o19nySXAZcBnH766S/dunXrGONK0ljlYG48LR9izvck5j3Gv6qurqqZqpo58sgjxxxLkqbXpAv84SSrALrTnd34duB5Q9c7CXhowtkkqSmTLvCbgTXd8hrgpqHxS5IckeQU4DTgjglnk6SmjG0beJIPAj8FPDfJduA/Ae8EbkxyKfAN4GKAqtqa5EbgXuBx4M1V9cS4sknSM0Fank52ZmamNm3a1HcMSTpQz4gPMSVJi2SBS1KjLHBJapQFLkmNssAlqVEWuCQ1ygKXpEZZ4JLUKAtckhplgUtSoyxwSWqUBS5JjbLAJalRFrgkNcoCl6RGWeCS1CgLXJIaZYFLUqMscElqlAUuSY2ywCWpURa4JDXKApekRlngktQoC1ySGmWBS1KjLHBJapQFLkmNssAlqVEWuCQ1ygKXpEZZ4JLUKAtckhplgUtSoyxwSWqUBS5JjbLAJalRFrgkNcoCl6RGWeCS1CgLXJIaZYFLUqMscElqlAUuSY2ywCWpURa4JDXKApekRlngktQoC1ySGmWBS1KjLHBJapQFLkmNssAlqVEWuCQ1ygKXpEb1UuBJfi3J1iT3JPlgkuVJViS5Ncn93elxfWSTpFZMvMCTnAj8KjBTVWcAhwGXAFcAG6rqNGBDd16StIC+NqEsA45Msgz4QeAh4EJgfXf5euCinrJJUhMmXuBV9TfA7wDfAHYAf1dVnwJOqKod3XV2AMdPOpsktaSPTSjHMVjbPgX4x8BRSV6/iNtflmRTkk27du0aV0xJmnp9bEL5GeBrVbWrqv4B+ChwNvBwklUA3enO+W5cVVdX1UxVzaxcuXJioSVp2vRR4N8AXpbkB5MEOA/YBtwMrOmuswa4qYdsktSMZZN+wKq6PclHgM3A48CdwNXA0cCNSS5lUPIXTzqbJLUkVdV3hgM2MzNTmzZt6juGJB2oHMyNPRJTkhplgUtSoyxwSWqUBS5JjbLAJalRFrgkNcoCl6RGWeCS1CgLXJIaZYFLUqMscElqlAUuSY2ywCWpURa4JDXKApekRlngktQoC1ySGmWBS1KjLHBJapQFLkmNssAlqVEWuCQ1ygKXpEZZ4JLUKAtckhplgUtSoyxwSWqUBS5JjbLAJalRFrgkNcoCl6RGWeCS1CgLXJIaZYFLUqMscElqlAUuSY2ywCWpURa4JDXKApekRlngktQoC1ySGmWBS1KjLHBJapQFLkmNssAlqVEWuCQ1ygKXpEZZ4JLUKAtckhplgUtSoyxwSWqUBS5JjbLAJalRFrgkNcoCl6RGWeCS1KheCjzJc5J8JMl9SbYlOSvJiiS3Jrm/Oz2uj2yS1Iq+1sB/D/izqnoh8GPANuAKYENVnQZs6M5LkhYw8QJPcixwLnAtQFU9VlV/C1wIrO+uth64aNLZJKklfayBnwrsAv44yZ1JrklyFHBCVe0A6E6Pn+/GSS5LsinJpl27dk0utSRNmT4KfBmwGnhvVb0EeIRFbC6pqquraqaqZlauXDmujJI09foo8O3A9qq6vTv/EQaF/nCSVQDd6c4esklSMyZe4FX1/4C/TvIj3dB5wL3AzcCabmwNcNOks0lSS5b19Li/AtyQ5HDgq8AbGfxncmOSS4FvABf3lE2SmtBLgVfVXcDMPBedN+ksktQqj8SUpEZZ4JLUKAtckhplgUtSoyxwSWqUBS5JjbLAJalRFrgkNcoCl6RGWeCS1CgLXJIaZYFLUqMscElqlAUuSY0aqcCTnDPKmCRpckZdA/8fI45JkiZkn1/okOQs4GxgZZJfH7roWOCwcQaTJO3b/r6R53Dg6O56xwyNfwd47bhCSZL2b58FXlWfBT6bZF1V/dWEMkmSRjDqd2IekeRq4OTh21TVK8YRSpK0f6MW+IeB9wHXAE+ML44kaVSjFvjjVfXesSaRJC3KqLsRfjzJv0myKsmK2Z+xJpMk7dOoa+BrutPLh8YKOHVp40iSRjVSgVfVKeMOIklanJEKPMkb5huvqvcvbRxJ0qhG3YTyE0PLy4HzgM2ABS5JPRl1E8qvDJ9P8mzg+rEkkiSN5ECnk/174LSlDCJJWpxRt4F/nMFeJzCYxOpFwI3jCiVJ2r9Rt4H/ztDy48BfVdX2MeSRJI1opE0o3aRW9zGYkfA44LFxhpIk7d+o38jzOuAO4GLgdcDtSZxOVpJ6NOomlCuBn6iqnQBJVgKfBj4yrmCSpH0bdS+UZ82Wd+dbi7itJGkMRl0D/7MktwAf7M7/S+CT44kkSRrF/r4T8wXACVV1eZJ/AbwcCLARuGEC+SRJC9jfZpB3A98FqKqPVtWvV9WvMVj7fve4w0mSFra/Aj+5qu6eO1hVmxh8vZokqSf7K/Dl+7jsyKUMIklanP0V+BeT/Ou5g0kuBb40nkiSpFHsby+UtwEfS/KLPF3YM8DhwGvGGUyStG/7LPCqehg4O8lPA2d0w39aVX8+9mSSpH0adT7w24DbxpxFkrQIHk0pSY2ywCWpURa4JDXKApekRlngktQoC1ySGmWBS1KjLHBJapQFLkmNssAlqVEWuCQ1qrcCT3JYkjuTfKI7vyLJrUnu706P6yubJLWgzzXwtwLbhs5fAWyoqtOADd15SdICeinwJCcB/wy4Zmj4QmB9t7weuGjSuSSpJX2tgb8b+HfAk0NjJ1TVDoDu9Pj5bpjksiSbkmzatWvX+JNK0pSaeIEn+TlgZ1Ud0FeyVdXVVTVTVTMrV65c4nSS1I6RvtBhiZ0D/HySCxh8afKxST4APJxkVVXtSLIK2NlDNklqxsTXwKvq7VV1UlWdDFwC/HlVvR64GVjTXW0NcNOks0lSS6ZpP/B3Aq9Mcj/wyu68JGkBfWxCeUpVfQb4TLf8LeC8PvNIUkumaQ1ckrQIFrgkNcoCl6RGWeCS1CgLXJIaZYFLUqMscElqlAUuSY2ywCWpURa4JDXKApekRlngktQoC1ySGmWBS1KjLHBJapQFLkmNssAlqVEWuCQ1ygKXpEZZ4JLUKAtckhplgUtSoyxwSWqUBS5JjbLAJalRFrgkNcoCl6RGWeCS1CgLXJIaZYFLUqMscElqlAUuSY2ywCWpURa4JDXKApekRlngktQoC1ySGmWBS1KjLHBJapQFLkmNssAlqVEWuCQ1ygKXpEZZ4JLUKAtckhplgUtSoyxwSWqUBS5JjbLAJalRFrgkNcoCl6RGLes7gDSN9uzZw+bNmwFYvXo1RxxxRM+JpO/nGrg0j82bN7N27VrWrl37VJFL08Y1cGkBRx11VN8RpH1yDVySGjXxAk/yvCS3JdmWZGuSt3bjK5LcmuT+7vS4SWeTpJb0sQb+OPBvq+pFwMuANyc5HbgC2FBVpwEbuvOSpAVMvMCrakdVbe6WvwtsA04ELgTWd1dbD1w06WyS1JJet4EnORl4CXA7cEJV7YBByQPH95dMkqZfbwWe5GjgT4C3VdV3FnG7y5JsSrJp165d4wsoSVOulwJP8gMMyvuGqvpoN/xwklXd5auAnfPdtqqurqqZqppZuXLlZAJL0hTqYy+UANcC26rqd4cuuhlY0y2vAW6adDZJakkfB/KcA/wSsCXJXd3YfwDeCdyY5FLgG8DFPWSTpGZMvMCr6vNAFrj4vElmkaSWeSSmJDXKApekRlngktQoC1ySGmWBS1KjLHBJapQFLkmNssAlqVEWuCQ1ygKXpEZZ4JLUKAtckhplgUtSoyxwSWqUBS5JjbLAJalRFrgkNcoCl6RGWeCS1CgLXJIaZYFLUqMscElqlAUuSY2ywCWpURa4JDXKApekRlngktQoC1ySGmWBS1KjLHBJapQFLkmNssAlqVHL+g4gTbMnn3ySLVu2ALB69WqOOOKInhNJT3MNXNqH3bt3c9VVV7F27Vo2b97cdxxpLxa4tB/Lly/nqKOO6juG9H0scElqlAUuSY2ywCWpURa4JDXKApekRlngktQoC1ySGuWRmBKwZ8+epw7UWb16dc9ppNFY4BKwefNm1q5dC8C6det6zSKNygKXOh5tqda4DVySGmWBS1KjLHBJapTbwHVIm937ZMuWLVQVSfqOJI3MAtchbXbvk927d3PkkUf6QaaaYoHrkGdpq1UWuA5JczedzBr+CrWFxme/Wm3uwT9+3ZomLcNv0tbMzMzUpk2b+o6hBm3cuHGvTSfDHn30Uapq3vHly5ezbt06zjrrrKfuA3hqTFqkg/rQxTVwHbIW2nSyfPnyBcfn3sbNL+qTuxFKUqMscDVnz549bNy4kY0bN7Jnz56Rrzd7fl+32Z/ZbeEHcx+jGPU5PlMcas93qUzdJpQk5wO/BxwGXFNV7+w5kqbM3ImnFtr2PN8EVRdffDEf/vCHD/ixd+/ezTve8Q5e/OIXH/B9jGLU5/hMcag936UyVQWe5DDgPcArge3AF5PcXFX39ptM02bUbc9zr7fQ9u3FOPzwww/6PkZxqG1fP9Se71KYqgIHzgQeqKqvAiT5EHAhYIFrL4888gjAU7v2zWfLli3fd71HH330qeVHHnmE3bt3k+SpozBHOX3sscf2uo/95TgQ82V/Jht+vhrdVO1GmOS1wPlV9cvd+V8CfrKq3jJ0ncuAy7qzZwD3TDzo/j0X+GbfIeYxrblgerOZa3HMtTjLq+qMA73xtK2Bz7dP5F7/w1TV1cDVAEk2VdXMJIIthrkWb1qzmWtxzLU4SQ7qQJZp2wtlO/C8ofMnAQ/1lEWSptq0FfgXgdOSnJLkcOAS4OaeM0nSVJqqTShV9XiStwC3MNiN8Lqq2rqPm1w9mWSLZq7Fm9Zs5loccy3OQeWaqg8xJUmjm7ZNKJKkEVngktSoZgo8yX9Lcl+Su5N8LMlzhi57e5IHknwlyauHxl+aZEt32e9nDN+XleTiJFuTPJlkZmj85CS7k9zV/bxvGnJ1l/X2es3J8ZtJ/mboNbpgfxknJcn53WM/kOSKST/+nCxf734vd83udpZkRZJbk9zfnR43gRzXJdmZ5J6hsQVzTOp3uECu3t9bSZ6X5LYk27p/i2/txpfuNauqJn6AVwHLuuV3Ae/qlk8HvgwcAZwCPAgc1l12B3AWg/3L/y/ws2PI9SLgR4DPADND4ycD9yxwmz5z9fp6zcn4m8BvzDO+YMYJvdcO6x7zVODwLsvpk3r8efJ8HXjunLHfBq7olq+Y/fcw5hznAquH39cL5Zjk73CBXL2/t4BVwOpu+RjgL7vHX7LXrJk18Kr6VFU93p39AoN9xGFwqP2HqmpPVX0NeAA4M8kq4Niq2liDV+f9wEVjyLWtqr4y6vWnIFevr9eI5s04wcd/akqHqnoMmJ3SYZpcCKzvltczgd9VVX0O+PaIOSb2O1wg10ImmWtHVW3ulr8LbANOZAlfs2YKfI43MVhDhMEL8tdDl23vxk7slueOT9IpSe5M8tkk/7Qb6zvXtL1eb+k2i1039KfkQhknpe/Hn6uATyX5UgZTSQCcUFU7YFAUwPE9ZVsoxzS8hlPz3kpyMvAS4HaW8DWbqv3Ak3wa+EfzXHRlVd3UXedK4HHghtmbzXP92sf4WHLNYwfw/Kr6VpKXAv8nyY9OQa6xv157Pdg+MgLvBX6re5zfAv47g/+cx5JlEfp+/LnOqaqHkhwP3Jrkvh6zjKrv13Bq3ltJjgb+BHhbVX1nHx8tLTrbVBV4Vf3Mvi5Psgb4OeC87s98WPjw++08vZlleHzJcy1wmz3Anm75S0keBP5J37mYwOs1bNSMSf4I+MR+Mk5K34+/l6p6qDvdmeRjDP6sfjjJqqra0W3+2tlTvIVy9PoaVtXDs8t9vreS/ACD8r6hqj7aDS/Za9bMJpQMvujh3wM/X1V/P3TRzcAlSY5IcgpwGnBH96fJd5O8rNub4g3AQmul48i7MoP5zUlyapfrq33nYoper+7NO+s1PD2z5LwZx5lljqmZ0iHJUUmOmV1m8GH+PV2eNd3V1jDZ99CwhXL0+juchvdW9+/oWmBbVf3u0EVL95qN49PXMX2i+wCD7UN3dT/vG7rsSgaf2H6FoT0ngBkGv7gHgT+gO/J0iXO9hsH/nHuAh4FbuvFfALYy+FR5M/DPpyFX36/XnIzXA1uAu7s376r9ZZzg++0CBnsNPMhgk1Rf7/tTu/fQl7v305Xd+A8BG4D7u9MVE8jyQQabBv+he29duq8ck/odLpCr9/cW8HIGm0DuHuqtC5byNfNQeklqVDObUCRJe7PAJalRFrgkNcoCl6RGWeCS1CgLXL1J8kQ3U9w9ST6eoRkmJ5jhPV2Ge7P37JGvHcNjPaubne7oJbivDUmevRS51C53I1Rvknyvqo7ultcDf1lVV/WU5WTgE1V1xgKXL6unJ1M70Me4EHh5VV1+MPfT3delDGYofNfB3pfa5Rq4psVGhibuSXJ5ki92kxH956HxN3RjX05yfTf2w90a6d3d6fOXIlCSzye5KsnnGEyM9IEkFw1d/r2h5SuS3NFl+I8L3OUvMnTEZJI3Dj2XP+7GPtD9VXBbkgeTnJtkfQZz4V87dF83Af9qKZ6n2jVVc6Ho0NRNOXAeg8OOSfIqBocRn8lggp+bk5wLfIvBkWrnVNU3k6zo7uIPgPdX1fokbwJ+n6WbXvXYqjq3y/WBBfJfADwf+Mku7yeTnF1VfzHnqucAa7vb/BiDqSHOrqpvDz0XgGdX1U8n+QXg4wzmaL8P2JzkjKq6p3v+xyR5TlX97RI9VzXGNXD16cgkdzEo5hXArd34q7qfOxlMQ/BCBoX+CuAjVfVNgKqanQP6LOB/dcvXMziEeal8aITrvAr42aG8L2Awcdlcx9TT8/i8Avjfs89h6LnAoLRhcCj4Q1V1b1U9CdzL4ItCZu1i8KUBOkRZ4OrT7qr6ceCHGXzzzZu78QD/tap+vPt5QVVd242P8qHN910nyS3dh5PXLDLjI0PLj9P9m+n+apj9CzbAf5mTd9089/XkcKT5cnb2DF1/z9D4k+z9V/NyYPcoT0LPTBa4eldVfwf8KvAb3fSbtwBvmt1bI8mJGcyFvQF4XZIf6sZnNzv8BYMZA2Gwnfnz8zzGq7ty/eWDiPp14KXd8msYfPUaXd5Lu9kCSXJSkufOc/sHug9LAT7NYOa5FXOey0iSPAt4Lnt/AYAOMW4D11SoqjuTfBm4pKquT/IiYONgRk6+B7y+qrYmuQr4bJInGGyyWMug/K9LcjmDzQpvHFPMPwRuSvJK4FM8Pd/7J5O8EPhCl/e7DD5g/Oac2/8p8FPAuqq6O8lvA59L8jjwJQaz6I3qTODzVfXEQTwfNc7dCKUJSXIScE1Vnb8E9/Ue4Maq+uzBJ1Or3IQiTUhVbQfWLcWBPMCdlrdcA5ekRrkGLkmNssAlqVEWuCQ1ygKXpEZZ4JLUqP8PutsgOpytpHcAAAAASUVORK5CYII=\n",
      "text/plain": [
       "<Figure size 360x360 with 1 Axes>"
      ]
     },
     "metadata": {
      "needs_background": "light"
     },
     "output_type": "display_data"
    }
   ],
   "source": [
    "#our model predictions for electron in final state\n",
    "electrontestrecovtxy=np.array(electrontestrecovtxy)\n",
    "electrontesttruevtxy=np.array(electrontesttruevtxy)\n",
    "diff_reco_electron_test=electrontestrecovtxy-electrontesttruevtxy\n",
    "plt.figure(figsize=(12,8))\n",
    "sns.displot(diff_reco_electron_test,color='k')\n",
    "plt.ylim(0, 100)\n",
    "plt.xlim(-200, 200)\n",
    "plt.xlabel('Reco - True (cm)')\n",
    "plt.ylabel('Count')\n",
    "\n",
    "#calculating mean and stuff\n",
    "averagex=np.mean(diff_reco_electron_test)\n",
    "print(\"The mean is\" , averagex)\n",
    "\n",
    "#Calculating RMS\n",
    "rmsx=np.sqrt(np.mean(diff_reco_electron_test**2))\n",
    "print(\"The RMS is \" , rmsx)\n",
    "#areaofinterestx=3*rmsx-averagex\n",
    "#print(\"The range of 3 sigma we are counting inside of is \", areaofinterestx)\n",
    "areaofinterestx=100\n",
    "\n",
    "#total number of events\n",
    "totalevents=len(diff_reco_electron_test)\n",
    "print(\"The total number of events is \" , totalevents)\n",
    "#Counting events within 3 sigma\n",
    "y=0\n",
    "for x in diff_reco_electron_test:\n",
    "    if x < abs(areaofinterestx):\n",
    "        y=y+1\n",
    "    else:\n",
    "        continue\n",
    "percentcount=y/totalevents\n",
    "print(\"The number events within plus minus 100 is \", y,\"This is\", 100*percentcount, \"% of all events\")\n",
    "print(\"The number of events outside this range is\", totalevents-y)"
   ]
  },
  {
   "cell_type": "code",
   "execution_count": 38,
   "metadata": {},
   "outputs": [
    {
     "name": "stderr",
     "output_type": "stream",
     "text": [
      "/opt/software/software/IPython/7.9.0-foss-2019b-Python-3.7.4/lib/python3.7/site-packages/ipykernel_launcher.py:8: MatplotlibDeprecationWarning: \n",
      "The 'normed' kwarg was deprecated in Matplotlib 2.1 and will be removed in 3.1. Use 'density' instead.\n",
      "  \n"
     ]
    },
    {
     "data": {
      "image/png": "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\n",
      "text/plain": [
       "<Figure size 432x288 with 1 Axes>"
      ]
     },
     "metadata": {
      "needs_background": "light"
     },
     "output_type": "display_data"
    },
    {
     "name": "stdout",
     "output_type": "stream",
     "text": [
      "gaussian fit params: The Mean is  1.9589692262502818\n",
      "The STD is  19.304439674297072\n"
     ]
    }
   ],
   "source": [
    "import numpy as np\n",
    "from scipy.stats import norm\n",
    "import matplotlib.pyplot as plt\n",
    "\n",
    "#data = np.random.normal(loc=5.0, scale=2.0, size=1000)\n",
    "mean,std=norm.fit(diff_reco_electron_test)\n",
    "\n",
    "plt.hist(diff_reco_electron_test, bins=1000, normed=True)\n",
    "xmin, xmax = plt.xlim(-50,50)\n",
    "x = np.linspace(xmin, xmax, 100)\n",
    "y = norm.pdf(x, mean, std)\n",
    "plt.xlabel('Reco - True (cm)')\n",
    "plt.ylabel('Count')\n",
    "plt.plot(x, y)\n",
    "plt.show()\n",
    "\n",
    "#gauss_fit,cov = curve_fit( Gauss, x, y )\n",
    "print(\"gaussian fit params: The Mean is \", mean)\n",
    "print(\"The STD is \", std)"
   ]
  },
  {
   "cell_type": "code",
   "execution_count": 41,
   "metadata": {},
   "outputs": [
    {
     "name": "stdout",
     "output_type": "stream",
     "text": [
      "The mean is -19.142465567588808\n",
      "The RMS is  75.73050291669803\n",
      "The total number of events is  15\n",
      "The number events within plus minus 100 is  13 This is 86.66666666666667 % of all events\n",
      "The number of events outside this range is 2\n"
     ]
    },
    {
     "data": {
      "text/plain": [
       "<Figure size 864x576 with 0 Axes>"
      ]
     },
     "metadata": {},
     "output_type": "display_data"
    },
    {
     "data": {
      "image/png": "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\n",
      "text/plain": [
       "<Figure size 360x360 with 1 Axes>"
      ]
     },
     "metadata": {
      "needs_background": "light"
     },
     "output_type": "display_data"
    }
   ],
   "source": [
    "#Determining spread for positron old algorithm\n",
    "positronrecovtxy=np.array(positronrecovtxy)\n",
    "positrontruevtxy=np.array(positrontruevtxy)\n",
    "diff_reco_positron=positronrecovtxy-positrontruevtxy\n",
    "plt.figure(figsize=(12,8))\n",
    "sns.displot(diff_reco_positron,color='k')\n",
    "plt.ylim(0, 50)\n",
    "plt.xlim(-300, 300)\n",
    "plt.xlabel('Reco - True (cm)')\n",
    "plt.ylabel('Count')\n",
    "\n",
    "#calculating mean and stuff\n",
    "averagex=np.mean(diff_reco_positron)\n",
    "print(\"The mean is\" , averagex)\n",
    "\n",
    "#Calculating RMS\n",
    "rmsx=np.sqrt(np.mean(diff_reco_positron**2))\n",
    "print(\"The RMS is \" , rmsx)\n",
    "#areaofinterestx=3*rmsx-averagex\n",
    "#print(\"The range of 3 sigma we are counting inside of is \", areaofinterestx)\n",
    "areaofinterestx=10\n",
    "\n",
    "#total number of events\n",
    "totalevents=len(diff_reco_positron)\n",
    "print(\"The total number of events is \" , totalevents)\n",
    "#Counting events within 3 sigma\n",
    "y=0\n",
    "for x in diff_reco_positron:\n",
    "    if x < abs(areaofinterestx):\n",
    "        y=y+1\n",
    "    else:\n",
    "        continue\n",
    "percentcount=y/totalevents\n",
    "print(\"The number events within plus minus 100 is \", y,\"This is\", 100*percentcount, \"% of all events\")\n",
    "print(\"The number of events outside this range is\", totalevents-y)"
   ]
  },
  {
   "cell_type": "code",
   "execution_count": 43,
   "metadata": {},
   "outputs": [
    {
     "name": "stderr",
     "output_type": "stream",
     "text": [
      "/opt/software/software/IPython/7.9.0-foss-2019b-Python-3.7.4/lib/python3.7/site-packages/ipykernel_launcher.py:8: MatplotlibDeprecationWarning: \n",
      "The 'normed' kwarg was deprecated in Matplotlib 2.1 and will be removed in 3.1. Use 'density' instead.\n",
      "  \n"
     ]
    },
    {
     "data": {
      "image/png": "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\n",
      "text/plain": [
       "<Figure size 432x288 with 1 Axes>"
      ]
     },
     "metadata": {
      "needs_background": "light"
     },
     "output_type": "display_data"
    },
    {
     "name": "stdout",
     "output_type": "stream",
     "text": [
      "gaussian fit params: The Mean is  -19.142465567588808\n",
      "The STD is  73.27124322686005\n"
     ]
    }
   ],
   "source": [
    "import numpy as np\n",
    "from scipy.stats import norm\n",
    "import matplotlib.pyplot as plt\n",
    "\n",
    "#data = np.random.normal(loc=5.0, scale=2.0, size=1000)\n",
    "mean,std=norm.fit(diff_reco_positron)\n",
    "\n",
    "plt.hist(diff_reco_positron, bins=1000, normed=True)\n",
    "xmin, xmax = plt.xlim(-50,50)\n",
    "x = np.linspace(xmin, xmax, 100)\n",
    "y = norm.pdf(x, mean, std)\n",
    "plt.xlabel('Reco - True (cm)')\n",
    "plt.ylabel('Count')\n",
    "plt.plot(x, y)\n",
    "plt.show()\n",
    "\n",
    "#gauss_fit,cov = curve_fit( Gauss, x, y )\n",
    "print(\"gaussian fit params: The Mean is \", mean)\n",
    "print(\"The STD is \", std)"
   ]
  },
  {
   "cell_type": "code",
   "execution_count": 45,
   "metadata": {},
   "outputs": [
    {
     "name": "stdout",
     "output_type": "stream",
     "text": [
      "The mean is 7.059199174245198\n",
      "The RMS is  34.655544705427744\n",
      "The total number of events is  15\n",
      "The number events within plus minus 200 is  13 This is 86.66666666666667 % of all events\n",
      "The number of events outside this range is 2\n"
     ]
    },
    {
     "data": {
      "text/plain": [
       "<Figure size 864x576 with 0 Axes>"
      ]
     },
     "metadata": {},
     "output_type": "display_data"
    },
    {
     "data": {
      "image/png": "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\n",
      "text/plain": [
       "<Figure size 360x360 with 1 Axes>"
      ]
     },
     "metadata": {
      "needs_background": "light"
     },
     "output_type": "display_data"
    }
   ],
   "source": [
    "#our model predictions for positron\n",
    "positrontestrecovtxy=np.array(positrontestrecovtxy)\n",
    "positrontesttruevtxy=np.array(positrontesttruevtxy)\n",
    "diff_reco_positron_test=positrontestrecovtxy-positrontesttruevtxy\n",
    "plt.figure(figsize=(12,8))\n",
    "sns.displot(diff_reco_positron_test,color='k')\n",
    "plt.ylim(0, 100)\n",
    "plt.xlim(-200, 200)\n",
    "plt.xlabel('Reco - True (cm)')\n",
    "plt.ylabel('Count')\n",
    "\n",
    "#calculating mean and stuff\n",
    "averagex=np.mean(diff_reco_positron_test)\n",
    "print(\"The mean is\" , averagex)\n",
    "\n",
    "#Calculating RMS\n",
    "rmsx=np.sqrt(np.mean(diff_reco_positron_test**2))\n",
    "print(\"The RMS is \" , rmsx)\n",
    "#areaofinterestx=3*rmsx-averagex\n",
    "#print(\"The range of 3 sigma we are counting inside of is \", areaofinterestx)\n",
    "areaofinterestx=10\n",
    "\n",
    "#total number of events\n",
    "totalevents=len(diff_reco_positron_test)\n",
    "print(\"The total number of events is \" , totalevents)\n",
    "#Counting events within 3 sigma\n",
    "y=0\n",
    "for x in diff_reco_positron_test:\n",
    "    if x < abs(areaofinterestx):\n",
    "        y=y+1\n",
    "    else:\n",
    "        continue\n",
    "percentcount=y/totalevents\n",
    "print(\"The number events within plus minus 200 is \", y,\"This is\", 100*percentcount, \"% of all events\")\n",
    "print(\"The number of events outside this range is\", totalevents-y)"
   ]
  },
  {
   "cell_type": "code",
   "execution_count": null,
   "metadata": {},
   "outputs": [],
   "source": []
  },
  {
   "cell_type": "code",
   "execution_count": 47,
   "metadata": {},
   "outputs": [
    {
     "name": "stderr",
     "output_type": "stream",
     "text": [
      "/opt/software/software/IPython/7.9.0-foss-2019b-Python-3.7.4/lib/python3.7/site-packages/ipykernel_launcher.py:8: MatplotlibDeprecationWarning: \n",
      "The 'normed' kwarg was deprecated in Matplotlib 2.1 and will be removed in 3.1. Use 'density' instead.\n",
      "  \n"
     ]
    },
    {
     "data": {
      "image/png": "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\n",
      "text/plain": [
       "<Figure size 432x288 with 1 Axes>"
      ]
     },
     "metadata": {
      "needs_background": "light"
     },
     "output_type": "display_data"
    },
    {
     "name": "stdout",
     "output_type": "stream",
     "text": [
      "gaussian fit params: The Mean is  7.059199174245198\n",
      "The STD is  33.928962345586655\n"
     ]
    }
   ],
   "source": [
    "import numpy as np\n",
    "from scipy.stats import norm\n",
    "import matplotlib.pyplot as plt\n",
    "\n",
    "#data = np.random.normal(loc=5.0, scale=2.0, size=1000)\n",
    "mean,std=norm.fit(diff_reco_positron_test)\n",
    "\n",
    "plt.hist(diff_reco_positron_test, bins=1000, normed=True)\n",
    "xmin, xmax = plt.xlim(-50,50)\n",
    "x = np.linspace(xmin, xmax, 100)\n",
    "y = norm.pdf(x, mean, std)\n",
    "plt.xlabel('Reco - True (cm)')\n",
    "plt.ylabel('Count')\n",
    "plt.plot(x, y)\n",
    "plt.show()\n",
    "\n",
    "#gauss_fit,cov = curve_fit( Gauss, x, y )\n",
    "print(\"gaussian fit params: The Mean is \", mean)\n",
    "print(\"The STD is \", std)"
   ]
  },
  {
   "cell_type": "markdown",
   "metadata": {},
   "source": [
    "###### Statistics of Interactions"
   ]
  },
  {
   "cell_type": "code",
   "execution_count": 15,
   "metadata": {},
   "outputs": [
    {
     "name": "stdout",
     "output_type": "stream",
     "text": [
      "Ratio: QES = 0.17861367074680237, RES = 0.44809517260349335, DIS = 0.28531151148397743\n",
      "Ratio: CC = 0.5218814468436254, NC = 0.47811855315637464\n"
     ]
    }
   ],
   "source": [
    "print('Ratio: QES = {}, RES = {}, DIS = {}'.format((sum(test_mode==0.0)/len(test_mode)),(sum(test_mode==1.0)/len(test_mode)),(sum(test_mode==2.0)/len(test_mode))))\n",
    "print('Ratio: CC = {}, NC = {}'.format((sum(test_iscc==1.0)/len(test_iscc)),((len(test_iscc)-sum(test_iscc==1.0))/len(test_iscc))))"
   ]
  },
  {
   "cell_type": "markdown",
   "metadata": {},
   "source": [
    "    The np array conversions below must be done independently to bypass kernel crash."
   ]
  },
  {
   "cell_type": "code",
   "execution_count": 16,
   "metadata": {},
   "outputs": [],
   "source": [
    "# mutli dimensional xz & yz views for each event. this is used for plotting events only\n",
    "cvnmap_norm_resh=np.array(cvnmap_norm_resh) "
   ]
  },
  {
   "cell_type": "code",
   "execution_count": 17,
   "metadata": {},
   "outputs": [],
   "source": [
    "cvnmap_norm_resh_xz=np.array(cvnmap_norm_resh_xz) # xz views only"
   ]
  },
  {
   "cell_type": "code",
   "execution_count": 18,
   "metadata": {},
   "outputs": [],
   "source": [
    "cvnmap_norm_resh_yz=np.array(cvnmap_norm_resh_yz) # yz views only"
   ]
  },
  {
   "cell_type": "code",
   "execution_count": 19,
   "metadata": {},
   "outputs": [],
   "source": [
    "test_cvnmap_qe_xz=np.array(test_cvnmap_qe_xz)\n",
    "test_cvnmap_qe_yz=np.array(test_cvnmap_qe_yz)"
   ]
  },
  {
   "cell_type": "code",
   "execution_count": 20,
   "metadata": {},
   "outputs": [],
   "source": [
    "test_cvnmap_res_xz=np.array(test_cvnmap_res_xz)\n",
    "test_cvnmap_res_yz=np.array(test_cvnmap_res_yz)"
   ]
  },
  {
   "cell_type": "code",
   "execution_count": 21,
   "metadata": {},
   "outputs": [],
   "source": [
    "test_cvnmap_dis_xz=np.array(test_cvnmap_dis_xz)\n",
    "test_cvnmap_dis_yz=np.array(test_cvnmap_dis_yz)"
   ]
  },
  {
   "cell_type": "code",
   "execution_count": 22,
   "metadata": {},
   "outputs": [],
   "source": [
    "test_cvnmap_cc_xz=np.array(test_cvnmap_cc_xz)\n",
    "test_cvnmap_cc_yz=np.array(test_cvnmap_cc_yz)"
   ]
  },
  {
   "cell_type": "code",
   "execution_count": 23,
   "metadata": {},
   "outputs": [],
   "source": [
    "test_cvnmap_nc_xz=np.array(test_cvnmap_nc_xz)\n",
    "test_cvnmap_nc_yz=np.array(test_cvnmap_nc_yz)"
   ]
  },
  {
   "cell_type": "code",
   "execution_count": 24,
   "metadata": {},
   "outputs": [],
   "source": [
    "test_cvnmap_norm_resh_xz=np.array(test_cvnmap_norm_resh_xz) # xz views only"
   ]
  },
  {
   "cell_type": "code",
   "execution_count": 25,
   "metadata": {},
   "outputs": [],
   "source": [
    "test_cvnmap_norm_resh_yz=np.array(test_cvnmap_norm_resh_yz) # yz views only"
   ]
  },
  {
   "cell_type": "code",
   "execution_count": 26,
   "metadata": {},
   "outputs": [],
   "source": [
    "def plot_event_with_vtx(event,idx=0):\n",
    "    pixelmap=event[idx]\n",
    "    fig, axes = plt.subplots(nrows=1, ncols=2, figsize=(21, 7))\n",
    "    # added [:-20] to end of pixelmap[X] to preview square images for CNN\n",
    "    sns.heatmap(pixelmap[0][:-20],cmap='coolwarm',cbar=False,square=True,xticklabels=10,yticklabels=10,ax=axes[0])\n",
    "    sns.heatmap(pixelmap[1][:-20],cmap='coolwarm',cbar=False,square=True,xticklabels=10,yticklabels=10,ax=axes[1])\n",
    "#    axes[0].scatter(x=vtxx,y=vtxz,c='yellow',marker='x',s=50)       # comment/uncomment to plot/unplot vertex point\n",
    "#    axes[1].scatter(x=vtxy,y=vtxz,c='yellow',marker='x',s=50)       # comment/uncomment to plot/unplot vertex point\n",
    "    plt.suptitle(\"XZ & YZ Plot\", fontsize=30)\n",
    "    print('UX Specified Fields\\nEvent Number:\\t{}'.format(idx))\n",
    "#    print('CVN Vertex Position (x,y,z) = ({},{},{})'.format(f'{vtxx:.3}',f'{vtxy:.3}',f'{vtxz:.3}'))\n",
    "    axes[0].set_xlabel(\"Cell\", fontsize=25)\n",
    "    axes[0].set_ylabel(\"Plane\", fontsize=25)\n",
    "    axes[1].set_xlabel(\"Cell\", fontsize=25)\n",
    "    axes[1].set_ylabel(\"Plane\", fontsize=25)\n",
    "#    plt.savefig('event.pdf')"
   ]
  },
  {
   "cell_type": "code",
   "execution_count": 27,
   "metadata": {
    "scrolled": false
   },
   "outputs": [
    {
     "name": "stdout",
     "output_type": "stream",
     "text": [
      "UX Specified Fields\n",
      "Event Number:\t5\n"
     ]
    },
    {
     "data": {
      "image/png": "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\n",
      "text/plain": [
       "<Figure size 1512x504 with 2 Axes>"
      ]
     },
     "metadata": {
      "needs_background": "light"
     },
     "output_type": "display_data"
    }
   ],
   "source": [
    "# verify events plot normally with callable function\n",
    "plot_event_with_vtx(cvnmap_norm_resh,idx=5)"
   ]
  },
  {
   "cell_type": "markdown",
   "metadata": {},
   "source": [
    "### GPU Test"
   ]
  },
  {
   "cell_type": "code",
   "execution_count": 28,
   "metadata": {},
   "outputs": [
    {
     "name": "stdout",
     "output_type": "stream",
     "text": [
      "Device mapping:\n",
      "/job:localhost/replica:0/task:0/device:GPU:0 -> device: 0, name: Tesla V100-PCIE-16GB, pci bus id: 0000:d8:00.0, compute capability: 7.0\n",
      "\n",
      "Num GPUs Available:  1\n",
      "True\n",
      "WARNING:tensorflow:From <ipython-input-28-e8a5b35c0b2d>:5: is_gpu_available (from tensorflow.python.framework.test_util) is deprecated and will be removed in a future version.\n",
      "Instructions for updating:\n",
      "Use `tf.config.list_physical_devices('GPU')` instead.\n",
      "True\n",
      "<tensorflow.python.client.session.Session object at 0x7fafb0105310>\n",
      "[name: \"/device:CPU:0\"\n",
      "device_type: \"CPU\"\n",
      "memory_limit: 268435456\n",
      "locality {\n",
      "}\n",
      "incarnation: 7496452126808458921\n",
      ", name: \"/device:GPU:0\"\n",
      "device_type: \"GPU\"\n",
      "memory_limit: 15507904320\n",
      "locality {\n",
      "  bus_id: 2\n",
      "  numa_node: 1\n",
      "  links {\n",
      "  }\n",
      "}\n",
      "incarnation: 7123963767857594592\n",
      "physical_device_desc: \"device: 0, name: Tesla V100-PCIE-16GB, pci bus id: 0000:d8:00.0, compute capability: 7.0\"\n",
      "]\n"
     ]
    }
   ],
   "source": [
    "# see if GPU is recognized\n",
    "sess = tf.compat.v1.Session(config=tf.compat.v1.ConfigProto(log_device_placement=True))\n",
    "print(\"Num GPUs Available: \", len(tf.config.experimental.list_physical_devices('GPU')))\n",
    "print(tf.test.is_built_with_cuda())\n",
    "print(tf.test.is_gpu_available(cuda_only=False, min_cuda_compute_capability=None))\n",
    "print(sess)\n",
    "print(device_lib.list_local_devices())"
   ]
  },
  {
   "cell_type": "markdown",
   "metadata": {},
   "source": [
    "    +-----------------------------------------------------------------------------+\n",
    "    | NVIDIA-SMI 440.64.00    Driver Version: 440.64.00    CUDA Version: 10.2     |\n",
    "    |-------------------------------+----------------------+----------------------+\n",
    "    | GPU  Name        Persistence-M| Bus-Id        Disp.A | Volatile Uncorr. ECC |\n",
    "    | Fan  Temp  Perf  Pwr:Usage/Cap|         Memory-Usage | GPU-Util  Compute M. |\n",
    "    |===============================+======================+======================|\n",
    "    |   0  Tesla V100-PCIE...  Off  | 00000000:3B:00.0 Off |                    0 |\n",
    "    | N/A   33C    P0    34W / 250W |  15431MiB / 16160MiB |      0%      Default |\n",
    "    +-------------------------------+----------------------+----------------------+\n",
    "    |   1  Tesla V100-PCIE...  Off  | 00000000:D8:00.0 Off |                    0 |\n",
    "    | N/A   34C    P0    34W / 250W |      0MiB / 16160MiB |      5%      Default |\n",
    "    +-------------------------------+----------------------+----------------------+\n",
    "                                                                                   \n",
    "    +-----------------------------------------------------------------------------+\n",
    "    | Processes:                                                       GPU Memory |\n",
    "    |  GPU       PID   Type   Process name                             Usage      |\n",
    "    |=============================================================================|\n",
    "    |    0    152871      C   python3                                    15419MiB |\n",
    "    +-----------------------------------------------------------------------------+"
   ]
  },
  {
   "cell_type": "markdown",
   "metadata": {},
   "source": [
    "#### Prepare the Training & Test Sets"
   ]
  },
  {
   "cell_type": "code",
   "execution_count": 29,
   "metadata": {},
   "outputs": [],
   "source": [
    "# XZ view. Trains on the x-coordinate\n",
    "X1_train, X1_test, y1_train, y1_test = train_test_split(cvnmap_norm_resh_xz, truevtxy, test_size=0.25, random_state=101)"
   ]
  },
  {
   "cell_type": "code",
   "execution_count": 30,
   "metadata": {},
   "outputs": [],
   "source": [
    "# YZ view. Trains on the y-cooridnate\n",
    "X2_train, X2_test, y2_train, y2_test = train_test_split(cvnmap_norm_resh_yz, truevtxy, test_size=0.25, random_state=101)"
   ]
  },
  {
   "cell_type": "code",
   "execution_count": 31,
   "metadata": {},
   "outputs": [],
   "source": [
    "# add one more dimension to let the CNN know we are dealing with one color dimension\n",
    "x1_train=X1_train.reshape(X1_train.shape[0],100,80,1)\n",
    "x1_test=X1_test.reshape(X1_test.shape[0],100,80,1)\n",
    "x2_train=X2_train.reshape(X2_train.shape[0],100,80,1)\n",
    "x2_test=X2_test.reshape(X2_test.shape[0],100,80,1)\n",
    "#batch_size,width,heigh,color_channels"
   ]
  },
  {
   "cell_type": "code",
   "execution_count": 32,
   "metadata": {},
   "outputs": [],
   "source": [
    "# add one more dimension to let the CNN know we are dealing with one color dimension\n",
    "test_cvnmap_qe_xz=test_cvnmap_qe_xz.reshape(test_cvnmap_qe_xz.shape[0],100,80,1)\n",
    "test_cvnmap_qe_yz=test_cvnmap_qe_yz.reshape(test_cvnmap_qe_yz.shape[0],100,80,1)\n",
    "test_cvnmap_res_xz=test_cvnmap_res_xz.reshape(test_cvnmap_res_xz.shape[0],100,80,1)\n",
    "test_cvnmap_res_yz=test_cvnmap_res_yz.reshape(test_cvnmap_res_yz.shape[0],100,80,1)\n",
    "test_cvnmap_dis_xz=test_cvnmap_dis_xz.reshape(test_cvnmap_dis_xz.shape[0],100,80,1)\n",
    "test_cvnmap_dis_yz=test_cvnmap_dis_yz.reshape(test_cvnmap_dis_yz.shape[0],100,80,1)\n",
    "#batch_size,width,heigh,color_channels"
   ]
  },
  {
   "cell_type": "code",
   "execution_count": 33,
   "metadata": {},
   "outputs": [],
   "source": [
    "# add one more dimension to let the CNN know we are dealing with one color dimension\n",
    "test_cvnmap_cc_xz=test_cvnmap_cc_xz.reshape(test_cvnmap_cc_xz.shape[0],100,80,1)\n",
    "test_cvnmap_cc_yz=test_cvnmap_cc_yz.reshape(test_cvnmap_cc_yz.shape[0],100,80,1)\n",
    "test_cvnmap_nc_xz=test_cvnmap_nc_xz.reshape(test_cvnmap_nc_xz.shape[0],100,80,1)\n",
    "test_cvnmap_nc_yz=test_cvnmap_nc_yz.reshape(test_cvnmap_nc_yz.shape[0],100,80,1)\n",
    "#batch_size,width,heigh,color_channels"
   ]
  },
  {
   "cell_type": "code",
   "execution_count": 34,
   "metadata": {},
   "outputs": [],
   "source": [
    "# custom regression loss functions\n",
    "# huber loss\n",
    "def huber(true, pred, delta):\n",
    "    loss = np.where(np.abs(true-pred) < delta , 0.5*((true-pred)**2), delta*np.abs(true - pred) - 0.5*(delta**2))\n",
    "    return np.sum(loss)\n",
    "\n",
    "# log cosh loss\n",
    "def logcosh(true, pred):\n",
    "    loss = np.log(np.cosh(pred - true))\n",
    "    return np.sum(loss)"
   ]
  },
  {
   "cell_type": "markdown",
   "metadata": {},
   "source": [
    "### MultiView Fully Connected Layer Regression CNN Model"
   ]
  },
  {
   "cell_type": "code",
   "execution_count": 35,
   "metadata": {
    "scrolled": true
   },
   "outputs": [
    {
     "name": "stdout",
     "output_type": "stream",
     "text": [
      "Model: \"functional_1\"\n",
      "__________________________________________________________________________________________________\n",
      "Layer (type)                    Output Shape         Param #     Connected to                     \n",
      "==================================================================================================\n",
      "conv2d_input (InputLayer)       [(None, 100, 80, 1)] 0                                            \n",
      "__________________________________________________________________________________________________\n",
      "conv2d_1_input (InputLayer)     [(None, 100, 80, 1)] 0                                            \n",
      "__________________________________________________________________________________________________\n",
      "conv2d (Conv2D)                 (None, 99, 79, 32)   160         conv2d_input[0][0]               \n",
      "__________________________________________________________________________________________________\n",
      "conv2d_1 (Conv2D)               (None, 99, 79, 32)   160         conv2d_1_input[0][0]             \n",
      "__________________________________________________________________________________________________\n",
      "max_pooling2d (MaxPooling2D)    (None, 49, 39, 32)   0           conv2d[0][0]                     \n",
      "__________________________________________________________________________________________________\n",
      "max_pooling2d_1 (MaxPooling2D)  (None, 49, 39, 32)   0           conv2d_1[0][0]                   \n",
      "__________________________________________________________________________________________________\n",
      "flatten (Flatten)               (None, 61152)        0           max_pooling2d[0][0]              \n",
      "__________________________________________________________________________________________________\n",
      "flatten_1 (Flatten)             (None, 61152)        0           max_pooling2d_1[0][0]            \n",
      "__________________________________________________________________________________________________\n",
      "dense (Dense)                   (None, 256)          15655168    flatten[0][0]                    \n",
      "__________________________________________________________________________________________________\n",
      "dense_1 (Dense)                 (None, 256)          15655168    flatten_1[0][0]                  \n",
      "__________________________________________________________________________________________________\n",
      "dense_2 (Dense)                 (None, 256)          65792       dense[0][0]                      \n",
      "__________________________________________________________________________________________________\n",
      "dense_3 (Dense)                 (None, 256)          65792       dense_1[0][0]                    \n",
      "__________________________________________________________________________________________________\n",
      "dense_4 (Dense)                 (None, 256)          65792       dense_2[0][0]                    \n",
      "__________________________________________________________________________________________________\n",
      "dense_5 (Dense)                 (None, 256)          65792       dense_3[0][0]                    \n",
      "__________________________________________________________________________________________________\n",
      "dense_6 (Dense)                 (None, 256)          65792       dense_4[0][0]                    \n",
      "__________________________________________________________________________________________________\n",
      "dense_7 (Dense)                 (None, 256)          65792       dense_5[0][0]                    \n",
      "__________________________________________________________________________________________________\n",
      "dense_8 (Dense)                 (None, 256)          65792       dense_6[0][0]                    \n",
      "__________________________________________________________________________________________________\n",
      "dense_9 (Dense)                 (None, 256)          65792       dense_7[0][0]                    \n",
      "__________________________________________________________________________________________________\n",
      "dense_10 (Dense)                (None, 256)          65792       dense_8[0][0]                    \n",
      "__________________________________________________________________________________________________\n",
      "dense_11 (Dense)                (None, 256)          65792       dense_9[0][0]                    \n",
      "__________________________________________________________________________________________________\n",
      "concatenate (Concatenate)       (None, 512)          0           dense_10[0][0]                   \n",
      "                                                                 dense_11[0][0]                   \n",
      "__________________________________________________________________________________________________\n",
      "dense_12 (Dense)                (None, 1)            513         concatenate[0][0]                \n",
      "==================================================================================================\n",
      "Total params: 31,969,089\n",
      "Trainable params: 31,969,089\n",
      "Non-trainable params: 0\n",
      "__________________________________________________________________________________________________\n",
      "None\n"
     ]
    }
   ],
   "source": [
    "# instantiate the models\n",
    "model_regCNN_xz = Sequential()\n",
    "model_regCNN_yz = Sequential()\n",
    "# add two fully connected 2-dimensional convolutional layers for the XZ and YZ views\n",
    "model_regCNN_xz.add(Conv2D(filters=32,kernel_size=(2,2),strides=(1,1),\n",
    "                  input_shape=(100,80,1),activation='relu'))\n",
    "model_regCNN_yz.add(Conv2D(filters=32,kernel_size=(2,2),strides=(1,1),\n",
    "                 input_shape=(100,80,1),activation='relu'))\n",
    "# specify 2-dimensional pooling\n",
    "model_regCNN_xz.add(MaxPool2D(pool_size=(2,2)))\n",
    "model_regCNN_yz.add(MaxPool2D(pool_size=(2,2)))\n",
    "# flatten the datasets\n",
    "model_regCNN_xz.add(Flatten())\n",
    "model_regCNN_yz.add(Flatten())\n",
    "# add dense layers for each view. 256 neurons per layer\n",
    "model_regCNN_xz.add(Dense(256,activation='relu'))\n",
    "model_regCNN_yz.add(Dense(256,activation='relu'))\n",
    "model_regCNN_xz.add(Dense(256,activation='relu'))\n",
    "model_regCNN_yz.add(Dense(256,activation='relu'))\n",
    "model_regCNN_xz.add(Dense(256,activation='relu'))\n",
    "model_regCNN_yz.add(Dense(256,activation='relu'))\n",
    "model_regCNN_xz.add(Dense(256,activation='relu'))\n",
    "model_regCNN_yz.add(Dense(256,activation='relu'))\n",
    "model_regCNN_xz.add(Dense(256,activation='relu'))\n",
    "model_regCNN_yz.add(Dense(256,activation='relu'))\n",
    "model_regCNN_xz.add(Dense(256,activation='relu'))\n",
    "model_regCNN_yz.add(Dense(256,activation='relu'))\n",
    "# no. of classes (output)\n",
    "n_classes=1\n",
    "# tf concatenate the models\n",
    "model_regCNN_concat = concatenate([model_regCNN_xz.output, model_regCNN_yz.output],axis=-1)\n",
    "model_regCNN_concat = Dense(n_classes)(model_regCNN_concat)\n",
    "model_regCNN = Model(inputs=[model_regCNN_xz.input, model_regCNN_yz.input], outputs=model_regCNN_concat)\n",
    "# compile the concatenated model\n",
    "model_regCNN.compile(loss='logcosh', optimizer='adam') # loss was 'mse' then 'mae'\n",
    "# print a summary of the model\n",
    "print(model_regCNN.summary())"
   ]
  },
  {
   "cell_type": "code",
   "execution_count": 36,
   "metadata": {
    "scrolled": true
   },
   "outputs": [
    {
     "name": "stdout",
     "output_type": "stream",
     "text": [
      "Epoch 1/200\n",
      "2183/2183 [==============================] - 13s 6ms/step - loss: 103.4365\n",
      "Epoch 2/200\n",
      "2183/2183 [==============================] - 13s 6ms/step - loss: 97.8302\n",
      "Epoch 3/200\n",
      "2183/2183 [==============================] - 13s 6ms/step - loss: 91.0535\n",
      "Epoch 4/200\n",
      "2183/2183 [==============================] - 14s 6ms/step - loss: 83.6772\n",
      "Epoch 5/200\n",
      "2183/2183 [==============================] - 13s 6ms/step - loss: 76.7435\n",
      "Epoch 6/200\n",
      "2183/2183 [==============================] - 13s 6ms/step - loss: 70.6539\n",
      "Epoch 7/200\n",
      "2183/2183 [==============================] - 13s 6ms/step - loss: 65.1669\n",
      "Epoch 8/200\n",
      "2183/2183 [==============================] - 13s 6ms/step - loss: 60.2089\n",
      "Epoch 9/200\n",
      "2183/2183 [==============================] - 13s 6ms/step - loss: 55.9410\n",
      "Epoch 10/200\n",
      "2183/2183 [==============================] - 14s 6ms/step - loss: 51.8561\n",
      "Epoch 11/200\n",
      "2183/2183 [==============================] - 14s 6ms/step - loss: 48.5757\n",
      "Epoch 12/200\n",
      "2183/2183 [==============================] - 13s 6ms/step - loss: 45.6927\n",
      "Epoch 13/200\n",
      "2183/2183 [==============================] - 14s 6ms/step - loss: 43.1634\n",
      "Epoch 14/200\n",
      "2183/2183 [==============================] - 14s 6ms/step - loss: 40.5061\n",
      "Epoch 15/200\n",
      "2183/2183 [==============================] - 13s 6ms/step - loss: 38.7599\n",
      "Epoch 16/200\n",
      "2183/2183 [==============================] - 14s 6ms/step - loss: 37.0324\n",
      "Epoch 17/200\n",
      "2183/2183 [==============================] - 14s 6ms/step - loss: 35.1015\n",
      "Epoch 18/200\n",
      "2183/2183 [==============================] - 13s 6ms/step - loss: 33.7550\n",
      "Epoch 19/200\n",
      "2183/2183 [==============================] - 14s 6ms/step - loss: 32.3002\n",
      "Epoch 20/200\n",
      "2183/2183 [==============================] - 14s 6ms/step - loss: 31.1788\n",
      "Epoch 21/200\n",
      "2183/2183 [==============================] - 13s 6ms/step - loss: 29.9160\n",
      "Epoch 22/200\n",
      "2183/2183 [==============================] - 14s 6ms/step - loss: 28.8036\n",
      "Epoch 23/200\n",
      "2183/2183 [==============================] - 14s 6ms/step - loss: 27.8773\n",
      "Epoch 24/200\n",
      "2183/2183 [==============================] - 13s 6ms/step - loss: 27.0001\n",
      "Epoch 25/200\n",
      "2183/2183 [==============================] - 14s 6ms/step - loss: 25.9887\n",
      "Epoch 26/200\n",
      "2183/2183 [==============================] - 14s 6ms/step - loss: 25.4709\n",
      "Epoch 27/200\n",
      "2183/2183 [==============================] - 13s 6ms/step - loss: 24.5265\n",
      "Epoch 28/200\n",
      "2183/2183 [==============================] - 14s 6ms/step - loss: 23.6418\n",
      "Epoch 29/200\n",
      "2183/2183 [==============================] - 14s 6ms/step - loss: 23.2685\n",
      "Epoch 30/200\n",
      "2183/2183 [==============================] - 13s 6ms/step - loss: 22.3941\n",
      "Epoch 31/200\n",
      "2183/2183 [==============================] - 14s 6ms/step - loss: 22.1013\n",
      "Epoch 32/200\n",
      "2183/2183 [==============================] - 14s 6ms/step - loss: 21.4032\n",
      "Epoch 33/200\n",
      "2183/2183 [==============================] - 13s 6ms/step - loss: 20.8168\n",
      "Epoch 34/200\n",
      "2183/2183 [==============================] - 14s 6ms/step - loss: 20.5783\n",
      "Epoch 35/200\n",
      "2183/2183 [==============================] - 14s 6ms/step - loss: 19.7783\n",
      "Epoch 36/200\n",
      "2183/2183 [==============================] - 13s 6ms/step - loss: 19.5337\n",
      "Epoch 37/200\n",
      "2183/2183 [==============================] - 14s 6ms/step - loss: 19.1841\n",
      "Epoch 38/200\n",
      "2183/2183 [==============================] - 14s 6ms/step - loss: 18.7184\n",
      "Epoch 39/200\n",
      "2183/2183 [==============================] - 13s 6ms/step - loss: 18.2686\n",
      "Epoch 40/200\n",
      "2183/2183 [==============================] - 13s 6ms/step - loss: 17.9248\n",
      "Epoch 41/200\n",
      "2183/2183 [==============================] - 14s 6ms/step - loss: 17.5374\n",
      "Epoch 42/200\n",
      "2183/2183 [==============================] - 13s 6ms/step - loss: 17.3366\n",
      "Epoch 43/200\n",
      "2183/2183 [==============================] - 13s 6ms/step - loss: 17.1200\n",
      "Epoch 44/200\n",
      "2183/2183 [==============================] - 14s 6ms/step - loss: 16.5829\n",
      "Epoch 45/200\n",
      "2183/2183 [==============================] - 13s 6ms/step - loss: 16.3992\n",
      "Epoch 46/200\n",
      "2183/2183 [==============================] - 13s 6ms/step - loss: 15.9858\n",
      "Epoch 47/200\n",
      "2183/2183 [==============================] - 14s 6ms/step - loss: 15.8626\n",
      "Epoch 48/200\n",
      "2183/2183 [==============================] - 13s 6ms/step - loss: 15.5698\n",
      "Epoch 49/200\n",
      "2183/2183 [==============================] - 13s 6ms/step - loss: 15.4276\n",
      "Epoch 50/200\n",
      "2183/2183 [==============================] - 14s 6ms/step - loss: 15.0015\n",
      "Epoch 51/200\n",
      "2183/2183 [==============================] - 13s 6ms/step - loss: 14.8183\n",
      "Epoch 52/200\n",
      "2183/2183 [==============================] - 14s 6ms/step - loss: 14.4260\n",
      "Epoch 53/200\n",
      "2183/2183 [==============================] - 14s 6ms/step - loss: 14.4428\n",
      "Epoch 54/200\n",
      "2183/2183 [==============================] - 13s 6ms/step - loss: 14.0658\n",
      "Epoch 55/200\n",
      "2183/2183 [==============================] - 13s 6ms/step - loss: 14.0896\n",
      "Epoch 56/200\n",
      "2183/2183 [==============================] - 14s 6ms/step - loss: 13.6350\n",
      "Epoch 57/200\n",
      "2183/2183 [==============================] - 13s 6ms/step - loss: 13.6534\n",
      "Epoch 58/200\n",
      "2183/2183 [==============================] - 13s 6ms/step - loss: 13.3137\n",
      "Epoch 59/200\n",
      "2183/2183 [==============================] - 14s 6ms/step - loss: 13.1899\n",
      "Epoch 60/200\n",
      "2183/2183 [==============================] - 13s 6ms/step - loss: 13.0099\n",
      "Epoch 61/200\n",
      "2183/2183 [==============================] - 13s 6ms/step - loss: 12.8094\n",
      "Epoch 62/200\n",
      "2183/2183 [==============================] - 14s 6ms/step - loss: 12.5414\n",
      "Epoch 63/200\n",
      "2183/2183 [==============================] - 14s 6ms/step - loss: 12.4226\n",
      "Epoch 64/200\n",
      "2183/2183 [==============================] - 14s 6ms/step - loss: 12.2965\n",
      "Epoch 65/200\n",
      "2183/2183 [==============================] - 14s 6ms/step - loss: 12.1236\n",
      "Epoch 66/200\n",
      "2183/2183 [==============================] - 13s 6ms/step - loss: 12.0209\n",
      "Epoch 67/200\n",
      "2183/2183 [==============================] - 13s 6ms/step - loss: 12.0018\n",
      "Epoch 68/200\n",
      "2183/2183 [==============================] - 14s 6ms/step - loss: 11.7104\n",
      "Epoch 69/200\n",
      "2183/2183 [==============================] - 13s 6ms/step - loss: 11.6482\n",
      "Epoch 70/200\n",
      "2183/2183 [==============================] - 13s 6ms/step - loss: 11.4644\n",
      "Epoch 71/200\n",
      "2183/2183 [==============================] - 14s 6ms/step - loss: 11.3739\n",
      "Epoch 72/200\n",
      "2183/2183 [==============================] - 13s 6ms/step - loss: 11.2971\n",
      "Epoch 73/200\n",
      "2183/2183 [==============================] - 13s 6ms/step - loss: 11.0869\n",
      "Epoch 74/200\n",
      "2183/2183 [==============================] - 14s 6ms/step - loss: 10.9481\n",
      "Epoch 75/200\n",
      "2183/2183 [==============================] - 13s 6ms/step - loss: 10.8653\n",
      "Epoch 76/200\n",
      "2183/2183 [==============================] - 13s 6ms/step - loss: 10.7063\n",
      "Epoch 77/200\n",
      "2183/2183 [==============================] - 14s 7ms/step - loss: 10.7155\n",
      "Epoch 78/200\n",
      "2183/2183 [==============================] - 14s 6ms/step - loss: 10.5253\n",
      "Epoch 79/200\n",
      "2183/2183 [==============================] - 13s 6ms/step - loss: 10.4209\n",
      "Epoch 80/200\n",
      "2183/2183 [==============================] - 14s 6ms/step - loss: 10.2495\n",
      "Epoch 81/200\n",
      "2183/2183 [==============================] - 13s 6ms/step - loss: 10.2446\n",
      "Epoch 82/200\n",
      "2183/2183 [==============================] - 13s 6ms/step - loss: 10.3348\n",
      "Epoch 83/200\n",
      "2183/2183 [==============================] - 14s 6ms/step - loss: 9.9976\n",
      "Epoch 84/200\n",
      "2183/2183 [==============================] - 13s 6ms/step - loss: 10.0656\n",
      "Epoch 85/200\n",
      "2183/2183 [==============================] - 13s 6ms/step - loss: 9.7271\n",
      "Epoch 86/200\n",
      "2183/2183 [==============================] - 14s 6ms/step - loss: 9.8677\n",
      "Epoch 87/200\n",
      "2183/2183 [==============================] - 14s 6ms/step - loss: 9.6198\n",
      "Epoch 88/200\n",
      "2183/2183 [==============================] - 13s 6ms/step - loss: 9.5249\n",
      "Epoch 89/200\n",
      "2183/2183 [==============================] - 14s 7ms/step - loss: 9.4350\n",
      "Epoch 90/200\n",
      "2183/2183 [==============================] - 13s 6ms/step - loss: 9.5219\n",
      "Epoch 91/200\n",
      "2183/2183 [==============================] - 13s 6ms/step - loss: 9.2250\n",
      "Epoch 92/200\n",
      "2183/2183 [==============================] - 14s 7ms/step - loss: 9.2133\n",
      "Epoch 93/200\n",
      "2183/2183 [==============================] - 13s 6ms/step - loss: 9.0840\n",
      "Epoch 94/200\n",
      "2183/2183 [==============================] - 13s 6ms/step - loss: 9.0472\n",
      "Epoch 95/200\n",
      "2183/2183 [==============================] - 14s 7ms/step - loss: 9.1007\n",
      "Epoch 96/200\n",
      "2183/2183 [==============================] - 13s 6ms/step - loss: 9.0325\n",
      "Epoch 97/200\n",
      "2183/2183 [==============================] - 13s 6ms/step - loss: 8.7174\n",
      "Epoch 98/200\n",
      "2183/2183 [==============================] - 14s 6ms/step - loss: 8.9016\n",
      "Epoch 99/200\n",
      "2183/2183 [==============================] - 13s 6ms/step - loss: 8.6221\n",
      "Epoch 100/200\n",
      "2183/2183 [==============================] - 13s 6ms/step - loss: 8.6894\n",
      "Epoch 101/200\n",
      "2183/2183 [==============================] - 14s 6ms/step - loss: 8.6545\n",
      "Epoch 102/200\n",
      "2183/2183 [==============================] - 13s 6ms/step - loss: 8.4936\n",
      "Epoch 103/200\n",
      "2183/2183 [==============================] - 13s 6ms/step - loss: 8.3427\n",
      "Epoch 104/200\n",
      "2183/2183 [==============================] - 14s 7ms/step - loss: 8.5471\n",
      "Epoch 105/200\n",
      "2183/2183 [==============================] - 13s 6ms/step - loss: 8.2513\n",
      "Epoch 106/200\n",
      "2183/2183 [==============================] - 13s 6ms/step - loss: 8.2165\n",
      "Epoch 107/200\n",
      "2183/2183 [==============================] - 14s 7ms/step - loss: 8.2547\n",
      "Epoch 108/200\n",
      "2183/2183 [==============================] - 13s 6ms/step - loss: 8.1373\n",
      "Epoch 109/200\n",
      "2183/2183 [==============================] - 13s 6ms/step - loss: 8.0313\n",
      "Epoch 110/200\n",
      "2183/2183 [==============================] - 14s 6ms/step - loss: 8.1633\n",
      "Epoch 111/200\n",
      "2183/2183 [==============================] - 13s 6ms/step - loss: 7.9864\n",
      "Epoch 112/200\n",
      "2183/2183 [==============================] - 13s 6ms/step - loss: 7.8509\n",
      "Epoch 113/200\n",
      "2183/2183 [==============================] - 14s 7ms/step - loss: 7.8045\n",
      "Epoch 114/200\n",
      "2183/2183 [==============================] - 13s 6ms/step - loss: 7.8312\n",
      "Epoch 115/200\n",
      "2183/2183 [==============================] - 13s 6ms/step - loss: 7.6517\n",
      "Epoch 116/200\n",
      "2183/2183 [==============================] - 14s 6ms/step - loss: 7.7482\n",
      "Epoch 117/200\n",
      "2183/2183 [==============================] - 13s 6ms/step - loss: 7.7325\n",
      "Epoch 118/200\n",
      "2183/2183 [==============================] - 13s 6ms/step - loss: 7.5735\n",
      "Epoch 119/200\n",
      "2183/2183 [==============================] - 14s 7ms/step - loss: 7.5741\n",
      "Epoch 120/200\n",
      "2183/2183 [==============================] - 13s 6ms/step - loss: 7.5714\n",
      "Epoch 121/200\n",
      "2183/2183 [==============================] - 13s 6ms/step - loss: 7.4676\n",
      "Epoch 122/200\n",
      "2183/2183 [==============================] - 14s 7ms/step - loss: 7.2475\n",
      "Epoch 123/200\n",
      "2183/2183 [==============================] - 13s 6ms/step - loss: 7.3236\n",
      "Epoch 124/200\n",
      "2183/2183 [==============================] - 13s 6ms/step - loss: 7.4125\n",
      "Epoch 125/200\n",
      "2183/2183 [==============================] - 14s 6ms/step - loss: 7.2294\n",
      "Epoch 126/200\n",
      "2183/2183 [==============================] - 13s 6ms/step - loss: 7.2222\n",
      "Epoch 127/200\n",
      "2183/2183 [==============================] - 13s 6ms/step - loss: 7.1471\n",
      "Epoch 128/200\n",
      "2183/2183 [==============================] - 14s 6ms/step - loss: 7.1817\n",
      "Epoch 129/200\n",
      "2183/2183 [==============================] - 14s 6ms/step - loss: 6.9472\n",
      "Epoch 130/200\n",
      "2183/2183 [==============================] - 13s 6ms/step - loss: 7.0562\n",
      "Epoch 131/200\n",
      "2183/2183 [==============================] - 14s 7ms/step - loss: 7.0753\n",
      "Epoch 132/200\n",
      "2183/2183 [==============================] - 13s 6ms/step - loss: 6.9399\n",
      "Epoch 133/200\n",
      "2183/2183 [==============================] - 13s 6ms/step - loss: 6.9634\n",
      "Epoch 134/200\n",
      "2183/2183 [==============================] - 14s 6ms/step - loss: 6.9967\n",
      "Epoch 135/200\n",
      "2183/2183 [==============================] - ETA: 0s - loss: 6.910 - 13s 6ms/step - loss: 6.9141\n",
      "Epoch 136/200\n",
      "2183/2183 [==============================] - 13s 6ms/step - loss: 6.8516\n",
      "Epoch 137/200\n",
      "2183/2183 [==============================] - 14s 6ms/step - loss: 6.8314\n",
      "Epoch 138/200\n",
      "2183/2183 [==============================] - 14s 6ms/step - loss: 6.8031\n",
      "Epoch 139/200\n",
      "2183/2183 [==============================] - 13s 6ms/step - loss: 6.7419\n",
      "Epoch 140/200\n",
      "2183/2183 [==============================] - 14s 6ms/step - loss: 6.6756\n",
      "Epoch 141/200\n",
      "2183/2183 [==============================] - 14s 6ms/step - loss: 6.6589\n",
      "Epoch 142/200\n",
      "2183/2183 [==============================] - 13s 6ms/step - loss: 6.5801\n",
      "Epoch 143/200\n",
      "2183/2183 [==============================] - 14s 7ms/step - loss: 6.4672\n",
      "Epoch 144/200\n",
      "2183/2183 [==============================] - 14s 6ms/step - loss: 6.5882\n",
      "Epoch 145/200\n",
      "2183/2183 [==============================] - 13s 6ms/step - loss: 6.3874\n",
      "Epoch 146/200\n",
      "2183/2183 [==============================] - 14s 6ms/step - loss: 6.3626\n",
      "Epoch 147/200\n",
      "2183/2183 [==============================] - 14s 6ms/step - loss: 6.4750\n",
      "Epoch 148/200\n",
      "2183/2183 [==============================] - 13s 6ms/step - loss: 6.2770\n",
      "Epoch 149/200\n",
      "2183/2183 [==============================] - 14s 7ms/step - loss: 6.2774\n",
      "Epoch 150/200\n",
      "2183/2183 [==============================] - 14s 6ms/step - loss: 6.2947\n",
      "Epoch 151/200\n",
      "2183/2183 [==============================] - 13s 6ms/step - loss: 6.3631\n",
      "Epoch 152/200\n",
      "2183/2183 [==============================] - 14s 6ms/step - loss: 6.2314\n",
      "Epoch 153/200\n",
      "2183/2183 [==============================] - 14s 6ms/step - loss: 6.1866\n",
      "Epoch 154/200\n",
      "2183/2183 [==============================] - 13s 6ms/step - loss: 6.2012\n",
      "Epoch 155/200\n",
      "2183/2183 [==============================] - 14s 6ms/step - loss: 6.0307\n",
      "Epoch 156/200\n",
      "2183/2183 [==============================] - 14s 6ms/step - loss: 6.1868\n",
      "Epoch 157/200\n",
      "2183/2183 [==============================] - 13s 6ms/step - loss: 6.0459\n",
      "Epoch 158/200\n",
      "2183/2183 [==============================] - 14s 7ms/step - loss: 6.0331\n",
      "Epoch 159/200\n",
      "2183/2183 [==============================] - 13s 6ms/step - loss: 6.1194\n",
      "Epoch 160/200\n",
      "2183/2183 [==============================] - 13s 6ms/step - loss: 5.8568\n",
      "Epoch 161/200\n",
      "2183/2183 [==============================] - 14s 6ms/step - loss: 6.1735\n",
      "Epoch 162/200\n",
      "2183/2183 [==============================] - 13s 6ms/step - loss: 5.8565\n",
      "Epoch 163/200\n",
      "2183/2183 [==============================] - 13s 6ms/step - loss: 5.9519\n",
      "Epoch 164/200\n",
      "2183/2183 [==============================] - 14s 6ms/step - loss: 5.8799\n",
      "Epoch 165/200\n",
      "2183/2183 [==============================] - 13s 6ms/step - loss: 5.8509\n",
      "Epoch 166/200\n",
      "2183/2183 [==============================] - 13s 6ms/step - loss: 5.7718\n",
      "Epoch 167/200\n",
      "2183/2183 [==============================] - 14s 6ms/step - loss: 5.7048\n",
      "Epoch 168/200\n",
      "2183/2183 [==============================] - 13s 6ms/step - loss: 5.8325\n",
      "Epoch 169/200\n",
      "2183/2183 [==============================] - 13s 6ms/step - loss: 5.7294\n",
      "Epoch 170/200\n",
      "2183/2183 [==============================] - 14s 6ms/step - loss: 5.8460\n",
      "Epoch 171/200\n",
      "2183/2183 [==============================] - 13s 6ms/step - loss: 5.8072\n",
      "Epoch 172/200\n",
      "2183/2183 [==============================] - 13s 6ms/step - loss: 5.6274\n",
      "Epoch 173/200\n",
      "2183/2183 [==============================] - 14s 6ms/step - loss: 5.5650\n",
      "Epoch 174/200\n",
      "2183/2183 [==============================] - 14s 6ms/step - loss: 5.7957\n",
      "Epoch 175/200\n",
      "2183/2183 [==============================] - 13s 6ms/step - loss: 5.5851\n",
      "Epoch 176/200\n",
      "2183/2183 [==============================] - 14s 6ms/step - loss: 5.5536\n",
      "Epoch 177/200\n",
      "2183/2183 [==============================] - 13s 6ms/step - loss: 5.5881\n",
      "Epoch 178/200\n",
      "2183/2183 [==============================] - 13s 6ms/step - loss: 5.4821\n",
      "Epoch 179/200\n",
      "2183/2183 [==============================] - 14s 6ms/step - loss: 5.5774\n",
      "Epoch 180/200\n",
      "2183/2183 [==============================] - 14s 6ms/step - loss: 5.2921\n",
      "Epoch 181/200\n",
      "2183/2183 [==============================] - 13s 6ms/step - loss: 5.4498\n",
      "Epoch 182/200\n",
      "2183/2183 [==============================] - 15s 7ms/step - loss: 5.3885\n",
      "Epoch 183/200\n",
      "2183/2183 [==============================] - 13s 6ms/step - loss: 5.4399\n",
      "Epoch 184/200\n",
      "2183/2183 [==============================] - 13s 6ms/step - loss: 5.3661\n",
      "Epoch 185/200\n",
      "2183/2183 [==============================] - 14s 6ms/step - loss: 5.4545\n",
      "Epoch 186/200\n",
      "2183/2183 [==============================] - 13s 6ms/step - loss: 5.3315\n",
      "Epoch 187/200\n",
      "2183/2183 [==============================] - 13s 6ms/step - loss: 5.4089\n",
      "Epoch 188/200\n",
      "2183/2183 [==============================] - 14s 6ms/step - loss: 5.2683\n",
      "Epoch 189/200\n"
     ]
    },
    {
     "name": "stdout",
     "output_type": "stream",
     "text": [
      "2183/2183 [==============================] - 13s 6ms/step - loss: 5.2652\n",
      "Epoch 190/200\n",
      "2183/2183 [==============================] - 13s 6ms/step - loss: 5.2502\n",
      "Epoch 191/200\n",
      "2183/2183 [==============================] - 14s 6ms/step - loss: 5.1561\n",
      "Epoch 192/200\n",
      "2183/2183 [==============================] - 13s 6ms/step - loss: 5.2234\n",
      "Epoch 193/200\n",
      "2183/2183 [==============================] - 13s 6ms/step - loss: 5.3316\n",
      "Epoch 194/200\n",
      "2183/2183 [==============================] - 14s 6ms/step - loss: 5.0989\n",
      "Epoch 195/200\n",
      "2183/2183 [==============================] - 13s 6ms/step - loss: 5.1767\n",
      "Epoch 196/200\n",
      "2183/2183 [==============================] - 13s 6ms/step - loss: 5.1192\n",
      "Epoch 197/200\n",
      "2183/2183 [==============================] - 14s 6ms/step - loss: 5.1586\n",
      "Epoch 198/200\n",
      "2183/2183 [==============================] - 14s 6ms/step - loss: 5.1575\n",
      "Epoch 199/200\n",
      "2183/2183 [==============================] - 13s 6ms/step - loss: 5.1076\n",
      "Epoch 200/200\n",
      "2183/2183 [==============================] - 14s 6ms/step - loss: 5.0510\n"
     ]
    },
    {
     "data": {
      "text/plain": [
       "<tensorflow.python.keras.callbacks.History at 0x7fafaf044fd0>"
      ]
     },
     "execution_count": 36,
     "metadata": {},
     "output_type": "execute_result"
    }
   ],
   "source": [
    "# x-coordinate system\n",
    "model_regCNN.fit(x=[x1_train,x2_train],y=y1_train,epochs=200)"
   ]
  },
  {
   "cell_type": "markdown",
   "metadata": {},
   "source": [
    "### Model Evaluation"
   ]
  },
  {
   "cell_type": "markdown",
   "metadata": {},
   "source": [
    "    Mean Square Error (MSE) is the most commonly used regression loss function. MSE is the sum of squared distances between our target variable and predicted values.\n",
    "    Mean Absolute Error (MAE) is the sum of absolute differences between our target and predicted variables.MAE loss is useful if the training data is corrupted with outliers (i.e. we erroneously receive unrealistically huge negative/positive values in our training environment, but not our testing environment). One big problem in using MAE loss (for neural nets especially) is that its gradient is the same throughout, which means the gradient will be large even for small loss values. This isn’t good for learning. To fix this, we can use dynamic learning rate which decreases as we move closer to the minima.\n",
    "    Huber loss is less sensitive to outliers in data than the squared error loss. It’s also differentiable at 0. It’s basically absolute error, which becomes quadratic when error is small. How small that error has to be to make it quadratic depends on a hyperparameter, 𝛿 (delta), which can be tuned. Huber loss approaches MSE when 𝛿 ~ 0 and MAE when 𝛿 ~ ∞ (large numbers.)\n",
    "    Log-cosh is the logarithm of the hyperbolic cosine of the prediction error. log(cosh(x)) is approximately equal to (x ** 2) / 2 for small x and to abs(x) - log(2) for large x. This means that 'logcosh' works mostly like the mean squared error, but will not be so strongly affected by the occasional wildly incorrect prediction. It has all the advantages of Huber loss, and it’s twice differentiable everywhere, unlike Huber loss."
   ]
  },
  {
   "cell_type": "code",
   "execution_count": 37,
   "metadata": {},
   "outputs": [
    {
     "data": {
      "image/png": "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\n",
      "text/plain": [
       "<Figure size 864x576 with 1 Axes>"
      ]
     },
     "metadata": {
      "needs_background": "light"
     },
     "output_type": "display_data"
    }
   ],
   "source": [
    "# model evaluation with logcosh 200 epoch\n",
    "metrics = pd.DataFrame(model_regCNN.history.history)\n",
    "plt.figure(figsize=(12,8))\n",
    "plt.plot(metrics[['loss']])\n",
    "plt.xlabel('Epoch')\n",
    "plt.ylabel('Loss')\n",
    "#plt.savefig('x-train-loss.pdf')\n",
    "plt.savefig('y-train-loss_2.png',dpi=600)\n",
    "plt.tight_layout()\n",
    "plt.show()"
   ]
  },
  {
   "cell_type": "markdown",
   "metadata": {},
   "source": [
    "#### Run Model Predictions"
   ]
  },
  {
   "cell_type": "code",
   "execution_count": 38,
   "metadata": {},
   "outputs": [],
   "source": [
    "qe_predictions=model_regCNN.predict([test_cvnmap_qe_xz,test_cvnmap_qe_yz])\n",
    "res_predictions=model_regCNN.predict([test_cvnmap_res_xz,test_cvnmap_res_yz])\n",
    "dis_predictions=model_regCNN.predict([test_cvnmap_dis_xz,test_cvnmap_dis_yz])"
   ]
  },
  {
   "cell_type": "code",
   "execution_count": 39,
   "metadata": {},
   "outputs": [],
   "source": [
    "cc_predictions=model_regCNN.predict([test_cvnmap_cc_xz,test_cvnmap_cc_yz])"
   ]
  },
  {
   "cell_type": "code",
   "execution_count": 40,
   "metadata": {},
   "outputs": [],
   "source": [
    "nc_predictions=model_regCNN.predict([test_cvnmap_nc_xz,test_cvnmap_nc_yz])"
   ]
  },
  {
   "cell_type": "code",
   "execution_count": 40,
   "metadata": {},
   "outputs": [],
   "source": [
    "# overall\n",
    "#full_pred_df=pd.DataFrame(testtruevtxx,columns=['Test True X'])\n",
    "#full_test_predictions=pd.Series(full_predictions.reshape(testtruevtxx.shape[0],))\n",
    "#full_pred_df=pd.concat(full_pred_df,full_predictions,axis=1)\n",
    "#full_pred_df.columns=['Test True X','Model Predictions']"
   ]
  },
  {
   "cell_type": "code",
   "execution_count": 41,
   "metadata": {},
   "outputs": [
    {
     "ename": "NameError",
     "evalue": "name 'cc_pred_df' is not defined",
     "output_type": "error",
     "traceback": [
      "\u001b[0;31m---------------------------------------------------------------------------\u001b[0m",
      "\u001b[0;31mNameError\u001b[0m                                 Traceback (most recent call last)",
      "\u001b[0;32m<ipython-input-41-795556b5a01b>\u001b[0m in \u001b[0;36m<module>\u001b[0;34m\u001b[0m\n\u001b[1;32m      3\u001b[0m \u001b[0mplt\u001b[0m\u001b[0;34m.\u001b[0m\u001b[0mxlabel\u001b[0m\u001b[0;34m(\u001b[0m\u001b[0;34m'True Y Vertex (cm)'\u001b[0m\u001b[0;34m)\u001b[0m\u001b[0;34m\u001b[0m\u001b[0;34m\u001b[0m\u001b[0m\n\u001b[1;32m      4\u001b[0m \u001b[0mplt\u001b[0m\u001b[0;34m.\u001b[0m\u001b[0mylabel\u001b[0m\u001b[0;34m(\u001b[0m\u001b[0;34m'Model Y Vertex (cm)'\u001b[0m\u001b[0;34m)\u001b[0m\u001b[0;34m\u001b[0m\u001b[0;34m\u001b[0m\u001b[0m\n\u001b[0;32m----> 5\u001b[0;31m \u001b[0msns\u001b[0m\u001b[0;34m.\u001b[0m\u001b[0mkdeplot\u001b[0m\u001b[0;34m(\u001b[0m\u001b[0mdata\u001b[0m\u001b[0;34m=\u001b[0m\u001b[0mcc_pred_df\u001b[0m\u001b[0;34m,\u001b[0m\u001b[0mx\u001b[0m\u001b[0;34m=\u001b[0m\u001b[0;34m'Test True Y'\u001b[0m\u001b[0;34m,\u001b[0m\u001b[0my\u001b[0m\u001b[0;34m=\u001b[0m\u001b[0;34m'Test Reco Y'\u001b[0m\u001b[0;34m,\u001b[0m\u001b[0mfill\u001b[0m\u001b[0;34m=\u001b[0m\u001b[0;32mTrue\u001b[0m\u001b[0;34m)\u001b[0m\u001b[0;34m\u001b[0m\u001b[0;34m\u001b[0m\u001b[0m\n\u001b[0m\u001b[1;32m      6\u001b[0m \u001b[0mplt\u001b[0m\u001b[0;34m.\u001b[0m\u001b[0mylim\u001b[0m\u001b[0;34m(\u001b[0m\u001b[0;34m-\u001b[0m\u001b[0;36m300\u001b[0m\u001b[0;34m,\u001b[0m \u001b[0;36m300\u001b[0m\u001b[0;34m)\u001b[0m\u001b[0;34m\u001b[0m\u001b[0;34m\u001b[0m\u001b[0m\n\u001b[1;32m      7\u001b[0m \u001b[0mplt\u001b[0m\u001b[0;34m.\u001b[0m\u001b[0mxlim\u001b[0m\u001b[0;34m(\u001b[0m\u001b[0;34m-\u001b[0m\u001b[0;36m300\u001b[0m\u001b[0;34m,\u001b[0m \u001b[0;36m300\u001b[0m\u001b[0;34m)\u001b[0m\u001b[0;34m\u001b[0m\u001b[0;34m\u001b[0m\u001b[0m\n",
      "\u001b[0;31mNameError\u001b[0m: name 'cc_pred_df' is not defined"
     ]
    },
    {
     "data": {
      "image/png": "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\n",
      "text/plain": [
       "<Figure size 576x576 with 1 Axes>"
      ]
     },
     "metadata": {
      "needs_background": "light"
     },
     "output_type": "display_data"
    }
   ],
   "source": [
    "# test before sending to csv\n",
    "plt.figure(figsize=(8,8))\n",
    "plt.xlabel('True Y Vertex (cm)')\n",
    "plt.ylabel('Model Y Vertex (cm)')\n",
    "sns.kdeplot(data=cc_pred_df,x='Test True Y',y='Test Reco Y',fill=True)\n",
    "plt.ylim(-300, 300)\n",
    "plt.xlim(-300, 300)\n",
    "plt.plot(y1_test,y1_test,'r',lw=0.5,ls='--')"
   ]
  },
  {
   "cell_type": "code",
   "execution_count": 42,
   "metadata": {},
   "outputs": [
    {
     "ename": "NameError",
     "evalue": "name 'full_test_predictions' is not defined",
     "output_type": "error",
     "traceback": [
      "\u001b[0;31m---------------------------------------------------------------------------\u001b[0m",
      "\u001b[0;31mNameError\u001b[0m                                 Traceback (most recent call last)",
      "\u001b[0;32m<ipython-input-42-adcd1caf93cb>\u001b[0m in \u001b[0;36m<module>\u001b[0;34m\u001b[0m\n\u001b[1;32m      1\u001b[0m \u001b[0;31m# test before sending to csv\u001b[0m\u001b[0;34m\u001b[0m\u001b[0;34m\u001b[0m\u001b[0;34m\u001b[0m\u001b[0m\n\u001b[0;32m----> 2\u001b[0;31m \u001b[0mx_diff\u001b[0m\u001b[0;34m=\u001b[0m\u001b[0mfull_test_predictions\u001b[0m\u001b[0;34m-\u001b[0m\u001b[0mtesttruevtxx\u001b[0m\u001b[0;34m\u001b[0m\u001b[0;34m\u001b[0m\u001b[0m\n\u001b[0m\u001b[1;32m      3\u001b[0m \u001b[0mplt\u001b[0m\u001b[0;34m.\u001b[0m\u001b[0mfigure\u001b[0m\u001b[0;34m(\u001b[0m\u001b[0mfigsize\u001b[0m\u001b[0;34m=\u001b[0m\u001b[0;34m(\u001b[0m\u001b[0;36m12\u001b[0m\u001b[0;34m,\u001b[0m\u001b[0;36m8\u001b[0m\u001b[0;34m)\u001b[0m\u001b[0;34m)\u001b[0m\u001b[0;34m\u001b[0m\u001b[0;34m\u001b[0m\u001b[0m\n\u001b[1;32m      4\u001b[0m \u001b[0msns\u001b[0m\u001b[0;34m.\u001b[0m\u001b[0mdisplot\u001b[0m\u001b[0;34m(\u001b[0m\u001b[0mx_diff\u001b[0m\u001b[0;34m,\u001b[0m\u001b[0mcolor\u001b[0m\u001b[0;34m=\u001b[0m\u001b[0;34m'k'\u001b[0m\u001b[0;34m)\u001b[0m\u001b[0;34m\u001b[0m\u001b[0;34m\u001b[0m\u001b[0m\n\u001b[1;32m      5\u001b[0m \u001b[0mplt\u001b[0m\u001b[0;34m.\u001b[0m\u001b[0mylim\u001b[0m\u001b[0;34m(\u001b[0m\u001b[0;36m0\u001b[0m\u001b[0;34m,\u001b[0m \u001b[0;36m3500\u001b[0m\u001b[0;34m)\u001b[0m\u001b[0;34m\u001b[0m\u001b[0;34m\u001b[0m\u001b[0m\n",
      "\u001b[0;31mNameError\u001b[0m: name 'full_test_predictions' is not defined"
     ]
    }
   ],
   "source": [
    "# test before sending to csv\n",
    "x_diff=full_test_predictions-testtruevtxx\n",
    "plt.figure(figsize=(12,8))\n",
    "sns.displot(x_diff,color='k')\n",
    "plt.ylim(0, 3500)\n",
    "plt.xlim(-300, 300)\n",
    "plt.xlabel('Model Prediction - True (cm)')\n",
    "plt.ylabel('Count')"
   ]
  },
  {
   "cell_type": "code",
   "execution_count": 43,
   "metadata": {},
   "outputs": [
    {
     "name": "stdout",
     "output_type": "stream",
     "text": [
      "The mean is 3.1094157749524025\n",
      "The RMS is  63.93003655451809\n",
      "The total number of events is  93131\n",
      "The number events within plus minus 200 is  91067 This is 97.78376695192793 % of all events\n",
      "The number of events outside this range is 2064\n"
     ]
    },
    {
     "data": {
      "text/plain": [
       "<Figure size 864x576 with 0 Axes>"
      ]
     },
     "metadata": {},
     "output_type": "display_data"
    },
    {
     "data": {
      "image/png": "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\n",
      "text/plain": [
       "<Figure size 360x360 with 1 Axes>"
      ]
     },
     "metadata": {
      "needs_background": "light"
     },
     "output_type": "display_data"
    }
   ],
   "source": [
    "# test before sending to csv\n",
    "diff_reco=truevtxy-recovtxy\n",
    "plt.figure(figsize=(12,8))\n",
    "sns.displot(diff_reco,color='k')\n",
    "plt.ylim(0, 3500)\n",
    "plt.xlim(-300, 300)\n",
    "#plt.ylim(0, 250)\n",
    "#plt.xlim(-100, 100)\n",
    "plt.xlabel('Reco - True (cm)')\n",
    "plt.ylabel('Count')\n",
    "\n",
    "#calculating mean and stuff\n",
    "\n",
    "for n,i in enumerate(diff_reco):\n",
    "    if i > abs(300):\n",
    "        diff_reco[n]=0\n",
    "   \n",
    "\n",
    "averagey=np.mean(diff_reco)\n",
    "print(\"The mean is\" , averagey)\n",
    "\n",
    "\n",
    "\n",
    "#Calculating RMS\n",
    "rmsy=np.sqrt(np.mean(diff_reco**2))\n",
    "print(\"The RMS is \" , rmsy)\n",
    "#areaofinteresty=3*rmsy-averagey\n",
    "#print(\"The range of 3 sigma we are counting inside of is \", areaofinteresty)\n",
    "areaofinteresty=200\n",
    "\n",
    "#total number of events\n",
    "totalevents=len(diff_reco)\n",
    "print(\"The total number of events is \" , totalevents)\n",
    "#Counting events within 3 sigma\n",
    "y=0\n",
    "for x in diff_reco:\n",
    "    if x < abs(areaofinteresty):\n",
    "        y=y+1\n",
    "    else:\n",
    "        continue\n",
    "percentcount=y/totalevents\n",
    "print(\"The number events within plus minus 200 is \", y,\"This is\", 100*percentcount, \"% of all events\")\n",
    "print(\"The number of events outside this range is\", totalevents-y)"
   ]
  },
  {
   "cell_type": "code",
   "execution_count": 44,
   "metadata": {},
   "outputs": [
    {
     "name": "stderr",
     "output_type": "stream",
     "text": [
      "/opt/software/software/IPython/7.9.0-fosscuda-2019b-Python-3.7.4/lib/python3.7/site-packages/ipykernel_launcher.py:8: MatplotlibDeprecationWarning: \n",
      "The 'normed' kwarg was deprecated in Matplotlib 2.1 and will be removed in 3.1. Use 'density' instead.\n",
      "  \n"
     ]
    },
    {
     "data": {
      "image/png": "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\n",
      "text/plain": [
       "<Figure size 432x288 with 1 Axes>"
      ]
     },
     "metadata": {
      "needs_background": "light"
     },
     "output_type": "display_data"
    },
    {
     "name": "stdout",
     "output_type": "stream",
     "text": [
      "gaussian fit params: The Mean is  3.1094157749524025\n",
      "The STD is  63.854374222918324\n"
     ]
    }
   ],
   "source": [
    "import numpy as np\n",
    "from scipy.stats import norm\n",
    "import matplotlib.pyplot as plt\n",
    "\n",
    "#data = np.random.normal(loc=5.0, scale=2.0, size=1000)\n",
    "mean,std=norm.fit(diff_reco)\n",
    "\n",
    "plt.hist(diff_reco, bins=1000, normed=True)\n",
    "xmin, xmax = plt.xlim(-200,200)\n",
    "x = np.linspace(xmin, xmax, 100)\n",
    "y = norm.pdf(x, mean, std)\n",
    "plt.xlabel('Reco - True (cm)')\n",
    "plt.ylabel('Count')\n",
    "plt.plot(x, y)\n",
    "plt.show()\n",
    "\n",
    "#gauss_fit,cov = curve_fit( Gauss, x, y )\n",
    "print(\"gaussian fit params: The Mean is \", mean)\n",
    "print(\"The STD is \", std)"
   ]
  },
  {
   "cell_type": "code",
   "execution_count": 45,
   "metadata": {},
   "outputs": [
    {
     "name": "stdout",
     "output_type": "stream",
     "text": [
      "The mean is 0.46083905314212487\n",
      "The RMS is  23.49336713663635\n",
      "The total number of events is  72710\n",
      "The number events within plus minus 200 is  72672 This is 99.94773758767708 % of all events\n",
      "The number of events outside this range is 38\n"
     ]
    },
    {
     "data": {
      "text/plain": [
       "<Figure size 864x576 with 0 Axes>"
      ]
     },
     "metadata": {},
     "output_type": "display_data"
    },
    {
     "data": {
      "image/png": "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\n",
      "text/plain": [
       "<Figure size 360x360 with 1 Axes>"
      ]
     },
     "metadata": {
      "needs_background": "light"
     },
     "output_type": "display_data"
    }
   ],
   "source": [
    "# True-Reco for the new reconstruction method (model predictions)\n",
    "\n",
    "\n",
    "# test before sending to csv\n",
    "diff_reco_new=testtruevtxy-testrecovtxy\n",
    "plt.figure(figsize=(12,8))\n",
    "sns.displot(diff_reco_new,color='k')\n",
    "#sns.displot(diff_reco)\n",
    "#plt.plot(x_values, y_values.pdf(x_values))\n",
    "plt.ylim(0, 3500)\n",
    "plt.xlim(-300, 300)\n",
    "#plt.ylim(0, 250)\n",
    "#plt.xlim(-100, 100)\n",
    "plt.xlabel('Reco - True (cm)')\n",
    "plt.ylabel('Count')\n",
    "\n",
    "\n",
    "\n",
    "#calculating mean and stuff\n",
    "averagey=np.mean(diff_reco_new)\n",
    "print(\"The mean is\" , averagey)\n",
    "\n",
    "#Calculating RMS\n",
    "rmsy=np.sqrt(np.mean(diff_reco_new**2))\n",
    "print(\"The RMS is \" , rmsy)\n",
    "#areaofinteresty=3*rmsy-averagey\n",
    "#print(\"The range of 3 sigma we are counting inside of is \", areaofinteresty)\n",
    "areaofinteresty=200\n",
    "\n",
    "#total number of events\n",
    "totalevents=len(diff_reco_new)\n",
    "print(\"The total number of events is \" , totalevents)\n",
    "#Counting events within 3 sigma\n",
    "y=0\n",
    "for x in diff_reco_new:\n",
    "    if x < abs(areaofinteresty):\n",
    "        y=y+1\n",
    "    else:\n",
    "        continue\n",
    "percentcount=y/totalevents\n",
    "print(\"The number events within plus minus 200 is \", y,\"This is\", 100*percentcount, \"% of all events\")\n",
    "print(\"The number of events outside this range is\", totalevents-y)"
   ]
  },
  {
   "cell_type": "code",
   "execution_count": 46,
   "metadata": {},
   "outputs": [
    {
     "name": "stderr",
     "output_type": "stream",
     "text": [
      "/opt/software/software/IPython/7.9.0-fosscuda-2019b-Python-3.7.4/lib/python3.7/site-packages/ipykernel_launcher.py:8: MatplotlibDeprecationWarning: \n",
      "The 'normed' kwarg was deprecated in Matplotlib 2.1 and will be removed in 3.1. Use 'density' instead.\n",
      "  \n"
     ]
    },
    {
     "data": {
      "image/png": "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\n",
      "text/plain": [
       "<Figure size 432x288 with 1 Axes>"
      ]
     },
     "metadata": {
      "needs_background": "light"
     },
     "output_type": "display_data"
    },
    {
     "name": "stdout",
     "output_type": "stream",
     "text": [
      "gaussian fit params: The Mean is  0.46083905314212487\n",
      "The STD is  23.48884685939018\n"
     ]
    }
   ],
   "source": [
    "import numpy as np\n",
    "from scipy.stats import norm\n",
    "import matplotlib.pyplot as plt\n",
    "\n",
    "#data = np.random.normal(loc=5.0, scale=2.0, size=1000)\n",
    "mean,std=norm.fit(diff_reco_new)\n",
    "\n",
    "plt.hist(diff_reco_new, bins=1000, normed=True)\n",
    "xmin, xmax = plt.xlim(-200,200)\n",
    "x = np.linspace(xmin, xmax, 100)\n",
    "y = norm.pdf(x, mean, std)\n",
    "plt.xlabel('Reco - True (cm)')\n",
    "plt.ylabel('Count')\n",
    "plt.plot(x, y)\n",
    "plt.show()\n",
    "\n",
    "#gauss_fit,cov = curve_fit( Gauss, x, y )\n",
    "print(\"gaussian fit params: The Mean is \", mean)\n",
    "print(\"The STD is \", std)"
   ]
  },
  {
   "cell_type": "code",
   "execution_count": 47,
   "metadata": {},
   "outputs": [
    {
     "data": {
      "text/plain": [
       "<seaborn.axisgrid.FacetGrid at 0x7fa3b0715110>"
      ]
     },
     "execution_count": 47,
     "metadata": {},
     "output_type": "execute_result"
    },
    {
     "data": {
      "image/png": "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\n",
      "text/plain": [
       "<Figure size 360x360 with 1 Axes>"
      ]
     },
     "metadata": {
      "needs_background": "light"
     },
     "output_type": "display_data"
    },
    {
     "data": {
      "image/png": "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\n",
      "text/plain": [
       "<Figure size 402.375x360 with 1 Axes>"
      ]
     },
     "metadata": {
      "needs_background": "light"
     },
     "output_type": "display_data"
    }
   ],
   "source": [
    "import numpy\n",
    "h = numpy.histogram(diff_reco)\n",
    "sns.displot(diff_reco)\n",
    "sns.displot(h)"
   ]
  },
  {
   "cell_type": "code",
   "execution_count": 48,
   "metadata": {},
   "outputs": [
    {
     "data": {
      "text/plain": [
       "<seaborn.axisgrid.FacetGrid at 0x7fa3686bed90>"
      ]
     },
     "execution_count": 48,
     "metadata": {},
     "output_type": "execute_result"
    },
    {
     "data": {
      "image/png": "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\n",
      "text/plain": [
       "<Figure size 360x360 with 1 Axes>"
      ]
     },
     "metadata": {
      "needs_background": "light"
     },
     "output_type": "display_data"
    },
    {
     "data": {
      "image/png": "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\n",
      "text/plain": [
       "<Figure size 402.375x360 with 1 Axes>"
      ]
     },
     "metadata": {
      "needs_background": "light"
     },
     "output_type": "display_data"
    }
   ],
   "source": [
    "energyspread = numpy.histogram(energy)\n",
    "sns.displot(energy)\n",
    "sns.displot(energyspread)"
   ]
  },
  {
   "cell_type": "code",
   "execution_count": 60,
   "metadata": {},
   "outputs": [
    {
     "name": "stdout",
     "output_type": "stream",
     "text": [
      "[1.23658502 1.86733305 2.3394084  ... 2.10608196 1.66017032 1.02866769]\n"
     ]
    }
   ],
   "source": [
    "print(energy)"
   ]
  },
  {
   "cell_type": "markdown",
   "metadata": {},
   "source": [
    "#### Save Model Predictions, True Data, and Reco Data for Plotting"
   ]
  },
  {
   "cell_type": "code",
   "execution_count": 49,
   "metadata": {},
   "outputs": [],
   "source": [
    "# qe interactions\n",
    "qe_pred_df=pd.DataFrame(qe_true_vtxy,columns=['Test True Y'])\n",
    "qe_reco_df=pd.DataFrame(qe_reco_vtxy,columns=['Test Reco Y'])\n",
    "qe_predictions=pd.Series(qe_predictions.reshape(len(qe_true_vtxy),))\n",
    "qe_pred_df=pd.concat([qe_pred_df,qe_predictions],axis=1)\n",
    "qe_pred_df=pd.concat([qe_pred_df,qe_reco_df],axis=1)\n",
    "qe_pred_df.columns=['Test True Y','Model Predictions','Test Reco Y']\n",
    "np.savetxt(\"y_model_predictions_qe.csv\", qe_pred_df, delimiter=\",\")"
   ]
  },
  {
   "cell_type": "code",
   "execution_count": 50,
   "metadata": {},
   "outputs": [],
   "source": [
    "# res interactions\n",
    "res_pred_df=pd.DataFrame(res_true_vtxy,columns=['Test True Y'])\n",
    "res_reco_df=pd.DataFrame(res_reco_vtxy,columns=['Test Reco Y'])\n",
    "res_predictions=pd.Series(res_predictions.reshape(len(res_true_vtxy),))\n",
    "res_pred_df=pd.concat([res_pred_df,res_predictions],axis=1)\n",
    "res_pred_df=pd.concat([res_pred_df,res_reco_df],axis=1)\n",
    "res_pred_df.columns=['Test True Y','Model Predictions','Test Reco Y']\n",
    "np.savetxt(\"y_model_predictions_res.csv\", res_pred_df, delimiter=\",\")"
   ]
  },
  {
   "cell_type": "code",
   "execution_count": 51,
   "metadata": {},
   "outputs": [],
   "source": [
    "# dis interactions\n",
    "dis_pred_df=pd.DataFrame(dis_true_vtxy,columns=['Test True Y'])\n",
    "dis_reco_df=pd.DataFrame(dis_reco_vtxy,columns=['Test Reco Y'])\n",
    "dis_predictions=pd.Series(dis_predictions.reshape(len(dis_true_vtxy),))\n",
    "dis_pred_df=pd.concat([dis_pred_df,dis_predictions],axis=1)\n",
    "dis_pred_df=pd.concat([dis_pred_df,dis_reco_df],axis=1)\n",
    "dis_pred_df.columns=['Test True Y','Model Predictions','Test Reco Y']\n",
    "np.savetxt(\"y_model_predictions_dis.csv\", dis_pred_df, delimiter=\",\")"
   ]
  },
  {
   "cell_type": "code",
   "execution_count": 52,
   "metadata": {},
   "outputs": [],
   "source": [
    "nc_reco_vtxy=[]"
   ]
  },
  {
   "cell_type": "code",
   "execution_count": 53,
   "metadata": {},
   "outputs": [],
   "source": [
    "# cc interactions\n",
    "cc_pred_df=pd.DataFrame(cc_true_vtxy,columns=['Test True Y'])\n",
    "cc_reco_df=pd.DataFrame(cc_reco_vtxy,columns=['Test Reco Y'])\n",
    "cc_predictions=pd.Series(cc_predictions.reshape(len(cc_true_vtxy),))\n",
    "cc_pred_df=pd.concat([cc_pred_df,cc_predictions],axis=1)\n",
    "cc_pred_df=pd.concat([cc_pred_df,cc_reco_df],axis=1)\n",
    "cc_pred_df.columns=['Test True Y','Model Predictions','Test Reco Y']\n",
    "np.savetxt(\"y_model_predictions_cc.csv\", cc_pred_df, delimiter=\",\")"
   ]
  },
  {
   "cell_type": "code",
   "execution_count": 54,
   "metadata": {},
   "outputs": [],
   "source": [
    "# nc interactions\n",
    "nc_pred_df=pd.DataFrame(nc_true_vtxy,columns=['Test True Y'])\n",
    "nc_reco_df=pd.DataFrame(nc_reco_vtxy,columns=['Test Reco Y'])\n",
    "nc_predictions=pd.Series(nc_predictions.reshape(len(nc_true_vtxy),))\n",
    "nc_pred_df=pd.concat([nc_pred_df,nc_predictions],axis=1)\n",
    "nc_pred_df=pd.concat([nc_pred_df,nc_reco_df],axis=1)\n",
    "nc_pred_df.columns=['Test True Y','Model Predictions','Test Reco Y']\n",
    "np.savetxt(\"y_model_predictions_nc.csv\", nc_pred_df, delimiter=\",\")"
   ]
  },
  {
   "cell_type": "code",
   "execution_count": 55,
   "metadata": {},
   "outputs": [],
   "source": [
    "qe_reco_true_vtxy=pd.DataFrame(qe_reco_true_vtxy)\n",
    "qe_reco_vtxy=pd.DataFrame(qe_reco_vtxy)\n",
    "res_reco_true_vtxy=pd.DataFrame(res_reco_true_vtxy)\n",
    "res_reco_vtxy=pd.DataFrame(res_reco_vtxy)\n",
    "dis_reco_true_vtxy=pd.DataFrame(dis_reco_true_vtxy)\n",
    "dis_reco_vtxy=pd.DataFrame(dis_reco_vtxy)\n",
    "cc_reco_true_vtxy=pd.DataFrame(cc_reco_true_vtxy)\n",
    "cc_reco_vtxy=pd.DataFrame(cc_reco_vtxy)\n",
    "nc_reco_true_vtxy=pd.DataFrame(nc_reco_true_vtxy)\n",
    "nc_reco_vtxy=pd.DataFrame(nc_reco_vtxy)"
   ]
  },
  {
   "cell_type": "code",
   "execution_count": 56,
   "metadata": {},
   "outputs": [],
   "source": [
    "#qe_reco_vtxy=[]\n",
    "#dis_reco_vtxy=[]\n",
    "#res_reco_vtxy=[]\n",
    "#cc_reco_vtxy=[]\n",
    "#nc_reco_vtxy=[]\n",
    "#cc_pred_df=[]\n",
    "#nc_pred_df=[]"
   ]
  },
  {
   "cell_type": "code",
   "execution_count": 57,
   "metadata": {},
   "outputs": [],
   "source": [
    "qe_reco_vtxy=pd.concat([qe_reco_vtxy,qe_reco_true_vtxy],axis=1)\n",
    "dis_reco_vtxy=pd.concat([dis_reco_vtxy,dis_reco_true_vtxy],axis=1)\n",
    "res_reco_vtxy=pd.concat([res_reco_vtxy,res_reco_true_vtxy],axis=1)\n",
    "cc_reco_vtxy=pd.concat([cc_reco_vtxy,cc_reco_true_vtxy],axis=1)\n",
    "nc_reco_vtxy=pd.concat([nc_reco_vtxy,nc_reco_true_vtxy],axis=1)"
   ]
  },
  {
   "cell_type": "code",
   "execution_count": 58,
   "metadata": {},
   "outputs": [],
   "source": [
    "np.savetxt(\"y_reco_qe.csv\", qe_reco_vtxy, delimiter=\",\")\n",
    "np.savetxt(\"y_reco_res.csv\", dis_reco_vtxy, delimiter=\",\")\n",
    "np.savetxt(\"y_reco_dis.csv\", res_reco_vtxy, delimiter=\",\")\n",
    "np.savetxt(\"y_reco_cc.csv\", cc_reco_vtxy, delimiter=\",\")\n",
    "np.savetxt(\"y_reco_nc.csv\", nc_reco_vtxy, delimiter=\",\")"
   ]
  },
  {
   "cell_type": "code",
   "execution_count": 59,
   "metadata": {
    "scrolled": true
   },
   "outputs": [
    {
     "data": {
      "text/html": [
       "<div>\n",
       "<style scoped>\n",
       "    .dataframe tbody tr th:only-of-type {\n",
       "        vertical-align: middle;\n",
       "    }\n",
       "\n",
       "    .dataframe tbody tr th {\n",
       "        vertical-align: top;\n",
       "    }\n",
       "\n",
       "    .dataframe thead th {\n",
       "        text-align: right;\n",
       "    }\n",
       "</style>\n",
       "<table border=\"1\" class=\"dataframe\">\n",
       "  <thead>\n",
       "    <tr style=\"text-align: right;\">\n",
       "      <th></th>\n",
       "      <th>Test True Y</th>\n",
       "      <th>Model Predictions</th>\n",
       "      <th>Test Reco Y</th>\n",
       "    </tr>\n",
       "  </thead>\n",
       "  <tbody>\n",
       "    <tr>\n",
       "      <th>0</th>\n",
       "      <td>148.305664</td>\n",
       "      <td>149.520737</td>\n",
       "      <td>146.567886</td>\n",
       "    </tr>\n",
       "    <tr>\n",
       "      <th>1</th>\n",
       "      <td>-85.466888</td>\n",
       "      <td>-66.785423</td>\n",
       "      <td>69.825066</td>\n",
       "    </tr>\n",
       "    <tr>\n",
       "      <th>2</th>\n",
       "      <td>95.397606</td>\n",
       "      <td>92.831802</td>\n",
       "      <td>-147.181000</td>\n",
       "    </tr>\n",
       "    <tr>\n",
       "      <th>3</th>\n",
       "      <td>-45.204544</td>\n",
       "      <td>-41.236614</td>\n",
       "      <td>94.975998</td>\n",
       "    </tr>\n",
       "    <tr>\n",
       "      <th>4</th>\n",
       "      <td>55.825718</td>\n",
       "      <td>54.722385</td>\n",
       "      <td>115.441689</td>\n",
       "    </tr>\n",
       "  </tbody>\n",
       "</table>\n",
       "</div>"
      ],
      "text/plain": [
       "   Test True Y  Model Predictions  Test Reco Y\n",
       "0   148.305664         149.520737   146.567886\n",
       "1   -85.466888         -66.785423    69.825066\n",
       "2    95.397606          92.831802  -147.181000\n",
       "3   -45.204544         -41.236614    94.975998\n",
       "4    55.825718          54.722385   115.441689"
      ]
     },
     "execution_count": 59,
     "metadata": {},
     "output_type": "execute_result"
    }
   ],
   "source": [
    "cc_pred_df.head()"
   ]
  },
  {
   "cell_type": "code",
   "execution_count": 72,
   "metadata": {},
   "outputs": [
    {
     "ename": "AttributeError",
     "evalue": "'list' object has no attribute 'reshape'",
     "output_type": "error",
     "traceback": [
      "\u001b[0;31m---------------------------------------------------------------------------\u001b[0m",
      "\u001b[0;31mAttributeError\u001b[0m                            Traceback (most recent call last)",
      "\u001b[0;32m<ipython-input-72-059c35ef3bfd>\u001b[0m in \u001b[0;36m<module>\u001b[0;34m\u001b[0m\n\u001b[1;32m      2\u001b[0m \u001b[0;34m\u001b[0m\u001b[0m\n\u001b[1;32m      3\u001b[0m \u001b[0;34m\u001b[0m\u001b[0m\n\u001b[0;32m----> 4\u001b[0;31m \u001b[0mtest_cvnmap_pizero_xz\u001b[0m\u001b[0;34m=\u001b[0m\u001b[0mtest_cvnmap_pizero_xz\u001b[0m\u001b[0;34m.\u001b[0m\u001b[0mreshape\u001b[0m\u001b[0;34m(\u001b[0m\u001b[0mtest_cvnmap_pizero_xz\u001b[0m\u001b[0;34m.\u001b[0m\u001b[0mshape\u001b[0m\u001b[0;34m[\u001b[0m\u001b[0;36m0\u001b[0m\u001b[0;34m]\u001b[0m\u001b[0;34m,\u001b[0m\u001b[0;36m100\u001b[0m\u001b[0;34m,\u001b[0m\u001b[0;36m80\u001b[0m\u001b[0;34m,\u001b[0m\u001b[0;36m1\u001b[0m\u001b[0;34m)\u001b[0m\u001b[0;34m\u001b[0m\u001b[0;34m\u001b[0m\u001b[0m\n\u001b[0m\u001b[1;32m      5\u001b[0m \u001b[0mtest_cvnmap_pizero_yz\u001b[0m\u001b[0;34m=\u001b[0m\u001b[0mtest_cvnmap_pizero_yz\u001b[0m\u001b[0;34m.\u001b[0m\u001b[0mreshape\u001b[0m\u001b[0;34m(\u001b[0m\u001b[0mtest_cvnmap_pizero_yz\u001b[0m\u001b[0;34m.\u001b[0m\u001b[0mshape\u001b[0m\u001b[0;34m[\u001b[0m\u001b[0;36m0\u001b[0m\u001b[0;34m]\u001b[0m\u001b[0;34m,\u001b[0m\u001b[0;36m100\u001b[0m\u001b[0;34m,\u001b[0m\u001b[0;36m80\u001b[0m\u001b[0;34m,\u001b[0m\u001b[0;36m1\u001b[0m\u001b[0;34m)\u001b[0m\u001b[0;34m\u001b[0m\u001b[0;34m\u001b[0m\u001b[0m\n",
      "\u001b[0;31mAttributeError\u001b[0m: 'list' object has no attribute 'reshape'"
     ]
    }
   ],
   "source": [
    "test_cvnmap_pizero_xz,test_cvnmap_pizero_yz=([] for i in range(2))\n",
    "\n",
    "\n",
    "test_cvnmap_pizero_xz=test_cvnmap_pizero_xz.reshape(test_cvnmap_pizero_xz.shape[0],100,80,1)\n",
    "test_cvnmap_pizero_yz=test_cvnmap_pizero_yz.reshape(test_cvnmap_pizero_yz.shape[0],100,80,1)"
   ]
  },
  {
   "cell_type": "code",
   "execution_count": 70,
   "metadata": {},
   "outputs": [
    {
     "ename": "IndexError",
     "evalue": "list index out of range",
     "output_type": "error",
     "traceback": [
      "\u001b[0;31m---------------------------------------------------------------------------\u001b[0m",
      "\u001b[0;31mIndexError\u001b[0m                                Traceback (most recent call last)",
      "\u001b[0;32m<ipython-input-70-4af8ef2589ba>\u001b[0m in \u001b[0;36m<module>\u001b[0;34m\u001b[0m\n\u001b[0;32m----> 1\u001b[0;31m \u001b[0mpi_zero_predictions\u001b[0m\u001b[0;34m=\u001b[0m\u001b[0mmodel_regCNN\u001b[0m\u001b[0;34m.\u001b[0m\u001b[0mpredict\u001b[0m\u001b[0;34m(\u001b[0m\u001b[0;34m[\u001b[0m\u001b[0mtest_cvnmap_pizero_xz\u001b[0m\u001b[0;34m,\u001b[0m\u001b[0mtest_cvnmap_pizero_yz\u001b[0m\u001b[0;34m]\u001b[0m\u001b[0;34m)\u001b[0m\u001b[0;34m\u001b[0m\u001b[0;34m\u001b[0m\u001b[0m\n\u001b[0m",
      "\u001b[0;32m/opt/software/software/TensorFlow/2.3.1-fosscuda-2019b-Python-3.7.4/lib/python3.7/site-packages/tensorflow/python/keras/engine/training.py\u001b[0m in \u001b[0;36m_method_wrapper\u001b[0;34m(self, *args, **kwargs)\u001b[0m\n\u001b[1;32m    128\u001b[0m       raise ValueError('{} is not supported in multi-worker mode.'.format(\n\u001b[1;32m    129\u001b[0m           method.__name__))\n\u001b[0;32m--> 130\u001b[0;31m     \u001b[0;32mreturn\u001b[0m \u001b[0mmethod\u001b[0m\u001b[0;34m(\u001b[0m\u001b[0mself\u001b[0m\u001b[0;34m,\u001b[0m \u001b[0;34m*\u001b[0m\u001b[0margs\u001b[0m\u001b[0;34m,\u001b[0m \u001b[0;34m**\u001b[0m\u001b[0mkwargs\u001b[0m\u001b[0;34m)\u001b[0m\u001b[0;34m\u001b[0m\u001b[0;34m\u001b[0m\u001b[0m\n\u001b[0m\u001b[1;32m    131\u001b[0m \u001b[0;34m\u001b[0m\u001b[0m\n\u001b[1;32m    132\u001b[0m   return tf_decorator.make_decorator(\n",
      "\u001b[0;32m/opt/software/software/TensorFlow/2.3.1-fosscuda-2019b-Python-3.7.4/lib/python3.7/site-packages/tensorflow/python/keras/engine/training.py\u001b[0m in \u001b[0;36mpredict\u001b[0;34m(self, x, batch_size, verbose, steps, callbacks, max_queue_size, workers, use_multiprocessing)\u001b[0m\n\u001b[1;32m   1577\u001b[0m           \u001b[0muse_multiprocessing\u001b[0m\u001b[0;34m=\u001b[0m\u001b[0muse_multiprocessing\u001b[0m\u001b[0;34m,\u001b[0m\u001b[0;34m\u001b[0m\u001b[0;34m\u001b[0m\u001b[0m\n\u001b[1;32m   1578\u001b[0m           \u001b[0mmodel\u001b[0m\u001b[0;34m=\u001b[0m\u001b[0mself\u001b[0m\u001b[0;34m,\u001b[0m\u001b[0;34m\u001b[0m\u001b[0;34m\u001b[0m\u001b[0m\n\u001b[0;32m-> 1579\u001b[0;31m           steps_per_execution=self._steps_per_execution)\n\u001b[0m\u001b[1;32m   1580\u001b[0m \u001b[0;34m\u001b[0m\u001b[0m\n\u001b[1;32m   1581\u001b[0m       \u001b[0;31m# Container that configures and calls `tf.keras.Callback`s.\u001b[0m\u001b[0;34m\u001b[0m\u001b[0;34m\u001b[0m\u001b[0;34m\u001b[0m\u001b[0m\n",
      "\u001b[0;32m/opt/software/software/TensorFlow/2.3.1-fosscuda-2019b-Python-3.7.4/lib/python3.7/site-packages/tensorflow/python/keras/engine/data_adapter.py\u001b[0m in \u001b[0;36m__init__\u001b[0;34m(self, x, y, sample_weight, batch_size, steps_per_epoch, initial_epoch, epochs, shuffle, class_weight, max_queue_size, workers, use_multiprocessing, model, steps_per_execution)\u001b[0m\n\u001b[1;32m   1102\u001b[0m       \u001b[0mself\u001b[0m\u001b[0;34m.\u001b[0m\u001b[0m_steps_per_execution_value\u001b[0m \u001b[0;34m=\u001b[0m \u001b[0msteps_per_execution\u001b[0m\u001b[0;34m.\u001b[0m\u001b[0mnumpy\u001b[0m\u001b[0;34m(\u001b[0m\u001b[0;34m)\u001b[0m\u001b[0;34m.\u001b[0m\u001b[0mitem\u001b[0m\u001b[0;34m(\u001b[0m\u001b[0;34m)\u001b[0m\u001b[0;34m\u001b[0m\u001b[0;34m\u001b[0m\u001b[0m\n\u001b[1;32m   1103\u001b[0m \u001b[0;34m\u001b[0m\u001b[0m\n\u001b[0;32m-> 1104\u001b[0;31m     \u001b[0madapter_cls\u001b[0m \u001b[0;34m=\u001b[0m \u001b[0mselect_data_adapter\u001b[0m\u001b[0;34m(\u001b[0m\u001b[0mx\u001b[0m\u001b[0;34m,\u001b[0m \u001b[0my\u001b[0m\u001b[0;34m)\u001b[0m\u001b[0;34m\u001b[0m\u001b[0;34m\u001b[0m\u001b[0m\n\u001b[0m\u001b[1;32m   1105\u001b[0m     self._adapter = adapter_cls(\n\u001b[1;32m   1106\u001b[0m         \u001b[0mx\u001b[0m\u001b[0;34m,\u001b[0m\u001b[0;34m\u001b[0m\u001b[0;34m\u001b[0m\u001b[0m\n",
      "\u001b[0;32m/opt/software/software/TensorFlow/2.3.1-fosscuda-2019b-Python-3.7.4/lib/python3.7/site-packages/tensorflow/python/keras/engine/data_adapter.py\u001b[0m in \u001b[0;36mselect_data_adapter\u001b[0;34m(x, y)\u001b[0m\n\u001b[1;32m    963\u001b[0m \u001b[0;32mdef\u001b[0m \u001b[0mselect_data_adapter\u001b[0m\u001b[0;34m(\u001b[0m\u001b[0mx\u001b[0m\u001b[0;34m,\u001b[0m \u001b[0my\u001b[0m\u001b[0;34m)\u001b[0m\u001b[0;34m:\u001b[0m\u001b[0;34m\u001b[0m\u001b[0;34m\u001b[0m\u001b[0m\n\u001b[1;32m    964\u001b[0m   \u001b[0;34m\"\"\"Selects a data adapter than can handle a given x and y.\"\"\"\u001b[0m\u001b[0;34m\u001b[0m\u001b[0;34m\u001b[0m\u001b[0m\n\u001b[0;32m--> 965\u001b[0;31m   \u001b[0madapter_cls\u001b[0m \u001b[0;34m=\u001b[0m \u001b[0;34m[\u001b[0m\u001b[0mcls\u001b[0m \u001b[0;32mfor\u001b[0m \u001b[0mcls\u001b[0m \u001b[0;32min\u001b[0m \u001b[0mALL_ADAPTER_CLS\u001b[0m \u001b[0;32mif\u001b[0m \u001b[0mcls\u001b[0m\u001b[0;34m.\u001b[0m\u001b[0mcan_handle\u001b[0m\u001b[0;34m(\u001b[0m\u001b[0mx\u001b[0m\u001b[0;34m,\u001b[0m \u001b[0my\u001b[0m\u001b[0;34m)\u001b[0m\u001b[0;34m]\u001b[0m\u001b[0;34m\u001b[0m\u001b[0;34m\u001b[0m\u001b[0m\n\u001b[0m\u001b[1;32m    966\u001b[0m   \u001b[0;32mif\u001b[0m \u001b[0;32mnot\u001b[0m \u001b[0madapter_cls\u001b[0m\u001b[0;34m:\u001b[0m\u001b[0;34m\u001b[0m\u001b[0;34m\u001b[0m\u001b[0m\n\u001b[1;32m    967\u001b[0m     \u001b[0;31m# TODO(scottzhu): This should be a less implementation-specific error.\u001b[0m\u001b[0;34m\u001b[0m\u001b[0;34m\u001b[0m\u001b[0;34m\u001b[0m\u001b[0m\n",
      "\u001b[0;32m/opt/software/software/TensorFlow/2.3.1-fosscuda-2019b-Python-3.7.4/lib/python3.7/site-packages/tensorflow/python/keras/engine/data_adapter.py\u001b[0m in \u001b[0;36m<listcomp>\u001b[0;34m(.0)\u001b[0m\n\u001b[1;32m    963\u001b[0m \u001b[0;32mdef\u001b[0m \u001b[0mselect_data_adapter\u001b[0m\u001b[0;34m(\u001b[0m\u001b[0mx\u001b[0m\u001b[0;34m,\u001b[0m \u001b[0my\u001b[0m\u001b[0;34m)\u001b[0m\u001b[0;34m:\u001b[0m\u001b[0;34m\u001b[0m\u001b[0;34m\u001b[0m\u001b[0m\n\u001b[1;32m    964\u001b[0m   \u001b[0;34m\"\"\"Selects a data adapter than can handle a given x and y.\"\"\"\u001b[0m\u001b[0;34m\u001b[0m\u001b[0;34m\u001b[0m\u001b[0m\n\u001b[0;32m--> 965\u001b[0;31m   \u001b[0madapter_cls\u001b[0m \u001b[0;34m=\u001b[0m \u001b[0;34m[\u001b[0m\u001b[0mcls\u001b[0m \u001b[0;32mfor\u001b[0m \u001b[0mcls\u001b[0m \u001b[0;32min\u001b[0m \u001b[0mALL_ADAPTER_CLS\u001b[0m \u001b[0;32mif\u001b[0m \u001b[0mcls\u001b[0m\u001b[0;34m.\u001b[0m\u001b[0mcan_handle\u001b[0m\u001b[0;34m(\u001b[0m\u001b[0mx\u001b[0m\u001b[0;34m,\u001b[0m \u001b[0my\u001b[0m\u001b[0;34m)\u001b[0m\u001b[0;34m]\u001b[0m\u001b[0;34m\u001b[0m\u001b[0;34m\u001b[0m\u001b[0m\n\u001b[0m\u001b[1;32m    966\u001b[0m   \u001b[0;32mif\u001b[0m \u001b[0;32mnot\u001b[0m \u001b[0madapter_cls\u001b[0m\u001b[0;34m:\u001b[0m\u001b[0;34m\u001b[0m\u001b[0;34m\u001b[0m\u001b[0m\n\u001b[1;32m    967\u001b[0m     \u001b[0;31m# TODO(scottzhu): This should be a less implementation-specific error.\u001b[0m\u001b[0;34m\u001b[0m\u001b[0;34m\u001b[0m\u001b[0;34m\u001b[0m\u001b[0m\n",
      "\u001b[0;32m/opt/software/software/TensorFlow/2.3.1-fosscuda-2019b-Python-3.7.4/lib/python3.7/site-packages/tensorflow/python/keras/engine/data_adapter.py\u001b[0m in \u001b[0;36mcan_handle\u001b[0;34m(x, y)\u001b[0m\n\u001b[1;32m    617\u001b[0m   \u001b[0;34m@\u001b[0m\u001b[0mstaticmethod\u001b[0m\u001b[0;34m\u001b[0m\u001b[0;34m\u001b[0m\u001b[0m\n\u001b[1;32m    618\u001b[0m   \u001b[0;32mdef\u001b[0m \u001b[0mcan_handle\u001b[0m\u001b[0;34m(\u001b[0m\u001b[0mx\u001b[0m\u001b[0;34m,\u001b[0m \u001b[0my\u001b[0m\u001b[0;34m=\u001b[0m\u001b[0;32mNone\u001b[0m\u001b[0;34m)\u001b[0m\u001b[0;34m:\u001b[0m\u001b[0;34m\u001b[0m\u001b[0;34m\u001b[0m\u001b[0m\n\u001b[0;32m--> 619\u001b[0;31m     \u001b[0mhandles_x\u001b[0m \u001b[0;34m=\u001b[0m \u001b[0mListsOfScalarsDataAdapter\u001b[0m\u001b[0;34m.\u001b[0m\u001b[0m_is_list_of_scalars\u001b[0m\u001b[0;34m(\u001b[0m\u001b[0mx\u001b[0m\u001b[0;34m)\u001b[0m\u001b[0;34m\u001b[0m\u001b[0;34m\u001b[0m\u001b[0m\n\u001b[0m\u001b[1;32m    620\u001b[0m     \u001b[0mhandles_y\u001b[0m \u001b[0;34m=\u001b[0m \u001b[0;32mTrue\u001b[0m\u001b[0;34m\u001b[0m\u001b[0;34m\u001b[0m\u001b[0m\n\u001b[1;32m    621\u001b[0m     \u001b[0;32mif\u001b[0m \u001b[0my\u001b[0m \u001b[0;32mis\u001b[0m \u001b[0;32mnot\u001b[0m \u001b[0;32mNone\u001b[0m\u001b[0;34m:\u001b[0m\u001b[0;34m\u001b[0m\u001b[0;34m\u001b[0m\u001b[0m\n",
      "\u001b[0;32m/opt/software/software/TensorFlow/2.3.1-fosscuda-2019b-Python-3.7.4/lib/python3.7/site-packages/tensorflow/python/keras/engine/data_adapter.py\u001b[0m in \u001b[0;36m_is_list_of_scalars\u001b[0;34m(inp)\u001b[0m\n\u001b[1;32m    628\u001b[0m       \u001b[0;32mreturn\u001b[0m \u001b[0;32mTrue\u001b[0m\u001b[0;34m\u001b[0m\u001b[0;34m\u001b[0m\u001b[0m\n\u001b[1;32m    629\u001b[0m     \u001b[0;32mif\u001b[0m \u001b[0misinstance\u001b[0m\u001b[0;34m(\u001b[0m\u001b[0minp\u001b[0m\u001b[0;34m,\u001b[0m \u001b[0;34m(\u001b[0m\u001b[0mlist\u001b[0m\u001b[0;34m,\u001b[0m \u001b[0mtuple\u001b[0m\u001b[0;34m)\u001b[0m\u001b[0;34m)\u001b[0m\u001b[0;34m:\u001b[0m\u001b[0;34m\u001b[0m\u001b[0;34m\u001b[0m\u001b[0m\n\u001b[0;32m--> 630\u001b[0;31m       \u001b[0;32mreturn\u001b[0m \u001b[0mListsOfScalarsDataAdapter\u001b[0m\u001b[0;34m.\u001b[0m\u001b[0m_is_list_of_scalars\u001b[0m\u001b[0;34m(\u001b[0m\u001b[0minp\u001b[0m\u001b[0;34m[\u001b[0m\u001b[0;36m0\u001b[0m\u001b[0;34m]\u001b[0m\u001b[0;34m)\u001b[0m\u001b[0;34m\u001b[0m\u001b[0;34m\u001b[0m\u001b[0m\n\u001b[0m\u001b[1;32m    631\u001b[0m     \u001b[0;32mreturn\u001b[0m \u001b[0;32mFalse\u001b[0m\u001b[0;34m\u001b[0m\u001b[0;34m\u001b[0m\u001b[0m\n\u001b[1;32m    632\u001b[0m \u001b[0;34m\u001b[0m\u001b[0m\n",
      "\u001b[0;32m/opt/software/software/TensorFlow/2.3.1-fosscuda-2019b-Python-3.7.4/lib/python3.7/site-packages/tensorflow/python/keras/engine/data_adapter.py\u001b[0m in \u001b[0;36m_is_list_of_scalars\u001b[0;34m(inp)\u001b[0m\n\u001b[1;32m    628\u001b[0m       \u001b[0;32mreturn\u001b[0m \u001b[0;32mTrue\u001b[0m\u001b[0;34m\u001b[0m\u001b[0;34m\u001b[0m\u001b[0m\n\u001b[1;32m    629\u001b[0m     \u001b[0;32mif\u001b[0m \u001b[0misinstance\u001b[0m\u001b[0;34m(\u001b[0m\u001b[0minp\u001b[0m\u001b[0;34m,\u001b[0m \u001b[0;34m(\u001b[0m\u001b[0mlist\u001b[0m\u001b[0;34m,\u001b[0m \u001b[0mtuple\u001b[0m\u001b[0;34m)\u001b[0m\u001b[0;34m)\u001b[0m\u001b[0;34m:\u001b[0m\u001b[0;34m\u001b[0m\u001b[0;34m\u001b[0m\u001b[0m\n\u001b[0;32m--> 630\u001b[0;31m       \u001b[0;32mreturn\u001b[0m \u001b[0mListsOfScalarsDataAdapter\u001b[0m\u001b[0;34m.\u001b[0m\u001b[0m_is_list_of_scalars\u001b[0m\u001b[0;34m(\u001b[0m\u001b[0minp\u001b[0m\u001b[0;34m[\u001b[0m\u001b[0;36m0\u001b[0m\u001b[0;34m]\u001b[0m\u001b[0;34m)\u001b[0m\u001b[0;34m\u001b[0m\u001b[0;34m\u001b[0m\u001b[0m\n\u001b[0m\u001b[1;32m    631\u001b[0m     \u001b[0;32mreturn\u001b[0m \u001b[0;32mFalse\u001b[0m\u001b[0;34m\u001b[0m\u001b[0;34m\u001b[0m\u001b[0m\n\u001b[1;32m    632\u001b[0m \u001b[0;34m\u001b[0m\u001b[0m\n",
      "\u001b[0;31mIndexError\u001b[0m: list index out of range"
     ]
    }
   ],
   "source": [
    "pi_zero_predictions=model_regCNN.predict([test_cvnmap_pizero_xz,test_cvnmap_pizero_yz])"
   ]
  },
  {
   "cell_type": "code",
   "execution_count": 71,
   "metadata": {},
   "outputs": [
    {
     "ename": "NameError",
     "evalue": "name 'pi_zero_predictions' is not defined",
     "output_type": "error",
     "traceback": [
      "\u001b[0;31m---------------------------------------------------------------------------\u001b[0m",
      "\u001b[0;31mNameError\u001b[0m                                 Traceback (most recent call last)",
      "\u001b[0;32m<ipython-input-71-a57fc1c38469>\u001b[0m in \u001b[0;36m<module>\u001b[0;34m\u001b[0m\n\u001b[1;32m      2\u001b[0m \u001b[0mpi_zero_pred_df\u001b[0m\u001b[0;34m=\u001b[0m\u001b[0mpd\u001b[0m\u001b[0;34m.\u001b[0m\u001b[0mDataFrame\u001b[0m\u001b[0;34m(\u001b[0m\u001b[0mpizerotruevtxy\u001b[0m\u001b[0;34m,\u001b[0m\u001b[0mcolumns\u001b[0m\u001b[0;34m=\u001b[0m\u001b[0;34m[\u001b[0m\u001b[0;34m'Test True Y'\u001b[0m\u001b[0;34m]\u001b[0m\u001b[0;34m)\u001b[0m\u001b[0;34m\u001b[0m\u001b[0;34m\u001b[0m\u001b[0m\n\u001b[1;32m      3\u001b[0m \u001b[0mpi_zero_reco_df\u001b[0m\u001b[0;34m=\u001b[0m\u001b[0mpd\u001b[0m\u001b[0;34m.\u001b[0m\u001b[0mDataFrame\u001b[0m\u001b[0;34m(\u001b[0m\u001b[0mpizerorecovtxy\u001b[0m\u001b[0;34m,\u001b[0m\u001b[0mcolumns\u001b[0m\u001b[0;34m=\u001b[0m\u001b[0;34m[\u001b[0m\u001b[0;34m'Test Reco Y'\u001b[0m\u001b[0;34m]\u001b[0m\u001b[0;34m)\u001b[0m\u001b[0;34m\u001b[0m\u001b[0;34m\u001b[0m\u001b[0m\n\u001b[0;32m----> 4\u001b[0;31m \u001b[0mpi_zero_predictions\u001b[0m\u001b[0;34m=\u001b[0m\u001b[0mpd\u001b[0m\u001b[0;34m.\u001b[0m\u001b[0mSeries\u001b[0m\u001b[0;34m(\u001b[0m\u001b[0mpi_zero_predictions\u001b[0m\u001b[0;34m.\u001b[0m\u001b[0mreshape\u001b[0m\u001b[0;34m(\u001b[0m\u001b[0mlen\u001b[0m\u001b[0;34m(\u001b[0m\u001b[0mpizerotruevtxy\u001b[0m\u001b[0;34m)\u001b[0m\u001b[0;34m,\u001b[0m\u001b[0;34m)\u001b[0m\u001b[0;34m)\u001b[0m\u001b[0;34m\u001b[0m\u001b[0;34m\u001b[0m\u001b[0m\n\u001b[0m\u001b[1;32m      5\u001b[0m \u001b[0mpi_zero_pred_df\u001b[0m\u001b[0;34m=\u001b[0m\u001b[0mpd\u001b[0m\u001b[0;34m.\u001b[0m\u001b[0mconcat\u001b[0m\u001b[0;34m(\u001b[0m\u001b[0;34m[\u001b[0m\u001b[0mpi_zero_pred_df\u001b[0m\u001b[0;34m,\u001b[0m\u001b[0mpi_zero_predictions\u001b[0m\u001b[0;34m]\u001b[0m\u001b[0;34m,\u001b[0m\u001b[0maxis\u001b[0m\u001b[0;34m=\u001b[0m\u001b[0;36m1\u001b[0m\u001b[0;34m)\u001b[0m\u001b[0;34m\u001b[0m\u001b[0;34m\u001b[0m\u001b[0m\n\u001b[1;32m      6\u001b[0m \u001b[0mpi_zero_pred_df\u001b[0m\u001b[0;34m=\u001b[0m\u001b[0mpd\u001b[0m\u001b[0;34m.\u001b[0m\u001b[0mconcat\u001b[0m\u001b[0;34m(\u001b[0m\u001b[0;34m[\u001b[0m\u001b[0mpi_zero_pred_df\u001b[0m\u001b[0;34m,\u001b[0m\u001b[0mpi_zero_reco_df\u001b[0m\u001b[0;34m]\u001b[0m\u001b[0;34m,\u001b[0m\u001b[0maxis\u001b[0m\u001b[0;34m=\u001b[0m\u001b[0;36m1\u001b[0m\u001b[0;34m)\u001b[0m\u001b[0;34m\u001b[0m\u001b[0;34m\u001b[0m\u001b[0m\n",
      "\u001b[0;31mNameError\u001b[0m: name 'pi_zero_predictions' is not defined"
     ]
    }
   ],
   "source": [
    "# final state pi 0\n",
    "pi_zero_pred_df=pd.DataFrame(pizerotruevtxy,columns=['Test True Y'])\n",
    "pi_zero_reco_df=pd.DataFrame(pizerorecovtxy,columns=['Test Reco Y'])\n",
    "pi_zero_predictions=pd.Series(pi_zero_predictions.reshape(len(pizerotruevtxy),))\n",
    "pi_zero_pred_df=pd.concat([pi_zero_pred_df,pi_zero_predictions],axis=1)\n",
    "pi_zero_pred_df=pd.concat([pi_zero_pred_df,pi_zero_reco_df],axis=1)\n",
    "pi_zero_pred_df.columns=['Test True Y','Model Predictions','Test Reco Y']\n",
    "np.savetxt(\"y_model_predictions_pi_zero.csv\", pi_zero_pred_df, delimiter=\",\")"
   ]
  },
  {
   "cell_type": "code",
   "execution_count": null,
   "metadata": {},
   "outputs": [],
   "source": []
  }
 ],
 "metadata": {
  "kernelspec": {
   "display_name": "Python 3 (ipykernel)",
   "language": "python",
   "name": "python3"
  },
  "language_info": {
   "codemirror_mode": {
    "name": "ipython",
    "version": 3
   },
   "file_extension": ".py",
   "mimetype": "text/x-python",
   "name": "python",
   "nbconvert_exporter": "python",
   "pygments_lexer": "ipython3",
   "version": "3.7.4"
  }
 },
 "nbformat": 4,
 "nbformat_minor": 4
}
