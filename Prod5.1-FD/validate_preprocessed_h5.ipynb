{
 "cells": [
  {
   "cell_type": "markdown",
   "source": [
    "# validate_preprocessed_h5.ipynb\n",
    "M. Dolce.\n",
    "Oct. 2023\n",
    "### Simple notebook to open and examine pre-processed file(s) and make sure they look OK. \n",
    "\n",
    "## NOTE: pre-processed files should ONLY have the vtx.{x,y,z} and cvnmap !"
   ],
   "metadata": {
    "collapsed": false
   },
   "id": "5814acb0e198be3a"
  },
  {
   "cell_type": "code",
   "execution_count": 1,
   "outputs": [],
   "source": [
    "import os.path\n",
    "import h5py\n",
    "import matplotlib.pyplot as plt\n",
    "import pandas as pd\n",
    "import numpy as np"
   ],
   "metadata": {
    "collapsed": false,
    "ExecuteTime": {
     "end_time": "2023-10-16T15:34:02.514195Z",
     "start_time": "2023-10-16T15:34:01.591016Z"
    }
   },
   "id": "e321534ff6ae9f85"
  },
  {
   "cell_type": "code",
   "execution_count": 13,
   "id": "25ea8b7117831215",
   "metadata": {
    "collapsed": true,
    "ExecuteTime": {
     "end_time": "2023-10-16T21:16:35.239011Z",
     "start_time": "2023-10-16T21:16:35.133717Z"
    }
   },
   "outputs": [
    {
     "name": "stdout",
     "output_type": "stream",
     "text": [
      "Number of events:  507939\n"
     ]
    }
   ],
   "source": [
    "# define the path to the files\n",
    "preprocess_path = '/Users/michaeldolce/Development/files/h5-files/preprocessed/'\n",
    "\n",
    "# TODO: add argparse (?) to read in flux, and swap\n",
    "# TODO: even later in future, add detector option...\n",
    "# processed_file = 'preprocessed_trimmed_h5_R20-11-25-prod5.1reco.j_FD-Nominal-FHC-Fluxswap_3_of_28.h5' # use the one file for now # a corrupted file (Oct. 16)\n",
    "processed_file = 'preprocessed_trimmed_h5_R20-11-25-prod5.1reco.j_FD-Nominal-FHC-Fluxswap_15_of_28.h5' # use the one file for now # \n",
    "\n",
    "file_h5 = h5py.File(preprocess_path + processed_file, 'r', ) # open the file:\n",
    "file_h5.keys() # see what is in the file\n",
    "print (\"Number of events: \", len(file_h5['vtx.x']))  # count the number of events in the file"
   ]
  },
  {
   "cell_type": "code",
   "execution_count": 14,
   "outputs": [
    {
     "name": "stdout",
     "output_type": "stream",
     "text": [
      "Index(['vtx.x', 'vtx.y', 'vtx.z'], dtype='object')\n"
     ]
    }
   ],
   "source": [
    "# create dataframe from the h5 file\n",
    "# Retrieve the vertex information\n",
    "\n",
    "# Create the DataFrame directly from the h5 file\n",
    "df = pd.DataFrame({'vtx.x': file_h5['vtx.x'][:],\n",
    "                   'vtx.y': file_h5['vtx.y'][:],\n",
    "                   'vtx.z': file_h5['vtx.z'][:],\n",
    "                   # 'cvnmap': file_h5['cvnmap'][:],\n",
    "                   })\n",
    "\n",
    "# df.head() # check the head of the dataframe\n",
    "# df.describe() # describe the dataframe\n",
    "print(df.columns) # print the columns of the dataframe\n",
    "# df.info() # get info on the dataframe\n"
   ],
   "metadata": {
    "collapsed": false,
    "ExecuteTime": {
     "end_time": "2023-10-16T21:16:37.931519Z",
     "start_time": "2023-10-16T21:16:37.828467Z"
    }
   },
   "id": "44bbfb57aab40361"
  },
  {
   "cell_type": "code",
   "execution_count": 19,
   "outputs": [
    {
     "name": "stdout",
     "output_type": "stream",
     "text": [
      "events,  507939\n",
      "shape of cvnmap,  (16000,)\n"
     ]
    },
    {
     "ename": "ValueError",
     "evalue": "cannot reshape array of size 8127024000 into shape (2,100,80)",
     "output_type": "error",
     "traceback": [
      "\u001B[0;31m---------------------------------------------------------------------------\u001B[0m",
      "\u001B[0;31mValueError\u001B[0m                                Traceback (most recent call last)",
      "Cell \u001B[0;32mIn[19], line 9\u001B[0m\n\u001B[1;32m      6\u001B[0m cvnmap_array \u001B[38;5;241m=\u001B[39m [file_h5[\u001B[38;5;124m'\u001B[39m\u001B[38;5;124mcvnmap\u001B[39m\u001B[38;5;124m'\u001B[39m][:]]\n\u001B[1;32m      8\u001B[0m \u001B[38;5;66;03m# event 0 array:\u001B[39;00m\n\u001B[0;32m----> 9\u001B[0m cvnmap_array_resh \u001B[38;5;241m=\u001B[39m \u001B[43mcvnmap_array\u001B[49m\u001B[43m[\u001B[49m\u001B[38;5;241;43m0\u001B[39;49m\u001B[43m]\u001B[49m\u001B[38;5;241;43m.\u001B[39;49m\u001B[43mreshape\u001B[49m\u001B[43m(\u001B[49m\u001B[38;5;241;43m2\u001B[39;49m\u001B[43m,\u001B[49m\u001B[43m \u001B[49m\u001B[38;5;241;43m100\u001B[39;49m\u001B[43m,\u001B[49m\u001B[43m \u001B[49m\u001B[38;5;241;43m80\u001B[39;49m\u001B[43m)\u001B[49m\n\u001B[1;32m     11\u001B[0m \u001B[38;5;28mprint\u001B[39m(cvnmap_array_resh)\n",
      "\u001B[0;31mValueError\u001B[0m: cannot reshape array of size 8127024000 into shape (2,100,80)"
     ]
    }
   ],
   "source": [
    "# Retrieve the CVN information\n",
    "# needs to be placed into an array, cannot go into DataFrame() bc not 1-dimensional\n",
    "\n",
    "print('events, ', file_h5['cvnmap'].shape[0])\n",
    "print('shape of cvnmap, ', file_h5['cvnmap'][0].shape)\n",
    "\n",
    "cvnmap_array = [file_h5['cvnmap'][:]]\n",
    "\n",
    "# make a re-shaped array from the 0th event, only:\n",
    "cvnmap_array_resh = cvnmap_array[0].reshape(2, 100, 80)\n",
    "# attempting to do line above over the 0th event gives this error:\n",
    "#ValueError: cannot reshape array of size 8127024000 into shape (2,100,80)\n",
    "# TODO: check this with line 26 of x model training. Does it give same error?\n",
    "\n",
    "print(cvnmap_array_resh)\n"
   ],
   "metadata": {
    "collapsed": false,
    "ExecuteTime": {
     "end_time": "2023-10-16T21:23:10.057261Z",
     "start_time": "2023-10-16T21:22:01.173931Z"
    }
   },
   "id": "2557897dba3d6aa"
  },
  {
   "cell_type": "code",
   "execution_count": 26,
   "outputs": [
    {
     "data": {
      "text/plain": "<Figure size 500x500 with 1 Axes>",
      "image/png": "[encoded data removed]"
     },
     "metadata": {},
     "output_type": "display_data"
    }
   ],
   "source": [
    "# Plot the Energy of the nue and numu events\n",
    "fig = plt.figure(figsize=(5,5))\n",
    "\n",
    "plt.scatter(np.arange(0,20, 1), df['vtx.x'].tail(20))\n",
    "\n",
    "plt.xlabel('Event number')\n",
    "plt.ylabel('Vertex location (cm)')\n",
    "plt.text(7.5, 1.5, 'FD FHC Fluxswap', fontsize=12)\n",
    "plt.show()\n",
    "# for ext in ['pdf', 'png']:\n",
    "#     fig.savefig('vtx.' + ext, dpi=300)\n",
    "    \n"
   ],
   "metadata": {
    "collapsed": false,
    "ExecuteTime": {
     "end_time": "2023-10-16T21:39:39.429127Z",
     "start_time": "2023-10-16T21:39:39.060557Z"
    }
   },
   "id": "initial_id"
  }
 ],
 "metadata": {
  "kernelspec": {
   "display_name": "Python 3",
   "language": "python",
   "name": "python3"
  },
  "language_info": {
   "codemirror_mode": {
    "name": "ipython",
    "version": 2
   },
   "file_extension": ".py",
   "mimetype": "text/x-python",
   "name": "python",
   "nbconvert_exporter": "python",
   "pygments_lexer": "ipython2",
   "version": "2.7.6"
  }
 },
 "nbformat": 4,
 "nbformat_minor": 5
}
